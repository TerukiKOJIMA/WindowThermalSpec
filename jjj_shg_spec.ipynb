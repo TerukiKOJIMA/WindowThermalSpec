{
 "cells": [
  {
   "cell_type": "markdown",
   "metadata": {},
   "source": [
    "ライブラリインポート"
   ]
  },
  {
   "cell_type": "code",
   "execution_count": 1,
   "metadata": {
    "collapsed": false
   },
   "outputs": [
    {
     "name": "stdout",
     "output_type": "stream",
     "text": [
      "Importing Jupyter notebook from Weather.ipynb\n"
     ]
    }
   ],
   "source": [
    "from collections import namedtuple\n",
    "import csv\n",
    "import math\n",
    "import numpy as np\n",
    "import scipy.optimize\n",
    "import matplotlib.pyplot as plt\n",
    "import matplotlib.ticker as ptick \n",
    "from mpl_toolkits.mplot3d import axes3d\n",
    "\n",
    "import nbimporter\n",
    "import Weather"
   ]
  },
  {
   "cell_type": "markdown",
   "metadata": {},
   "source": [
    "# 開口部の評価方法に関する仕様書"
   ]
  },
  {
   "cell_type": "markdown",
   "metadata": {},
   "source": [
    "- LV2(#2) 計算方法名  \n",
    "    - LV3(#3) 入力値  \n",
    "    - LV3(#3) 出力値  \n",
    "    - LV3(#3) 計算方法  \n",
    "        - LV4(#4) 各計算方法  \n",
    "    - LV3(#3) 計算例"
   ]
  },
  {
   "cell_type": "markdown",
   "metadata": {},
   "source": [
    "　本資料は開口部における熱貫流率および日射熱取得率を計算する方法についてまとめたものです。本資料は計算方法を示すとともに、プログラムのテストの入出力についてもまとめています。  \n",
    "　本資料は以下のパートから構成されています。  \n",
    "  \n",
    "1. 気象データの読込  \n",
    "　1.1. 外気温と水平面全天日射量  \n",
    "　1.2. 計算結果確認用気象データ\n",
    "2. 暖房期間と冷房期間  \n",
    "3. 開口面日射量の計算  \n",
    "　3.1. 太陽位置  \n",
    "　3.2. 拡散日射の微小要素分割  \n",
    "　　3.2.1. 天空日射  \n",
    "　　3.2.2. 地表面反射日射  \n",
    "　3.3. 直散分離（Watanabe model）  \n",
    "　3.4. 斜面（開口面）日射量（Isotropic model）  \n",
    "4. ひさし等の日除けの計算  \n",
    "5. 窓の日射熱取得率の計算  \n",
    "　5.1. グレージング複合体の日射熱取得率  \n",
    "　　5.1.1. 面材の光学特性  \n",
    "　　　5.1.1.1. ガラス  \n",
    "　　　5.1.1.2. ロールスクリーン  \n",
    "　　　5.1.1.3. ブラインド※  \n",
    "　　　　5.1.1.3.1. 幾何学形状の作成※  \n",
    "　　　　5.1.1.3.2. 鏡面反射成分の計算※  \n",
    "　　　　5.1.1.3.3. 拡散反射成分の計算※  \n",
    "　　　　5.1.1.3.4. 全体計算※  \n",
    "　　5.1.2. 短波長放射（日射）の多重反射  \n",
    "　　5.1.3. 熱抵抗  \n",
    "　　　5.1.3.1. 面材の熱抵抗  \n",
    "　　　5.1.3.2. 中空層の熱抵抗  \n",
    "　　　5.1.3.3. 表面熱伝達抵抗  \n",
    "　　　5.1.3.4. 熱平衡  \n",
    "　　5.1.4. 全体計算  \n",
    "　　　5.1.4.1. 日射量の単位変換  \n",
    "　　　　5.1.4.1.1. MJ/(m<sup>2</sup>･h) → W/m<sup>2</sup>  \n",
    "　　　　5.1.4.1.2. W/m<sup>2</sup> → MJ/(m<sup>2</sup>･h)  \n",
    "　　　5.1.4.2. 開口面入射日射量  \n",
    "　　　5.1.4.3. 開口面透過日射量  \n",
    "　　　5.1.4.4. 各層の吸収日射量  \n",
    "　　　5.1.4.5. 室内側へ流入する吸収日射量  \n",
    "　　　5.1.4.6. 日射熱取得率   \n",
    "　5.2. フレームの日射熱取得率  \n",
    "　5.3. 全体計算  \n",
    "　　　5.3.1. 時刻別  \n",
    "　　　5.3.2. 期間平均  \n",
    "　　　　5.3.2.1. 暖房期間  \n",
    "　　　　5.3.2.2. 冷房期間 \n",
    "6. 窓の熱貫流率の計算※  \n",
    "\n",
    "※は、将来的に記述するパートです。\n"
   ]
  },
  {
   "cell_type": "markdown",
   "metadata": {},
   "source": [
    "## 1. 気象データの読込  "
   ]
  },
  {
   "cell_type": "markdown",
   "metadata": {},
   "source": [
    "## 2. 暖房期間と冷房期間"
   ]
  },
  {
   "cell_type": "markdown",
   "metadata": {},
   "source": [
    "説明：外気温から暖房期間及び冷房期間を計算する。"
   ]
  },
  {
   "cell_type": "markdown",
   "metadata": {},
   "source": [
    "### 入力値  \n",
    "\n",
    "$ \\theta_{ex}$ ：外気温 (℃)  \n",
    "$ H $ ：1月1日1時を1時間目（$H=1$）とする計算対象時間の年通算時間 (h)  \n",
    "$ D $ ：1月1日を1日目（$D=1$）とする計算対象日の年通算日 (day)  \n",
    "$ T_m $ ：標準時 (h)  "
   ]
  },
  {
   "cell_type": "markdown",
   "metadata": {},
   "source": [
    "### 出力値\n",
    "\n",
    "\n",
    "$ D_{h,st} $ ：暖房開始日 (day)  \n",
    "$ D_{h,sp} $ ：暖房終了日 (day)  \n",
    "$ D_{c,st} $ ：冷房開始日 (day)  \n",
    "$ D_{c,sp} $ ：冷房終了日 (day)  "
   ]
  },
  {
   "cell_type": "markdown",
   "metadata": {},
   "source": [
    "### 計算方法\n",
    "\n",
    "#### データ構造と値の範囲\n",
    "\n",
    "$\\theta_{ex}$・$H$・$D$・$T_m$の組み合わせを1つの変数（タプル）で表し\"hcs_input\"とする。  "
   ]
  },
  {
   "cell_type": "code",
   "execution_count": 2,
   "metadata": {
    "collapsed": true
   },
   "outputs": [],
   "source": [
    "hcs_input = namedtuple('hcs_input','hcs_tmp hcs_nhr hcs_nday hcs_tm')\n",
    "#hcs_tmp：外気温（℃）  \n",
    "#hcs_nhr：1月1日1時を1時間目とする計算対象時間の年通算時間 (h)  \n",
    "#hcs_nday：1月1日を1日目とする計算対象日の年通算日 (day)  \n",
    "#hcs_tm：標準時 (h)  "
   ]
  },
  {
   "cell_type": "markdown",
   "metadata": {},
   "source": [
    "#### フーリエ変換\n",
    "\n",
    "通算日数と気温の関係から以下の回帰曲線を求め、暖房期間/冷房期間を判定する。\n",
    "\n",
    "$ \\begin{align}y = a + b ･ \\sin\\biggl[\\frac{2\\pi ･ (x - c)}{365}\\biggr]\\end{align}$ ･････････････････････････････････････････ (2-a)  \n"
   ]
  },
  {
   "cell_type": "code",
   "execution_count": 3,
   "metadata": {
    "collapsed": true
   },
   "outputs": [],
   "source": [
    "#フーリエ変換\n",
    "def curve_fitting2FT(x, a, b, c):\n",
    "    \n",
    "    return a + b * np.sin(2. * math.pi *(x - c) / 365.)"
   ]
  },
  {
   "cell_type": "markdown",
   "metadata": {},
   "source": [
    "#### 暖房期間の計算\n",
    "\n",
    "（参考：平成28年省エネルギー基準に準拠したエネルギー消費性能の評価に関する技術情報（住宅）Ver.2.2 算定方法 1　概要と用語の定義）  \n",
    "\n",
    "暖房期間は、日平均外気温をフーリエ変換した年周期成分が15℃以下となる期間とする。  \n",
    "\n",
    "日平均外気温 $\\bar{\\theta}_{ex,D}$の計算方法を以下に示す。  \n",
    "\n",
    "$ \\begin{align}\\bar{\\theta}_{ex,D} = \\frac{\\sum_{T_m = 1}^{24} \\theta_{ex,D,T_m}}{24}\\end{align}$ ･･････････････････････････････････････････････････ (2-b)  "
   ]
  },
  {
   "cell_type": "code",
   "execution_count": 4,
   "metadata": {
    "collapsed": true
   },
   "outputs": [],
   "source": [
    "#暖房期間の計算\n",
    "#暖房期間開始日、暖房期間終了日、年通算日、日平均気温、年通算日(近似式用)、日平均気温(近似式)\n",
    "def heating_season(L):\n",
    "\n",
    "    r_day = np.zeros(365)\n",
    "    r_ave_tmp = np.zeros(365) \n",
    "\n",
    "    for i in range(365): \n",
    "        r_day[i] = i + 1\n",
    "        r_ave_tmp[i] = np.mean(L.hcs_tmp[(i*24):((i+1)*24)])\n",
    "\n",
    "    r_para_h, cov = scipy.optimize.curve_fit(curve_fitting2FT, r_day, r_ave_tmp)\n",
    "    r_day_h = np.arange(0, 366, 1)\n",
    "    r_tmp_h = r_para_h[0] + r_para_h[1] * np.sin(2. * math.pi * (r_day_h - r_para_h[2]) / 365.)\n",
    "\n",
    "    r_hs_bgn = r_day_h[np.max(np.where(r_tmp_h > 15.))] + 1    #暖房期間開始日\n",
    "    r_hs_end = r_day_h[np.min(np.where(r_tmp_h > 15.))] - 1    #暖房期間終了日\n",
    "    \n",
    "    return r_hs_bgn, r_hs_end, r_day, r_ave_tmp, r_day_h, r_tmp_h, r_para_h"
   ]
  },
  {
   "cell_type": "markdown",
   "metadata": {},
   "source": [
    "#### 冷房期間の計算\n",
    "\n",
    "（参考：平成28年省エネルギー基準に準拠したエネルギー消費性能の評価に関する技術情報（住宅）Ver.2.2 算定方法 1　概要と用語の定義）  \n",
    "\n",
    "冷房期間は、日最高外気温をフーリエ変換した年周期成分が23℃以上となる期間とする。  \n",
    "\n",
    "日最高外気温 $\\theta_{ex,D,max}$の計算方法を以下に示す。  \n",
    "\n",
    "$ \\begin{align}\\theta_{ex,D,max} = \\max_{1 \\leq T_m \\leq 24} \\theta_{ex,D,T_m}\\end{align}$ ･･････････････････････････････････････････････････ (2-c)  "
   ]
  },
  {
   "cell_type": "code",
   "execution_count": 5,
   "metadata": {
    "collapsed": true
   },
   "outputs": [],
   "source": [
    "#冷房期間の計算\n",
    "#冷房期間開始日、冷房期間終了日、年通算日、日最高気温、年通算日(近似式用)、日最高気温(近似式)\n",
    "def cooling_season(L):\n",
    "\n",
    "    r_day = np.zeros(365)\n",
    "    r_max_tmp = np.zeros(365) \n",
    "\n",
    "    for i in range(365): \n",
    "        r_day[i] = i + 1\n",
    "        r_max_tmp[i] = np.max(L.hcs_tmp[(i*24):((i+1)*24)])\n",
    "\n",
    "    r_para_c, cov = scipy.optimize.curve_fit(curve_fitting2FT, r_day, r_max_tmp)\n",
    "    r_day_c = np.arange(0, 366, 1)   \n",
    "    r_tmp_c = r_para_c[0] + r_para_c[1] * np.sin(2. * math.pi * (r_day_c - r_para_c[2]) / 365.)\n",
    "\n",
    "    r_cs_bgn = r_day_c[np.min(np.where(r_tmp_c >= 23.))]         #冷房期間開始日\n",
    "    r_cs_end = r_day_c[np.max(np.where(r_tmp_c >= 23.))]         #冷房期間終了日\n",
    "    \n",
    "    return r_cs_bgn, r_cs_end, r_day, r_max_tmp, r_day_c, r_tmp_c, r_para_c"
   ]
  },
  {
   "cell_type": "markdown",
   "metadata": {},
   "source": [
    "### 計算例"
   ]
  },
  {
   "cell_type": "code",
   "execution_count": 6,
   "metadata": {
    "collapsed": false
   },
   "outputs": [
    {
     "name": "stdout",
     "output_type": "stream",
     "text": [
      "Regression coefficients(heating): a = 16.5639155257 b = 10.4339448788 c = 486.696032744\n",
      "Period(heating): begining day= 313 , ending day= 112\n",
      "Regression coefficients(cooling): a = 19.9120547936 b = 10.22900077 c = 485.838331248\n",
      "Period(cooling): begining day= 139 , ending day= 285\n"
     ]
    },
    {
     "data": {
      "image/png": "[encoded data removed]",
      "text/plain": [
       "<matplotlib.figure.Figure at 0x193dafa1be0>"
      ]
     },
     "metadata": {},
     "output_type": "display_data"
    }
   ],
   "source": [
    "location = '3639999'  #東京ID\n",
    "\n",
    "#気象データ読込\n",
    "nhr = Weather.weather_input(location)[0]\n",
    "nday = Weather.weather_input(location)[1]\n",
    "tm = Weather.weather_input(location)[2]\n",
    "tmp = Weather.weather_input(location)[3]\n",
    "\n",
    "hcs_in = hcs_input(tmp, nhr, nday, tm)\n",
    "\n",
    "#暖房期間の計算\n",
    "para_h = heating_season(hcs_in)[6]\n",
    "day_h15_bgn = heating_season(hcs_in)[0]\n",
    "day_h15_end = heating_season(hcs_in)[1]\n",
    "print ('Regression coefficients(heating): a =', para_h[0], 'b =', para_h[1], 'c =', para_h[2])\n",
    "print ('Period(heating): begining day=', day_h15_bgn, ', ending day=', day_h15_end)\n",
    "\n",
    "dayh = heating_season(hcs_in)[2]\n",
    "ave_tmp = heating_season(hcs_in)[3]\n",
    "day_h = heating_season(hcs_in)[4]\n",
    "tmp_h = heating_season(hcs_in)[5]\n",
    "\n",
    "#冷房期間の計算\n",
    "para_c = cooling_season(hcs_in)[6]\n",
    "day_c23_bgn = cooling_season(hcs_in)[0]\n",
    "day_c23_end = cooling_season(hcs_in)[1]\n",
    "print ('Regression coefficients(cooling): a =', para_c[0], 'b =', para_c[1], 'c =', para_c[2])\n",
    "print ('Period(cooling): begining day=', day_c23_bgn, ', ending day=', day_c23_end)\n",
    "\n",
    "dayc = cooling_season(hcs_in)[2]\n",
    "max_tmp = cooling_season(hcs_in)[3]\n",
    "day_c = cooling_season(hcs_in)[4]\n",
    "tmp_c = cooling_season(hcs_in)[5]\n",
    "\n",
    "#グラフの描画\n",
    "graph_num = 2\n",
    "ax = np.empty(graph_num, dtype = np.object)\n",
    "fig = plt.figure(figsize = (15, 5 * ((graph_num + 1) // 2)))\n",
    "plt.style.use('ggplot')\n",
    "\n",
    "gpc = ['C0', 'C1']\n",
    "gxd = [[dayh, day_h], [dayc, day_c]]\n",
    "gyd = [[ave_tmp, tmp_h], [max_tmp, tmp_c]]\n",
    "gxl = 'Time (day)'\n",
    "gyl = ['External air temperature(daily mean) (℃)', 'External air temperature(daily max) (℃)']\n",
    "gyt = [5 * (i - 1) for i in range(10)]\n",
    "    \n",
    "for i in range(graph_num):   \n",
    "    ax[i] = fig.add_subplot((graph_num + 1) // 2, 2, i + 1)\n",
    "    for j in range(2):\n",
    "        ax[i].plot(gxd[i][j], gyd[i][j], color = gpc[j])\n",
    "    ax[i].set_yticks(gyt)\n",
    "    ax[i].set_xlabel(gxl, fontsize = 12)\n",
    "    ax[i].set_ylabel(gyl[i], fontsize = 12)\n",
    "\n",
    "plt.show()"
   ]
  },
  {
   "cell_type": "markdown",
   "metadata": {},
   "source": [
    "## 3. 開口面日射量の計算  "
   ]
  },
  {
   "cell_type": "markdown",
   "metadata": {},
   "source": [
    "### 3.1. 太陽位置  "
   ]
  },
  {
   "cell_type": "markdown",
   "metadata": {},
   "source": [
    "説明：任意の時刻・緯度・経度における太陽高度角・太陽方位角を計算する。"
   ]
  },
  {
   "cell_type": "markdown",
   "metadata": {},
   "source": [
    "### 入力値  \n",
    "\n",
    "$ Y $ ：西暦年（year）  \n",
    "$ D $ ：1月1日を初日（$D=1$）とする計算対象日の年通算日 (day)  \n",
    "$ T_m $ ：標準時 (h)  \n",
    "$ \\Phi $ ：計算対象地点の緯度 (°)  \n",
    "$ L $ ：計算対象地点の経度 (°)  "
   ]
  },
  {
   "cell_type": "markdown",
   "metadata": {},
   "source": [
    "### 出力値\n",
    "\n",
    "$ h $ ：太陽高度角 (°)  \n",
    "$ A $ ：太陽方位角 (°)  "
   ]
  },
  {
   "cell_type": "markdown",
   "metadata": {},
   "source": [
    "### 計算方法\n",
    "\n",
    "#### データ構造と値の範囲\n",
    "\n",
    "$Y$・$D$・$T_m$・$\\Phi$・$L$の組み合わせを1つの変数（タプル）で表し\"sp_input\"とする。  \n",
    "$h$は0°以上、90°以下の値をとる（地平：0°、天頂：90°）。  \n",
    "$A$は-180°以上、180°以下の値をとる（東：-90°、南：0°、西：90°）。"
   ]
  },
  {
   "cell_type": "code",
   "execution_count": 7,
   "metadata": {
    "collapsed": true
   },
   "outputs": [],
   "source": [
    "sp_input = namedtuple('sp_input','sp_year sp_nday sp_tm sp_lat sp_lon')\n",
    "#sp_year：西暦年（year）  \n",
    "#sp_nday：1月1日を初日（$D=1$）とする計算対象日の年通算日 (day)  \n",
    "#sp_tm：標準時 (h)  \n",
    "#sp_lat：計算対象地点の緯度 (°)  \n",
    "#sp_lon：計算対象地点の経度 (°)  "
   ]
  },
  {
   "cell_type": "markdown",
   "metadata": {},
   "source": [
    "#### 太陽高度角及び太陽方位角の計算\n",
    "\n",
    "（参考：拡張アメダス気象データ1981-2000解説書 8.1　太陽位置の計算）  \n",
    "\n",
    "太陽高度角$ h $、太陽方位角$ A $の計算方法を以下に示す。  \n",
    "\n",
    "$ \\begin{align}\\sin h = \\sin\\Phi ･ \\sin \\delta + \\cos \\Phi ･ \\cos \\delta ･ \\cos t\\end{align}$ ････････････････ (3.1-a)  \n",
    "\n",
    "$ \\begin{align}\\sin A = \\frac{\\cos\\delta ･ \\sin t}{\\cos h}\\end{align}$ ････････････････････････････････････ (3.1-b)  \n",
    "\n",
    "$ \\begin{align}\\cos A = \\frac{\\sin h ･ \\sin\\Phi - \\sin\\delta}{\\cos h ･ \\cos\\phi}\\end{align}$ ････････････････････････････ (3.1-c)  \n",
    "\n",
    "$ \\begin{align}t = 15 ･ (T_m - 12) + (L - L_0) + E_t\\end{align}$ ･･････････････････････ (3.1-d)  \n",
    "\n",
    "$ \\begin{align}\\sin\\delta = \\cos(v + \\epsilon) ･ \\sin\\delta_0\\end{align}$ ･･･････････････････････････････ (3.1-e)  \n",
    "\n",
    "$ \\begin{align}E_t = (M - v) - \\tan^{-1}\\biggl[\\frac{0.043 ･ \\sin 2(v + \\epsilon)}{1 - 0.043 ･ \\cos 2(v + \\epsilon)}\\biggr]\\end{align}$ ･････････ (3.1-f)  \n",
    "\n",
    "$ \\begin{align}v = M + 1.914 ･ \\sin M + 0.02 ･ \\sin(2M)\\end{align}$ ･･････････････････ (3.1-g)  \n",
    "\n",
    "$ \\begin{align}\\epsilon = 12.3901 + 0.0172 ･ \\biggl(n + \\frac{M}{360}\\biggr)\\end{align}$ ･････････････････････ (3.1-h)  \n",
    "\n",
    "$ \\begin{align}M = \\frac{360 ･ (D - d_0)}{D_{ay}} \\end{align}$ ･････････････････････････････････････ (3.1-i)  \n",
    "\n",
    "$ \\begin{align}d_0 = 3.71 + 0.2596 ･ n - INT\\biggl[\\frac{n+3}{4}\\biggr]\\end{align}$ ･･･････････････････ (3.1-j)  \n",
    "\n",
    "$ \\begin{align}n = Y - 1968\\end{align}$ ･･････････････････････････････････････････ (3.1-k)  \n",
    "\n",
    "ここで、  \n",
    "\n",
    "$ \\delta $ ：赤緯 (°)  \n",
    "$ t $ ：時角 (°)  \n",
    "$ L_0 $ ：標準時の地点の経度（=135.0（日本の場合）） (°)  \n",
    "$ E_t $ ：均時差 (°)  \n",
    "$ v $ ：真近点離角 (°)  \n",
    "$ \\epsilon $ ：近日点と冬至点の角度 (°)  \n",
    "$ \\delta_0 $ ：北半球の冬至の日赤緯（= -23.4393） (°)  \n",
    "$ M $ ：平均近点離角 (°)  \n",
    "$ n $ ：1968年との年差 (year)  \n",
    "$ d_0 $ ：平均軌道上の近日点通過日（暦表時による1968年1月1日正午基準の日差）(day)  \n",
    "$ D_{ay} $ ：近点年（近日点基準の公転周期日数）（= 365.2596） (day)  \n",
    "$ INT[] $ ：小数点以下切り捨て  \n",
    "$ Y $ ：西暦年 (year)  \n",
    "\n",
    "である。  "
   ]
  },
  {
   "cell_type": "code",
   "execution_count": 8,
   "metadata": {
    "collapsed": true
   },
   "outputs": [],
   "source": [
    "#太陽位置の計算\n",
    "#太陽高度角、太陽方位角\n",
    "def solar_position(L):\n",
    "    \n",
    "    sp_n = L.sp_year - 1968.\n",
    "    sp_d0 = 3.71 + 0.2596 * sp_n - int((sp_n + 3.) / 4.)\n",
    "    sp_Day = 365.2596\n",
    "    sp_M = 360. * (L.sp_nday - sp_d0) / sp_Day\n",
    "    sp_eps = 12.3901 + 0.0172 * (sp_n + sp_M / 360.)\n",
    "    sp_v = sp_M + 1.914 * math.sin(math.radians(sp_M)) + 0.02 * math.sin(math.radians(2. * sp_M))\n",
    "    sp_veps = math.radians(sp_v + sp_eps)\n",
    "    sp_et = (sp_M - sp_v) - math.degrees(math.atan(0.043 * math.sin(2. * sp_veps) / (1. - 0.043 * math.cos(2. * sp_veps))))\n",
    "    sp_dlt0 = math.radians(-23.4393)\n",
    "    sp_sindlt = math.cos(sp_veps) * math.sin(sp_dlt0)\n",
    "    sp_cosdlt = (abs(1. - sp_sindlt ** 2.)) ** 0.5\n",
    "    sp_lons = 135.\n",
    "    sp_t = 15. * (L.sp_tm - 12.) + (L.sp_lon - sp_lons) + sp_et\n",
    "    sp_latrad = math.radians(L.sp_lat)\n",
    "    sp_trad = math.radians(sp_t)\n",
    "    sp_sinh = math.sin(sp_latrad) * sp_sindlt + math.cos(sp_latrad) * sp_cosdlt * math.cos(sp_trad)\n",
    "    sp_cosh = (1. - sp_sinh ** 2.) ** 0.5\n",
    "    sp_sinA = sp_cosdlt * math.sin(sp_trad) / sp_cosh\n",
    "    sp_cosA = (sp_sinh * math.sin(sp_latrad) - sp_sindlt) / (sp_cosh * math.cos(sp_latrad))\n",
    "    \n",
    "    r_sp_h = 0.\n",
    "    r_sp_A = 0.\n",
    "    if sp_sinh > 0.:\n",
    "        r_sp_h = math.degrees(math.asin(sp_sinh))\n",
    "        if sp_sinA > 0.:\n",
    "            r_sp_A = 90. - math.degrees(math.atan(sp_cosA / sp_sinA))\n",
    "        elif sp_sinA < 0.:\n",
    "            r_sp_A = - 90. - math.degrees(math.atan(sp_cosA / sp_sinA))\n",
    "        elif sp_sinA == 0.:\n",
    "            r_sp_A = 0.\n",
    "        \n",
    "    return r_sp_h, r_sp_A"
   ]
  },
  {
   "cell_type": "markdown",
   "metadata": {},
   "source": [
    "### 計算例"
   ]
  },
  {
   "cell_type": "code",
   "execution_count": 9,
   "metadata": {
    "collapsed": false
   },
   "outputs": [
    {
     "data": {
      "image/png": "[encoded data removed]",
      "text/plain": [
       "<matplotlib.figure.Figure at 0x193df705d68>"
      ]
     },
     "metadata": {},
     "output_type": "display_data"
    }
   ],
   "source": [
    "location = '3639999'               #東京ID\n",
    "year = 1995                        #西暦年\n",
    "lat = 35. + 41.2 / 60.             #計算対象地点の緯度 (°)  \n",
    "lon = 139. + 45.9 / 60.            #計算対象地点の経度 (°)  \n",
    "\n",
    "sp_result = np.empty((5,8760))\n",
    "\n",
    "for i in range(0, 8760):\n",
    "    sp_in = sp_input(year, int((i + 1.) / 24.) + 1., ((i + 1.) / 24. - int((i + 1.) / 24.)) * 24., lat, lon)\n",
    "    sp_result[0][i] = i + 1.                                           #年通算時間\n",
    "    sp_result[1][i] = int((i + 1.) / 24.) + 1.                         #年通算日\n",
    "    sp_result[2][i] = ((i + 1.) / 24. - int((i + 1.) / 24.)) * 24.     #時刻\n",
    "    sp_result[3][i] = solar_position(sp_in)[0]                         #太陽高度角\n",
    "    sp_result[4][i] = solar_position(sp_in)[1]                         #太陽方位角\n",
    "    \n",
    "np.savetxt(location + '_out_sp.csv', np.transpose(sp_result), fmt='%.10f', delimiter=',')\n",
    "\n",
    "#確認用気象データ読込\n",
    "h_ea = Weather.weather_confirm_input(location)[5]                              #太陽高度角\n",
    "A_ea = Weather.weather_confirm_input(location)[6]                              #太陽方位角\n",
    "\n",
    "#グラフの描画\n",
    "graph_num = 2\n",
    "ax = np.empty(graph_num, dtype = np.object)\n",
    "fig = plt.figure(figsize = (15, 5 * ((graph_num + 1) // 2)))\n",
    "plt.style.use('ggplot')\n",
    "\n",
    "gpc = 'C0'\n",
    "gxd = [[h_ea[0:8760], [0,90]], [A_ea[0:8760], [-120,120]]]\n",
    "gyd = [[sp_result[3][0:8760], [0,90]], [sp_result[4][0:8760], [-120,120]]]\n",
    "gxl = ['h(eadata) (°)','A(eadata) (°)']\n",
    "gyl = ['h(calc) (°)', 'A(calc) (°)']\n",
    "gxt = [[10 * i for i in range(10)], [30 * (i - 4) for i in range(9)]]\n",
    "gyt = [[10 * i for i in range(10)], [30 * (i - 4) for i in range(9)]]\n",
    "\n",
    "for i in range(graph_num):   \n",
    "    ax[i] = fig.add_subplot((graph_num + 1) // 2, 2, i + 1)\n",
    "    ax[i].scatter(gxd[i][0], gyd[i][0], color = gpc)\n",
    "    ax[i].plot(gxd[i][1], gyd[i][1], color = (0,0,0))\n",
    "    ax[i].set_xticks(gxt[i])\n",
    "    ax[i].set_yticks(gyt[i])\n",
    "    ax[i].set_xlabel(gxl[i], fontsize = 12)\n",
    "    ax[i].set_ylabel(gyl[i], fontsize = 12)\n",
    "\n",
    "plt.show()"
   ]
  },
  {
   "cell_type": "markdown",
   "metadata": {},
   "source": [
    "### 3.2. 拡散日射の微小要素分割"
   ]
  },
  {
   "cell_type": "markdown",
   "metadata": {},
   "source": [
    "### 3.2.1. 天空日射"
   ]
  },
  {
   "cell_type": "markdown",
   "metadata": {},
   "source": [
    "説明：開口部が垂直窓の場合に、天空日射量に対する天空上の任意の微小要素からの天空日射量の割合を計算する。"
   ]
  },
  {
   "cell_type": "markdown",
   "metadata": {},
   "source": [
    "### 入力値  \n",
    "\n",
    "$ N_{d,\\Phi} $：天空の緯度方向の分割数  \n",
    "$ N_{d,L} $：天空の経度方向の分割数  \n",
    "$ l $：天空の緯度方向の$l$番目の分割要素  \n",
    "$ m $：天空の経度方向の$m$番目の分割要素"
   ]
  },
  {
   "cell_type": "markdown",
   "metadata": {},
   "source": [
    "### 出力値\n",
    "\n",
    "$ F_{d,l,m} $ ：天空日射量に対する天空上の微小要素からの天空日射量の割合  \n",
    "$ h_{d,l,m} $：天空日射の微小要素$l,m$における開口面に対する高度角 (°)  \n",
    "$ A_{d,l,m} $：天空日射の微小要素$l,m$における開口面に対する方位角 (°)  \n",
    "$ \\phi_{d,l,m} $：天空日射の微小要素$l,m$における開口面に対する入射角 (°)  "
   ]
  },
  {
   "cell_type": "markdown",
   "metadata": {},
   "source": [
    "### 計算方法\n",
    "\n",
    "#### データ構造と値の範囲\n",
    "\n",
    "$ N_{d,\\Phi} $・$ N_{d,L} $の組み合わせを1つの変数（タプル）で表し\"dd_input\"とする。  \n",
    "$ F_{d,l,m} $は0.0以上1.0以下の値をとる。  \n",
    "$ h_{d,l,m} $は0°以上、90°以下の値をとる（地平：0°、天頂：90°）。  \n",
    "$ A_{d,l,m} $は-90°以上、90°以下の値をとる（東：-90°、南：0°、西：90°）。  \n",
    "$ \\phi_{d,l,m} $は0°以上、90°以下の値をとる（法線方向：0°、接線方向：90°）。"
   ]
  },
  {
   "cell_type": "code",
   "execution_count": 10,
   "metadata": {
    "collapsed": true
   },
   "outputs": [],
   "source": [
    "dd_input = namedtuple('dd_input', 'dd_Nlat dd_Nlon dd_l dd_m')\n",
    "#dd_Nlat：天空の緯度方向の分割数\n",
    "#dd_Nlon：天空の経度方向の分割数\n",
    "#dd_l：天空の緯度方向のi番目の分割要素\n",
    "#dd_m：天空の経度方向のj番目の分割要素"
   ]
  },
  {
   "cell_type": "markdown",
   "metadata": {},
   "source": [
    "#### 微小要素からの天空日射の割合の計算\n",
    "\n",
    "開口部が垂直窓の場合に、天空日射量に対する天空上の微小要素からの天空日射量の割合$F_{d,l,m}$の計算方法を以下に示す。\n",
    "\n",
    "$ \\begin{align}F_{d,l,m} = \\frac{2 ･ \\omega_{d,l,m} ･ \\cos \\phi_{d,l,m}}{\\pi}\\end{align}$ ･･･････････････････････････ (3.2.1-a)  \n",
    "\n",
    "$ \\begin{align}\\omega_{d,l,m} = \\cos h_{d,l,m} ･ \\frac{\\pi}{2 ･ N_{d,lat}} ･ \\frac{\\pi}{N_{d,lon}}\\end{align}$ ････････････････････ (3.2.1-b)  \n",
    "\n",
    "$ \\begin{align}\\cos\\phi_{d,l,m} = \\cos h_{d,l,m} ･ \\cos A_{d,l,m}\\end{align}$ ････････････････････････ (3.2.1-c)  \n",
    "\n",
    "$ \\begin{align}h_{d,l,m} = \\frac{90 ･ (2 ･ l +1)}{2 ･ N_{d,lat}}\\end{align}$ ････････････････････････････････ (3.2.1-d)  \n",
    "\n",
    "$ \\begin{align}A_{d,l,m} = \\frac{180 ･ (2 ･ m +1)}{2 ･ N_{d,lon}} - 90\\end{align}$ ･･････････････････････････ (3.2.1-e)  \n",
    "\n",
    "ここで、 \n",
    "\n",
    "$ \\omega_{d,l,m} $：天空日射の微小要素$l,m$における開口面に対する立体角 [sr]  \n",
    "$ l $：カウンター（0～$N_{d,lat}$ - 1）  \n",
    "$ m $：カウンター（0～$N_{d,lon}$ - 1）  \n",
    "\n",
    "である。  "
   ]
  },
  {
   "cell_type": "code",
   "execution_count": 11,
   "metadata": {
    "collapsed": true
   },
   "outputs": [],
   "source": [
    "#微小要素からの天空日射の割合の計算\n",
    "#割合、高度角、方位角、入射角\n",
    "def division_diffuse_ratio(L):\n",
    "    \n",
    "    r_dd_h = 90. * (2. * L.dd_l + 1) / (2. * L.dd_Nlat) #高度角\n",
    "    r_dd_A = 180. * (2. * L.dd_m + 1) / (2. * L.dd_Nlon) - 90. #方位角\n",
    "    r_dd_phi = math.degrees(math.acos(abs(math.cos(math.radians(r_dd_h)) * math.cos(math.radians(r_dd_A))))) #入射角\n",
    "    dd_omega = math.cos(math.radians(r_dd_h)) * math.pi ** 2. / (2. * L.dd_Nlat * L.dd_Nlon)\n",
    "    r_dd_f = 2 * dd_omega * math.cos(math.radians(r_dd_phi)) / math.pi #割合\n",
    "    \n",
    "    return r_dd_f, r_dd_h, r_dd_A, r_dd_phi"
   ]
  },
  {
   "cell_type": "markdown",
   "metadata": {},
   "source": [
    "### 計算例"
   ]
  },
  {
   "cell_type": "code",
   "execution_count": 12,
   "metadata": {
    "collapsed": false
   },
   "outputs": [
    {
     "data": {
      "image/png": "[encoded data removed]",
      "text/plain": [
       "<matplotlib.figure.Figure at 0x193dedb0b70>"
      ]
     },
     "metadata": {},
     "output_type": "display_data"
    }
   ],
   "source": [
    "Nd_lat = 90\n",
    "Nd_lon = 180\n",
    "\n",
    "dd_F = np.empty((Nd_lat, Nd_lon))\n",
    "dd_h = np.empty((Nd_lat, Nd_lon))\n",
    "dd_A = np.empty((Nd_lat, Nd_lon))\n",
    "dd_phi = np.empty((Nd_lat, Nd_lon))\n",
    "\n",
    "for l in range(0, Nd_lat):\n",
    "    for m in range(0, Nd_lon):\n",
    "        dd_in =dd_input(Nd_lat, Nd_lon, l, m)\n",
    "        dd_F[l][m] = division_diffuse_ratio(dd_in)[0]   #割合\n",
    "        dd_h[l][m] = division_diffuse_ratio(dd_in)[1]   #高度角\n",
    "        dd_A[l][m] = division_diffuse_ratio(dd_in)[2]   #方位角\n",
    "        dd_phi[l][m] = division_diffuse_ratio(dd_in)[3] #入射角\n",
    "\n",
    "np.savetxt('out_hd.csv', dd_h, fmt='%.10f', delimiter=',')\n",
    "np.savetxt('out_Ad.csv', dd_A, fmt='%.10f', delimiter=',')\n",
    "np.savetxt('out_phid.csv', dd_phi, fmt='%.10f', delimiter=',')\n",
    "np.savetxt('out_Fd.csv', dd_F, fmt='%.10f', delimiter=',')\n",
    "        \n",
    "#グラフの描画\n",
    "fig = plt.figure(figsize=(12,8))\n",
    "plt.style.use('ggplot')\n",
    "\n",
    "ax = fig.gca(projection='3d')\n",
    "ax.plot_wireframe(dd_h[0:Nd_lat][0:Nd_lon], dd_A[0:Nd_lat][0:Nd_lon], dd_F[0:Nd_lat][0:Nd_lon], rstride=1, cstride=1, linewidth=0.2)\n",
    "ax.set_xticks([10 * i for i in range(10)])\n",
    "ax.set_yticks([30 * i - 90 for i in range(7)])\n",
    "ax.set_zticks([5e-5 * i for i in range(5)])\n",
    "\n",
    "ax.set_xlabel('hd (°)', fontsize = 12)\n",
    "ax.set_ylabel('Ad (°)', fontsize = 12)\n",
    "ax.set_zlabel('Fd (-)', fontsize = 12)\n",
    "\n",
    "ax.zaxis.set_major_formatter(ptick.ScalarFormatter(useMathText=True)) \n",
    "ax.ticklabel_format(style='sci',axis='z',scilimits=(0,0)) \n",
    "\n",
    "plt.show()"
   ]
  },
  {
   "cell_type": "markdown",
   "metadata": {},
   "source": [
    "### 3.2.2. 地表面反射日射"
   ]
  },
  {
   "cell_type": "markdown",
   "metadata": {},
   "source": [
    "説明：開口部が垂直窓の場合に、地表面反射日射量に対する地表面の任意の微小要素からの地表面反射日射量の割合を計算する。"
   ]
  },
  {
   "cell_type": "markdown",
   "metadata": {},
   "source": [
    "### 入力値  \n",
    "\n",
    "$ N_{r,\\Phi} $：地表面の緯度方向の分割数  \n",
    "$ N_{r,L} $：地表面の経度方向の分割数  \n",
    "$ l $：地表面の緯度方向の$l$番目の分割要素  \n",
    "$ m $：地表面の経度方向の$m$番目の分割要素"
   ]
  },
  {
   "cell_type": "markdown",
   "metadata": {},
   "source": [
    "### 出力値\n",
    "\n",
    "$ F_{r,l,m} $ ：地表面反射日射量に対する地表面上の微小要素からの地表面反射日射量の割合  \n",
    "$ h_{r,l,m} $：地表面反射日射の微小要素$l,m$における開口面に対する高度角 (°)  \n",
    "$ A_{r,l,m} $：地表面反射日射の微小要素$l,m$における開口面に対する方位角 (°)  \n",
    "$ \\phi_{r,l,m} $：地表面反射日射の微小要素$l,m$における開口面に対する入射角 (°)  "
   ]
  },
  {
   "cell_type": "markdown",
   "metadata": {},
   "source": [
    "### 計算方法\n",
    "\n",
    "#### データ構造と値の範囲\n",
    "\n",
    "$ N_{r,\\Phi} $・$ N_{r,L} $の組み合わせを1つの変数（タプル）で表し\"dr_input\"とする。  \n",
    "$ F_{r,l,m} $は0.0以上1.0以下の値をとる。  \n",
    "$ h_{r,l,m} $は-90°以上、0°以下の値をとる（地平：0°、天頂：-90°）。  \n",
    "$ A_{r,l,m} $は-90°以上、90°以下の値をとる（東：-90°、南：0°、西：90°）。  \n",
    "$ \\phi_{r,l,m} $は0°以上、90°以下の値をとる（法線方向：0°、接線方向：90°）。"
   ]
  },
  {
   "cell_type": "code",
   "execution_count": 13,
   "metadata": {
    "collapsed": true
   },
   "outputs": [],
   "source": [
    "dr_input = namedtuple('dr_input', 'dr_Nlat dr_Nlon dr_l dr_m')\n",
    "#dr_Nlat：地表面の緯度方向の分割数\n",
    "#dr_Nlon：地表面の経度方向の分割数\n",
    "#dr_l：地表面の緯度方向のi番目の分割要素\n",
    "#dr_m：地表面の経度方向のj番目の分割要素"
   ]
  },
  {
   "cell_type": "markdown",
   "metadata": {},
   "source": [
    "#### 微小要素からの地表面反射日射の割合の計算\n",
    "\n",
    "開口部が垂直窓の場合に、地表面反射日射量に対する地表面上の微小要素からの地表面反射日射量の割合$F_{r,l,m}$の計算方法を以下に示す。\n",
    "\n",
    "$ \\begin{align}F_{r,l,m} = \\frac{2 ･ \\omega_{r,l,m} ･ \\cos \\phi_{r,l,m}}{\\pi}\\end{align}$ ･･･････････････････････････ (3.2.2-a)  \n",
    "\n",
    "$ \\begin{align}\\omega_{r,l,m} = \\cos h_{r,l,m} ･ \\frac{\\pi}{2 ･ N_{r,lat}} ･ \\frac{\\pi}{N_{r,lon}}\\end{align}$ ････････････････････ (3.2.2-b)  \n",
    "\n",
    "$ \\begin{align}\\cos\\phi_{r,l,m} = \\cos h_{r,l,m} ･ \\cos A_{r,l,m}\\end{align}$ ････････････････････････ (3.2.2-c)  \n",
    "\n",
    "$ \\begin{align}h_{r,l,m} = \\frac{90 ･ (2 ･ l +1)}{2 ･ N_{r,lat}} - 90\\end{align}$ ･･･････････････････････････ (3.2.2-d)  \n",
    "\n",
    "$ \\begin{align}A_{r,l,m} = \\frac{180 ･ (2 ･ m +1)}{2 ･ N_{r,lon}} - 90\\end{align}$ ･･････････････････････････ (3.2.2-e)  \n",
    "\n",
    "ここで、 \n",
    "\n",
    "$ \\omega_{r,l,m} $：地表面反射日射の微小要素$l,m$における開口面に対する立体角 [sr]  \n",
    "$ l $：カウンター（0～$N_{r,lat}$ - 1）  \n",
    "$ m $：カウンター（0～$N_{r,lon}$ - 1）  \n",
    "\n",
    "である。  "
   ]
  },
  {
   "cell_type": "code",
   "execution_count": 14,
   "metadata": {
    "collapsed": true
   },
   "outputs": [],
   "source": [
    "#微小要素からの地表面反射日射の割合の計算\n",
    "#割合、高度角、方位角、入射角\n",
    "def division_reflect_ratio(L):\n",
    "\n",
    "    r_dr_h = 90. * (2. * L.dr_l + 1) / (2. * L.dr_Nlat) - 90.  #高度角\n",
    "    r_dr_A = 180. * (2. * L.dr_m + 1) / (2. * L.dr_Nlon) - 90. #方位角\n",
    "    r_dr_phi = math.degrees(math.acos(abs(math.cos(math.radians(r_dr_h)) * math.cos(math.radians(r_dr_A))))) #入射角\n",
    "    dr_omega = math.cos(math.radians(r_dr_h)) * math.pi ** 2. / (2. * L.dr_Nlat * L.dr_Nlon)\n",
    "    r_dr_f = 2 * dr_omega * math.cos(math.radians(r_dr_phi)) / math.pi #割合\n",
    "    \n",
    "    return r_dr_f, r_dr_h, r_dr_A, r_dr_phi"
   ]
  },
  {
   "cell_type": "markdown",
   "metadata": {},
   "source": [
    "### 計算例"
   ]
  },
  {
   "cell_type": "code",
   "execution_count": 15,
   "metadata": {
    "collapsed": false
   },
   "outputs": [
    {
     "data": {
      "image/png": "[encoded data removed]",
      "text/plain": [
       "<matplotlib.figure.Figure at 0x193df7d8780>"
      ]
     },
     "metadata": {},
     "output_type": "display_data"
    }
   ],
   "source": [
    "Nr_lat = 90\n",
    "Nr_lon = 180\n",
    "\n",
    "dr_F = np.empty((Nr_lat, Nr_lon))\n",
    "dr_h = np.empty((Nr_lat, Nr_lon))\n",
    "dr_A = np.empty((Nr_lat, Nr_lon))\n",
    "dr_phi = np.empty((Nr_lat, Nr_lon))\n",
    "\n",
    "for l in range(0, Nr_lat):\n",
    "    for m in range(0, Nr_lon):\n",
    "        dr_in =dr_input(Nr_lat, Nr_lon, l ,m)\n",
    "        dr_F[l][m] = division_reflect_ratio(dr_in)[0]   #割合\n",
    "        dr_h[l][m] = division_reflect_ratio(dr_in)[1]   #高度角\n",
    "        dr_A[l][m] = division_reflect_ratio(dr_in)[2]   #方位角\n",
    "        dr_phi[l][m] = division_reflect_ratio(dr_in)[3] #入射角\n",
    "\n",
    "np.savetxt('out_hr.csv', dr_h, fmt='%.10f', delimiter=',')\n",
    "np.savetxt('out_Ar.csv', dr_A, fmt='%.10f', delimiter=',')\n",
    "np.savetxt('out_phir.csv', dr_phi, fmt='%.10f', delimiter=',')\n",
    "np.savetxt('out_Fr.csv', dr_F, fmt='%.10f', delimiter=',')\n",
    "        \n",
    "#グラフの描画\n",
    "fig = plt.figure(figsize=(12,8))\n",
    "plt.style.use('ggplot')\n",
    "\n",
    "ax = fig.gca(projection='3d')\n",
    "ax.plot_wireframe(dr_h[0:Nr_lat][0:Nr_lon], dr_A[0:Nr_lat][0:Nr_lon], dr_F[0:Nr_lat][0:Nr_lon], rstride=1, cstride=1, linewidth=0.2)\n",
    "ax.set_xticks([10 * i - 90 for i in range(10)])\n",
    "ax.set_yticks([30 * i - 90 for i in range(7)])\n",
    "ax.set_zticks([5e-5 * i for i in range(5)])\n",
    "\n",
    "ax.set_xlabel('hr (°)', fontsize = 12)\n",
    "ax.set_ylabel('Ar (°)', fontsize = 12)\n",
    "ax.set_zlabel('Fr (-)', fontsize = 12)\n",
    "\n",
    "ax.zaxis.set_major_formatter(ptick.ScalarFormatter(useMathText=True)) \n",
    "ax.ticklabel_format(style='sci',axis='z',scilimits=(0,0)) \n",
    "\n",
    "plt.show()"
   ]
  },
  {
   "cell_type": "markdown",
   "metadata": {},
   "source": [
    "### 3.3. 直散分離（Watanabe model） "
   ]
  },
  {
   "cell_type": "markdown",
   "metadata": {},
   "source": [
    "説明：水平面全天日射量から水平面天空日射量と法線面直達日射量を計算する。"
   ]
  },
  {
   "cell_type": "markdown",
   "metadata": {},
   "source": [
    "### 入力値  \n",
    "\n",
    "$ I_G $ ：水平面全天日射量 [MJ/(m<sup>2</sup>･h)]  \n",
    "$ h $ ：太陽高度角 (°)  "
   ]
  },
  {
   "cell_type": "markdown",
   "metadata": {},
   "source": [
    "### 出力値\n",
    "\n",
    "$ I_b $ ：法線面直達日射量 [MJ/(m<sup>2</sup>･h)]  \n",
    "$ I_d $ ：水平面天空日射量 [MJ/(m<sup>2</sup>･h)]  "
   ]
  },
  {
   "cell_type": "markdown",
   "metadata": {},
   "source": [
    "### 計算方法\n",
    "\n",
    "#### データ構造と値の範囲\n",
    "\n",
    "$ I_G $・$ h $の組み合わせを1つの変数（タプル）で表し\"dbd_input\"とする。  \n",
    "$ h $は0°以上、90°以下の値をとる（ただし、$ h $が3°より小さい場合には、$ h $=3°として計算する）。  "
   ]
  },
  {
   "cell_type": "code",
   "execution_count": 16,
   "metadata": {
    "collapsed": true
   },
   "outputs": [],
   "source": [
    "dbd_input = namedtuple('dbd_input', 'dbd_ig dbd_h')\n",
    "#dbd_ig：水平面全天日射量 [MJ/(m2･h)]  \n",
    "#dbd_h：太陽高度角 (°) "
   ]
  },
  {
   "cell_type": "markdown",
   "metadata": {},
   "source": [
    "#### 直散分離（Watanabe model）の計算\n",
    "\n",
    "（参考：拡張アメダス気象データ1981-2000解説書 8.2.1　直散分離）  \n",
    "\n",
    "直散分離（Watanabe model）の計算方法を以下に示す。  \n",
    "\n",
    "$ \\begin{align}I_d = I_0 ･ \\sin h ･ \\frac{Q}{1 + Q}\\end{align}$ ･･････････････････････････････････ (3.3-a)  \n",
    "\n",
    "$ \\begin{align}Q = (0.8672 + 0.7505 ･ \\sin h) ･ P ^ {\\frac{0.421}{\\sin h}} ･ (1 - P ^ {\\frac{1}{\\sin h}}) ^ {2.277}\\end{align}$ ････ (3.3-b)  \n",
    "\n",
    "大気透過率$ P $は、Bouguer式による。Bouguer式を以下に示す。\n",
    "\n",
    "$ \\begin{align}I_b = I_0 ･ P ^ {\\frac{1}{\\sin h}}\\end{align}$ ･･････････････････････････････････････････ (3.3-c)  \n",
    "\n",
    "日射の直散成分の関係式を以下に示す。 \n",
    "\n",
    "$ \\begin{align}I_G = I_b ･ \\sin h + I_d\\end{align}$ ･････････････････････････････････････ (3.3-d)  \n",
    "\n",
    "ここで、  \n",
    "\n",
    "$ I_0 $ ：法線面大気外日射量（1367[W/m<sup>2</sup>]=4.9212） [MJ/(m<sup>2</sup>･h)]  \n",
    "$ P $ ：大気透過率（0 < $ P $ ≦ 0.85）  \n",
    "\n",
    "である。  \n",
    "\n",
    "式(3.3-c)、式(3.3-d)を整理すると、式(3.3-e)が得られる。  \n",
    "\n",
    "$ \\begin{align}I_d = I_G - I_0 ･ P ^ {\\frac{1}{\\sin h}} ･ \\sin h\\end{align}$ ･･･････････････････････････････ (3.3-e)  \n",
    "\n",
    "大気透過率$ P $及び水平面天空日射量$I_d$は、式(3.3-a)と式(3.3-e)から収束計算によって求める。  \n",
    "\n",
    "法線面直達日射量$I_b$は、式(3.3-d)を変形した式(3.3-f)から求める。  \n",
    "\n",
    "$ \\begin{align}I_b = \\frac{I_G - I_d}{\\sin h}\\end{align}$ ･･････････････････････････････････････････ (3.3-f)  "
   ]
  },
  {
   "cell_type": "code",
   "execution_count": 17,
   "metadata": {
    "collapsed": true
   },
   "outputs": [],
   "source": [
    "#直散分離（Watanabe model）の計算\n",
    "#法線面大気外日射量、水平面天空日射量\n",
    "def division_beam_diffuse(L):\n",
    "\n",
    "    dbd_i0 = 4.9212 #法線面大気外日射量(MJ/(m2h))\n",
    "    if 0. < L.dbd_h and L.dbd_h < 3.:\n",
    "        dbd_sinh =  math.sin(math.radians(3.)) #太陽高度角の補正\n",
    "    elif 3. < L.dbd_h and L.dbd_h <= 90.:\n",
    "        dbd_sinh =  math.sin(math.radians(L.dbd_h))\n",
    "    else:\n",
    "        dbd_sinh = 0.\n",
    "        \n",
    "    def f_id(dbd_px):\n",
    "        dbd_q = (0.8672 + 0.7505 * dbd_sinh) * dbd_px ** (0.421 / dbd_sinh) * (1. - dbd_px ** (1. / dbd_sinh)) ** 2.277\n",
    "        dbd_id1 = dbd_i0 * dbd_sinh * dbd_q / (1 + dbd_q)\n",
    "        dbd_id2 = L.dbd_ig - dbd_i0 * dbd_px ** (1 / dbd_sinh) * dbd_sinh\n",
    "        return dbd_id1 - dbd_id2\n",
    "    \n",
    "    #収束計算(二分法)\n",
    "    p_min = 0. #初期値(下限)\n",
    "    p_max = 1. #初期値(上限)\n",
    "    p_cnt = 0  #繰り返し回数\n",
    "    if dbd_sinh > 0. and L.dbd_ig > 0.:\n",
    "        while True:\n",
    "            p_cnt += 1\n",
    "            dbd_p = (p_min + p_max) / 2.\n",
    "            if f_id(p_min) * f_id(dbd_p) < 0.:\n",
    "                p_max = dbd_p\n",
    "            else:\n",
    "                p_min = dbd_p\n",
    "            if abs (f_id(dbd_p)) < 10. ** (-10.):\n",
    "                if dbd_p > 0.85:\n",
    "                    dbd_p = 0.85\n",
    "                break\n",
    "            elif p_cnt > 10. ** 3.:\n",
    "                dbd_p = 99999.\n",
    "                break\n",
    "     \n",
    "        if dbd_p != 99999.:\n",
    "            #法線面直達日射量\n",
    "            r_dbd_ib = dbd_i0 * dbd_p ** (1. / dbd_sinh)\n",
    "            if r_dbd_ib > 4.18:\n",
    "                r_dbd_ib = 4.18\n",
    "            #水平面天空日射量\n",
    "            r_dbd_id = L.dbd_ig - r_dbd_ib * dbd_sinh\n",
    "            if r_dbd_id < 0.:\n",
    "                r_dbd_id = 0.            \n",
    "        else:\n",
    "            r_dbd_ib = 99999.\n",
    "            r_dbd_id = 99999.\n",
    "    else:\n",
    "        r_dbd_ib = 0.\n",
    "        r_dbd_id = 0.\n",
    "        \n",
    "    return r_dbd_ib, r_dbd_id"
   ]
  },
  {
   "cell_type": "markdown",
   "metadata": {},
   "source": [
    "### 計算例"
   ]
  },
  {
   "cell_type": "code",
   "execution_count": 18,
   "metadata": {
    "collapsed": false
   },
   "outputs": [
    {
     "data": {
      "image/png": "[encoded data removed]",
      "text/plain": [
       "<matplotlib.figure.Figure at 0x193df840668>"
      ]
     },
     "metadata": {},
     "output_type": "display_data"
    }
   ],
   "source": [
    "location = '3639999'               #東京ID\n",
    "year = 1995                        #西暦年\n",
    "lat = 35. + 41.2 / 60.             #計算対象地点の緯度 (°)  \n",
    "lon = 139. + 45.9 / 60.            #計算対象地点の経度 (°)  \n",
    "\n",
    "#気象データ読込\n",
    "ig = Weather.weather_input(location)[4]                                        #水平面全天日射量\n",
    "\n",
    "dbd_result = np.empty((5,8760))\n",
    "\n",
    "for i in range(0, 8760):\n",
    "    sp_in = sp_input(year, int((i + 1.) / 24.) + 1., ((i + 1.) / 24. - int((i + 1.) / 24.)) * 24., lat, lon)\n",
    "    sp_h = solar_position(sp_in)[0]                                     #太陽高度角\n",
    "\n",
    "    dbd_in = dbd_input(ig[i], sp_h)\n",
    "    dbd_result[0][i] = i + 1.                                           #年通算時間\n",
    "    dbd_result[1][i] = int((i + 1.) / 24.) + 1.                         #年通算日\n",
    "    dbd_result[2][i] = ((i + 1.) / 24. - int((i + 1.) / 24.)) * 24.     #時刻\n",
    "    dbd_result[3][i] = division_beam_diffuse(dbd_in)[0]                 #法線面直達日射量\n",
    "    dbd_result[4][i] = division_beam_diffuse(dbd_in)[1]                 #水平面天空日射量\n",
    "    \n",
    "np.savetxt(location + '_out_dbd.csv', np.transpose(dbd_result), fmt='%.10f', delimiter=',')\n",
    "\n",
    "#確認用気象データ読込\n",
    "ib_ea = Weather.weather_confirm_input(location)[0]                              #法線面直達日射量\n",
    "id_ea = Weather.weather_confirm_input(location)[1]                              #水平面天空日射量\n",
    "\n",
    "#グラフの描画\n",
    "graph_num = 2\n",
    "ax = np.empty(graph_num, dtype = np.object)\n",
    "fig = plt.figure(figsize = (15, 5 * ((graph_num + 1) // 2)))\n",
    "plt.style.use('ggplot')\n",
    "\n",
    "gpc = ['C0', 'C1']\n",
    "gxd = [[ib_ea[0:8760], [-0.5,4.]], [id_ea[0:8760], [-0.5,4.]]]\n",
    "gyd = [[dbd_result[3][0:8760], [-0.5,4.]], [dbd_result[4][0:8760], [-0.5,4.]]]\n",
    "gxl = ['ib(eadata) [MJ/(m2h)]','id(eadata) [MJ/(m2h)]']\n",
    "gyl = ['ib(calc) [MJ/(m2h)]', 'id(calc) [MJ/(m2h)]']\n",
    "gxt = [[0.5 * (i-1) for i in range(10)], [0.5 * (i-1) for i in range(10)]]\n",
    "gyt = [[0.5 * (i-1) for i in range(10)], [0.5 * (i-1) for i in range(10)]]\n",
    "\n",
    "for i in range(graph_num):   \n",
    "    ax[i] = fig.add_subplot((graph_num + 1) // 2, 2, i + 1)\n",
    "    ax[i].scatter(gxd[i][0], gyd[i][0], color = gpc[i])\n",
    "    ax[i].plot(gxd[i][1], gyd[i][1], color = (0,0,0))\n",
    "    ax[i].set_xticks(gxt[i])\n",
    "    ax[i].set_yticks(gyt[i])\n",
    "    ax[i].set_xlabel(gxl[i], fontsize = 12)\n",
    "    ax[i].set_ylabel(gyl[i], fontsize = 12)\n",
    "\n",
    "plt.show()"
   ]
  },
  {
   "cell_type": "markdown",
   "metadata": {},
   "source": [
    "### 3.4. 斜面（開口面）日射量（Isotropic model）"
   ]
  },
  {
   "cell_type": "markdown",
   "metadata": {},
   "source": [
    "説明：水平面全天日射量・水平面天空日射量・法線面直達日射量から斜面（開口面）日射量（直達・天空・地表面反射）を計算する。"
   ]
  },
  {
   "cell_type": "markdown",
   "metadata": {},
   "source": [
    "### 入力値  \n",
    "\n",
    "$ I_G $ ：水平面全天日射量 [MJ/(m<sup>2</sup>･h)]  \n",
    "$ I_b $ ：法線面直達日射量 [MJ/(m<sup>2</sup>･h)]  \n",
    "$ I_d $ ：水平面天空日射量 [MJ/(m<sup>2</sup>･h)]  \n",
    "$ h $ ：太陽高度角 (°)  \n",
    "$ A $ ：太陽方位角 (°)  \n",
    "$ \\beta $ ：水平面に対する斜面（開口面）の傾斜角 (°)  \n",
    "$ A_w $ ：斜面（開口面）の方位角 (°)  \n",
    "$ \\rho $ ：アルベド  "
   ]
  },
  {
   "cell_type": "markdown",
   "metadata": {},
   "source": [
    "### 出力値\n",
    "\n",
    "$ I_{T,b} $ ：斜面（開口面）直達日射量 [MJ/(m<sup>2</sup>･h)]  \n",
    "$ I_{T,d} $ ：斜面（開口面）天空日射量 [MJ/(m<sup>2</sup>･h)]  \n",
    "$ I_{T,r} $ ：斜面（開口面）地表面反射日射量 [MJ/(m<sup>2</sup>･h)]  \n",
    "$ \\phi $ ：直達日射の入射角 (°)  "
   ]
  },
  {
   "cell_type": "markdown",
   "metadata": {},
   "source": [
    "### 計算方法\n",
    "\n",
    "#### データ構造と値の範囲\n",
    "\n",
    "$ I_G $・$ I_d $・$ I_b $・$ h $・$ A $・$ \\beta $・$ A_w $・$ \\rho $の組み合わせを1つの変数（タプル）で表し\"st_input\"とする。  \n",
    "$ h $は0°以上、90°以下の値をとる。  \n",
    "$ \\rho $は0.0以上、1.0以下の値をとる。"
   ]
  },
  {
   "cell_type": "code",
   "execution_count": 19,
   "metadata": {
    "collapsed": true
   },
   "outputs": [],
   "source": [
    "st_input = namedtuple('st_input', 'st_ig st_ib st_id st_h st_A st_Bw st_Aw st_rho')\n",
    "#st_ig：水平面全天日射量 [MJ/(m2･h)]  \n",
    "#st_ib：法線面直達日射量 [MJ/(m2･h)]  \n",
    "#st_id：水平面天空日射量 [MJ/(m2･h)]  \n",
    "#st_h：太陽高度角 (°) \n",
    "#st_A：太陽方位角 (°)  \n",
    "#st_Bw：水平面に対する斜面（開口面）の傾斜角 (°)  \n",
    "#st_Aw：斜面（開口面）の方位角 (°)  \n",
    "#st_rho：アルベド"
   ]
  },
  {
   "cell_type": "markdown",
   "metadata": {},
   "source": [
    "#### 斜面（開口面）日射量（Isotropic model）の計算\n",
    "\n",
    "（参考：拡張アメダス気象データ1981-2000解説書 8.2.2　斜面日射量の計算）  \n",
    "\n",
    "斜面（開口面）日射量（Isotropic model）の計算方法を以下に示す。  \n",
    "\n",
    "$ \\begin{align}I_{T,b} = I_b ･ \\cos \\phi\\end{align}$ ････････････････････････････････････････････ (3.4-a)  \n",
    "\n",
    "$ \\begin{align}I_{T,d} = I_d ･ \\frac{1 + \\cos\\beta}{2}\\end{align}$ ････････････････････････････････････････ (3.4-b)  \n",
    "\n",
    "$ \\begin{align}I_{T,r} = I_G ･ \\frac{1 - \\cos\\beta}{2} ･ \\rho\\end{align}$ ･･････････････････････････････････････ (3.4-c)  \n",
    "\n",
    "$ \\begin{align}\\cos \\phi = \\sin h ･ \\cos \\beta + \\cos h ･ \\sin \\beta ･ \\cos (A-A_w)\\end{align}$ ･････････････ (3.4-d)  \n"
   ]
  },
  {
   "cell_type": "code",
   "execution_count": 20,
   "metadata": {
    "collapsed": true
   },
   "outputs": [],
   "source": [
    "#斜面（開口面）日射量（Isotropic model）の計算\n",
    "#斜面（開口面）直達日射量、斜面（開口面）天空日射量、斜面（開口面）地表面反射日射量、直達日射の入射角\n",
    "def solor_tilt(L):\n",
    "\n",
    "    if 0. < L.st_h and L.st_h < 3.:\n",
    "        st_sinh =  math.sin(math.radians(3.)) #太陽高度角の補正\n",
    "        st_cosh =  math.cos(math.radians(3.)) #太陽高度角の補正\n",
    "    elif 3. < L.st_h and L.st_h < 90.:\n",
    "        st_sinh =  math.sin(math.radians(L.st_h))\n",
    "        st_cosh =  math.cos(math.radians(L.st_h))\n",
    "    else:\n",
    "        st_sinh =  0.\n",
    "        st_cosh =  1.\n",
    "            \n",
    "    if st_sinh > 0. and L.st_ig > 0.:\n",
    "        st_cosphi = abs(st_sinh * math.cos(math.radians(L.st_Bw)) + st_cosh * math.sin(math.radians(L.st_Bw)) * \\\n",
    "                    math.cos(math.radians(L.st_A - L.st_Aw)))\n",
    "        r_st_ib = L.st_ib * st_cosphi\n",
    "        r_st_id = L.st_id * (1 + math.cos(math.radians(L.st_Bw))) / 2\n",
    "        r_st_ir = L.st_ig * (1 - math.cos(math.radians(L.st_Bw))) / 2 * L.st_rho\n",
    "        r_st_phi = math.degrees(math.acos(st_cosphi))\n",
    "    else:\n",
    "        r_st_ib = 0.\n",
    "        r_st_id = 0.\n",
    "        r_st_ir = 0.\n",
    "        r_st_phi = 90.\n",
    "        \n",
    "    return r_st_ib, r_st_id, r_st_ir, r_st_phi"
   ]
  },
  {
   "cell_type": "markdown",
   "metadata": {},
   "source": [
    "### 計算例"
   ]
  },
  {
   "cell_type": "code",
   "execution_count": 21,
   "metadata": {
    "collapsed": false
   },
   "outputs": [
    {
     "data": {
      "image/png": "[encoded data removed]",
      "text/plain": [
       "<matplotlib.figure.Figure at 0x193deea6a90>"
      ]
     },
     "metadata": {},
     "output_type": "display_data"
    }
   ],
   "source": [
    "location = '3639999'               #東京ID\n",
    "year = 1995                        #西暦年\n",
    "lat = 35. + 41.2 / 60.             #計算対象地点の緯度 (°)  \n",
    "lon = 139. + 45.9 / 60.            #計算対象地点の経度 (°)  \n",
    "Bw = 90.                           #水平面に対する斜面（開口面）の傾斜角 (°) \n",
    "Aw = 0.                            #斜面（開口面）の方位角 (°)\n",
    "rho = 0.1                          #アルベド\n",
    "\n",
    "#気象データ読込\n",
    "ig = Weather.weather_input(location)[4]                                        #水平面全天日射量\n",
    "\n",
    "st_result = np.empty((7,8760))\n",
    "\n",
    "for i in range(0, 8760):\n",
    "    sp_in = sp_input(year, int((i + 1.) / 24.) + 1., ((i + 1.) / 24. - int((i + 1.) / 24.)) * 24., lat, lon)\n",
    "    sp_h = solar_position(sp_in)[0]                                    #太陽高度角\n",
    "    sp_A = solar_position(sp_in)[1]                                    #太陽方位角\n",
    "\n",
    "    dbd_in = dbd_input(ig[i], sp_h)\n",
    "    dbd_ib = division_beam_diffuse(dbd_in)[0]                          #法線面直達日射量\n",
    "    dbd_id = division_beam_diffuse(dbd_in)[1]                          #水平面天空日射量\n",
    "\n",
    "    st_in = st_input(ig[i], dbd_ib, dbd_id, sp_h, sp_A, Bw, Aw, rho)\n",
    "    st_result[0][i] = i + 1.                                           #年通算時間\n",
    "    st_result[1][i] = int((i + 1.) / 24.) + 1.                         #年通算日\n",
    "    st_result[2][i] = ((i + 1.) / 24. - int((i + 1.) / 24.)) * 24.     #時刻\n",
    "    st_result[3][i] = solor_tilt(st_in)[0]                             #斜面（開口面）直達日射量\n",
    "    st_result[4][i] = solor_tilt(st_in)[1]                             #斜面（開口面）天空日射量\n",
    "    st_result[5][i] = solor_tilt(st_in)[2]                             #斜面（開口面）地表面反射日射量\n",
    "    st_result[6][i] = solor_tilt(st_in)[3]                             #直達日射の入射角\n",
    "    \n",
    "np.savetxt(location + '_out_st.csv', np.transpose(st_result), fmt='%.10f', delimiter=',')\n",
    "\n",
    "#確認用気象データ読込\n",
    "itb_ea = Weather.weather_confirm_input(location)[2]                            #斜面（開口面）直達日射量\n",
    "itd_ea = Weather.weather_confirm_input(location)[3]                            #斜面（開口面）天空日射量\n",
    "itr_ea = Weather.weather_confirm_input(location)[4]                            #斜面（開口面）地表面反射日射量\n",
    "\n",
    "#グラフの描画\n",
    "graph_num = 3\n",
    "ax = np.empty(graph_num, dtype = np.object)\n",
    "fig = plt.figure(figsize = (15, 5 * ((graph_num + 1) // 2)))\n",
    "plt.style.use('ggplot')\n",
    "\n",
    "gpc = ['C0', 'C1', 'C2']\n",
    "gxd = [[itb_ea[0:8760], [-0.5,4.]], [itd_ea[0:8760], [-0.5,4.]], [itr_ea[0:8760], [-0.5,4.]]]\n",
    "gyd = [[st_result[3][0:8760], [-0.5,4.]], [st_result[4][0:8760], [-0.5,4.]], [st_result[5][0:8760], [-0.5,4.]]]\n",
    "gxl = ['itb(eadata) [MJ/(m2h)]','itd(eadata) [MJ/(m2h)]','itr(eadata) [MJ/(m2h)]']\n",
    "gyl = ['itb(calc) [MJ/(m2h)]', 'itd(calc) [MJ/(m2h)]', 'itr(calc) [MJ/(m2h)]']\n",
    "gxt = [[0.5 * (i-1) for i in range(10)], [0.5 * (i-1) for i in range(10)], [0.5 * (i-1) for i in range(10)]]\n",
    "gyt = [[0.5 * (i-1) for i in range(10)], [0.5 * (i-1) for i in range(10)], [0.5 * (i-1) for i in range(10)]]\n",
    "\n",
    "for i in range(graph_num):   \n",
    "    ax[i] = fig.add_subplot((graph_num + 1) // 2, 2, i + 1)\n",
    "    ax[i].scatter(gxd[i][0], gyd[i][0], color = gpc[i])\n",
    "    ax[i].plot(gxd[i][1], gyd[i][1], color = (0,0,0))\n",
    "    ax[i].set_xticks(gxt[i])\n",
    "    ax[i].set_yticks(gyt[i])\n",
    "    ax[i].set_xlabel(gxl[i], fontsize = 12)\n",
    "    ax[i].set_ylabel(gyl[i], fontsize = 12)\n",
    "\n",
    "plt.show()"
   ]
  },
  {
   "cell_type": "markdown",
   "metadata": {},
   "source": [
    "## 4. ひさし等の日除けの計算  "
   ]
  },
  {
   "cell_type": "code",
   "execution_count": null,
   "metadata": {
    "collapsed": true
   },
   "outputs": [],
   "source": []
  },
  {
   "cell_type": "markdown",
   "metadata": {},
   "source": [
    "## 5. 窓の日射熱取得率の計算 "
   ]
  },
  {
   "cell_type": "markdown",
   "metadata": {},
   "source": [
    "### 5.1. グレージング複合体の日射熱取得率  "
   ]
  },
  {
   "cell_type": "markdown",
   "metadata": {},
   "source": [
    "### 5.1.1. 面材の光学特性"
   ]
  },
  {
   "cell_type": "markdown",
   "metadata": {},
   "source": [
    "### 5.1.1.1. ガラス"
   ]
  },
  {
   "cell_type": "markdown",
   "metadata": {},
   "source": [
    "説明：垂直入射時のガラスの日射透過率及び日射反射率から任意の入射角におけるガラスの日射透過率及び日射反射率を計算する。"
   ]
  },
  {
   "cell_type": "markdown",
   "metadata": {},
   "source": [
    "### 入力値  \n",
    "\n",
    "$ \\tau_{0,f} $ ：ガラスの正面側からの入射光に対する垂直入射時の日射透過率  \n",
    "$ \\tau_{0,b} $ ：ガラスの背面側からの入射光に対する垂直入射時の日射透過率  \n",
    "$ \\rho_{0,f} $ ：ガラスの正面側からの入射光に対する垂直入射時の日射反射率  \n",
    "$ \\rho_{0,b} $ ：ガラスの背面側からの入射光に対する垂直入射時の日射反射率  \n",
    "$ \\phi $       ：日射の入射角（°）  \n",
    "gtype          ：ガラスの種類flag（0：透明フロート板ガラス、1：Low-Eガラス）  \n",
    "ctypef         ：正面側の膜の有無flag（0：膜なし、1：膜あり）  \n",
    "ctypeb         ：背面側の膜の有無flag（0：膜なし、1：膜あり）  "
   ]
  },
  {
   "cell_type": "markdown",
   "metadata": {},
   "source": [
    "### 出力値\n",
    "\n",
    "$ \\tau_{\\phi,f} $ ：ガラスの正面側からの入射光に対する入射角$\\phi$の日射透過率  \n",
    "$ \\tau_{\\phi,b} $ ：ガラスの背面側からの入射光に対する入射角$\\phi$の日射透過率  \n",
    "$ \\rho_{\\phi,f} $ ：ガラスの正面側からの入射光に対する入射角$\\phi$の日射反射率  \n",
    "$ \\rho_{\\phi,b} $ ：ガラスの背面側からの入射光に対する入射角$\\phi$の日射反射率"
   ]
  },
  {
   "cell_type": "markdown",
   "metadata": {},
   "source": [
    "### 計算方法\n",
    "\n",
    "#### データ構造と値の範囲\n",
    "\n",
    "$\\tau_{0,f}$・$\\tau_{0,b}$・$\\rho_{0,f}$・$\\rho_{0,b}$・gtype・ctypef・ctypebの組み合わせを1つの変数（タプル）で表し\"glass_input\"とする。  \n",
    "全ての値は0.0以上1.0以下の値をとる。  \n",
    "$\\tau_{0,f}$ と $\\rho_{0,f}$ の合計は1.0を超えない。  \n",
    "$\\tau_{0,b}$ と $\\rho_{0,b}$ の合計は1.0を超えない。   "
   ]
  },
  {
   "cell_type": "code",
   "execution_count": 22,
   "metadata": {
    "collapsed": true
   },
   "outputs": [],
   "source": [
    "glass_input = namedtuple('glass_input','glass_TRS0f glass_TRS0b glass_REF0f glass_REF0b glass_gtype glass_ctypef glass_ctypeb')\n",
    "# glass_TRS0f：正面側からの入射光に対する垂直入射時の日射透過率\n",
    "# glass_TRS0f：正面側からの入射光に対する垂直入射時の日射透過率\n",
    "# glass_TRS0b：背面側からの入射光に対する垂直入射時の日射透過率\n",
    "# glass_REF0f：正面側からの入射光に対する垂直入射時の日射反射率\n",
    "# glass_REF0b：背面側からの入射光に対する垂直入射時の日射反射率\n",
    "# glass_gtype：ガラスの種類flag（0：透明フロート板ガラス、1：Low-Eガラス）\n",
    "# glass_ctypef：正面側の膜の有無flag（0：膜なし、1：膜あり）\n",
    "# glass_ctypeb：背面側の膜の有無flag（0：膜なし、1：膜あり）"
   ]
  },
  {
   "cell_type": "markdown",
   "metadata": {},
   "source": [
    "#### 入射角$\\phi$の日射透過率及び日射反射率の計算  \n",
    "\n",
    "（参考：JIS A 2103：2014 附属書G 斜入射に対する板ガラスの光学特性の計算方法）  \n",
    "\n",
    "入射角によって日射特性が変化するガラスの日射透過率及び日射反射率の計算方法を以下に示す。  \n",
    "\n",
    "$ \\begin{align}\\tau_{\\phi,f} = \\tau_{0,f}･\\sum_{i=0}^5 m_{i}･\\cos^i\\phi\\end{align} $ ･････････････････････････････ (5.1.1.1-a)\n",
    "\n",
    "$ \\begin{align}\\tau_{\\phi,b} = \\tau_{0,b}･\\sum_{i=0}^5 m_{i}･\\cos^i\\phi\\end{align} $ ･････････････････････････････ (5.1.1.1-b)\n",
    "\n",
    "$ \\begin{align}\\rho_{\\phi,f} =\\rho_{0,f}+(1-\\rho_{0,f})･\\sum_{i=0}^5 m_{i}･\\cos^i\\phi\\end{align} $ ･････････････････ (5.1.1.1-c)\n",
    "\n",
    "$ \\begin{align}\\rho_{\\phi,b} =\\rho_{0,b}+(1-\\rho_{0,b})･\\sum_{i=0}^5 m_{i}･\\cos^i\\phi\\end{align} $ ･････････････････ (5.1.1.1-d)  \n",
    "\n",
    "ここで、  \n",
    "\n",
    "$ m_{i} $ ：ガラス種類ごとの係数  \n",
    "\n",
    "である。\n",
    "\n",
    "$ m_{i} $ の係数表を以下に示す（参考：JIS A 2103：2014 表G.1）。なお、本仕様書では透明フロート板ガラス及びLow-Eガラスのみについてプログラムを記述する。  \n",
    "\n",
    "| 板ガラス品種分類              | 規準化透過率又は規準化反射率 | $m_0$ | $m_1$ | $m_2$ | $m_3$ | $m_4$ | $m_5$ |\n",
    "| :---                      | :---                         | ---: | ---: | ---: | ---: | ---: | ---: |\n",
    "| 透明フロート板ガラス            | 規準化透過率                 | 0.000 | 2.552 | 1.364 | -11.388 | 13.617 | -5.146 |\n",
    "|                               | 規準化反射率(ガラス面)       | 1.000 | -5.189 | 12.392 | -16.593 | 11.851 | -3.461 |\n",
    "| 熱線吸収板ガラス              | 規準化透過率                 | 0.000 | 1.760 | 3.770 | -14.901 | 16.422 | -6.052 |\n",
    "|                               | 規準化反射率(ガラス面)       | 1.000 | -5.189 | 12.392 | -16.593 | 11.851 | -3.461 |\n",
    "| 熱線反射ガラス                | 規準化透過率                 | 0.000 | 3.297 | -1.122 | -8.408 | 12.206 | -4.972 |\n",
    "|                               | 規準化反射率(ガラス面)       | 1.000 | -5.842 | 15.264 | -21.642 | 15.948 | -4.727 |\n",
    "|                               | 規準化反射率(膜面)           | 1.000 | -5.842 | 15.264 | -21.642 | 15.948 | -4.727 |\n",
    "| 熱線吸収熱線反射ガラス        | 規準化透過率                 | 0.000 | 2.558 | 0.989 | -11.214 | 14.275 | -5.608 |\n",
    "|                               | 規準化反射率(ガラス面)       | 1.000 | -5.842 | 15.264 | -21.642 | 15.948 | -4.727 |\n",
    "|                               | 規準化反射率(膜面)           | 1.000 | -5.842 | 15.264 | -21.642 | 15.948 | -4.727 |\n",
    "| 高性能熱線反射ガラスSシリーズ | 規準化透過率                 | 0.000 | 5.342 | -10.170 | 6.670 | 0.886 | -1.728 |\n",
    "|                               | 規準化反射率(ガラス面)       | 1.000 | -6.459 | 18.722 | -28.982 | 22.804 | -7.085 |\n",
    "|                               | 規準化反射率(膜面)           | 1.000 | -9.187 | 33.681 | -59.593 | 50.413 | -16.314 |\n",
    "| 高性能熱線反射ガラスTシリーズ | 規準化透過率                 | 0.000 | 2.552 | 1.364 | -11.388 | 13.617 | -5.146 |\n",
    "|                               | 規準化反射率(ガラス面)       | 1.000 | -5.782 | 14.816 | -20.567 | 14.862 | -4.331 |\n",
    "|                               | 規準化反射率(膜面)           | 1.000 | -8.900 | 31.953 | -55.934 | 47.050 | -15.176 |\n",
    "| Low-Eガラス                    | 規準化透過率                 | 0.000 | 2.273 | 1.631 | -10.358 | 11.769 | -4.316 |\n",
    "|                               | 規準化反射率(ガラス面)       | 1.000 | -5.084 | 12.646 | -18.213 | 13.967 | -4.316 |\n",
    "|                               | 規準化反射率(膜面)           | 1.000 | -4.387 | 9.175 | -11.152 | 7.416 | -2.052 |"
   ]
  },
  {
   "cell_type": "code",
   "execution_count": 23,
   "metadata": {
    "collapsed": true
   },
   "outputs": [],
   "source": [
    "# 入射角φの日射透過率及び日射反射率の計算\n",
    "def glass_TRSf(L, phi):\n",
    "    glass_TRSnf = 0.\n",
    "    for i in range(0, 6):\n",
    "        glass_TRSnf += glass_mTRS(L)[i] * math.cos(math.radians(phi)) ** i\n",
    "    return L.glass_TRS0f * glass_TRSnf\n",
    "\n",
    "def glass_TRSb(L, phi):\n",
    "    glass_TRSnb = 0.\n",
    "    for i in range(0, 6):\n",
    "        glass_TRSnb += glass_mTRS(L)[i] * math.cos(math.radians(phi)) ** i\n",
    "    return L.glass_TRS0b * glass_TRSnb\n",
    "    \n",
    "def glass_REFf(L, phi):\n",
    "    glass_REFnf = 0.\n",
    "    for i in range(0, 6):\n",
    "        if L.glass_ctypef == 0:\n",
    "            glass_REFnf += glass_mREFg(L)[i] * math.cos(math.radians(phi)) ** i\n",
    "        elif L.glass_ctypef == 1:\n",
    "            glass_REFnf += glass_mREFc(L)[i] * math.cos(math.radians(phi)) ** i\n",
    "    return L.glass_REF0f + (1 - L.glass_REF0f) * glass_REFnf\n",
    "    \n",
    "def glass_REFb(L, phi):\n",
    "    glass_REFnb = 0.0\n",
    "    for i in range(0, 6):\n",
    "        if L.glass_ctypeb == 0:\n",
    "            glass_REFnb += glass_mREFg(L)[i] * math.cos(math.radians(phi)) ** i\n",
    "        elif L.glass_ctypeb == 1:\n",
    "            glass_REFnb += glass_mREFc(L)[i] * math.cos(math.radians(phi)) ** i\n",
    "    return L.glass_REF0b + (1 - L.glass_REF0b) * glass_REFnb\n",
    "\n",
    "#係数mの選択。ここでは、透明フロート板ガラス及びLow-Eガラスのみを記述する。\n",
    "def glass_mTRS(L):\n",
    "    if L.glass_gtype == 0:    return [0.000, 2.552, 1.364, -11.388, 13.617, -5.146]\n",
    "    elif L.glass_gtype == 1:  return [0.000, 2.273, 1.631, -10.358, 11.769, -4.316]\n",
    "    else:                         return ValueError\n",
    "\n",
    "def glass_mREFg(L):\n",
    "    if L.glass_gtype == 0:    return [1.000, -5.189, 12.392, -16.593, 11.851, -3.461]\n",
    "    elif L.glass_gtype == 1:  return [1.000, -5.084, 12.646, -18.213, 13.967, -4.316]\n",
    "    else:                   return ValueError\n",
    "\n",
    "def glass_mREFc(L):\n",
    "    if L.glass_gtype == 0:    return ValueError\n",
    "    elif L.glass_gtype == 1:  return [1.000, -4.387, 9.175, -11.152, 7.416, -2.052]\n",
    "    else:                   return ValueError"
   ]
  },
  {
   "cell_type": "markdown",
   "metadata": {},
   "source": [
    "### 計算例"
   ]
  },
  {
   "cell_type": "code",
   "execution_count": 24,
   "metadata": {
    "collapsed": false
   },
   "outputs": [
    {
     "data": {
      "image/png": "[encoded data removed]",
      "text/plain": [
       "<matplotlib.figure.Figure at 0x193dee34b00>"
      ]
     },
     "metadata": {},
     "output_type": "display_data"
    }
   ],
   "source": [
    "glass_result = np.zeros((5,91))\n",
    "gl_in = glass_input(0.703, 0.703, 0.106, 0.117, 1, 0, 1)\n",
    "for j in range(0, 91):\n",
    "    phi = j\n",
    "    glass_result[0][j] = phi\n",
    "    glass_result[1][j] = glass_TRSf(gl_in, phi)\n",
    "    glass_result[2][j] = glass_TRSb(gl_in, phi)\n",
    "    glass_result[3][j] = glass_REFf(gl_in, phi)\n",
    "    glass_result[4][j] = glass_REFb(gl_in, phi)\n",
    "   \n",
    "np.savetxt('glass_result.csv', np.transpose(glass_result), fmt='%.10f', delimiter=',')\n",
    "\n",
    "#グラフの描画\n",
    "graph_num = 2\n",
    "ax = np.empty(graph_num, dtype = np.object)\n",
    "fig = plt.figure(figsize = (15, 5 * ((graph_num + 1) // 2)))\n",
    "plt.style.use('ggplot')\n",
    "\n",
    "gpc = ['C0', 'C1']\n",
    "gxd = [[glass_result[0][0:91], glass_result[0][0:91]], [glass_result[0][0:91], glass_result[0][0:91]]]\n",
    "gyd = [[glass_result[1][0:91], glass_result[2][0:91]], [glass_result[3][0:91], glass_result[4][0:91]]]\n",
    "gxl = 'φ[°]'\n",
    "gyl = ['τ (°)', 'ρ (°)']\n",
    "gxt = [10 * i for i in range(10)]\n",
    "gyt = [0.1 * i for i in range(11)]\n",
    "    \n",
    "for i in range(graph_num):   \n",
    "    ax[i] = fig.add_subplot((graph_num + 1) // 2, 2, i + 1)\n",
    "    for j in range(2):\n",
    "        ax[i].plot(gxd[i][j], gyd[i][j], color = gpc[j])\n",
    "    ax[i].set_xticks(gxt)\n",
    "    ax[i].set_yticks(gyt)\n",
    "    ax[i].set_xlabel(gxl, fontsize = 12)\n",
    "    ax[i].set_ylabel(gyl[i], fontsize = 12)\n",
    "\n",
    "plt.show()"
   ]
  },
  {
   "cell_type": "markdown",
   "metadata": {},
   "source": [
    "### 5.1.1.2. ロールスクリーン"
   ]
  },
  {
   "cell_type": "markdown",
   "metadata": {},
   "source": [
    "説明：垂直入射時のロールスクリーンの日射透過率及び日射反射率から任意の入射角におけるロールスクリーンの日射透過率及び日射反射率を計算する。"
   ]
  },
  {
   "cell_type": "markdown",
   "metadata": {},
   "source": [
    "### 入力値  \n",
    "$ \\tau_{0,f} $ ：ロールスクリーンの正面側からの入射光に対する垂直入射時の日射透過率  \n",
    "$ \\tau_{0,b} $ ：ロールスクリーンの背面側からの入射光に対する垂直入射時の日射透過率  \n",
    "$ \\rho_{0,f} $ ：ロールスクリーンの正面側からの入射光に対する垂直入射時の日射反射率  \n",
    "$ \\rho_{0,b} $ ：ロールスクリーンの背面側からの入射光に対する垂直入射時の日射反射率  \n",
    "$ \\phi$        ：日射の入射角（°）"
   ]
  },
  {
   "cell_type": "markdown",
   "metadata": {},
   "source": [
    "### 出力値\n",
    "$ \\tau_{\\phi,f} $ ：ロールスクリーンの正面側からの入射光に対する入射角$\\phi$の日射透過率  \n",
    "$ \\tau_{\\phi,b} $ ：ロールスクリーンの背面側からの入射光に対する入射角$\\phi$の日射透過率  \n",
    "$ \\rho_{\\phi,f} $ ：ロールスクリーンの正面側からの入射光に対する入射角$\\phi$の日射反射率  \n",
    "$ \\rho_{\\phi,b} $ ：ロールスクリーンの背面側からの入射光に対する入射角$\\phi$の日射反射率"
   ]
  },
  {
   "cell_type": "markdown",
   "metadata": {},
   "source": [
    "### 計算方法  \n",
    "\n",
    "#### データ構造と値の範囲  \n",
    "\n",
    "$\\tau_{0,f}$・$\\tau_{0,b}$・$\\rho_{0,f}$の組み合わせを1つの変数（タプル）で表し\"role_input\"とする。  \n",
    "全ての値は0.0以上1.0以下の値をとる。  \n",
    "$\\tau_{0,f}$ と $\\rho_{0,f}$ の合計は1.0を超えない。  \n",
    "$\\tau_{0,b}$ と $\\rho_{0,b}$ の合計は1.0を超えない。  "
   ]
  },
  {
   "cell_type": "code",
   "execution_count": 25,
   "metadata": {
    "collapsed": true
   },
   "outputs": [],
   "source": [
    "role_input = namedtuple('role_input','role_TRS0f role_TRS0b role_REF0f role_REF0b')\n",
    "# role_TRS0f：正面側からの入射光に対する垂直入射時の日射透過率\n",
    "# role_TRS0b：背面側からの入射光に対する垂直入射時の日射透過率\n",
    "# role_REF0f：正面側からの入射光に対する垂直入射時の日射反射率\n",
    "# role_REF0b：背面側からの入射光に対する垂直入射時の日射反射率"
   ]
  },
  {
   "cell_type": "markdown",
   "metadata": {},
   "source": [
    "#### 入射角φの日射透過率及び日射反射率の計算\n",
    "\n",
    "入射角によって日射特性が変化しないロールスクリーンの日射透過率及び日射反射率の計算方法を以下に示す。  \n",
    "\n",
    "$ \\begin{align}\\tau_{\\phi,f} = \\tau_{0,f}\\end{align}$ ････････････････････････････････････････････ (5.1.1.2-a)\n",
    "\n",
    "$ \\begin{align}\\tau_{\\phi,b} = \\tau_{0,b}\\end{align}$ ････････････････････････････････････････････ (5.1.1.2-b)\n",
    "\n",
    "$ \\begin{align}\\rho_{\\phi,f} =\\rho_{0,f}\\end{align}$ ････････････････････････････････････････････ (5.1.1.2-c)\n",
    "\n",
    "$ \\begin{align}\\rho_{\\phi,b} =\\rho_{0,b}\\end{align}$ ････････････････････････････････････････････ (5.1.1.2-d)  "
   ]
  },
  {
   "cell_type": "code",
   "execution_count": 26,
   "metadata": {
    "collapsed": true
   },
   "outputs": [],
   "source": [
    "# 入射角φの日射透過率及び日射反射率の計算\n",
    "def role_TRSf(L, phi):\n",
    "    return L.role_TRS0f\n",
    "\n",
    "def role_TRSb(L, phi):\n",
    "    return L.role_TRS0b\n",
    "    \n",
    "def role_REFf(L, phi):\n",
    "    return L.role_REF0f\n",
    "    \n",
    "def role_REFb(L, phi):\n",
    "    return L.role_REF0b"
   ]
  },
  {
   "cell_type": "markdown",
   "metadata": {},
   "source": [
    "### 計算例"
   ]
  },
  {
   "cell_type": "code",
   "execution_count": 27,
   "metadata": {
    "collapsed": false
   },
   "outputs": [
    {
     "data": {
      "image/png": "[encoded data removed]",
      "text/plain": [
       "<matplotlib.figure.Figure at 0x193e2047978>"
      ]
     },
     "metadata": {},
     "output_type": "display_data"
    }
   ],
   "source": [
    "role_result = np.zeros((5,91))\n",
    "rl_in = role_input(0.3, 0.3, 0.63, 0.63)\n",
    "\n",
    "for j in range(0, 91):\n",
    "    phi = j\n",
    "    role_result[0][j] = phi\n",
    "    role_result[1][j] = role_TRSf(rl_in, phi)\n",
    "    role_result[2][j] = role_TRSb(rl_in, phi)\n",
    "    role_result[3][j] = role_REFf(rl_in, phi)\n",
    "    role_result[4][j] = role_REFb(rl_in, phi)\n",
    "   \n",
    "np.savetxt('role_result.csv', np.transpose(role_result), fmt='%.10f', delimiter=',')\n",
    "\n",
    "#グラフの描画\n",
    "graph_num = 2\n",
    "ax = np.empty(graph_num, dtype = np.object)\n",
    "fig = plt.figure(figsize = (15, 5 * ((graph_num + 1) // 2)))\n",
    "plt.style.use('ggplot')\n",
    "\n",
    "gpc = ['C0', 'C1']\n",
    "gxd = [[role_result[0][0:91], role_result[0][0:91]], [role_result[0][0:91], role_result[0][0:91]]]\n",
    "gyd = [[role_result[1][0:91], role_result[2][0:91]], [role_result[3][0:91], role_result[4][0:91]]]\n",
    "gxl = 'φ[°]'\n",
    "gyl = ['τ (°)', 'ρ (°)']\n",
    "gxt = [10 * i for i in range(10)]\n",
    "gyt = [0.1 * i for i in range(11)]\n",
    "    \n",
    "for i in range(graph_num):   \n",
    "    ax[i] = fig.add_subplot((graph_num + 1) // 2, 2, i + 1)\n",
    "    for j in range(2):\n",
    "        ax[i].plot(gxd[i][j], gyd[i][j], color = gpc[j])\n",
    "    ax[i].set_xticks(gxt)\n",
    "    ax[i].set_yticks(gyt)\n",
    "    ax[i].set_xlabel(gxl, fontsize = 12)\n",
    "    ax[i].set_ylabel(gyl[i], fontsize = 12)\n",
    "\n",
    "plt.show()"
   ]
  },
  {
   "cell_type": "markdown",
   "metadata": {},
   "source": [
    "### 5.1.1.3. ブラインド"
   ]
  },
  {
   "cell_type": "markdown",
   "metadata": {},
   "source": [
    "### 5.1.1.3.1. 幾何学形状の作成"
   ]
  },
  {
   "cell_type": "code",
   "execution_count": null,
   "metadata": {
    "collapsed": true
   },
   "outputs": [],
   "source": []
  },
  {
   "cell_type": "markdown",
   "metadata": {},
   "source": [
    "### 5.1.1.3.2. 鏡面反射成分の計算"
   ]
  },
  {
   "cell_type": "code",
   "execution_count": null,
   "metadata": {
    "collapsed": true
   },
   "outputs": [],
   "source": []
  },
  {
   "cell_type": "markdown",
   "metadata": {},
   "source": [
    "### 5.1.1.3.3. 拡散反射成分の計算"
   ]
  },
  {
   "cell_type": "code",
   "execution_count": null,
   "metadata": {
    "collapsed": true
   },
   "outputs": [],
   "source": []
  },
  {
   "cell_type": "markdown",
   "metadata": {},
   "source": [
    "### 5.1.1.3.4. 全体計算"
   ]
  },
  {
   "cell_type": "code",
   "execution_count": null,
   "metadata": {
    "collapsed": true
   },
   "outputs": [],
   "source": []
  },
  {
   "cell_type": "markdown",
   "metadata": {},
   "source": [
    "### 5.1.2. 短波長放射（日射）の多重反射 "
   ]
  },
  {
   "cell_type": "markdown",
   "metadata": {},
   "source": [
    "説明：グレージング・日除け・付属部材等の各層において、短波長日射の正面（室外）側からの透過率、背面（室内）側からの透過率、正面側からの反射率、背面側からの反射率が既知の場合に、短波長の多重反射を解いて、グレージング複合体全体の透過率および、各層で吸収される短波長の吸収率を計算する。  \n",
    "添え字$i$、$j$は層の番号（0～$n$-1）であり、$n$は層の数を表す。"
   ]
  },
  {
   "cell_type": "markdown",
   "metadata": {},
   "source": [
    "### 入力値  \n",
    "$ \\tau_{f,j} $ ：層$j$の正面側からの入射光に対する日射透過率  \n",
    "$ \\tau_{b,j} $ ：層$j$の背面側からの入射光に対する日射透過率  \n",
    "$ \\rho_{f,j} $ ：層$j$の正面側からの入射光に対する日射反射率  \n",
    "$ \\rho_{b,j} $ ：層$j$の背面側からの入射光に対する日射反射率"
   ]
  },
  {
   "cell_type": "markdown",
   "metadata": {},
   "source": [
    "### 出力値  \n",
    "\n",
    "$ \\tau_{glz} $ ：グレージング複合体全体の透過率  \n",
    "$ \\alpha_j $ ：層$j$の正面側からの入射光に対する日射吸収率  "
   ]
  },
  {
   "cell_type": "markdown",
   "metadata": {},
   "source": [
    "### 計算方法  \n",
    "\n",
    "#### 層$j$のデータ構造と値の範囲\n",
    "\n",
    "層1つにつき、$\\tau_f$・$\\tau_b$・$\\rho_f$・$\\rho_b$の組み合わせを1つの変数（タプル）で表し\"layer\"とする。  \n",
    "全ての値は0.0以上1.0以下の値をとる。  \n",
    "$\\tau_f$ と $\\rho_f$ の合計は1.0を超えない。  \n",
    "$\\tau_b$ と $\\rho_b$ の合計は1.0を超えない。  "
   ]
  },
  {
   "cell_type": "code",
   "execution_count": 28,
   "metadata": {
    "collapsed": true
   },
   "outputs": [],
   "source": [
    "layer_input = namedtuple('layer_input','ly_TRSf ly_TRSb ly_REFf ly_REFb')\n",
    "# ly_TRSf：正面側からの入射光に対する日射透過率\n",
    "# ly_TRSf：正面側からの入射光に対する日射透過率\n",
    "# ly_TRSb：背面側からの入射光に対する日射透過率\n",
    "# ly_REFf：正面側からの入射光に対する日射反射率\n",
    "# ly_REFb：背面側からの入射光に対する日射反射率"
   ]
  },
  {
   "cell_type": "markdown",
   "metadata": {},
   "source": [
    "#### 任意の層から任意の層までの多重反射計算  \n",
    "\n",
    "（参考：JIS A 2103：2014 5.4.2 日射透過率及び各面材の日射吸収率）\n",
    "\n",
    "隣り合う層$i$から層$j$までの値の計算方法を以下に示す。  \n",
    "\n",
    "$ \\begin{align}\\tau_{f,i,j} = \\frac {\\tau_{f,i,j-1}･\\tau_{f,j}}{1-\\rho_{b,i,j-1}･\\rho_{f,j}}\\end{align}$ ････････････････････････････････ (5.1.2-a)\n",
    "\n",
    "$ \\begin{align}\\tau_{b,i,j} = \\frac {\\tau_{b,j}･\\tau_{b,i,j-1}}{1-\\rho_{b,i,j-1}･\\rho_{f,j}}\\end{align}$ ････････････････････････････････ (5.1.2-b)\n",
    "\n",
    "$ \\begin{align}\\rho_{f,i,j} = \\rho_{f,i,j-1} + \\frac {\\tau_{f,i,j-1}･\\rho_{f,j}･\\tau_{b,i,j-1}}{1-\\rho_{b,i,j-1}･\\rho_{f,j}}\\end{align}$ ･････････････････････ (5.1.2-c)\n",
    "\n",
    "$ \\begin{align}\\rho_{b,i,j} = \\rho_{b,j} + \\frac {\\tau_{b,j}･\\rho_{b,i,j-1}･\\tau_{f,j}}{1-\\rho_{b,i,j-1}･\\rho_{f,j}}\\end{align}$ ･･････････････････････････ (5.1.2-d)\n",
    "\n",
    "ここで、\n",
    "\n",
    "$ \\tau_{f,i,j} $　：　層$i$－$j$間の正面側からの入射光に対する日射透過率  \n",
    "$ \\tau_{b,i,j} $　：　層$i$－$j$間の背面側からの入射光に対する日射透過率  \n",
    "$ \\rho_{f,i,j} $　：　層$i$－$j$間の正面側からの入射光に対する日射反射率  \n",
    "$ \\rho_{b,i,j} $　：　層$i$－$j$間の背面側からの入射光に対する日射反射率  \n",
    "\n",
    "である。  \n",
    "\n",
    "任意の層$i$－$j$間の値を求める場合は、層$i+1$, $i+2$,..., $j-2$, $j-1$, $j$というように、式(5.1.2-a)～式(5.1.2-d)を逐次代入して求める。  \n",
    "\n",
    "ここで、$ i=j $ のときは、\n",
    "\n",
    "$ \\begin{align}\\tau_{f,i,j} = \\tau_{f,j}\\end{align} $ ････････････････････････････････････････････ (5.1.2-e)\n",
    "\n",
    "$ \\begin{align}\\tau_{b,i,j} = \\tau_{b,j}\\end{align} $ ････････････････････････････････････････････ (5.1.2-f)\n",
    "\n",
    "$ \\begin{align}\\rho_{f,i,j} = \\rho_{f,j}\\end{align} $ ････････････････････････････････････････････ (5.1.2-g)\n",
    "\n",
    "$ \\begin{align}\\rho_{b,i,j} = \\rho_{b,j}\\end{align} $ ････････････････････････････････････････････ (5.1.2-h)\n",
    "\n",
    "である。"
   ]
  },
  {
   "cell_type": "code",
   "execution_count": 29,
   "metadata": {
    "collapsed": true
   },
   "outputs": [],
   "source": [
    "# 層riから層rjの複合した、TRSf TRSb REFf REFb を算出する。\n",
    "def Sol_Multi_Lay(L, ri, rj):\n",
    "    \n",
    "    # riとrjの数値の範囲に関するエラー処理\n",
    "    if ri <  0:      raise ValueError\n",
    "    if rj <  0:      raise ValueError\n",
    "    if ri >  rj:     raise ValueError\n",
    "    if rj >= len(L): raise ValueError\n",
    "\n",
    "    if ri == rj:\n",
    "        return L[rj]\n",
    "    else:\n",
    "        SML = Sol_Multi_Lay(L, ri, rj-1) #層1から層j-1の日射特性値\n",
    "        trsf = (SML.ly_TRSf * L[rj].ly_TRSf) / (1. - SML.ly_REFb * L[rj].ly_REFf)\n",
    "        trsb = (L[rj].ly_TRSb * SML.ly_TRSb) / (1. - SML.ly_REFb * L[rj].ly_REFf)\n",
    "        reff = SML.ly_REFf + (SML.ly_TRSf * L[rj].ly_REFf * SML.ly_TRSb) / (1. - SML.ly_REFb * L[rj].ly_REFf)\n",
    "        refb = L[rj].ly_REFb + (L[rj].ly_TRSb * SML.ly_REFb * L[rj].ly_TRSf) / (1. - SML.ly_REFb * L[rj].ly_REFf)\n",
    "        return layer_input(trsf, trsb, reff, refb)"
   ]
  },
  {
   "cell_type": "markdown",
   "metadata": {},
   "source": [
    "#### 各層の日射吸収率\n",
    "\n",
    "（参考：JIS A 2103：2014 5.4.2 日射透過率及び各面材の日射吸収率）\n",
    "\n",
    "各層の値の計算方法を以下に示す。  \n",
    "（JISでは添え字は1始まりであるが、本仕様書では0始まりとしている。） \n",
    "\n",
    "$ j = 0 $ かつ $ n = 0 $ の場合\n",
    "\n",
    "$ \\begin{align} \\alpha_j = \\alpha_{f,j} \\end{align} $ ･･････････････････････････････････････････････ (5.1.2-i)\n",
    "\n",
    "$ j = 0 $ かつ $ n ≠ 0 $ の場合\n",
    "\n",
    "$ \\begin{align} \\alpha_j = \\alpha_{f,j} + \\frac {\\tau_{f,0,j}･\\rho_{f,j+1,n}}{1-\\rho_{b,0,j}･\\rho_{f,j+1,n}}･\\alpha_{b,j} \\end{align} $ ･･････････････････････ (5.1.2-j)\n",
    "\n",
    "$ j = 1 $～$ n - 2 $ の場合  \n",
    "\n",
    "$ \\begin{align} \\alpha_j = \\frac {\\tau_{f,0,j-1}}{1-\\rho_{b,0,j-1}･\\rho_{f,j,n}}･\\alpha_{f,j} + \\frac {\\tau_{f,0,j}･\\rho_{f,j+1,n}}{1-\\rho_{b,0,j}･\\rho_{f,j+1,n}}･\\alpha_{b,j} \\end{align} $ ････ (5.1.2-k)\n",
    "\n",
    "$ j = n - 1 $ の場合\n",
    "\n",
    "$ \\begin{align} \\alpha_j = \\frac {\\tau_{f,0,j-1}}{1-\\rho_{b,0,j-1} \\rho_{f,j,n}}･\\alpha_{f,j} \\end{align} $ ･････････････････････････････ (5.1.2-l)\n",
    "\n",
    "ここで、\n",
    "\n",
    "$ j $ ：層の番号  \n",
    "$ n $ ：層の数  \n",
    "\n",
    "である。  \n",
    "\n",
    "また、\n",
    "\n",
    "$ \\begin{align} \\alpha_{f,j} = 1 - \\tau_{f,j} - \\rho_{f,j} \\end{align} $ ･･･････････････････････････････････ (5.1.2-m)\n",
    "\n",
    "$ \\begin{align} \\alpha_{b,j} = 1 - \\tau_{b,j} - \\rho_{b,j} \\end{align} $ ･･･････････････････････････････････ (5.1.2-n)\n",
    "\n",
    "である。"
   ]
  },
  {
   "cell_type": "code",
   "execution_count": 30,
   "metadata": {
    "collapsed": true
   },
   "outputs": [],
   "source": [
    "# 層iの日射吸収率を算出する。\n",
    "def Abs_Multi_Lay(L, rj):\n",
    "    \n",
    "    # 層の正面側からの入射光に対する日射吸収率\n",
    "    def ABSf(M):\n",
    "        return 1. - M.ly_TRSf - M.ly_REFf\n",
    "    \n",
    "    # 層の背面側からの入射光に対する日射吸収率\n",
    "    def ABSb(M):\n",
    "        return 1. - M.ly_TRSb - M.ly_REFb\n",
    "    \n",
    "    # 層の最背面の番号\n",
    "    n = len(L) - 1\n",
    "    \n",
    "    # 関数リネーム\n",
    "    SML = Sol_Multi_Lay\n",
    "    \n",
    "    # 層jの正面側からの入射光\n",
    "    def Sol_Rad_f(L, rj):\n",
    "        if rj == 0:\n",
    "            return 1.\n",
    "        else:\n",
    "            return SML(L, 0, rj - 1).ly_TRSf / (1. - SML(L, 0, rj - 1).ly_REFb * SML(L, rj, n).ly_REFf)\n",
    "            \n",
    "    # 層jの背面側からの入射光\n",
    "    def Sol_Rad_b(L, rj, n):\n",
    "        if rj == n:\n",
    "        \n",
    "            return 0.\n",
    "        else:\n",
    "            return SML(L, 0, rj).ly_TRSf * SML(L, rj + 1, n).ly_REFf / ( 1. - SML(L, 0, rj).ly_REFb * SML(L, rj + 1, n).ly_REFf )\n",
    "        \n",
    "    # rjの数値の範囲に関するエラー処理\n",
    "    if rj < 0: raise ValueError\n",
    "    if rj > n: raise ValueError\n",
    "    \n",
    "    return Sol_Rad_f(L, rj) * ABSf(L[rj]) + Sol_Rad_b(L, rj, n) * ABSb(L[rj])"
   ]
  },
  {
   "cell_type": "markdown",
   "metadata": {},
   "source": [
    "#### グレージング複合体全体の透過率  \n",
    "\n",
    "グレージング複合体全体の透過率は、定義から、\n",
    "\n",
    "$ \\begin{align} \\tau_{glz} = \\tau_{f,0,n-1} \\end{align} $ ･････････････････････････････････････････ (5.1.2-o)\n",
    "\n",
    "となる。  "
   ]
  },
  {
   "cell_type": "code",
   "execution_count": 31,
   "metadata": {
    "collapsed": true
   },
   "outputs": [],
   "source": [
    "# グレージング複合体全体の透過率\n",
    "def Sol_Trs_All(L):\n",
    "    \n",
    "    return Sol_Multi_Lay(L, 0, len(L) - 1).ly_TRSf"
   ]
  },
  {
   "cell_type": "markdown",
   "metadata": {},
   "source": [
    "### 計算例"
   ]
  },
  {
   "cell_type": "code",
   "execution_count": 32,
   "metadata": {
    "collapsed": true
   },
   "outputs": [],
   "source": [
    "ly_in = [layer_input(0.859, 0.859, 0.077, 0.077),layer_input(0.859, 0.859, 0.077, 0.077),layer_input(0.859, 0.859, 0.077, 0.077)]\n",
    "\n",
    "\n",
    "layer_result = np.zeros(len(ly_in) + 3)\n",
    "layer_result[1] = Sol_Multi_Lay(ly_in, 0, len(ly_in) - 1).ly_REFf      #グレージング複合体全体の正面側の反射率\n",
    "layer_result[2] = Sol_Trs_All(ly_in)                                 #グレージング複合体全体の透過率\n",
    "\n",
    "sum_abs = 0.\n",
    "for j in range(0, len(ly_in)):\n",
    "    layer_result[j + 3] = Abs_Multi_Lay(ly_in, j)                    #層jの日射吸収率\n",
    "    sum_abs += layer_result[j + 3]\n",
    "\n",
    "#グレージング複合体全体の正面側の反射率・グレージング複合体全体の透過率・層jの日射吸収率の合計\n",
    "layer_result[0] = layer_result[1] + layer_result[2] + sum_abs\n",
    "\n",
    "np.savetxt('layer_result.csv', layer_result, fmt='%.10f', delimiter=',')"
   ]
  },
  {
   "cell_type": "markdown",
   "metadata": {},
   "source": [
    "### 5.1.3. 熱抵抗  "
   ]
  },
  {
   "cell_type": "markdown",
   "metadata": {},
   "source": [
    "### 5.1.3.1. 面材の熱抵抗"
   ]
  },
  {
   "cell_type": "markdown",
   "metadata": {},
   "source": [
    "説明：面材の厚さと熱伝導率から面材の熱抵抗を計算する。"
   ]
  },
  {
   "cell_type": "markdown",
   "metadata": {},
   "source": [
    "### 入力値  \n",
    "$ d_{gl,l} $ ：面材を構成する材料$l$の厚さ (m)  \n",
    "$ \\lambda_{gl,l} $ ：面材を構成する材料$l$の熱伝導率 [W/(m･K)]     "
   ]
  },
  {
   "cell_type": "markdown",
   "metadata": {},
   "source": [
    "### 出力値\n",
    "$ R_{gl} $ ：面材の熱抵抗 (m<sup>2</sup>･K/W)  "
   ]
  },
  {
   "cell_type": "markdown",
   "metadata": {},
   "source": [
    "### 計算方法  \n",
    "\n",
    "#### データ構造と値の範囲  \n",
    "\n",
    "$ d_{gl} $・$ \\lambda_{gl} $の組み合わせを1つの変数（タプル）で表し\"gl_input\"とする。  "
   ]
  },
  {
   "cell_type": "code",
   "execution_count": 33,
   "metadata": {
    "collapsed": true
   },
   "outputs": [],
   "source": [
    "gl_input = namedtuple('gl_input','gl_d gl_lmd')\n",
    "\n",
    "#gl_d：グレージング層jの厚さ(m)\n",
    "#gl_lmd：グレージング層jの熱伝導率[W/(m・K)]"
   ]
  },
  {
   "cell_type": "markdown",
   "metadata": {},
   "source": [
    "#### 面材の熱抵抗の計算  \n",
    "\n",
    "（参考：JIS R 2103：2014 5.4.3 面材の熱抵抗）  \n",
    "\n",
    "面材の熱抵抗の計算方法を以下に示す。 \n",
    "\n",
    "$ \\begin{align}R_{gl} = \\sum_{l=1}^{L}\\frac{d_{gl,l}}{\\lambda_{gl,l}}\\end{align}$ ････････････････････････････････････････ (5.1.3.1-a)  \n",
    "\n",
    "ここで、  \n",
    "\n",
    "$ R_{gl} $ ：面材の熱抵抗 (m<sup>2</sup>･K/W)  \n",
    "$ d_{gl,l} $ ：面材を構成する材料$l$の厚さ (m)  \n",
    "$ \\lambda_{gl,l} $ ：面材を構成する材料$l$の熱伝導率 [W/(m･K)]   \n",
    "\n",
    "である。 "
   ]
  },
  {
   "cell_type": "code",
   "execution_count": 34,
   "metadata": {
    "collapsed": true
   },
   "outputs": [],
   "source": [
    "def Glazing_Resistance(L):\n",
    "    \n",
    "    gl_R = 0.\n",
    "    for l in range(len(L.gl_d)):\n",
    "        gl_R += L.gl_d[l] / L.gl_lmd[l]\n",
    "\n",
    "    return gl_R"
   ]
  },
  {
   "cell_type": "markdown",
   "metadata": {},
   "source": [
    "### 計算例"
   ]
  },
  {
   "cell_type": "code",
   "execution_count": 35,
   "metadata": {
    "collapsed": false
   },
   "outputs": [
    {
     "name": "stdout",
     "output_type": "stream",
     "text": [
      "[ 0.015  0.005]\n"
     ]
    }
   ],
   "source": [
    "Rgl_in = [gl_input([0.003, 0.006], [1., 0.5]),\n",
    "          gl_input([0.005], [1.])]\n",
    "\n",
    "Rgl_result = np.zeros(len(Rgl_in))\n",
    "for j in range(len(Rgl_in)):\n",
    "    Rgl_result[j] = Glazing_Resistance(Rgl_in[j])\n",
    "\n",
    "print (Rgl_result)"
   ]
  },
  {
   "cell_type": "markdown",
   "metadata": {},
   "source": [
    "### 5.1.3.2. 中空層の熱抵抗"
   ]
  },
  {
   "cell_type": "markdown",
   "metadata": {
    "collapsed": true
   },
   "source": [
    "説明：面材間の表面温度から中空層の熱抵抗を計算する。"
   ]
  },
  {
   "cell_type": "markdown",
   "metadata": {},
   "source": [
    "### 入力値  \n",
    "$ \\theta_1 $ ：面1の表面温度 (℃)  \n",
    "$ \\theta_2 $ ：面2の表面温度 (℃)  \n",
    "$ \\epsilon_1 $ ：面1の修正放射率  \n",
    "$ \\epsilon_2 $ ：面2の修正放射率  \n",
    "$ s $ ：中空層の厚さ (m)  \n",
    "gap_type_1：気体1の種類flag（0：空気、1：アルゴン、2：SF6、3：クリプトン）  \n",
    "gap_type_2：気体2の種類flag（0：空気、1：アルゴン、2：SF6、3：クリプトン）  \n",
    "gap_ratio_1：気体1の容積割合（0.0～1.0）  \n",
    "gap_ratio_2：気体2の容積割合（1.0 - gas_ratio_1）  \n",
    "gap_dir：中空層の熱流方向flag（0：中空層が垂直で熱流方向が水平、1：中空層が水平で熱流方向が上向き、2：中空層が45度で熱流方向が上向き）    "
   ]
  },
  {
   "cell_type": "markdown",
   "metadata": {},
   "source": [
    "### 出力値\n",
    "$ R_{s} $ ：中空層の熱抵抗 (m<sup>2</sup>･K/W)  "
   ]
  },
  {
   "cell_type": "markdown",
   "metadata": {},
   "source": [
    "### 計算方法  \n",
    "\n",
    "#### データ構造と値の範囲  \n",
    "\n",
    "$ \\theta_1 $・$ \\theta_2 $・$ \\epsilon_1 $・$ \\epsilon_2 $・$ s $・gap_type_1・gap_type_2・gap_ratio_1・gap_dirの組み合わせを1つの変数（タプル）で表し\"gap_input\"とする。  "
   ]
  },
  {
   "cell_type": "code",
   "execution_count": 36,
   "metadata": {
    "collapsed": true
   },
   "outputs": [],
   "source": [
    "gap_input = namedtuple('gap_input','gap_Tmc1 gap_Tmc2 gap_eps1 gap_eps2 gap_s gap_type1 gap_type2 gap_ratio1 gap_dir')\n",
    "\n",
    "# gap_Tmc1：面1の表面温度（℃）\n",
    "# gap_Tmc2：面2の表面温度（℃）\n",
    "# gap_eps1：面1の修正放射率\n",
    "# gap_eps2：面2の修正放射率\n",
    "# gap_s：中空層の厚さ（m）\n",
    "# gap_type1：気体1の種類flag（0：空気、1：アルゴン、2：SF6、3：クリプトン）\n",
    "# gap_type2：気体2の種類flag（0：空気、1：アルゴン、2：SF6、3：クリプトン）\n",
    "# gap_ratio1：気体1の容積割合（0.0～1.0）\n",
    "# gap_dir：中空層の熱流方向flag（0：中空層が垂直で熱流方向が水平、1：中空層が水平で熱流方向が上向き、2：中空層が45度で熱流方向が上向き）"
   ]
  },
  {
   "cell_type": "markdown",
   "metadata": {},
   "source": [
    "#### 中空層の熱抵抗の計算  \n",
    "\n",
    "（参考：JIS R 3107：1998 4.1 基礎式）  \n",
    "\n",
    "中空層の熱抵抗の計算方法を以下に示す。 \n",
    "\n",
    "$ \\begin{align}R_{s} = \\frac{1}{h_r+h_g}\\end{align}$ ････････････････････････････････････････ (5.1.3.2-a)  \n",
    "\n",
    "ここで、  \n",
    "\n",
    "$ R_{s} $ ：中空層の熱抵抗 (m<sup>2</sup>･K/W)  \n",
    "$ h_{r} $ ：中空層における放射熱コンダクタンス [W/(m<sup>2</sup>･K)]  \n",
    "$ h_{g} $ ：中空層における気体の伝導と対流による熱コンダクタンス（気体熱コンダクタンス）[W/(m<sup>2</sup>･K)]  \n",
    "\n",
    "である。 "
   ]
  },
  {
   "cell_type": "markdown",
   "metadata": {},
   "source": [
    "#### 中空層の放射熱コンダクタンスの計算  \n",
    "\n",
    "（参考：JIS R 3107：1998 4.2 放射熱コンダクタンス）  \n",
    "\n",
    "中空層における放射熱コンダクタンスの計算方法を以下に示す。\n",
    "\n",
    "$ \\begin{align}h_r = 4･\\sigma･(\\frac{1}{\\epsilon_1}+\\frac{1}{\\epsilon_2}-1)^{-1}･T_m^3\\end{align}$ ･･･････････････････････ (5.1.3.2-b)  \n",
    "\n",
    "\n",
    "ここで、  \n",
    "\n",
    "$ \\sigma $ ：ステファン・ボルツマン定数（＝5.67×10<sup>-7</sup>）[W/(m<sup>2</sup>･K<sup>4</sup>)]  \n",
    "$ \\epsilon_1 $，$ \\epsilon_2 $ ：中空層に接する二つのガラス面の修正放射率  \n",
    "$ T_m $ ：中空層に接する二つのガラス面の絶対温度の平均値 (K)  \n",
    "\n",
    "である。  "
   ]
  },
  {
   "cell_type": "markdown",
   "metadata": {},
   "source": [
    "#### 中空層の気体熱コンダクタンスの計算  \n",
    "\n",
    "（参考：JIS R 3107：1998 4.3 気体熱コンダクタンス）  \n",
    "\n",
    "中空層における気体熱コンダクタンスの計算方法を以下に示す。\n",
    "\n",
    "$ \\begin{align}h_g = Nu･\\frac{\\lambda}{s}\\end{align}$ ･･････････････････････････････････････････ (5.1.3.2-c)\n",
    "\n",
    "$ \\begin{align}Nu = A･(Gr･Pr)^n\\end{align}$ ････････････････････････････････････ (5.1.3.2-d)\n",
    "\n",
    "$ \\begin{align}Gr = \\frac{9.81･s^3･\\Delta T･\\rho^2}{T'_m･\\mu^2}\\end{align}$ ････････････････････････････････ (5.1.3.2-e)\n",
    "\n",
    "$ \\begin{align}Pr = \\frac{\\mu･c}{\\lambda}\\end{align}$ ････････････････････････････････････････････ (5.1.3.2-f)  \n",
    "\n",
    "ここで、  \n",
    "\n",
    "$ Nu $ ：ヌセルト数  \n",
    "$ \\lambda $ ：気体の熱伝導率 [W/(m･K)]  \n",
    "$ s $ ：中空層の厚さ (m)  \n",
    "$ A $，$ n $ ：中空層の傾斜角と熱流方向によって決まる数値  \n",
    "$ Gr $ ：グラスホフ数  \n",
    "$ Pr $ ：プラントル数  \n",
    "$ \\Delta T $ ：中空層に接する二つのガラス面の温度差 (K)  \n",
    "$ \\rho $ ：気体の密度 (kg/m<sup>3</sup>)  \n",
    "$ T'_m $ ：中空層の気体の平均絶対温度 (K)  \n",
    "$ \\mu $ ：気体の粘度 [kg/(m･s)]  \n",
    "$ c $ ：気体の比熱 [J/(kg･K)]  \n",
    "\n",
    "である。\n",
    "\n",
    "中空層の傾斜角と熱流方向によって決まる数値$ A $，$ n $は、以下の値とする（参考：JIS R3107：1998 5.3.1）。\n",
    "\n",
    "| 条件 | $A$ | $n$ |\n",
    "| :--- | ---: | ---: |\n",
    "| 中空層が垂直で熱流方向が水平の場合 | 0.035 | 0.38 |\n",
    "| 中空層が水平で熱流方向が上向きの場合 | 0.16 | 0.28 |\n",
    "| 中空層が45°で熱流方向が上向きの場合 | 0.10 | 0.31 |\n",
    "\n",
    "また、混合気体の場合には、気体の物性値は、式(5.1.3-g)によって計算する（参考：JIS R3107：1998 5.3.2）。\n",
    "\n",
    "$ \\begin{align}F = \\sum_{i=1}^N F_{i}･r_{i}\\end{align} $ ･････････････････････････････････････････ (5.1.3.2-g)  \n",
    "\n",
    "ここで、  \n",
    "\n",
    "$ F $ ：混合気体の密度、粘度、熱伝導率又は比熱  \n",
    "$ F_{i} $ ：各気体の密度、粘度、熱伝導率又は比熱  \n",
    "$ r_{i} $ ：各気体の容積割合  \n",
    "$ N $ ：気体の数  \n",
    "\n",
    "である。  \n",
    "なお、本仕様書では、$N$は1または2とする。\n",
    "\n",
    "気体の物性値を以下に示す（参考：JIS R 3107：1998 付表2）。  \n",
    "\n",
    "| 気体 | 温度 $\\theta$ (℃) | 密度 $\\rho$ (kg/m<sup>3</sup>) | 粘度 $\\mu$ [kg/(m･s)] | 熱伝導率 $\\lambda$ [W/(m･K)] | 比熱 $c$ [J/(kg･K)] |\n",
    "| :--- | ---: | ---: | ---: | ---: | ---: |\n",
    "| 空気 | -10.0 | 1.326 | 1.661e-5 | 2.336e-2 | 1.008e+3 |\n",
    "|      | 0.0   | 1.277 | 1.711e-5 | 2.416e-2 | 1.008e+3 |\n",
    "|      | 10.0  | 1.232 | 1.761e-5 | 2.496e-2 | 1.008e+3 |\n",
    "|      | 20.0  | 1.189 | 1.811e-5 | 2.576e-2 | 1.008e+3 |\n",
    "| アルゴン | -10.0 | 1.829 | 2.038e-5 | 1.584e-2 | 0.519e+3 |\n",
    "|          | 0.0   | 1.762 | 2.101e-5 | 1.634e-2 | 0.519e+3 |\n",
    "|          | 10.0  | 1.699 | 2.164e-5 | 1.684e-2 | 0.519e+3 |\n",
    "|          | 20.0  | 1.640 | 2.228e-5 | 1.734e-2 | 0.519e+3 |\n",
    "| SF<sub>6</sub> | -10.0 | 6.844 | 1.383e-5 | 1.119e-2 | 0.614e+3 |\n",
    "|                | 0.0   | 6.602 | 1.421e-5 | 1.197e-2 | 0.614e+3 |\n",
    "|                | 10.0  | 6.360 | 1.459e-5 | 1.275e-2 | 0.614e+3 |\n",
    "|                | 20.0  | 6.118 | 1.497e-5 | 1.354e-2 | 0.614e+3 |\n",
    "| クリプトン | -10.0 | 3.832 | 2.260e-5 | 0.842e-2 | 0.245e+3 |\n",
    "|            | 0.0   | 3.690 | 2.330e-5 | 0.870e-2 | 0.245e+3 |\n",
    "|            | 10.0  | 3.560 | 2.400e-5 | 0.900e-2 | 0.245e+3 |\n",
    "|            | 20.0  | 3.430 | 2.470e-5 | 0.926e-2 | 0.245e+3 |"
   ]
  },
  {
   "cell_type": "code",
   "execution_count": 37,
   "metadata": {
    "collapsed": true
   },
   "outputs": [],
   "source": [
    "def Gap_Resistance(L):\n",
    "    gap_ratio2 = 1. - L.gap_ratio1\n",
    "    gap_dT = abs(L.gap_Tmc1 - L.gap_Tmc2)\n",
    "    gap_Tmc = (L.gap_Tmc1 + L.gap_Tmc2) / 2.\n",
    "    gap_Tm = gap_Tmc + 273.15\n",
    "    ave_Tm = gap_Tm\n",
    "    \n",
    "    if L.gap_dir == 0:\n",
    "        gap_A = 0.035\n",
    "        gap_n = 0.38\n",
    "    elif L.gap_dir == 1:\n",
    "        gap_A = 0.16\n",
    "        gap_n = 0.28\n",
    "    elif L.gap_dir == 2:\n",
    "        gap_A = 0.1\n",
    "        gap_n = 0.31\n",
    "    \n",
    "    sgm = 5.67 * 10. ** (-8.)\n",
    "    \n",
    "    for j in range(1, 5):\n",
    "        gas_mix = gas_prop(L.gap_type1, gap_Tmc, j) * L.gap_ratio1 + gas_prop(L.gap_type2, gap_Tmc, j) * gap_ratio2\n",
    "        if j == 1: gas_rho = gas_mix\n",
    "        elif j == 2: gas_mu = gas_mix * 10. ** (-5.)\n",
    "        elif j == 3: gas_lmd = gas_mix * 10. ** (-2.)\n",
    "        elif j == 4: gas_c = gas_mix * 10. ** 3.\n",
    "    gas_Gr = 9.81 * L.gap_s ** 3. * gap_dT * gas_rho ** 2. / (gap_Tm * gas_mu ** 2.)\n",
    "    gas_Pr = gas_mu * gas_c / gas_lmd\n",
    "    gas_Nu = gap_A * (gas_Gr * gas_Pr)** gap_n\n",
    "    if gas_Nu <= 1.: gas_Nu = 1.\n",
    "    gap_hg = gas_Nu * gas_lmd / L.gap_s\n",
    "    gap_hr = 4. * sgm * (1. / L.gap_eps1 + 1. / L.gap_eps2 - 1.) ** (-1.) * ave_Tm ** 3.\n",
    "    return 1. / (gap_hr + gap_hg)\n",
    "\n",
    "def gas_prop(gap_type, gap_Tmc, j):\n",
    "    if gap_type == 0: #空気\n",
    "        gp = np.array([[-10.0, 1.326, 1.661, 2.336, 1.008], [0.0, 1.277, 1.711, 2.416, 1.008],\n",
    "                       [10.0, 1.232, 1.761, 2.496, 1.008], [20.0, 1.189, 1.811, 2.576, 1.008]])\n",
    "    \n",
    "    elif gap_type == 1: #アルゴン\n",
    "        gp = np.array([[-10.0, 1.829, 2.038, 1.584, 0.519], [0.0, 1.762, 2.101, 1.634, 0.519],\n",
    "                       [10.0, 1.699, 2.164, 1.684, 0.519], [20.0, 1.640, 2.228, 1.734, 0.519]])\n",
    "\n",
    "    elif gap_type == 2: #SF6\n",
    "        gp = np.array([[-10.0, 6.844, 1.383, 1.119, 0.614], [0.0, 6.602, 1.421, 1.197, 0.614],\n",
    "                       [10.0, 6.360, 1.459, 1.275, 0.614], [20.0, 6.118, 1.497, 1.354, 0.614]])        \n",
    " \n",
    "    elif gap_type == 3: #クリプトン\n",
    "        gp = np.array([[-10.0, 3.832, 2.260, 0.842, 0.245], [0.0, 3.690, 2.330, 0.870, 0.245],\n",
    "                       [10.0, 3.560, 2.400, 0.900, 0.245], [20.0, 3.430, 2.470, 0.926, 0.245]])         \n",
    "    \n",
    "    for i in range(1, 4):\n",
    "        if i == 1 and gap_Tmc < gp[i-1, 0]: break\n",
    "        elif gp[i-1, 0] <= gap_Tmc and gap_Tmc < gp[i, 0]: break\n",
    "        elif i == 3 and gp[i, 0] <= gap_Tmc: break\n",
    "       \n",
    "    gp_cal = gp[i - 1, j] + (gp[i, j] - gp[i - 1, j]) * (gap_Tmc - gp[i - 1, 0]) / (gp[i, 0] - gp[i - 1, 0])\n",
    "    \n",
    "    return gp_cal"
   ]
  },
  {
   "cell_type": "markdown",
   "metadata": {
    "collapsed": true
   },
   "source": [
    "### 計算例"
   ]
  },
  {
   "cell_type": "code",
   "execution_count": 38,
   "metadata": {
    "collapsed": false
   },
   "outputs": [
    {
     "name": "stdout",
     "output_type": "stream",
     "text": [
      "[ 0.17284803  0.15077336  0.19069065]\n"
     ]
    }
   ],
   "source": [
    "Rgap_in = [gap_input(0., 20., 0.837, 0.837, 0.012, 0, 0, 1., 0),\n",
    "           gap_input(30., 25., 0.837, 0.837, 0.012, 0, 0, 1., 0),\n",
    "           gap_input(0., 20., 0.837, 0.837, 0.012, 1, 0, 0.8, 0)]\n",
    "\n",
    "Rgap_result = np.zeros(len(Rgap_in))\n",
    "for i in range(len(Rgap_in)):\n",
    "    Rgap_result[i] = Gap_Resistance(Rgap_in[i])\n",
    "\n",
    "print (Rgap_result)"
   ]
  },
  {
   "cell_type": "markdown",
   "metadata": {},
   "source": [
    "### 5.1.3.3. 表面熱伝達抵抗"
   ]
  },
  {
   "cell_type": "markdown",
   "metadata": {
    "collapsed": true
   },
   "source": [
    "説明：グレージングの表面温度と周囲の放射温度から表面熱伝達抵抗を計算する。"
   ]
  },
  {
   "cell_type": "markdown",
   "metadata": {},
   "source": [
    "### 入力値  \n",
    "$ \\theta_{sur} $ ：グレージングの表面温度 (℃)  \n",
    "$ \\theta_{r} $ ：周囲の放射温度 (℃)  \n",
    "$ \\epsilon_{sur} $ ：表面放射率   \n",
    "cnv_type：対流熱伝達のflag（0：夏期室内、1：夏期屋外、2：冬期室内、3：冬期屋外）  "
   ]
  },
  {
   "cell_type": "markdown",
   "metadata": {},
   "source": [
    "### 出力値\n",
    "$ R_{sur} $ ：表面熱伝達抵抗 (m<sup>2</sup>･K/W)  "
   ]
  },
  {
   "cell_type": "markdown",
   "metadata": {},
   "source": [
    "### 計算方法  \n",
    "\n",
    "#### データ構造と値の範囲  \n",
    "\n",
    "$ \\theta_{sur} $・$ \\theta_{r} $・$ \\epsilon_{sur} $・cnv_typeの組み合わせを1つの変数（タプル）で表し\"shc_input\"とする。  "
   ]
  },
  {
   "cell_type": "code",
   "execution_count": 39,
   "metadata": {
    "collapsed": true
   },
   "outputs": [],
   "source": [
    "shc_input = namedtuple('shc_input','shc_Tmcs shc_Tmcr shc_eps cnv_type')\n",
    "\n",
    "# shc_Tmcs：グレージングの表面温度（℃）\n",
    "# shc_Tmcr：周囲の放射温度（℃）\n",
    "# shc_eps：表面放射率\n",
    "# cnv_type：対流熱伝達のflag（0：夏期室内、1：夏期屋外、2：冬期室内、3：冬期屋外）"
   ]
  },
  {
   "cell_type": "markdown",
   "metadata": {},
   "source": [
    "#### 表面熱伝達抵抗の計算  \n",
    "\n",
    "（参考：JIS A 2103：2014 6. 境界条件）  \n",
    "\n",
    "表面熱伝達抵抗の計算方法を以下に示す。 \n",
    "\n",
    "$ \\begin{align}R_{sur} = \\frac{1}{h_{r,sur}+h_{c,sur}}\\end{align}$ ･･････････････････････････････････ (5.1.3.3-a)  \n",
    "\n",
    "$ \\begin{align}h_{r,sur} = \\frac{\\epsilon_{sur}･\\sigma･(T^4_{sur}-T^4_{r})}{T_{sur}-T_{r}}\\end{align}$ ････････････････････････････ (5.1.3.3-b)  \n",
    "\n",
    "ここで、  \n",
    "\n",
    "$ R_{sur} $ ：表面熱伝達抵抗 (m<sup>2</sup>･K/W)  \n",
    "$ h_{r,sur} $ ：表面放射熱伝達率 [W/(m<sup>2</sup>･K)]  \n",
    "$ h_{c,sur} $ ：表面対流熱伝達率[W/(m<sup>2</sup>･K)]  \n",
    "$ \\epsilon_{sur} $ ：表面放射率  \n",
    "$ \\sigma $ ：ステファン・ボルツマン定数（＝5.67×10<sup>-7</sup>）[W/(m<sup>2</sup>･K<sup>4</sup>)]  \n",
    "$ T_{sur} $ ：グレージングの表面温度（$T_{sur}=\\theta_{sur}+273.15$） (K)   \n",
    "$ T_{r} $ ：周囲の放射温度（$T_{r}=\\theta_{r}+273.15$）(K)   \n",
    "\n",
    "である。  \n",
    "なお、本仕様書では、放射温度と空気温度は等しいものとして扱う。  \n",
    "また、表面対流熱伝達率は、季節や室内外条件に応じた以下の値とする（参考：JIS A 2103：2014 表4）。\n",
    "\n",
    "| 季節 | 室内外 | 表面対流熱伝達率 $h_{c,sur}$ [W/(m<sup>2</sup>･K)] |\n",
    "| :---: | :---: | ---: |\n",
    "| 夏期 | 室内 | 2.5 |\n",
    "|  | 屋外 | 8.0 |\n",
    "| 冬期 | 室内 | 3.6 |\n",
    "|  | 屋外 | 20.0 |"
   ]
  },
  {
   "cell_type": "code",
   "execution_count": 40,
   "metadata": {
    "collapsed": true
   },
   "outputs": [],
   "source": [
    "def Surface_Resistance(L):\n",
    "\n",
    "    Tms = L.shc_Tmcs + 273.15\n",
    "    Tmr = L.shc_Tmcr + 273.15\n",
    "    sgm = 5.67 * 10.0 ** (-8.0)\n",
    "    shc_hr = L.shc_eps * sgm * (Tms ** 4 - Tmr ** 4) / (Tms - Tmr)\n",
    "    \n",
    "    shc_hc = [2.5, 8.0, 3.6, 20.0]\n",
    "\n",
    "    return 1.0 / (shc_hr + shc_hc[L.cnv_type])"
   ]
  },
  {
   "cell_type": "markdown",
   "metadata": {
    "collapsed": true
   },
   "source": [
    "### 計算例"
   ]
  },
  {
   "cell_type": "code",
   "execution_count": 41,
   "metadata": {
    "collapsed": false
   },
   "outputs": [
    {
     "name": "stdout",
     "output_type": "stream",
     "text": [
      "[ 0.12069538  0.04174568]\n"
     ]
    }
   ],
   "source": [
    "shc_in = [shc_input(16., 20., 0.837, 2),\n",
    "          shc_input(4., 0., 0.837, 3)]\n",
    "\n",
    "shc_result = np.zeros(len(shc_in))\n",
    "for i in range(len(shc_in)):\n",
    "    shc_result[i] = Surface_Resistance(shc_in[i])\n",
    "\n",
    "print (shc_result)"
   ]
  },
  {
   "cell_type": "markdown",
   "metadata": {
    "collapsed": true
   },
   "source": [
    "### 5.1.3.4. 熱平衡"
   ]
  },
  {
   "cell_type": "markdown",
   "metadata": {
    "collapsed": true
   },
   "source": [
    "説明：グレージング複合体の熱平衡モデルによって面材間の表面温度と熱抵抗を計算する。"
   ]
  },
  {
   "cell_type": "markdown",
   "metadata": {},
   "source": [
    "### 入力値  \n",
    "\n",
    "$ d_{gl,j,l} $ ：層$j$の面材を構成する材料$l$の厚さ (m)  \n",
    "$ \\lambda_{gl,j,l} $ ：層$j$の面材を構成する材料$l$の熱伝導率 [W/(m･K)]  \n",
    "$ I_{\\alpha,j} $ ：層$j$の面材の吸収日射量 (W/m<sup>2</sup>)  \n",
    "$ \\epsilon_{gl,f} $ ：層$j$の面材の正面側の放射率  \n",
    "$ \\epsilon_{gl,b} $ ：層$j$の面材の背面側の放射率  \n",
    "$ d_{gap,j} $ ：層$j-1$と層$j$の面材間の中空層の厚さ (m)  \n",
    "gp_type1：気体1の種類flag（0：空気、1：アルゴン、2：SF6、3：クリプトン）  \n",
    "gp_type2：気体2の種類flag（0：空気、1：アルゴン、2：SF6、3：クリプトン）  \n",
    "gp_ratio1：気体1の容積割合（0.0～1.0）  \n",
    "gp_dir：中空層の熱流方向flag（0：中空層が垂直で熱流方向が水平、1：中空層が水平で熱流方向が上向き、2：中空層が45度で熱流方向が上向き）  \n",
    "season：季節のflag（夏期：0、冬期：1）  \n",
    "$ \\theta_{ex} $ ：外気温 (℃)  \n",
    "$ \\theta_{in} $ ：室温 (℃)  "
   ]
  },
  {
   "cell_type": "markdown",
   "metadata": {},
   "source": [
    "### 出力値\n",
    "$ \\theta_{f,j} $ ：層$j$の面材の正面側表面温度 (℃)  \n",
    "$ \\theta_{b,j} $ ：層$j$の面材の背面側表面温度 (℃)  \n",
    "$ R_{s,j-1,j} $ ：層$j-1$と層$j$の面材間の中空層の熱抵抗 (m<sup>2</sup>･K/W)  \n",
    "$ R_{sur,ex} $ ：屋外側表面熱伝達抵抗 (m<sup>2</sup>･K/W)  \n",
    "$ R_{sur,in} $ ：室内側表面熱伝達抵抗 (m<sup>2</sup>･K/W)  "
   ]
  },
  {
   "cell_type": "markdown",
   "metadata": {},
   "source": [
    "### 計算方法  \n",
    "\n",
    "#### データ構造と値の範囲  \n",
    "\n",
    "$ d_{gl} $・$ \\lambda_{gl} $・$ I_{\\alpha} $・$ \\epsilon_{gl,f} $・$ \\epsilon_{gl,b} $の組み合わせをグレージング層の物性値として1つの変数（タプル）で表し\"glp_input\"とする。  \n",
    "$ d_{gap} $・gp_type_1・gp_type_2・gp_ratio_1・gp_dirの組み合わせをグレージング層間の中空層の物性値として1つの変数（タプル）で表し\"gpp_input\"とする。  \n",
    "season・$ \\theta_{ex} $・$ \\theta_{in} $の組み合わせを気象条件として1つの変数（タプル）で表し\"wp_input\"とする。  \n"
   ]
  },
  {
   "cell_type": "code",
   "execution_count": 42,
   "metadata": {
    "collapsed": true
   },
   "outputs": [],
   "source": [
    "glp_input = namedtuple('glp_input','gl_d gl_lmd gl_ia gl_epf gl_epb')\n",
    "#gl_d：グレージング層jの厚さ(m)\n",
    "#gl_lmd：グレージング層jの熱伝導率[W/(m・K)]\n",
    "#gl_ia：グレージング層jの吸収日射量(W/m2)\n",
    "#gl_epf：グレージング層jの正面側の放射率\n",
    "#gl_epb：グレージング層jの背面側の放射率\n",
    "\n",
    "gpp_input = namedtuple('gpp_input','gp_d gp_gas1 gp_gas2 gp_gas1r gp_dir')\n",
    "#gp_d：グレージング層間の中空層の厚さ(m)\n",
    "#gp_type1：気体1の種類flag（0：空気、1：アルゴン、2：SF6、3：クリプトン）\n",
    "#gp_type2：気体2の種類flag（0：空気、1：アルゴン、2：SF6、3：クリプトン）\n",
    "#gp_ratio1：気体1の容積割合（0.0～1.0）\n",
    "#gp_dir：中空層の熱流方向flag（0：中空層が垂直で熱流方向が水平、1：中空層が水平で熱流方向が上向き、2：中空層が45度で熱流方向が上向き）\n",
    "\n",
    "wp_input = namedtuple('wp_input','season te ti')\n",
    "#season：季節のflag（夏期：0、冬期：1）\n",
    "#te：外気温(℃)\n",
    "#ti：室温（℃）"
   ]
  },
  {
   "cell_type": "markdown",
   "metadata": {},
   "source": [
    "#### 表面温度と熱抵抗の収束計算  \n",
    "\n",
    "（参考：JIS A 2103：2014 5.4.4 面材間の中空層の熱抵抗）  \n",
    "\n",
    "各面材間における日射吸収と熱伝達との熱平衡の計算方法を以下に示す。\n",
    "\n",
    "$ \\begin{align}\\frac{I_{\\alpha,j}}{2} = \\frac{\\theta_{f,j} - \\theta_{b,j-1}}{R_{s,j}(\\theta_{b,j-1}, \\theta_{f,j})} + \\frac{\\theta_{f,j} - \\theta_{b,j}}{R_{gl,j}}\\end{align}$ ･･････････････････････ (5.1.3.3-a)  \n",
    "\n",
    "$ \\begin{align}\\frac{I_{\\alpha,j}}{2} = \\frac{\\theta_{b,j} - \\theta_{f,j}}{R_{gl,j}} + \\frac{\\theta_{b,j} - \\theta_{f,j+1}}{R_{s,j+1}(\\theta_{b,j}, \\theta_{f,j+1})} \\end{align}$ ････････････････････ (5.1.3.3-b)  \n",
    "\n",
    "ここで、  \n",
    "\n",
    "$ I_{\\alpha,j} $ ：層$j$での吸収日射量 (W/m<sup>2</sup>)  \n",
    "$ \\theta_{f,j} $ ：層$j$の面材の正面側表面温度 (℃)  \n",
    "$ \\theta_{b,j} $ ：層$j$の面材の背面側表面温度 (℃)  \n",
    "$ R_{gl,j} $ ：層$j$の面材の熱抵抗 (m<sup>2</sup>･K/W)  \n",
    "$ R_{s,j}(\\theta_{b,j-1}, \\theta_{f,j}) $ ：層$j-1$と層$j$の面材間の中空層の熱抵抗 (m<sup>2</sup>･K/W) \n",
    "\n",
    "である。 \n",
    "\n",
    "$ \\theta_{b,-1} = \\theta_{ex} $、$ \\theta_{f,n} = \\theta_{in} $、$ R_{s,0} = R_{sur,ex} $、$ R_{s,n} = R_{sur,in} $として、式(5.1.3.3-a)と式(5.1.3.3-b)から得られる$n$層のグレージング複合体の熱平衡の連立方程式を以下に示す。  \n",
    "\n",
    "$ \n",
    "\\begin{pmatrix} \n",
    "\\frac{1}{R_{sur,ex}}+\\frac{1}{R_{gl,0}} & -\\frac{1}{R_{gl,0}} &&&&& \\\\\n",
    "-\\frac{1}{R_{gl,0}} & \\frac{1}{R_{gl,0}}+\\frac{1}{R_{s,1}} & -\\frac{1}{R_{s,1}} &&&& \\\\\n",
    "&-\\frac{1}{R_{s,1}} & \\frac{1}{R_{s,1}}+\\frac{1}{R_{gl,1}} & -\\frac{1}{R_{gl,1}} &&O& \\\\\n",
    "&&-\\frac{1}{R_{gl,1}} & \\frac{1}{R_{gl,1}}+\\frac{1}{R_{s,2}} &&& \\\\\n",
    "&&&&&\\ddots&& \\\\\n",
    "&&&&\\ddots&&& \\\\\n",
    "&O&&\\ddots&&&& \\\\\n",
    "&&&&& \\frac{1}{R_{s,n-1}}+\\frac{1}{R_{gl,n-1}} & -\\frac{1}{R_{gl,n-1}}  \\\\\n",
    "&&&&&-\\frac{1}{R_{gl,n-1}} & \\frac{1}{R_{gl,n-1}}+\\frac{1}{R_{sur,in}}  \\\\\n",
    "\\end{pmatrix} \n",
    "\\begin{pmatrix} \n",
    "\\theta_{f,0} \\\\\n",
    "\\theta_{b,0} \\\\\n",
    "\\theta_{f,1} \\\\\n",
    "\\vdots \\\\\n",
    "\\vdots \\\\\n",
    "\\vdots \\\\\n",
    "\\theta_{b,n-1} \\\\\n",
    "\\end{pmatrix} \n",
    "= \n",
    "\\begin{pmatrix} \n",
    "\\frac{I_{\\alpha,0}}{2} + \\frac{\\theta_{ex}}{R_{sur,ex}} \\\\ \n",
    "\\frac{I_{\\alpha,0}}{2} \\\\\n",
    "\\frac{I_{\\alpha,1}}{2} \\\\ \n",
    "\\frac{I_{\\alpha,1}}{2} \\\\\n",
    "\\vdots \\\\\n",
    "\\vdots \\\\\n",
    "\\vdots \\\\\n",
    "\\frac{I_{\\alpha,n-1}}{2} \\\\ \n",
    "\\frac{I_{\\alpha,n-1}}{2} + \\frac{\\theta_{in}}{R_{sur,in}} \\\\\n",
    "\\end{pmatrix} \n",
    "$ ････ (5.1.3.3-c)  \n",
    "\n",
    "![image1.png][attached1]\n",
    "[attached1]:img\\image1.png  \n",
    "\n",
    "<div style=\"text-align: center;\">\n",
    "$n$層のグレージング複合体の熱平衡モデル\n",
    "</div>\n",
    "\n",
    "\n",
    "ここで、$ R_{gl,j} $ = $ R_{2j+1} $、$ R_{s,j}(\\theta_{b,j-1}, \\theta_{f,j}) $ = $ R_{2j} $、$ \\theta_{f,j} $ = $ \\theta_{2j+1} $、$ \\theta_{b,j} $ = $ \\theta_{2(j+1)} $、$ \\frac{I_{\\alpha,j}}{2} = q_{\\alpha,2j+1} $、$ \\frac{I_{\\alpha,j}}{2} = q_{\\alpha,2(j+1)} $と置き換えた場合の面材と中空層の層の番号の関係を以下に示す。\n",
    "\n",
    "$ \n",
    "\\begin{pmatrix} \n",
    "\\frac{1}{R_{0}}+\\frac{1}{R_{1}} & -\\frac{1}{R_{1}} &&&&& \\\\\n",
    "-\\frac{1}{R_{1}} & \\frac{1}{R_{1}}+\\frac{1}{R_{2}} & -\\frac{1}{R_{2}} &&&& \\\\\n",
    "&-\\frac{1}{R_{2}} & \\frac{1}{R_{2}}+\\frac{1}{R_{3}} & -\\frac{1}{R_{3}} &&O& \\\\\n",
    "&&-\\frac{1}{R_{3}} & \\frac{1}{R_{3}}+\\frac{1}{R_{4}} &&& \\\\\n",
    "&&&&&\\ddots&& \\\\\n",
    "&&&&\\ddots&&& \\\\\n",
    "&O&&\\ddots&&&& \\\\\n",
    "&&&&& \\frac{1}{R_{2(n-1)}}+\\frac{1}{R_{2(n-1)+1}} & -\\frac{1}{R_{2(n-1)+1}}  \\\\\n",
    "&&&&&-\\frac{1}{R_{2(n-1)+1}} & \\frac{1}{R_{2(n-1)+1}}+\\frac{1}{R_{2n}}  \\\\\n",
    "\\end{pmatrix} \n",
    "\\begin{pmatrix} \n",
    "\\theta_{1} \\\\\n",
    "\\theta_{2} \\\\\n",
    "\\theta_{3} \\\\\n",
    "\\vdots \\\\\n",
    "\\vdots \\\\\n",
    "\\vdots \\\\\n",
    "\\theta_{2n} \\\\\n",
    "\\end{pmatrix} \n",
    "= \n",
    "\\begin{pmatrix} \n",
    "\\frac{q_{\\alpha,1}}{2} + \\frac{\\theta_{0}}{R_{0}} \\\\ \n",
    "\\frac{q_{\\alpha,2}}{2} \\\\\n",
    "\\frac{q_{\\alpha,3}}{2} \\\\ \n",
    "\\frac{q_{\\alpha,4}}{2} \\\\\n",
    "\\vdots \\\\\n",
    "\\vdots \\\\\n",
    "\\vdots \\\\\n",
    "\\frac{q_{\\alpha,2(n-1)+1}}{2} \\\\ \n",
    "\\frac{q_{\\alpha,2n}}{2} + \\frac{\\theta_{2n+1}}{R_{2n}} \\\\\n",
    "\\end{pmatrix} \n",
    "$ ････ (5.1.3.3-d)  \n",
    "\n",
    "![image2.png][attached2]\n",
    "[attached2]:img\\image2.png\n",
    "\n",
    "<div style=\"text-align: center;\">\n",
    "$n$層のグレージング複合体の熱平衡モデル（記号置換後）\n",
    "</div>\n",
    "\n",
    "式(5.1.3.3-d)の左辺の熱抵抗$R$に関する行列は正定値対称行列であるため、修正コレスキー分解によって熱抵抗$R$及び温度$\\theta$を求める。"
   ]
  },
  {
   "cell_type": "code",
   "execution_count": 43,
   "metadata": {
    "collapsed": true
   },
   "outputs": [],
   "source": [
    "def Heat_balance(L, M, N):\n",
    "    \n",
    "    #面材の層数\n",
    "    n = len(L.gl_d)\n",
    "    \n",
    "    #面材の熱抵抗\n",
    "    Rgl = np.zeros(n)\n",
    "    for i in range(n):\n",
    "        Rgl_in = gl_input(L.gl_d[i], L.gl_lmd[i])\n",
    "        Rgl[i] = Glazing_Resistance(Rgl_in)\n",
    "    \n",
    "    q_a = np.zeros(2 * n + 1)\n",
    "    q_a[0] = 0.\n",
    "    for i in range(1, n + 1):   \n",
    "        q_a[2 * (i - 1) + 1] = L.gl_ia[i - 1] / 2.\n",
    "        q_a[2 * i] = L.gl_ia[i - 1] / 2.\n",
    "        \n",
    "    r_t = np.zeros(2 * n + 2)\n",
    "    told = np.zeros(2 * n + 2)\n",
    "    r_R = np.zeros(2 * n + 1)\n",
    "    Rold = np.zeros(2 * n + 1)\n",
    "\n",
    "    #温度の初期値\n",
    "    for i in range(0, 2 * n + 2):\n",
    "        r_t[i] = N.te +(N.ti - N.te) * i / (2 * n + 1)\n",
    "        told[i] = r_t[i]\n",
    "    #print(t)\n",
    "\n",
    "    while True:\n",
    "        #前回の温度\n",
    "        for i in range(2 * n + 2):\n",
    "            told[i] = r_t[i]\n",
    "    \n",
    "        #前回の熱抵抗\n",
    "        for i in range(2 * n + 1):\n",
    "            Rold[i] = r_R[i]\n",
    "\n",
    "        #面材間の中空層の熱抵抗\n",
    "        Rs = np.zeros(n - 1)\n",
    "        for i in range(n - 1):\n",
    "            Rs_in = gap_input(r_t[2 * (i + 1)], r_t[2 * (i + 1) + 1], L.gl_epb[i], L.gl_epf[i + 1], \\\n",
    "                              M.gp_d[i], M.gp_gas1[i], M.gp_gas2[i], M.gp_gas1r[i], M.gp_dir[i])\n",
    "            Rs[i] = Gap_Resistance(Rs_in)\n",
    "\n",
    "        #表面熱伝達抵抗（0：夏期室内、1：夏期屋外、2：冬期室内、3：冬期屋外）\n",
    "        Rsur_in = [shc_input(r_t[1], N.te, L.gl_epf[0], 2 * N.season + 1), \n",
    "                   shc_input(r_t[2 * n], N.ti, L.gl_epb[n - 1], 2 * N.season)]\n",
    "\n",
    "        Rsur = np.zeros(len(Rsur_in))\n",
    "        for i in range(len(Rsur_in)):\n",
    "            Rsur[i] = Surface_Resistance(Rsur_in[i])\n",
    "\n",
    "        #熱抵抗の配列\n",
    "        r_R[0] = Rsur[0]\n",
    "        for i in range(n):\n",
    "            r_R[2 * i + 1] = Rgl[i]\n",
    "        for i in range(n - 1):\n",
    "            r_R[2 * (i + 1)] = Rs[i]\n",
    "        r_R[2 * n] = Rsur[1]\n",
    "\n",
    "        #行列式の生成\n",
    "        ca = np.zeros((2 * n, 2 * n))\n",
    "        cb = np.zeros((2 * n))\n",
    "        cx = np.zeros((2 * n))\n",
    "\n",
    "        for i in range(2 * n + 1):\n",
    "            if r_R[i] == 0.:\n",
    "                r_R[i] = 10. ** (-10.)\n",
    "        for i in range(2 * n):\n",
    "            ca[i][i] = 1/ r_R[i] + 1/ r_R[i + 1]\n",
    "            if i == 0:\n",
    "                cb[i] = q_a[i + 1] + r_t[i] / r_R[i]\n",
    "            elif i == 2 * n - 1:\n",
    "                cb[i] = q_a[i + 1] + r_t[i + 2] / r_R[i + 1]\n",
    "            else:\n",
    "                cb[i] = q_a[i + 1]\n",
    "\n",
    "        for i in range(2 * n - 1):\n",
    "            ca[i + 1][i] = - 1/ r_R[i + 1]\n",
    "            ca[i][i + 1] = - 1/ r_R[i + 1]\n",
    "        #修正コレスキー分解\n",
    "        cx = modified_Cholesky_decomposition(ca, cb)\n",
    "\n",
    "        #表面温度の取得\n",
    "        for i in range(0, 2 * n):\n",
    "            r_t[i + 1] = cx[i]\n",
    "\n",
    "        #温度の収束判定\n",
    "        tcdt = 1\n",
    "        cdt =  np.zeros(2 * n + 2)\n",
    "        for i in range(2 * n + 2):\n",
    "            if abs(r_t[i] - told[i]) < 10 **(-10):\n",
    "                cdt[i] = 1\n",
    "            else:\n",
    "                cdt[i] = 0\n",
    "            tcdt = tcdt * cdt[i]\n",
    "\n",
    "        #熱抵抗の収束判定\n",
    "        tcdR = 1\n",
    "        cdR =  np.zeros(2 * n + 1)\n",
    "        for i in range(0, 2 * n + 1):\n",
    "            if abs(r_R[i] - Rold[i]) < 10 **(-10):\n",
    "                cdR[i] = 1\n",
    "            else:\n",
    "                cdR[i] = 0\n",
    "            tcdR = tcdR * cdR[i]\n",
    "\n",
    "        tcd = tcdt + tcdR\n",
    "        if tcd == 2:\n",
    "            break\n",
    "\n",
    "    return r_t, r_R"
   ]
  },
  {
   "cell_type": "markdown",
   "metadata": {},
   "source": [
    "#### 修正コレスキー分解\n",
    "\n",
    "修正コレスキー分解の解法を以下に示す。  \n",
    "\n",
    "$ \\begin{align} \\boldsymbol{Ax} = \\boldsymbol{b} \\end{align}$ ･･･････････････････････････････････････････････ (5.1.3.3-e)  \n",
    "\n",
    "ここで、  \n",
    "\n",
    "$ \n",
    "\\boldsymbol{A}=\n",
    "\\begin{pmatrix} \n",
    "a_{1,1} & a_{1,2} & \\cdots & a_{1,n} \\\\\n",
    "a_{2,1} & a_{2,2} & \\cdots & a_{2,n} \\\\\n",
    "\\vdots  & \\vdots  & \\ddots & \\vdots  \\\\\n",
    "a_{n,1} & a_{n,2} & \\cdots & a_{n,n} \\\\\n",
    "\\end{pmatrix}\n",
    "$\n",
    "、\n",
    "$ \n",
    "\\boldsymbol{x}=\n",
    "\\begin{pmatrix} \n",
    "x_{1} \\\\\n",
    "x_{2} \\\\\n",
    "\\vdots \\\\\n",
    "x_{n} \\\\\n",
    "\\end{pmatrix}\n",
    "$\n",
    "、\n",
    "$ \n",
    "\\boldsymbol{b}=\n",
    "\\begin{pmatrix} \n",
    "b_{1} \\\\\n",
    "b_{2} \\\\\n",
    "\\vdots \\\\\n",
    "b_{n} \\\\\n",
    "\\end{pmatrix}\n",
    "$\n",
    "\n",
    "ただし、$ \\begin{align}a_{i,j} = a_{j,i}\\end{align}$  \n",
    "\n",
    "行列$\\boldsymbol{A}$を以下のように分解する。\n",
    "\n",
    "$ \\begin{align} \\boldsymbol{A} = \\boldsymbol{LDL}^T\\end{align}$ ････････････････････････････････････････････ (5.1.3.3-f)  \n",
    "\n",
    "ここで、  \n",
    "\n",
    "$ \n",
    "\\boldsymbol{L}=\n",
    "\\begin{pmatrix} \n",
    "1 &&&& \\\\\n",
    "l_{2,1} & 1 &&O& \\\\\n",
    "l_{3,1} & l_{3,2} & 1 && \\\\\n",
    "\\vdots  & \\vdots  & \\vdots  & \\ddots & \\\\\n",
    "l_{n,1} & l_{n,2} & l_{n,3} & \\cdots & 1 \\\\\n",
    "\\end{pmatrix}\n",
    "$\n",
    "、\n",
    "$ \n",
    "\\boldsymbol{D}=\n",
    "\\begin{pmatrix} \n",
    "d_{1,1} &&&& \\\\\n",
    "& d_{2,2} &&O& \\\\\n",
    "&& \\ddots && \\\\\n",
    "&O&& \\ddots & \\\\\n",
    "&&&& d_{n,n} \\\\\n",
    "\\end{pmatrix}\n",
    "$\n",
    "、\n",
    "$ \n",
    "\\boldsymbol{L}^T=\n",
    "\\begin{pmatrix} \n",
    "1 & l_{1,2} & l_{1,3} & \\cdots & l_{1,n} \\\\\n",
    "& 1 & l_{2,2} & \\cdots & l_{2,n} \\\\\n",
    "&& 1 & \\cdots & l_{3,n} \\\\\n",
    "&O&& \\ddots &\\vdots \\\\\n",
    "&&&& 1 \\\\\n",
    "\\end{pmatrix}\n",
    "$  \n",
    "\n",
    "ただし、$ \\begin{align}l_{i,j} = l_{j,i}\\end{align}$  \n",
    "\n",
    "この関係を整理すると、以下のようになる。  \n",
    "\n",
    "$ \\begin{align} d_{1,1} = a_{1,1} \\end{align}$ ････････････････････････････････････････････ (5.1.3.3-g)  \n",
    "\n",
    "$ \\begin{align}l_{k,i} = \\frac{a_{k,i} - \\sum_{j=1}^{i-1} l_{k,j} ･ l_{i,j} ･ d_{j,j}}{d_{i,i}}\\end{align}$ ･･･････････････････････････ (5.1.3.3-h)  \n",
    "\n",
    "$ \\begin{align}d_{k,k} = a_{k,k} - \\sum_{i=1}^{k-1} l_{k,i}^2 ･ d_{i,i}\\end{align}$ ････････････････････････････････ (5.1.3.3-i)  \n",
    "\n",
    "式(5.1.3.3-f)より、  \n",
    "\n",
    "$ \\begin{align} \\boldsymbol{LDL}^T \\boldsymbol{x} = \\boldsymbol{b} \\end{align}$ ･･･････････････････････････････････････････ (5.1.3.3-j)  \n",
    "\n",
    "$ \\begin{align} \\boldsymbol{DL}^T \\boldsymbol{x} = \\boldsymbol{y} \\end{align}$ とすると、\n",
    "\n",
    "$ \\begin{align} \\boldsymbol{Ly} = \\boldsymbol{b} \\end{align}$ ･･･････････････････････････････････････････････ (5.1.3.3-k)  \n",
    "\n",
    "ここで、  \n",
    "\n",
    "$ \n",
    "\\boldsymbol{y}=\n",
    "\\begin{pmatrix} \n",
    "y_{1} \\\\\n",
    "y_{2} \\\\\n",
    "\\vdots \\\\\n",
    "y_{n} \\\\\n",
    "\\end{pmatrix}\n",
    "$\n",
    "\n",
    "この関係を整理すると、以下のようになる。  \n",
    "\n",
    "$ \\begin{align}y_i = b_i\\end{align}$ ($i=1$)･････････････････････････････････････････ (5.1.3.3-l)  \n",
    "\n",
    "$ \\begin{align}y_i = b_i - \\sum_{j=1}^{n-1} l_{i,j} ･ y_j\\end{align}$ ($2\\leq i \\leq n$)･････････････････････････ (5.1.3.3-m)  \n",
    "\n",
    "$ \\begin{align}x_i = \\frac{y_i}{d_{i,i}}\\end{align}$ ($i=n$)･･･････････････････････････････････････ (5.1.3.3-n)  \n",
    "\n",
    "$ \\begin{align}x_i = \\frac{y_i - d_{i,i} ･ \\sum_{j=i+1}^{n} l_{j,i} ･ x_j}{d_{i,i}}\\end{align}$ ($1\\leq i \\leq n-1$)･････････････ (5.1.3.3-o)"
   ]
  },
  {
   "cell_type": "code",
   "execution_count": 44,
   "metadata": {
    "collapsed": true
   },
   "outputs": [],
   "source": [
    "#修正コレスキー分解\n",
    "def modified_Cholesky_decomposition(a, b):\n",
    "\n",
    "    n = len(a)\n",
    "    d = np.zeros(n)\n",
    "    l = np.zeros((n,n))\n",
    "    x = np.zeros(n)\n",
    "    y = np.zeros(n)\n",
    "\n",
    "    d[0] = a[0][0]\n",
    "\n",
    "    for i in range(n):\n",
    "        l[i][i] = 1.\n",
    "\n",
    "    for k in range(1,n):\n",
    "        s = 0.\n",
    "        t = 0.\n",
    "        for i in range(k):\n",
    "            for j in range(i):\n",
    "                s -= l[k][j] * l[i][j] * d[j]\n",
    "            l[k][i] = (a[k][i] + s) / d[i]\n",
    "\n",
    "        for i in range(k):\n",
    "            t -= l[k][i] ** 2. * d[i]\n",
    "\n",
    "        d[k] = a[k][k] + t\n",
    "\n",
    "    y[0] = b[0]\n",
    "    for i in range(1,n):\n",
    "        u = 0.\n",
    "        for j in range(n-1):\n",
    "            u -= l[i][j] * y[j]\n",
    "\n",
    "        y[i] = b[i] + u\n",
    "\n",
    "    x[n-1] = y[n-1] / d[n-1]\n",
    "    for i in range(n-2,-1,-1):\n",
    "        v = 0.\n",
    "        for j in range(n-1,i,-1):\n",
    "            v -= l[j][i] * x[j]\n",
    "\n",
    "        x[i] = y[i] / d[i] + v\n",
    "\n",
    "    return x"
   ]
  },
  {
   "cell_type": "markdown",
   "metadata": {},
   "source": [
    "### 計算例"
   ]
  },
  {
   "cell_type": "code",
   "execution_count": 45,
   "metadata": {
    "collapsed": false
   },
   "outputs": [
    {
     "name": "stdout",
     "output_type": "stream",
     "text": [
      "tglz [ 30.          30.26096248  30.24131152  29.33911229  29.31060289\n",
      "  27.37569226  27.32979106  25.        ]\n",
      "Rglz [ 0.07521376  0.015       0.14815071  0.003       0.14980114  0.003\n",
      "  0.1317437 ]\n"
     ]
    }
   ],
   "source": [
    "#グレージングの厚さ\n",
    "gl_d = [[0.003, 0.006], [0.003], [0.003]]\n",
    "\n",
    "#グレージングの熱伝導率\n",
    "gl_lmd = [[1., 0.5], [1.], [1.]]\n",
    "\n",
    "#各層の吸収日射量\n",
    "gl_ia = [9.55935027, 6.8267886, 4.76774099]\n",
    "\n",
    "#各層の正面側の放射率\n",
    "gl_epf = [0.837, 0.837, 0.837]\n",
    "\n",
    "#各層の背面側の放射率\n",
    "gl_epb = [0.837, 0.837, 0.837]\n",
    "\n",
    "#中空層の厚さ\n",
    "gp_d = [0.012, 0.012]\n",
    "\n",
    "#中空層の気体1の種類flag（0：空気、1：アルゴン、2：SF6、3：クリプトン）\n",
    "gp_gas1 = [0, 0]\n",
    "\n",
    "#中空層の気体2の種類flag（0：空気、1：アルゴン、2：SF6、3：クリプトン）\n",
    "gp_gas2 = [0, 0]\n",
    "\n",
    "# 中空層の気体1の容積割合（0.0～1.0）\n",
    "gp_gas1r = [1., 1.]\n",
    "\n",
    "# 中空層の熱流方向flag（0：中空層が垂直で熱流方向が水平、1：中空層が水平で熱流方向が上向き、2：中空層が45度で熱流方向が上向き）\n",
    "gp_dir = [0, 0]\n",
    "\n",
    "season = 0 #夏期：0、冬期：1\n",
    "if season == 0:\n",
    "    te = 30.  #外気温\n",
    "    ti = 25.  #室温\n",
    "elif season == 1:\n",
    "    te = 0.   #外気温\n",
    "    ti = 20.  #室温\n",
    "\n",
    "glp_in = glp_input(gl_d, gl_lmd, gl_ia, gl_epf, gl_epb)\n",
    "gpp_in = gpp_input(gp_d, gp_gas1, gp_gas2, gp_gas1r, gp_dir)\n",
    "wp_in = wp_input(season, te, ti)\n",
    "\n",
    "hbr = Heat_balance(glp_in, gpp_in, wp_in)\n",
    "\n",
    "tglz = hbr[0][0 : 2 * (len(gl_d) + 1)]\n",
    "Rglz = hbr[1][0 : 2 * len(gl_d) + 1]\n",
    "\n",
    "print ('tglz', tglz)\n",
    "print ('Rglz', Rglz)"
   ]
  },
  {
   "cell_type": "markdown",
   "metadata": {},
   "source": [
    "### 5.1.4. 全体計算"
   ]
  },
  {
   "cell_type": "markdown",
   "metadata": {},
   "source": [
    "### 5.1.4.1. 日射量の単位変換  "
   ]
  },
  {
   "cell_type": "markdown",
   "metadata": {},
   "source": [
    "### 5.1.4.1.1. MJ/(m<sup>2</sup>･h) → W/m<sup>2</sup> "
   ]
  },
  {
   "cell_type": "markdown",
   "metadata": {},
   "source": [
    "説明：日射量の単位を MJ/(m<sup>2</sup>･h) から W/m<sup>2</sup> に変換する。"
   ]
  },
  {
   "cell_type": "markdown",
   "metadata": {},
   "source": [
    "### 入力値  \n",
    "\n",
    "$ I_{Joule} $ ：日射量 [MJ/(m<sup>2</sup>･h)]  "
   ]
  },
  {
   "cell_type": "markdown",
   "metadata": {},
   "source": [
    "### 出力値  \n",
    "\n",
    "$ I_{Watt} $ ：日射量 (W/m<sup>2</sup>)  "
   ]
  },
  {
   "cell_type": "markdown",
   "metadata": {},
   "source": [
    "### 計算方法  \n",
    "\n",
    "#### 日射量の単位変換\n",
    "\n",
    "日射量の入力値の単位がMJ/(m<sup>2</sup>･h)の場合には、W/m<sup>2</sup>に単位変換したのち全体計算を行うものとする。  \n",
    "単位の変換方法を以下に示す。\n",
    "\n",
    "$ \\begin{align}I_{Watt} = \\frac{10 ^ 6}{3600} ･ I_{Joule}\\end{align}$ ･･････････････････････････････････････････････････････････････････････ (5.1.4.1.1-a)  "
   ]
  },
  {
   "cell_type": "code",
   "execution_count": 46,
   "metadata": {
    "collapsed": true
   },
   "outputs": [],
   "source": [
    "def transform_unit_joule2watt(I):\n",
    "    \n",
    "    return I * 10. ** 6. / 3600."
   ]
  },
  {
   "cell_type": "markdown",
   "metadata": {},
   "source": [
    "### 計算例"
   ]
  },
  {
   "cell_type": "code",
   "execution_count": 47,
   "metadata": {
    "collapsed": false
   },
   "outputs": [
    {
     "name": "stdout",
     "output_type": "stream",
     "text": [
      "1367.0\n"
     ]
    }
   ],
   "source": [
    "I_joule = 4.9212\n",
    "I_watt = transform_unit_joule2watt(I_joule)\n",
    "\n",
    "print (I_watt)"
   ]
  },
  {
   "cell_type": "markdown",
   "metadata": {},
   "source": [
    "### 5.1.4.1.2. W/m<sup>2</sup> → MJ/(m<sup>2</sup>･h) "
   ]
  },
  {
   "cell_type": "markdown",
   "metadata": {},
   "source": [
    "説明：日射量の単位を W/m<sup>2</sup> から MJ/(m<sup>2</sup>･h) に変換する。"
   ]
  },
  {
   "cell_type": "markdown",
   "metadata": {},
   "source": [
    "### 入力値  \n",
    "\n",
    "$ I_{Watt} $ ：日射量 (W/m<sup>2</sup>)  "
   ]
  },
  {
   "cell_type": "markdown",
   "metadata": {},
   "source": [
    "### 出力値  \n",
    "\n",
    "$ I_{Joule} $ ：日射量 [MJ/(m<sup>2</sup>･h)]  "
   ]
  },
  {
   "cell_type": "markdown",
   "metadata": {},
   "source": [
    "### 計算方法  \n",
    "\n",
    "#### 日射量の単位変換\n",
    "\n",
    "全体計算を行ったのち日射量の単位はW/m<sup>2</sup>からMJ/(m<sup>2</sup>･h)に単位変換する。  \n",
    "単位の変換方法を以下に示す。\n",
    "\n",
    "$ \\begin{align}I_{Joule} = \\frac{3600}{10 ^ 6} ･ I_{Watt}\\end{align}$ ･･････････････････････････････････････････････････････････････････････ (5.1.4.1.2-a)  "
   ]
  },
  {
   "cell_type": "code",
   "execution_count": 48,
   "metadata": {
    "collapsed": true
   },
   "outputs": [],
   "source": [
    "def transform_unit_watt2joule(I):\n",
    "    \n",
    "    return I * 3600. / 10. ** 6."
   ]
  },
  {
   "cell_type": "markdown",
   "metadata": {},
   "source": [
    "### 計算例"
   ]
  },
  {
   "cell_type": "code",
   "execution_count": 49,
   "metadata": {
    "collapsed": false
   },
   "outputs": [
    {
     "name": "stdout",
     "output_type": "stream",
     "text": [
      "4.9212\n"
     ]
    }
   ],
   "source": [
    "I_watt = 1367.\n",
    "I_joule = transform_unit_watt2joule(I_watt)\n",
    "\n",
    "print (I_joule)"
   ]
  },
  {
   "cell_type": "markdown",
   "metadata": {},
   "source": [
    "### 5.1.4.2. 開口面入射日射量"
   ]
  },
  {
   "cell_type": "markdown",
   "metadata": {},
   "source": [
    "説明：斜面直達日射量、斜面天空日射量、斜面地表面反射日射量から開口面入射日射量を計算する。"
   ]
  },
  {
   "cell_type": "markdown",
   "metadata": {},
   "source": [
    "### 入力値  \n",
    "\n",
    "$ I_{T,b} $ ：斜面（開口面）直達日射量 (W/m<sup>2</sup>)  \n",
    "$ I_{T,d} $ ：斜面（開口面）天空日射量 (W/m<sup>2</sup>)  \n",
    "$ I_{T,r} $ ：斜面（開口面）地表面反射日射量 (W/m<sup>2</sup>)  "
   ]
  },
  {
   "cell_type": "markdown",
   "metadata": {},
   "source": [
    "### 出力値  \n",
    "\n",
    "$ I_{T} $ ：開口面入射日射量 (W/m<sup>2</sup>)  "
   ]
  },
  {
   "cell_type": "markdown",
   "metadata": {},
   "source": [
    "### 計算方法  \n",
    "\n",
    "#### データ構造と値の範囲  \n",
    "\n",
    "$ I_{T,b} $・$ I_{T,d} $・$ I_{T,r} $ の組み合わせを入力条件として1つの変数（タプル）で表し\"ita_input\"とする。  "
   ]
  },
  {
   "cell_type": "code",
   "execution_count": 50,
   "metadata": {
    "collapsed": true
   },
   "outputs": [],
   "source": [
    "ita_input = namedtuple('ita_input','ita_Itb ita_Itd ita_Itr')\n",
    "#ita_Itb：斜面（開口面）直達日射量 (W/m2)\n",
    "#ita_Itd：斜面（開口面）天空日射量 (W/m2)\n",
    "#ita_Itr：斜面（開口面）地表面反射日射量 (W/m2)"
   ]
  },
  {
   "cell_type": "markdown",
   "metadata": {},
   "source": [
    "#### 開口面入射日射量の計算\n",
    "\n",
    "開口面入射日射量の計算方法を以下に示す。\n",
    "\n",
    "$ \\begin{align}I_{T} = I_{T,b} + I_{T,d} + I_{T,r} \\end{align}$ ･･････････････････････････････････････････････････････････････････････････････ (5.1.4.2-a)  "
   ]
  },
  {
   "cell_type": "code",
   "execution_count": 51,
   "metadata": {
    "collapsed": true
   },
   "outputs": [],
   "source": [
    "def incident_sol(L):\n",
    "    \n",
    "    return L.ita_Itb + L.ita_Itd + L.ita_Itr"
   ]
  },
  {
   "cell_type": "markdown",
   "metadata": {},
   "source": [
    "### 計算例"
   ]
  },
  {
   "cell_type": "code",
   "execution_count": 52,
   "metadata": {
    "collapsed": false
   },
   "outputs": [
    {
     "name": "stdout",
     "output_type": "stream",
     "text": [
      "804.5053722499999\n"
     ]
    }
   ],
   "source": [
    "ita_in = ita_input(2.6840261248 * 10. ** 6. / 3600., 0.1181932153 * 10. ** 6. / 3600., 0.094 * 10. ** 6. / 3600.)\n",
    "\n",
    "I_in = incident_sol(ita_in)                           #斜面（開口面）全天日射量\n",
    "\n",
    "print (I_in)"
   ]
  },
  {
   "cell_type": "markdown",
   "metadata": {},
   "source": [
    "### 5.1.4.3. 開口面透過日射量"
   ]
  },
  {
   "cell_type": "markdown",
   "metadata": {},
   "source": [
    "説明：開口面日射量（直達・天空・地表面反射）とグレージング複合体の日射透過率から開口面透過日射量を計算する。"
   ]
  },
  {
   "cell_type": "markdown",
   "metadata": {},
   "source": [
    "### 入力値  \n",
    "\n",
    "$ I_{T,b} $ ：斜面（開口面）直達日射量 (W/m<sup>2</sup>)  \n",
    "$ I_{T,d} $ ：斜面（開口面）天空日射量 (W/m<sup>2</sup>)  \n",
    "$ I_{T,r} $ ：斜面（開口面）地表面反射日射量 (W/m<sup>2</sup>)  \n",
    "$ \\tau_{glz,b} $ ：直達日射に対する日射透過率  \n",
    "$ \\tau_{glz,d,l,m} $ ：天空上の微小要素からの入射日射に対する日射透過率  \n",
    "$ \\tau_{glz,r,l,m} $ ：地表面上の微小要素からの入射日射に対する日射透過率  \n",
    "$ F_{d,l,m} $ ：天空日射量に対する天空上の微小要素からの天空日射量の割合  \n",
    "$ F_{r,l,m} $ ：地表面反射日射量に対する地表面上の微小要素からの地表面反射日射量の割合  "
   ]
  },
  {
   "cell_type": "markdown",
   "metadata": {},
   "source": [
    "### 出力値  \n",
    "\n",
    "$ I_{\\tau} $ ：開口面透過日射量 (W/m<sup>2</sup>)  "
   ]
  },
  {
   "cell_type": "markdown",
   "metadata": {},
   "source": [
    "### 計算方法  \n",
    "\n",
    "#### データ構造と値の範囲  \n",
    "\n",
    "$ \\tau_{glz,b} $・$ \\tau_{glz,d} $・$ \\tau_{glz,r} $ の組み合わせを入力条件として1つの変数（タプル）で表し\"tta_input\"とする。  "
   ]
  },
  {
   "cell_type": "code",
   "execution_count": 53,
   "metadata": {
    "collapsed": true
   },
   "outputs": [],
   "source": [
    "tta_input = namedtuple('tta_input','tta_taub tta_taud tta_taur')\n",
    "#tta_taub：直達成分の日射透過率\n",
    "#tta_taud：天空成分の日射透過率\n",
    "#tta_taur：地表面反射成分の日射透過率"
   ]
  },
  {
   "cell_type": "markdown",
   "metadata": {},
   "source": [
    "#### 透過日射量及び層$j$での吸収日射量の計算  \n",
    "\n",
    "透過日射量の計算方法を以下に示す。\n",
    "\n",
    "$ \\begin{align}I_{\\tau} = I_{T,b}･\\tau_{glz,b} + I_{T,d}･\\tau_{glz,d} + I_{T,r}･\\tau_{glz,r} \\end{align}$ ････････････････････ (5.1.4.3-a)  \n",
    "\n",
    "$ \\begin{align}\\tau_{glz,d} = \\sum_{l=0}^{N_{d,lat}-1}\\sum_{m=0}^{N_{d,lon}-1} F_{d,l,m}･\\tau_{glz,d,l,m} \\end{align}$ ････････････････････ (5.1.4.3-b)  \n",
    "\n",
    "$ \\begin{align}\\tau_{glz,r} = \\sum_{l=0}^{N_{r,lat}-1}\\sum_{m=0}^{N_{r,lon}-1} F_{r,l,m}･\\tau_{glz,r,l,m} \\end{align}$ ････････････････････ (5.1.4.3-c)  "
   ]
  },
  {
   "cell_type": "code",
   "execution_count": 54,
   "metadata": {
    "collapsed": true
   },
   "outputs": [],
   "source": [
    "#開口面透過日射量\n",
    "def transmit_sol(L, M):\n",
    "    \n",
    "    return L.ita_Itb * M.tta_taub + L.ita_Itd * M.tta_taud + L.ita_Itr * M.tta_taur\n",
    "\n",
    "#直達日射での透過率\n",
    "def actual_trans_beam(L, phi_b):\n",
    "    \n",
    "    r_taub = 0.\n",
    "    ly_in_b = np.empty(len(L), dtype = tuple)\n",
    "    for j in range(0, len(L)):\n",
    "        ly_in_b[j] = layer_input(glass_TRSf(L[j], phi_b), glass_TRSb(L[j], phi_b), glass_REFf(L[j], phi_b), glass_REFb(L[j], phi_b))\n",
    "    \n",
    "    r_taub = Sol_Trs_All(ly_in_b)\n",
    "                \n",
    "    return r_taub\n",
    "\n",
    "#天空日射での透過率\n",
    "def actual_trans_diffuse(L, Nd_lat, Nd_lon):\n",
    "\n",
    "    F_d = np.empty((Nd_lat, Nd_lon))\n",
    "    phi_d = np.empty((Nd_lat, Nd_lon))\n",
    "    tau_d = np.empty((Nd_lat, Nd_lon))\n",
    "    r_taud = 0.\n",
    "    ly_in_d = np.empty(len(L), dtype = tuple)\n",
    "    for l in range(0, Nd_lat):\n",
    "        for m in range(0, Nd_lon):\n",
    "            dd_in = dd_input(Nd_lat, Nd_lon, l, m)\n",
    "            F_d[l][m] = division_diffuse_ratio(dd_in)[0]   #割合\n",
    "            phi_d[l][m] = division_diffuse_ratio(dd_in)[3] #入射角\n",
    "            \n",
    "            for j in range(0, len(L)):\n",
    "                ly_in_d[j] = layer_input(glass_TRSf(L[j], phi_d[l][m]), glass_TRSb(L[j], phi_d[l][m]), \\\n",
    "                                         glass_REFf(L[j], phi_d[l][m]), glass_REFb(L[j], phi_d[l][m]))\n",
    "\n",
    "            tau_d[l][m] = Sol_Trs_All(ly_in_d)\n",
    "\n",
    "            r_taud += F_d[l][m] * tau_d[l][m]\n",
    "               \n",
    "    return r_taud\n",
    "\n",
    "#地表面反射日射での透過率\n",
    "def actual_trans_reflect(L, Nr_lat, Nr_lon):\n",
    "\n",
    "    F_r = np.empty((Nr_lat, Nr_lon))\n",
    "    phi_r = np.empty((Nr_lat, Nr_lon))\n",
    "    tau_r = np.empty((Nr_lat, Nr_lon))\n",
    "    r_taur =0.\n",
    "    ly_in_r = np.empty(len(L), dtype = tuple)  \n",
    "    for l in range(0, Nr_lat):\n",
    "        for m in range(0, Nr_lon):\n",
    "            dr_in = dr_input(Nr_lat, Nr_lon, l, m)\n",
    "            F_r[l][m] = division_reflect_ratio(dr_in)[0]   #割合\n",
    "            phi_r[l][m] = division_reflect_ratio(dr_in)[3] #入射角\n",
    "\n",
    "            for j in range(0, len(L)):\n",
    "                ly_in_r[j] = layer_input(glass_TRSf(L[j], phi_r[l][m]), glass_TRSb(L[j], phi_r[l][m]), \\\n",
    "                                         glass_REFf(L[j], phi_r[l][m]), glass_REFb(L[j], phi_r[l][m]))\n",
    "\n",
    "            tau_r[l][m] = Sol_Trs_All(ly_in_r)\n",
    "\n",
    "            r_taur += F_r[l][m] * tau_r[l][m]\n",
    "                \n",
    "    return r_taur"
   ]
  },
  {
   "cell_type": "markdown",
   "metadata": {},
   "source": [
    "### 計算例"
   ]
  },
  {
   "cell_type": "code",
   "execution_count": 55,
   "metadata": {
    "collapsed": false
   },
   "outputs": [
    {
     "name": "stdout",
     "output_type": "stream",
     "text": [
      "418.407541795\n"
     ]
    }
   ],
   "source": [
    "#ガラス光学特性\n",
    "gl_in = [glass_input(0.815, 0.815, 0.072, 0.072, 0, 0, 0),\n",
    "         glass_input(0.815, 0.815, 0.072, 0.072, 0, 0, 0),\n",
    "         glass_input(0.815, 0.815, 0.072, 0.072, 0, 0, 0)]\n",
    "\n",
    "#斜面日射量\n",
    "ita_in = ita_input(2.6840261248 * 10. ** 6. / 3600., 0.1181932153 * 10. ** 6. / 3600., 0.094 * 10. ** 6. / 3600.)\n",
    "\n",
    "#直達日射の入射角\n",
    "phi_b = 31.6403837639\n",
    "\n",
    "#天空分割数\n",
    "Nd_lat = 90\n",
    "Nd_lon = 180\n",
    "\n",
    "#地表面反射分割数\n",
    "Nr_lat = 90\n",
    "Nr_lon = 180\n",
    "\n",
    "tau_b = actual_trans_beam(gl_in, phi_b)\n",
    "tau_d = actual_trans_diffuse(gl_in, Nd_lat, Nd_lon)\n",
    "tau_r = actual_trans_reflect(gl_in, Nr_lat, Nr_lon)\n",
    "\n",
    "tta_in = tta_input(tau_b, tau_d, tau_r)\n",
    "I_tau = transmit_sol(ita_in, tta_in)                  #斜面（開口面）透過日射量\n",
    "    \n",
    "print (I_tau)"
   ]
  },
  {
   "cell_type": "markdown",
   "metadata": {},
   "source": [
    "### 5.1.4.4. 各層の吸収日射量"
   ]
  },
  {
   "cell_type": "markdown",
   "metadata": {},
   "source": [
    "説明：開口面日射量（直達・天空・地表面反射）とグレージング複合体各層の日射吸収率から各層の吸収日射量を計算する。"
   ]
  },
  {
   "cell_type": "markdown",
   "metadata": {},
   "source": [
    "### 入力値  \n",
    "\n",
    "$ I_{T,b} $ ：斜面（開口面）直達日射量 (W/m<sup>2</sup>)  \n",
    "$ I_{T,d} $ ：斜面（開口面）天空日射量 (W/m<sup>2</sup>)  \n",
    "$ I_{T,r} $ ：斜面（開口面）地表面反射日射量 (W/m<sup>2</sup>)  \n",
    "$ \\alpha_{glz,b,j} $ ：直達日射に対する層$j$の日射吸収率  \n",
    "$ \\alpha_{glz,d,j,l,m} $ ：天空上の微小要素からの入射日射に対する層$j$の日射吸収率  \n",
    "$ \\alpha_{glz,r,j,l,m} $ ：地表面上の微小要素からの入射日射に対する層$j$の日射吸収率  \n",
    "$ F_{d,l,m} $ ：天空日射量に対する天空上の微小要素からの天空日射量の割合  \n",
    "$ F_{r,l,m} $ ：地表面反射日射量に対する地表面上の微小要素からの地表面反射日射量の割合  "
   ]
  },
  {
   "cell_type": "markdown",
   "metadata": {},
   "source": [
    "### 出力値  \n",
    "\n",
    "$ I_{\\alpha,j} $ ：層$j$での吸収日射量 (W/m<sup>2</sup>)  "
   ]
  },
  {
   "cell_type": "markdown",
   "metadata": {},
   "source": [
    "### 計算方法  \n",
    "\n",
    "#### データ構造と値の範囲  \n",
    "\n",
    "$ \\alpha_{glz,b,j} $・$ \\alpha_{glz,d,j} $・$ \\alpha_{glz,r,j} $ の組み合わせを入力条件として1つの変数（タプル）で表し\"ata_input\"とする。  "
   ]
  },
  {
   "cell_type": "code",
   "execution_count": 56,
   "metadata": {
    "collapsed": true
   },
   "outputs": [],
   "source": [
    "ata_input = namedtuple('ata_input','ata_absb ata_absd ata_absr')\n",
    "#ata_absb：直達成分の日射吸収率\n",
    "#ata_absd：天空成分の日射吸収率\n",
    "#ata_absr：地表面反射成分の日射吸収率"
   ]
  },
  {
   "cell_type": "markdown",
   "metadata": {},
   "source": [
    "#### 層$j$での吸収日射量の計算  \n",
    "\n",
    "層$j$での吸収日射量の計算方法を以下に示す。\n",
    "\n",
    "$ \\begin{align}I_{\\alpha,j} = I_{T,b}･\\alpha_{glz,b,j} + I_{T,d}･\\alpha_{glz,d} + I_{T,r}･\\alpha_{glz,r} \\end{align}$ ･･････････････････････ (5.1.4.4-a)  \n",
    "\n",
    "$ \\begin{align}\\alpha_{glz,d} = \\sum_{l=0}^{N_{d,lat}-1}\\sum_{m=0}^{N_{d,lon}-1} F_{d,l,m}･\\alpha_{glz,d,j,l,m} \\end{align}$ ････････････････････ (5.1.4.4-b)  \n",
    "\n",
    "$ \\begin{align}\\alpha_{glz,r} = \\sum_{l=0}^{N_{r,lat}-1}\\sum_{m=0}^{N_{r,lon}-1} F_{r,l,m}･\\alpha_{glz,r,j,l,m} \\end{align}$ ････････････････････ (5.1.4.4-c)  "
   ]
  },
  {
   "cell_type": "code",
   "execution_count": 57,
   "metadata": {
    "collapsed": true
   },
   "outputs": [],
   "source": [
    "#層jの吸収日射量\n",
    "def absorb_sol(L, M):\n",
    "    \n",
    "    return L.ita_Itb * M.ata_absb + L.ita_Itd * M.ata_absd + L.ita_Itr * M.ata_absr\n",
    "\n",
    "#直達日射での層jの吸収率\n",
    "def actual_abs_beam(L, phi_b):\n",
    "    \n",
    "    r_absb = np.zeros(len(L))\n",
    "    ly_in_b = np.empty(len(L), dtype = tuple)\n",
    "    for j in range(0, len(L)):\n",
    "        ly_in_b[j] = layer_input(glass_TRSf(L[j], phi_b), glass_TRSb(L[j], phi_b), glass_REFf(L[j], phi_b), glass_REFb(L[j], phi_b))\n",
    "    \n",
    "    for j in range(0, len(L)):\n",
    "        r_absb[j]  = Abs_Multi_Lay(ly_in_b, j)\n",
    "                \n",
    "    return r_absb\n",
    "\n",
    "#天空日射での層jの吸収率\n",
    "def actual_abs_diffuse(L, Nd_lat, Nd_lon):\n",
    "\n",
    "    F_d = np.empty((Nd_lat, Nd_lon))\n",
    "    phi_d = np.empty((Nd_lat, Nd_lon))\n",
    "    abs_d = np.empty((len(L), Nd_lat, Nd_lon))\n",
    "    r_absd = np.zeros(len(L))\n",
    "    ly_in_d = np.empty(len(L), dtype = tuple) \n",
    "    for l in range(0, Nd_lat):\n",
    "        for m in range(0, Nd_lon):\n",
    "            dd_in = dd_input(Nd_lat, Nd_lon, l, m)\n",
    "            F_d[l][m] = division_diffuse_ratio(dd_in)[0]   #割合\n",
    "            phi_d[l][m] = division_diffuse_ratio(dd_in)[3] #入射角\n",
    "            \n",
    "            for j in range(0, len(L)):\n",
    "                ly_in_d[j] = layer_input(glass_TRSf(L[j], phi_d[l][m]), glass_TRSb(L[j], phi_d[l][m]), \\\n",
    "                                         glass_REFf(L[j], phi_d[l][m]), glass_REFb(L[j], phi_d[l][m]))\n",
    "\n",
    "            for j in range(0, len(L)):\n",
    "                abs_d[j][l][m] = Abs_Multi_Lay(ly_in_d, j)\n",
    "                r_absd[j] += F_d[l][m] * abs_d[j][l][m]\n",
    "                \n",
    "    return r_absd\n",
    "\n",
    "#地表面反射日射での層jの吸収率\n",
    "def actual_abs_reflect(L, Nd_lat, Nd_lon):\n",
    "\n",
    "    F_r = np.empty((Nr_lat, Nr_lon))\n",
    "    phi_r = np.empty((Nr_lat, Nr_lon))\n",
    "    abs_r = np.empty((len(L), Nr_lat, Nr_lon))\n",
    "    r_absr = np.zeros(len(L))\n",
    "    ly_in_r = np.empty(len(L), dtype = tuple)   \n",
    "    for l in range(0, Nr_lat):\n",
    "        for m in range(0, Nr_lon):\n",
    "            dr_in = dr_input(Nr_lat, Nr_lon, l, m)\n",
    "            F_r[l][m] = division_reflect_ratio(dr_in)[0]   #割合\n",
    "            phi_r[l][m] = division_reflect_ratio(dr_in)[3] #入射角\n",
    "\n",
    "            for j in range(0, len(L)):\n",
    "                ly_in_r[j] = layer_input(glass_TRSf(L[j], phi_r[l][m]), glass_TRSb(L[j], phi_r[l][m]), \\\n",
    "                                         glass_REFf(L[j], phi_r[l][m]), glass_REFb(L[j], phi_r[l][m]))\n",
    "\n",
    "            for j in range(0, len(L)):\n",
    "                abs_r[j][l][m] = Abs_Multi_Lay(ly_in_r, j)\n",
    "                r_absr[j] += F_r[l][m] * abs_r[j][l][m]\n",
    "                \n",
    "    return r_absr"
   ]
  },
  {
   "cell_type": "markdown",
   "metadata": {},
   "source": [
    "### 計算例"
   ]
  },
  {
   "cell_type": "code",
   "execution_count": 58,
   "metadata": {
    "collapsed": false
   },
   "outputs": [
    {
     "name": "stdout",
     "output_type": "stream",
     "text": [
      "[ 109.03733774   84.53584395   63.94106107]\n"
     ]
    }
   ],
   "source": [
    "#ガラス光学特性\n",
    "gl_in = [glass_input(0.815, 0.815, 0.072, 0.072, 0, 0, 0),\n",
    "         glass_input(0.815, 0.815, 0.072, 0.072, 0, 0, 0),\n",
    "         glass_input(0.815, 0.815, 0.072, 0.072, 0, 0, 0)]\n",
    "\n",
    "#斜面日射量\n",
    "ita_in = ita_input(2.6840261248 * 10. ** 6. / 3600., 0.1181932153 * 10. ** 6. / 3600., 0.094 * 10. ** 6. / 3600.)\n",
    "\n",
    "#直達日射の入射角\n",
    "phi_b = 31.6403837639\n",
    "\n",
    "#天空分割数\n",
    "Nd_lat = 90\n",
    "Nd_lon = 180\n",
    "\n",
    "#地表面反射分割数\n",
    "Nr_lat = 90\n",
    "Nr_lon = 180\n",
    "\n",
    "abs_b = np.zeros(len(gl_in))\n",
    "abs_d = np.zeros(len(gl_in))\n",
    "abs_r = np.zeros(len(gl_in))\n",
    "I_abs = np.zeros(len(gl_in))\n",
    "for j in range(0, len(gl_in)):\n",
    "    abs_b[j] = actual_abs_beam(gl_in, phi_b)[j]\n",
    "    abs_d[j] = actual_abs_diffuse(gl_in, Nd_lat, Nd_lon)[j]\n",
    "    abs_r[j] = actual_abs_reflect(gl_in, Nr_lat, Nr_lon)[j]\n",
    "    \n",
    "    ata_in = ata_input(abs_b[j], abs_d[j], abs_r[j])\n",
    "    I_abs[j] = absorb_sol(ita_in, ata_in)             #斜面（開口面）吸収日射量\n",
    "\n",
    "print (I_abs)"
   ]
  },
  {
   "cell_type": "markdown",
   "metadata": {},
   "source": [
    "### 5.1.4.5. 室内側へ流入する吸収日射量"
   ]
  },
  {
   "cell_type": "markdown",
   "metadata": {},
   "source": [
    "説明：$ N_{lay} $層の面材からなるグレージング複合体の熱抵抗と層$j$の吸収日射量から室内側へ流入する吸収日射量を計算する。"
   ]
  },
  {
   "cell_type": "markdown",
   "metadata": {},
   "source": [
    "### 入力値  \n",
    "\n",
    "$ I_{\\alpha,j} $ ：層$j$での吸収日射量（$0$～$N_{lay}-1$） (W/m<sup>2</sup>)  \n",
    "$ R_{glz,k} $ ：グレージング複合体の$k$番目の熱抵抗（$0$番目を屋外側表面熱伝達抵抗、$2･j$番目をグレージング層$j-1$番目と$j$番目の間の中間層の熱抵抗、グレージング層の熱抵抗、$2･j+1$番目をグレージング層$j$番目の熱抵抗、$2･N_{lay}$番目を室内側表面熱伝達抵抗とした直列の熱抵抗）(m<sup>2</sup>･K/W)   "
   ]
  },
  {
   "cell_type": "markdown",
   "metadata": {},
   "source": [
    "### 出力値  \n",
    "\n",
    "$ I_{qi} $ ：室内側へ流入する吸収日射量 (W/m<sup>2</sup>)  "
   ]
  },
  {
   "cell_type": "markdown",
   "metadata": {},
   "source": [
    "### 計算方法  \n",
    "\n",
    "#### データ構造と値の範囲  \n",
    "$ I_{\\alpha} $・$ R_{glz} $の組み合わせを入力条件として1つの変数（タプル）で表し\"qin_input\"とする。  \n"
   ]
  },
  {
   "cell_type": "code",
   "execution_count": 59,
   "metadata": {
    "collapsed": true
   },
   "outputs": [],
   "source": [
    "qin_input = namedtuple('qin_input','qin_ia qin_rglz')\n",
    "#qin_ia：グレージング各層の吸収日射量(W/m2)\n",
    "#qin_rglz：直列に並べたグレージング複合体の熱抵抗[(m・K2)/W]"
   ]
  },
  {
   "cell_type": "markdown",
   "metadata": {},
   "source": [
    "#### 各層の吸収日射熱が室内側へ再放出される割合\n",
    "\n",
    "（参考：JIS A 2103：2014 5.4.1 計算基礎式）\n",
    "\n",
    "層$j$の面材の吸収日射熱が室内側へ再放出される割合$N_{in,j}$の計算方法を以下に示す。  \n",
    "\n",
    "$ \\begin{align} N_{in,j} = \\frac {\\sum_{k=0}^{2･j} R_{glz,k} + \\frac {R_{glz,2･j+1}}{2}}{\\sum_{k=0}^{2･N_{lay}} R_{glz,k}} \\end{align}$ ･･･････････････････････････････････････････････････････････････････････ (5.1.4.5-a)  \n",
    "\n",
    "#### 室内へ流入する吸収日射量\n",
    "\n",
    "（参考：JIS A 2103：2014 5.4.2 計算基礎式）\n",
    "\n",
    "室内へ流入する吸収日射熱量$I_{qi}$の計算方法を以下に示す。  \n",
    "\n",
    "$ \\begin{align} I_{qi} = \\sum_{j=0}^{N_{lay}-1} I_{\\alpha,j}･N_{in,j} \\end{align}$ ････････････････････････････････････････････････････････････････････････････････ (5.1.4.5-b)  \n"
   ]
  },
  {
   "cell_type": "code",
   "execution_count": 60,
   "metadata": {
    "collapsed": true
   },
   "outputs": [],
   "source": [
    "def Secondary_Heat_Transfer(L):\n",
    "\n",
    "    sum_R = 0.\n",
    "    R_in = np.zeros(len(L.qin_ia))\n",
    "    for j in range(len(L.qin_ia)):\n",
    "        sum_R += L.qin_rglz[2 * j] + L.qin_rglz[2 * j + 1]\n",
    "        R_in[j] = sum_R -  L.qin_rglz[2 * j + 1] / 2.\n",
    "\n",
    "    R_tot = sum_R + L.qin_rglz[2 * len(L.qin_ia)]\n",
    "    N_in = np.zeros(len(L.qin_ia))\n",
    "    r_qin = 0.\n",
    "    for j in range(len(L.qin_ia)):\n",
    "        N_in[j] = R_in[j] / R_tot\n",
    "        r_qin += L.qin_ia[j] * N_in[j]\n",
    "        \n",
    "    return r_qin"
   ]
  },
  {
   "cell_type": "markdown",
   "metadata": {},
   "source": [
    "### 計算例"
   ]
  },
  {
   "cell_type": "code",
   "execution_count": 61,
   "metadata": {
    "collapsed": false
   },
   "outputs": [
    {
     "name": "stdout",
     "output_type": "stream",
     "text": [
      "94.625249426\n"
     ]
    }
   ],
   "source": [
    "qin_ia =[109.03733774, 84.53584395, 63.94106107]\n",
    "qin_rglz = [0.04178292, 0.003, 0.1761019, 0.003, 0.16618873, 0.003, 0.12007248]\n",
    "\n",
    "qin_in = qin_input(qin_ia, qin_rglz)\n",
    "I_qi = Secondary_Heat_Transfer(qin_in)\n",
    "\n",
    "print (I_qi)"
   ]
  },
  {
   "cell_type": "markdown",
   "metadata": {},
   "source": [
    "### 5.1.4.6. 日射熱取得率"
   ]
  },
  {
   "cell_type": "markdown",
   "metadata": {},
   "source": [
    "説明：開口面入射日射量と開口面透過日射量及び室内側へ流入する吸収日射量からグレージング複合体の日射熱取得率を計算する。"
   ]
  },
  {
   "cell_type": "markdown",
   "metadata": {},
   "source": [
    "### 入力値  \n",
    "\n",
    "$ I_{in} $ ：開口面入射日射量 [MJ/(m<sup>2</sup>･h)]  \n",
    "$ I_{\\tau} $ ：開口面透過日射量 [MJ/(m<sup>2</sup>･h)]  \n",
    "$ I_{qi} $ ：室内側へ流入する吸収日射量 [MJ/(m<sup>2</sup>･h)]  "
   ]
  },
  {
   "cell_type": "markdown",
   "metadata": {},
   "source": [
    "### 出力値  \n",
    "\n",
    "$ \\eta_{glz} $ ：グレージングの日射熱取得率  "
   ]
  },
  {
   "cell_type": "markdown",
   "metadata": {},
   "source": [
    "### 計算方法  \n",
    "\n",
    "#### データ構造と値の範囲  \n",
    "$ I_{T} $・$ I_{\\tau} $・$ I_{qi} $の組み合わせを入力条件として1つの変数（タプル）で表し\"gh_input\"とする。  \n"
   ]
  },
  {
   "cell_type": "code",
   "execution_count": 62,
   "metadata": {
    "collapsed": true
   },
   "outputs": [],
   "source": [
    "gh_input = namedtuple('gh_input','gh_Iin gh_Itau gh_Iqi')\n",
    "#gh_Iin：開口面入射日射量 [MJ/(m2･h)] \n",
    "#gh_Itau：開口面透過日射量 [MJ/(m2･h)] \n",
    "#gh_Iqi：室内側へ流入する吸収日射量 [MJ/(m2･h)] "
   ]
  },
  {
   "cell_type": "markdown",
   "metadata": {},
   "source": [
    "#### 時別の日射熱取得率\n",
    "\n",
    "時別の日射熱取得率$\\eta_{glz}$の計算方法を以下に示す。  \n",
    "\n",
    "$ \\begin{align} \\eta_{glz} = \\frac {I_{\\tau} + I_{qi}}{I_{T}} \\end{align}$ ････････････････････････････････････････････････････････････････････ (5.1.4.6-a)  \n"
   ]
  },
  {
   "cell_type": "code",
   "execution_count": 63,
   "metadata": {
    "collapsed": true
   },
   "outputs": [],
   "source": [
    "def hourly_gvalue(L):\n",
    "    \n",
    "    if L.gh_Iin > 0.:\n",
    "        r_gh = (L.gh_Itau + L.gh_Iqi)/ L.gh_Iin\n",
    "    else:\n",
    "        r_gh = 0.\n",
    "        \n",
    "    return r_gh"
   ]
  },
  {
   "cell_type": "markdown",
   "metadata": {},
   "source": [
    "### 計算例"
   ]
  },
  {
   "cell_type": "code",
   "execution_count": 64,
   "metadata": {
    "collapsed": false
   },
   "outputs": [
    {
     "name": "stdout",
     "output_type": "stream",
     "text": [
      "0.6376996461641715\n"
     ]
    }
   ],
   "source": [
    "gh_in = gh_input(804.5053722499999 * 3600. / 10. ** 6., 418.407541795 * 3600. / 10. ** 6., 94.625249426 * 3600. / 10. ** 6.)\n",
    "g_h = hourly_gvalue(gh_in)\n",
    "\n",
    "print(g_h)"
   ]
  },
  {
   "cell_type": "markdown",
   "metadata": {},
   "source": [
    "### 5.2. フレームの日射熱取得率"
   ]
  },
  {
   "cell_type": "markdown",
   "metadata": {
    "collapsed": true
   },
   "source": [
    "説明：フレームの熱貫流率、屋外側表面日射吸収率、屋外側展開面積比からフレームの日射熱取得率を計算する。"
   ]
  },
  {
   "cell_type": "markdown",
   "metadata": {},
   "source": [
    "### 入力値  \n",
    "\n",
    "$ \\alpha_{fr,ex} $ ：フレームの屋外側表面日射吸収率  \n",
    "$ U_{fr} $ ：フレームの熱貫流率 [W/(m<sup>2</sup>)･K)]   \n",
    "$ F_{de,ex} $ ：フレームの屋外側展開面積比   \n",
    "$ h_{fr,ex} $ ：フレームの屋外側表面熱伝達率 [W/(m<sup>2</sup>)･K)]   "
   ]
  },
  {
   "cell_type": "markdown",
   "metadata": {},
   "source": [
    "### 出力値  \n",
    "\n",
    "$ \\eta_{fr} $ ：フレームの日射熱取得率  "
   ]
  },
  {
   "cell_type": "markdown",
   "metadata": {},
   "source": [
    "### 計算方法  \n",
    "\n",
    "#### データ構造と値の範囲  \n",
    "\n",
    "im・$ \\alpha_{fr,ex} $(または$ \\alpha_{fr,ex} $の表ID)・$ U_{fr} $(または$ U_{fr} $の表ID)・$ F_{de,ex} $(または$ F_{de,ex} $の表ID)・$ h_{fr,ex} $(または$ h_{fr,ex} $の表ID) の組み合わせを入力条件として1つの変数（タプル）で表し\"ghf_input\"とする。  "
   ]
  },
  {
   "cell_type": "code",
   "execution_count": 65,
   "metadata": {
    "collapsed": true
   },
   "outputs": [],
   "source": [
    "ghf_input = namedtuple('ghf_input','ghf_im ghf_ap ghf_Up ghf_Fp ghf_hp')\n",
    "#ghf_im：データ取得方法（0：表参照入力、1：直接入力）\n",
    "#ghf_ap：ghf_imが0の場合は、屋外側表面日射吸収率のID（0：省エネ基準住宅、1：省エネ基準非住宅、2～10：JIS A 2103の材質・色別）\n",
    "#        ghf_imが1の場合は、屋外側表面日射吸収率\n",
    "#ghf_Up：ghf_imが0の場合は、熱貫流率のID（0：JIS A 2103の樹脂、1：JIS A 2103のアルミ樹脂複合、2：JIS A 2103のアルミ）\n",
    "#        ghf_imが1の場合は、熱貫流率[W/(m2･K)]\n",
    "#ghf_Fp：ghf_imが0の場合は、屋外側展開面積比のID（0：省エネ基準住宅、1：省エネ基準非住宅、2～5：JIS A 2103の開閉形式別）\n",
    "#        ghf_imが1の場合は、屋外側展開面積比\n",
    "#ghf_hp：ghf_imが0の場合は、屋外側表面熱伝達率のID（0：省エネ基準住宅、1：省エネ基準非住宅、2：JIS A 2103の夏期、3：JIS A 2103の冬期）\n",
    "#        ghf_imが1の場合は、屋外側表面熱伝達率[W/(m2･K)]"
   ]
  },
  {
   "cell_type": "markdown",
   "metadata": {},
   "source": [
    "#### フレームの日射熱取得率の計算方法  \n",
    "\n",
    "（参考：JIS A 2103：2014 5.3 フレームの日射熱取得率）\n",
    "\n",
    "フレームの日射熱取得率$\\eta_{fr}$の計算方法を以下に示す。  \n",
    "\n",
    "$ \\begin{align} \\eta_{fr} = \\frac {\\alpha_{fr,ex}・U_{fr}}{ F_{de,ex}・h_{fr,ex}} \\end{align}$ ･････････････････････････････････････････････････････････････ (5.2-a)  \n",
    "\n",
    "ここで、  \n",
    "$ \\alpha_{fr,ex} $ ：フレームの屋外側表面日射吸収率  \n",
    "$ U_{fr} $ ：フレームの熱貫流率 [W/(m<sup>2</sup>･K)]  \n",
    "$ F_{de,ex} $ ：フレームの屋外側展開面積比  \n",
    "$ h_{fr,ex} $ ：フレームの屋外側表面熱伝達率 [W/(m<sup>2</sup>･K)]  \n",
    "\n",
    "$ \\begin{align} F_{de,ex} = \\frac {A_{de,ex}}{A_{fr,in}} \\end{align}$ ･･････････････････････････････････････････････････････････････････ (5.2-b)  \n",
    "\n",
    "ここで、  \n",
    "$ A_{de,ex} $ ：屋外側フレーム展開面積 (m<sup>2</sup>)  \n",
    "$ A_{fr,in} $ ：室内側投影フレーム面積 (m<sup>2</sup>)  \n",
    "\n",
    "である。 \n",
    "\n",
    "$ \\alpha_{fr,ex} $の代表的な値を以下に示す（参考：平成25年省エネルギー基準に準拠した算定・判断の方法及び解説 II 住宅 第四部第三節及びJIS A 2103：2014 表A.1）。\n",
    "\n",
    "| ID   | 規格・基準         | 材質         | 色           | 屋外側表面日射吸収率$\\alpha_{fr,ex}$ |\n",
    "| ---: | :---               | :---         | :---         | ---:                                 |\n",
    "| 0    | 省エネ基準(住宅)   |―            | ―           | 0.80                                 |\n",
    "| 1    | 省エネ基準(非住宅) |―            | ―           | 0.80                                 |\n",
    "| 2    | JIS A 2103         | 樹脂         | ブラック     | 0.69                                 |\n",
    "| 3    |                    |              | ブラウン     | 0.68                                 |\n",
    "| 4    |                    |              | グレイ       | 0.67                                 |\n",
    "| 5    |                    |              | ホワイト     | 0.22                                 |\n",
    "| 6    |                    | アルミニウム | ブラック     | 0.87                                 |\n",
    "| 7    |                    |              | ブラウン     | 0.76                                 |\n",
    "| 8    |                    |              | グレイ       | 0.47                                 |\n",
    "| 9    |                    |              | シルバー     | 0.26                                 |\n",
    "| 10   |                    |              | ホワイト     | 0.24                                 |\n",
    "\n",
    "$ U_{fr} $の代表的な値を以下に示す（参考：JIS A 2103：2014 表A.3）。  \n",
    "\n",
    "| ID   | 規格・基準         | 材質           | 熱貫流率$U_{fr}$ [W/(m<sup>2</sup>･K)] |\n",
    "| ---: | :---               | :---           | ---:                                   |\n",
    "| 0    | JIS A 2103         | 樹脂           | 2.2                                    |\n",
    "| 1    |                    | アルミ樹脂複合 | 4.7                                    |\n",
    "| 2    |                    | アルミニウム   | 6.6                                    |\n",
    "\n",
    "$ F_{de,ex} $の代表的な値を以下に示す（参考：平成25年省エネルギー基準に準拠した算定・判断の方法及び解説 II 住宅 第四部第三節及びJIS A 2103：2014 表A.2）。  \n",
    "\n",
    "| ID   | 規格・基準         | 開閉形式 | 屋外側展開面積比$F_{de,ex}$ |\n",
    "| ---: | :---               | :---     | ---:                        |\n",
    "| 0    | 省エネ基準(住宅)   | ―       | 1.0                         |\n",
    "| 1    | 省エネ基準(非住宅) | ―       | 1.0                         |\n",
    "| 2    | JIS A 2103         | FIX      | 1.9                         |\n",
    "| 3    |                    | 開き     | 1.5                         |\n",
    "| 4    |                    | 引違い   | 2.1                         |\n",
    "| 5    |                    | 上げ下げ | 1.6                         |\n",
    "\n",
    "$ h_{fr,ex} $の代表的な物性値を以下に示す（参考：平成25年省エネルギー基準に準拠した算定・判断の方法及び解説 II 住宅 第四部第三節及びJIS A 2103：2014 5.3）。  \n",
    "\n",
    "| ID   | 規格・基準         | 季節 | 屋外側表面熱伝達率$h_{fr,ex}$ [W/(m<sup>2</sup>･K)] |\n",
    "| ---: | :---               | :--- | ---:                                                |\n",
    "| 0    | 省エネ基準(住宅)   | ―   | 23                                                  |\n",
    "| 1    | 省エネ基準(非住宅) | ―   | 25 (=1/0.04)                                        |\n",
    "| 2    | JIS A 2103         | 夏期 | 14                                                  |\n",
    "| 3    |                    | 冬期 | 24                                                  |"
   ]
  },
  {
   "cell_type": "code",
   "execution_count": 66,
   "metadata": {
    "collapsed": true
   },
   "outputs": [],
   "source": [
    "def hourly_gvalue_frame(L):\n",
    "    \n",
    "    if L.ghf_im == 0:     #表参照入力\n",
    "        ghf_a = frame_prop(L)[0]\n",
    "        ghf_U = frame_prop(L)[1]\n",
    "        ghf_F = frame_prop(L)[2]\n",
    "        ghf_h = frame_prop(L)[3]\n",
    "    elif L.ghf_im == 1:   #直接入力\n",
    "        ghf_a = L.ghf_ap\n",
    "        ghf_U = L.ghf_Up\n",
    "        ghf_F = L.ghf_Fp\n",
    "        ghf_h = L.ghf_hp\n",
    "    \n",
    "    return ghf_a * ghf_U / (ghf_F * ghf_h)\n",
    "\n",
    "def frame_prop(L):\n",
    "    \n",
    "    r_ghf_a = [0.8, 0.8, 0.69, 0.68, 0.67, 0.22, 0.87, 0.76, 0.47, 0.26, 0.24]\n",
    "    r_ghf_U = [2.2, 4.7, 6.6]\n",
    "    r_ghf_F = [1., 1., 1.9, 1.5, 2.1, 1.6]\n",
    "    r_ghf_h = [23., 25., 14., 24.]\n",
    "    \n",
    "    return r_ghf_a[L.ghf_ap], r_ghf_U[L.ghf_Up], r_ghf_F[L.ghf_Fp], r_ghf_h[L.ghf_hp]"
   ]
  },
  {
   "cell_type": "markdown",
   "metadata": {},
   "source": [
    "### 計算例"
   ]
  },
  {
   "cell_type": "code",
   "execution_count": 67,
   "metadata": {
    "collapsed": false
   },
   "outputs": [
    {
     "name": "stdout",
     "output_type": "stream",
     "text": [
      "0.0765217391304348\n"
     ]
    }
   ],
   "source": [
    "ghf_in = ghf_input(0, 0, 0, 0, 0)\n",
    "\n",
    "ghf = hourly_gvalue_frame(ghf_in)\n",
    "\n",
    "print(ghf)"
   ]
  },
  {
   "cell_type": "markdown",
   "metadata": {},
   "source": [
    "### 5.3. 全体計算"
   ]
  },
  {
   "cell_type": "markdown",
   "metadata": {},
   "source": [
    "### 5.3.1. 時刻別"
   ]
  },
  {
   "cell_type": "markdown",
   "metadata": {},
   "source": [
    "説明：グレージング複合体の日射熱取得率、フレームの日射熱取得率、グレージング面積比又はグレージング面積及びフレーム面積から開口部の日射熱取得率を計算する。"
   ]
  },
  {
   "cell_type": "markdown",
   "metadata": {},
   "source": [
    "### 入力値  \n",
    "\n",
    "$ \\eta_{glz} $ ：グレージング複合体の日射熱取得率  \n",
    "$ \\eta_{fr} $ ：フレームの日射熱取得率   \n",
    "$ F_{Ag} $ ：グレージング面積比   \n",
    "または、  \n",
    "$ A_{glz} $ ：グレージング面積 (m<sup>2</sup>)   \n",
    "$ A_{fr} $ ：フレーム面積 (m<sup>2</sup>)   "
   ]
  },
  {
   "cell_type": "markdown",
   "metadata": {},
   "source": [
    "### 出力値  \n",
    "\n",
    "$ \\eta_{w} $ ：開口部の日射熱取得率  "
   ]
  },
  {
   "cell_type": "markdown",
   "metadata": {},
   "source": [
    "### 計算方法  \n",
    "\n",
    "#### データ構造と値の範囲  \n",
    "\n",
    "$ \\eta_{glz} $・$ \\eta_{fr} $・im・fm・$ A_{glz} $・$ A_{fr} $の組み合わせを入力条件として1つの変数（タプル）で表し\"ghw_input\"とする。  "
   ]
  },
  {
   "cell_type": "code",
   "execution_count": 68,
   "metadata": {
    "collapsed": true
   },
   "outputs": [],
   "source": [
    "ghw_input = namedtuple('ghw_input','ghw_gg ghw_gf ghw_im ghw_fm ghw_Ag ghw_Af')\n",
    "#ghw_gg：グレージング複合体の日射熱取得率\n",
    "#ghw_gf：フレームの日射熱取得率\n",
    "#ghw_im：グレージング面積比のデータ取得方法（0：表参照入力、1：直接入力）\n",
    "#ghw_fm：フレーム材質のID（0：木製建具又は樹脂製建具、\n",
    "#                          1：木と金属の複合材料製建具、樹脂と金属の複合材料製建具、金属製熱遮断構造建具又は金属製建具）\n",
    "#                          （※ghw_imが1の場合は値を無視）\n",
    "#ghw_Ag：グレージング面積 (m2)（※ghw_imが0の場合は値を無視）\n",
    "#ghw_Af：フレーム面積 (m2)（※ghw_imが0の場合は値を無視）"
   ]
  },
  {
   "cell_type": "markdown",
   "metadata": {},
   "source": [
    "#### 開口部の日射熱取得率の計算方法  \n",
    "\n",
    "開口部の日射熱取得率$\\eta_{w}$の計算方法を以下に示す。  \n",
    "\n",
    "$ \\begin{align} \\eta_{w} = F_{Ag}・\\eta_{glz} + (1 - F_{Ag})・\\eta_{fr} \\end{align}$ ･････････････････････････････････････ (5.3.1-a)  \n",
    "\n",
    "ここで、  \n",
    "$ \\eta_{glz} $ ：グレージング複合体の日射熱取得率  \n",
    "$ \\eta_{fr} $ ：フレームの日射熱取得率  \n",
    "$ F_{Ag} $ ：グレージング面積比  \n",
    "\n",
    "$ \\begin{align} F_{Ag} = \\frac {A_{glz}}{A_{glz} + A_{fr}} \\end{align}$ ･･･････････････････････････････････････････････････ (5.3.1-b)  \n",
    "\n",
    "ここで、  \n",
    "$ A_{glz} $ ：グレージング面積 (m<sup>2</sup>)  \n",
    "$ A_{fr} $ ：フレーム面積 (m<sup>2</sup>)  \n",
    "\n",
    "である。 \n",
    "\n",
    "$ F_{Ag} $の代表的な物性値を以下に示す（参考：平成28年省エネルギー基準に準拠したエネルギー消費性能の評価に関する技術情報（住宅）Ver.2.1 算定方法 3.4　日射熱取得率）。  \n",
    "\n",
    "| ID   | 材質                                                                                     | グレージング面積比$F_{Ag}$ |\n",
    "| ---: | :---                                                                                     | ---:                       |\n",
    "| 0    | 木製建具又は樹脂製建具                                                                   | 0.72                       |\n",
    "| 1    | 木と金属の複合材料製建具、樹脂と金属の複合材料製建具、金属製熱遮断構造建具又は金属製建具 | 0.80                       |"
   ]
  },
  {
   "cell_type": "code",
   "execution_count": 69,
   "metadata": {
    "collapsed": true
   },
   "outputs": [],
   "source": [
    "def hourly_gvalue_window(L):\n",
    "    \n",
    "    if L.ghw_im == 0:     #表参照入力\n",
    "        F_Ag = glazing_area_ratio(L)\n",
    "    elif L.ghw_im == 1:   #直接入力    \n",
    "        F_Ag = L.ghw_Ag / (L.ghw_Ag + L.ghw_Af)\n",
    "    \n",
    "    return F_Ag * L.ghw_gg + (1. - F_Ag) * L.ghw_gf\n",
    "\n",
    "def glazing_area_ratio(L):\n",
    "    \n",
    "    r_F_Ag = [0.8, 0.72]\n",
    "    \n",
    "    return r_F_Ag[L.ghw_fm]"
   ]
  },
  {
   "cell_type": "markdown",
   "metadata": {},
   "source": [
    "### 計算例"
   ]
  },
  {
   "cell_type": "code",
   "execution_count": 70,
   "metadata": {
    "collapsed": false
   },
   "outputs": [
    {
     "name": "stdout",
     "output_type": "stream",
     "text": [
      "0.53\n"
     ]
    }
   ],
   "source": [
    "ghw_in = ghw_input(0.65, 0.05, 0, 0, 0, 0)\n",
    "\n",
    "ghw = hourly_gvalue_window(ghw_in)\n",
    "\n",
    "print(ghw)"
   ]
  },
  {
   "cell_type": "markdown",
   "metadata": {},
   "source": [
    "### 全体計算例（グレージング複合体のみ）"
   ]
  },
  {
   "cell_type": "code",
   "execution_count": 71,
   "metadata": {
    "collapsed": false
   },
   "outputs": [
    {
     "ename": "IndentationError",
     "evalue": "unexpected indent (<ipython-input-71-407c3e5442e5>, line 73)",
     "output_type": "error",
     "traceback": [
      "\u001b[0;36m  File \u001b[0;32m\"<ipython-input-71-407c3e5442e5>\"\u001b[0;36m, line \u001b[0;32m73\u001b[0m\n\u001b[0;31m    sp_in = sp_input(year, int((i + 1.) / 24.) + 1., ((i + 1.) / 24. - int((i + 1.) / 24.)) * 24., lat, lon)\u001b[0m\n\u001b[0m    ^\u001b[0m\n\u001b[0;31mIndentationError\u001b[0m\u001b[0;31m:\u001b[0m unexpected indent\n"
     ]
    }
   ],
   "source": [
    "#入力値\n",
    "#気象データ\n",
    "location = '3639999'               #東京ID\n",
    "year = 1995                        #西暦年\n",
    "lat = 35. + 41.2 / 60.             #計算対象地点の緯度 (°)  \n",
    "lon = 139. + 45.9 / 60.            #計算対象地点の経度 (°)  \n",
    "Bw = 90.                           #水平面に対する斜面（開口面）の傾斜角 (°) \n",
    "Aw = 0.                            #斜面（開口面）の方位角 (°)\n",
    "rho = 0.1                          #アルベド\n",
    "\n",
    "#グレージング\n",
    "gl_d = [[0.003], [0.003], [0.003]] #各層の厚さ\n",
    "gl_lmd = [[1.], [1.], [1.]]        #各層の熱伝導率\n",
    "gl_trf = [0.815, 0.815, 0.815]     #各層の正面側の日射透過率\n",
    "gl_trb = [0.815, 0.815, 0.815]     #各層の背面側の日射透過率\n",
    "gl_ref = [0.072, 0.072, 0.072]     #各層の正面側の日射反射率\n",
    "gl_reb = [0.072, 0.072, 0.072]     #各層の背面側の日射反射率\n",
    "gl_epf = [0.837, 0.837, 0.837]     #各層の正面側の放射率\n",
    "gl_epb = [0.837, 0.837, 0.837]     #各層の背面側の放射率\n",
    "gl_ty = [0, 0, 0]                  #各層のガラスの種類（0：透明フロート板ガラス、1：Low-Eガラス）\n",
    "gl_cf = [0, 0, 0]                  #各層の#正面側の膜の有無（0：膜なし、1：膜あり）\n",
    "gl_cb = [0, 0, 0]                  #各層の#背面側の膜の有無（0：膜なし、1：膜あり）\n",
    "\n",
    "#中空層\n",
    "gp_d = [0.012, 0.012]              #各層の厚さ\n",
    "gp_gas1 = [0, 0]                   #各層の気体1の種類flag（0：空気、1：アルゴン、2：SF6、3：クリプトン）\n",
    "gp_gas2 = [0, 0]                   #各層の気体2の種類flag（0：空気、1：アルゴン、2：SF6、3：クリプトン）\n",
    "gp_gas1r = [1., 1.]                #各層の気体1の容積割合（0.0～1.0）\n",
    "gp_dir = [0, 0]                    #熱流方向flag（0：中空層が垂直で熱流方向が水平、1：中空層が水平で熱流方向が上向き、\n",
    "                                   #              2：中空層が45度で熱流方向が上向き）\n",
    "\n",
    "#天空分割数\n",
    "Nd_lat = 90                        #緯度方向\n",
    "Nd_lon = 180                       #経度方向\n",
    "\n",
    "#地表面反射分割数\n",
    "Nr_lat = 90                        #緯度方向\n",
    "Nr_lon = 180                       #経度方向\n",
    "\n",
    "#\n",
    "season = 0 #夏期：0、冬期：1-->暖冷房期間から決定すべき\n",
    "if season == 0:\n",
    "    ti = 25.  #室温\n",
    "elif season == 1:\n",
    "    ti = 20.  #室温\n",
    "    \n",
    "for j in range(len(gl_d)):\n",
    "    gl_in[j] = glass_input(gl_trf[j], gl_trb[j], gl_ref[j], gl_reb[j], gl_ty[j], gl_cf[j], gl_cb[j])\n",
    "    \n",
    "tau_d = actual_trans_diffuse(gl_in, Nd_lat, Nd_lon)\n",
    "tau_r = actual_trans_reflect(gl_in, Nr_lat, Nr_lon)\n",
    "\n",
    "abs_d = np.zeros(len(gl_d))\n",
    "abs_r = np.zeros(len(gl_d))\n",
    "for j in range(len(gl_d)):\n",
    "    abs_d[j] = actual_abs_diffuse(gl_in, Nd_lat, Nd_lon)[j]\n",
    "    abs_r[j] = actual_abs_reflect(gl_in, Nr_lat, Nr_lon)[j]\n",
    "\n",
    "I_in_J = np.zeros(8760)\n",
    "I_tau_J = np.zeros(8760)\n",
    "I_qi_J = np.zeros(8760)\n",
    "\n",
    "I_abs = np.zeros(len(gl_d))\n",
    "Rglz = np.empty(2 * len(gl_d) + 1, dtype = tuple)\n",
    "g_h = np.zeros(8760)\n",
    "\n",
    "#気象データ読込\n",
    "tmp = Weather.weather_input(location)[3]                                       #外気温\n",
    "ig = Weather.weather_input(location)[4]                                        #水平面全天日射量\n",
    "\n",
    "# for i in range(0, 8760):\n",
    "i = 0\n",
    "    sp_in = sp_input(year, int((i + 1.) / 24.) + 1., ((i + 1.) / 24. - int((i + 1.) / 24.)) * 24., lat, lon)\n",
    "    sp_h = solar_position(sp_in)[0]                                    #太陽高度角\n",
    "    sp_A = solar_position(sp_in)[1]                                    #太陽方位角\n",
    "\n",
    "    dbd_in = dbd_input(ig[i], sp_h)\n",
    "    dbd_ib = division_beam_diffuse(dbd_in)[0]                          #法線面直達日射量\n",
    "    dbd_id = division_beam_diffuse(dbd_in)[1]                          #水平面天空日射量\n",
    "\n",
    "    st_in = st_input(ig[i], dbd_ib, dbd_id, sp_h, sp_A, Bw, Aw, rho)\n",
    "    st_itb = solor_tilt(st_in)[0]                                      #斜面（開口面）直達日射量\n",
    "    st_itd = solor_tilt(st_in)[1]                                      #斜面（開口面）天空日射量\n",
    "    st_itr = solor_tilt(st_in)[2]                                      #斜面（開口面）地表面反射日射量\n",
    "    phi_b = solor_tilt(st_in)[3]                                       #直達日射の入射角\n",
    "\n",
    "#単位変換(J2W)\n",
    "    I_tb = transform_unit_joule2watt(st_itb)                           #斜面（開口面）直達日射量\n",
    "    I_td = transform_unit_joule2watt(st_itd)                           #斜面（開口面）天空日射量\n",
    "    I_tr = transform_unit_joule2watt(st_itr)                           #斜面（開口面）地表面反射日射量\n",
    "\n",
    "#開口面入射日射量\n",
    "    ita_in = ita_input(I_tb, I_td, I_tr)\n",
    "    I_in = incident_sol(ita_in)\n",
    "    I_in_J[i] = transform_unit_watt2joule(I_in)\n",
    "    \n",
    "#開口面透過日射量\n",
    "    tau_b = actual_trans_beam(gl_in, phi_b)\n",
    "    tta_in = tta_input(tau_b, tau_d, tau_r)\n",
    "    I_tau = transmit_sol(ita_in, tta_in)\n",
    "    I_tau_J[i] = transform_unit_watt2joule(I_tau)\n",
    "    \n",
    "#層jの吸収日射量\n",
    "    abs_b = np.zeros(len(gl_d))\n",
    "    for j in range(len(gl_d)):\n",
    "        abs_b[j] = actual_abs_beam(gl_in, phi_b)[j]\n",
    "        \n",
    "        ata_in = ata_input(abs_b[j], abs_d[j], abs_r[j])\n",
    "        I_abs[j] = absorb_sol(ita_in, ata_in)   \n",
    "\n",
    "#熱平衡\n",
    "    glp_in = glp_input(gl_d, gl_lmd, I_abs[0:len(gl_d)], gl_epf, gl_epb)\n",
    "    gpp_in = gpp_input(gp_d, gp_gas1, gp_gas2, gp_gas1r, gp_dir)    \n",
    "    wp_in = wp_input(season, tmp[i], ti)    \n",
    "    \n",
    "    hbr = Heat_balance(glp_in, gpp_in, wp_in)\n",
    "    \n",
    "    Rglz = hbr[1][0 : 2 * len(gl_d) + 1]\n",
    "\n",
    "#室内側へ流入する吸収日射量\n",
    "    qin_in = qin_input(I_abs[0:len(gl_d)], Rglz)\n",
    "    I_qi = Secondary_Heat_Transfer(qin_in)   \n",
    "    I_qi_J[i] = transform_unit_watt2joule(I_qi)\n",
    "    \n",
    "#時別の日射熱取得率   \n",
    "    gh_in = gh_input(I_in_J[i], I_tau_J[i], I_qi_J[i])\n",
    "    g_h[i] = hourly_gvalue(gh_in)\n",
    "      \n",
    "    #print (i, I_in_J[i], I_tau_J[i], I_qi_J[i], g_h[i])\n",
    "    #print (i)\n",
    "    \n",
    "np.savetxt(location + '_out_I_in.csv', I_in_J, fmt='%.10f', delimiter=',')\n",
    "np.savetxt(location + '_out_I_tau.csv', I_tau_J, fmt='%.10f', delimiter=',')\n",
    "np.savetxt(location + '_out_I_qi.csv', I_qi_J, fmt='%.10f', delimiter=',')\n",
    "np.savetxt(location + '_out_g_h.csv', g_h, fmt='%.10f', delimiter=',')"
   ]
  },
  {
   "cell_type": "markdown",
   "metadata": {},
   "source": [
    "### 5.3.2. 期間平均"
   ]
  },
  {
   "cell_type": "markdown",
   "metadata": {},
   "source": [
    "### 5.3.2.1. 暖房期間"
   ]
  },
  {
   "cell_type": "code",
   "execution_count": null,
   "metadata": {
    "collapsed": true
   },
   "outputs": [],
   "source": []
  },
  {
   "cell_type": "markdown",
   "metadata": {},
   "source": [
    "### 5.3.2.2. 冷房期間"
   ]
  },
  {
   "cell_type": "code",
   "execution_count": null,
   "metadata": {
    "collapsed": true
   },
   "outputs": [],
   "source": []
  },
  {
   "cell_type": "markdown",
   "metadata": {},
   "source": [
    "## 6. 窓の熱貫流率の計算"
   ]
  },
  {
   "cell_type": "code",
   "execution_count": null,
   "metadata": {
    "collapsed": true
   },
   "outputs": [],
   "source": []
  }
 ],
 "metadata": {
  "kernelspec": {
   "display_name": "Python 3",
   "language": "python",
   "name": "python3"
  },
  "language_info": {
   "codemirror_mode": {
    "name": "ipython",
    "version": 3
   },
   "file_extension": ".py",
   "mimetype": "text/x-python",
   "name": "python",
   "nbconvert_exporter": "python",
   "pygments_lexer": "ipython3",
   "version": "3.6.2"
  }
 },
 "nbformat": 4,
 "nbformat_minor": 2
}
