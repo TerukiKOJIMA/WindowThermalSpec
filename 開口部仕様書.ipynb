{
 "cells": [
  {
   "cell_type": "markdown",
   "metadata": {},
   "source": [
    "ライブラリインポート"
   ]
  },
  {
   "cell_type": "code",
   "execution_count": 2,
   "metadata": {
    "collapsed": true
   },
   "outputs": [],
   "source": [
    "from collections import namedtuple\n",
    "import csv\n",
    "import math\n",
    "import numpy as np"
   ]
  },
  {
   "cell_type": "markdown",
   "metadata": {},
   "source": [
    "# 開口部の評価方法に関する仕様書"
   ]
  },
  {
   "cell_type": "markdown",
   "metadata": {},
   "source": [
    "- LV2(#2) 計算方法名  \n",
    "    - LV3(#3) 入力値  \n",
    "    - LV3(#3) 出力値  \n",
    "    - LV3(#3) 計算方法  \n",
    "        - LV4(#4) 各計算方法  \n",
    "    - LV3(#3) プログラムテスト  \n",
    "        - LV4(#4) 入力  \n",
    "        - LV4(#4) 出力  \n",
    "        - LV4(#4) テストデータ  \n",
    "        - LV4(#4) テスト結果"
   ]
  },
  {
   "cell_type": "markdown",
   "metadata": {},
   "source": [
    "　本資料は開口部における熱貫流率および日射熱取得率を計算する方法についてまとめたものです。本資料は計算方法を示すとともに、プログラムのテストの入出力についてもまとめています。  \n",
    "　本資料は以下のパートから構成されています。  \n",
    "  \n",
    "1. 気象データの読込  \n",
    "2. 暖冷房期間の設定\n",
    "3. 開口面日射量の計算  \n",
    "　3.1. 太陽高度角・太陽方位角  \n",
    "　3.2. 直散分離（Watanabe model）  \n",
    "　3.3. 斜面日射量（Isotropic model）  \n",
    "4. ひさしの日除け計算  \n",
    "5. 窓の日射熱取得率の計算  \n",
    "　5.1. グレージング複合体の日射熱取得率  \n",
    "　　5.1.1. 面材の光学特性  \n",
    "　　　5.1.1.1. ガラス  \n",
    "　　　5.1.1.2. ロールスクリーン  \n",
    "　　　5.1.1.3. ブラインド※  \n",
    "　　　　5.1.1.3.1. 幾何学形状の作成※  \n",
    "　　　　5.1.1.3.2. 鏡面反射成分の計算※  \n",
    "　　　　5.1.1.3.3. 拡散反射成分の計算※  \n",
    "　　　　5.1.1.3.4. 全体計算※  \n",
    "　　5.1.2. 短波長放射（日射）の多重反射  \n",
    "　　5.1.3. 熱平衡計算  \n",
    "　　　5.1.3.1. 中空層の熱抵抗  \n",
    "　　　5.1.3.2. 表面熱伝達抵抗  \n",
    "　　　5.1.3.3. 全体計算  \n",
    "　　5.1.4. 全体計算  \n",
    "　5.2. フレームの日射熱取得率  \n",
    "　5.3. 全体計算  \n",
    "6. 窓の熱貫流率の計算※  \n",
    "\n",
    "※は、将来的に記述するパートです。\n"
   ]
  },
  {
   "cell_type": "markdown",
   "metadata": {},
   "source": [
    "## 1. 気象データの読込  "
   ]
  },
  {
   "cell_type": "markdown",
   "metadata": {},
   "source": [
    "説明：気温と全天日射量を読み込む。"
   ]
  },
  {
   "cell_type": "markdown",
   "metadata": {},
   "source": [
    "### 入力値  \n",
    "w_location：地点名(このファイルと並列に置いた'…_tmp.csv'や'…_ig.csv'の'…'部分)   \n",
    "'…_tmp.csv'：拡張アメダス気象データ1981-2000で出力した気温 (℃)  \n",
    "'…_ig.csv'：拡張アメダス気象データ1981-2000で出力した全天日射量 [MJ/(m<sup>2</sup>･h)]  \n",
    "w_lat：地点の緯度 (°)  \n",
    "w_lon：地点の経度 (°)"
   ]
  },
  {
   "cell_type": "markdown",
   "metadata": {},
   "source": [
    "### 出力値\n",
    "'…_out.csv'：気象データのデータセット  \n",
    "列1：各時刻のカウンタ（1～8760）  \n",
    "列2：緯度 (°)  \n",
    "列3：経度 (°)  \n",
    "列4：各時刻の気温(℃)  \n",
    "列5：各時刻の全天日射量 [MJ/(m<sup>2</sup>･h)]  "
   ]
  },
  {
   "cell_type": "markdown",
   "metadata": {},
   "source": [
    "### 計算方法"
   ]
  },
  {
   "cell_type": "markdown",
   "metadata": {},
   "source": [
    "\"w_location\"・\"w_lat\"・\"w_lon\"の組み合わせを1つの変数（タプル）で表し\"weather_input\"とする。  "
   ]
  },
  {
   "cell_type": "code",
   "execution_count": 52,
   "metadata": {
    "collapsed": true
   },
   "outputs": [],
   "source": [
    "weather_input = namedtuple('weather_input','w_location w_lat w_lon')\n",
    "#w_location：地点名(このファイルと並列に置いた'…_tmp.csv'や'…_ig.csv'の'…'部分)   \n",
    "#w_lat：地点の緯度 (°)  \n",
    "#w_lon：地点の経度 (°)"
   ]
  },
  {
   "cell_type": "code",
   "execution_count": 53,
   "metadata": {
    "collapsed": true
   },
   "outputs": [],
   "source": [
    "#気象データセットの作成\n",
    "def weather_data(L):\n",
    "    tmp = np.genfromtxt(L.w_location + '_tmp.CSV', skip_header = 1, delimiter = ',', dtype = float)\n",
    "    ig = np.genfromtxt(L.w_location + '_ig.CSV', skip_header = 1, delimiter = ',', dtype = float)\n",
    "    w_dat = np.zeros((8760,5))\n",
    "    for i in range(0, 365):\n",
    "        for j in range(1, 25):\n",
    "            w_dat[i * 24 + j - 1][0] = i * 24 + j\n",
    "            w_dat[i * 24 + j - 1][1] = L.w_lat\n",
    "            w_dat[i * 24 + j - 1][2] = L.w_lon\n",
    "            w_dat[i * 24 + j - 1][3] = tmp[i, j]\n",
    "            w_dat[i * 24 + j - 1][4] = ig[i, j]\n",
    "    return w_dat"
   ]
  },
  {
   "cell_type": "markdown",
   "metadata": {
    "collapsed": true
   },
   "source": [
    "### プログラムテスト"
   ]
  },
  {
   "cell_type": "code",
   "execution_count": 57,
   "metadata": {
    "collapsed": true
   },
   "outputs": [],
   "source": [
    "def weather_TestImport(Ds):\n",
    "    np.savetxt(Ds.w_location + '_out_1.csv', weather_data(Ds), fmt='%.10f', delimiter=',')"
   ]
  },
  {
   "cell_type": "markdown",
   "metadata": {},
   "source": [
    "#### テストデータ"
   ]
  },
  {
   "cell_type": "code",
   "execution_count": 58,
   "metadata": {
    "collapsed": true
   },
   "outputs": [],
   "source": [
    "weather_inputDs = [weather_input('3639999', 35 + 41.2 / 60, 139 + 45.9 / 60)]"
   ]
  },
  {
   "cell_type": "markdown",
   "metadata": {},
   "source": [
    "#### テスト結果\n",
    "このファイルと並列の'…_out.csv'に出力される。"
   ]
  },
  {
   "cell_type": "code",
   "execution_count": 59,
   "metadata": {
    "collapsed": true
   },
   "outputs": [],
   "source": [
    "for d in weather_inputDs:\n",
    "    weather_TestImport(d)"
   ]
  },
  {
   "cell_type": "markdown",
   "metadata": {},
   "source": [
    "## 2. 暖冷房期間の設定  "
   ]
  },
  {
   "cell_type": "markdown",
   "metadata": {},
   "source": [
    "（参考：平成28年省エネルギー基準に準拠したエネルギー消費性能の評価に関する技術情報（住宅）Ver.2.2 算定方法 1　概要と用語の定義）  \n",
    "\n",
    "暖房期間は、日平均外気温をフーリエ変換した年周期成分が15℃以下となる期間とする。\n",
    "\n",
    "\n",
    "\n",
    "\n",
    "冷房期間は、日最高外気温をフーリエ変換した年周期成分が23℃以上となる期間とする。\n"
   ]
  },
  {
   "cell_type": "markdown",
   "metadata": {},
   "source": [
    "## 3. 開口面日射量の計算  "
   ]
  },
  {
   "cell_type": "markdown",
   "metadata": {},
   "source": [
    "### 3.1. 太陽高度角・太陽方位角  "
   ]
  },
  {
   "cell_type": "markdown",
   "metadata": {},
   "source": [
    "（参考：拡張アメダス気象データ1981-2000解説書 8.1　太陽位置の計算）  \n",
    "\n",
    "赤緯と均時差の計算方法を以下に示す。  \n",
    "\n",
    "$ \\begin{align}n = Y - 1968\\end{align}$ ･････････････････････････････････････････ (2.1-a)  \n",
    "\n",
    "$ \\begin{align}d_0 = 3.71 + 0.2596 ･ n - INT\\biggl[\\frac{n+3}{4}\\biggr]\\end{align}$ ･･････････････････ (2.1-b)  \n",
    "\n",
    "$ \\begin{align}M = \\frac{360 ･ (D - d_0)}{D_y} \\end{align}$ ････････････････････････････････････ (2.1-c)  \n",
    "\n",
    "$ \\begin{align}\\epsilon = 12.3901 + 0.0172 ･ \\biggl(n + \\frac{M}{360}\\biggr)\\end{align}$ ･････････････････････ (2.1-d)  \n",
    "\n",
    "$ \\begin{align}v = M + 1.914 ･ \\sin M + 0.02 ･ \\sin(2M)\\end{align}$ ･･････････････････ (2.1-e)  \n",
    "\n",
    "$ \\begin{align}E_t = (M - v) - \\tan^{-1}\\biggl[\\frac{0.043 ･ \\sin 2(v + \\epsilon)}{1 - 0.043 ･ \\cos 2(v + \\epsilon)}\\biggr]\\end{align}$ ･････････ (2.1-f)  \n",
    "\n",
    "$ \\begin{align}\\sin\\delta = \\cos(v + \\epsilon) ･ \\sin\\delta_0\\end{align}$ ･･･････････････････････････････ (2.1-g)  \n",
    "\n",
    "ここで、  \n",
    "\n",
    "$ n $ ：1968年との年差 (year)  \n",
    "$ Y $ ：西暦年 (year)  \n",
    "$ d_0 $ ：平均軌道上の近日点通過日（暦表時による1968年1月1日正午基準の日差）(day)  \n",
    "$ INT[] $ ：小数点以下切り捨て  \n",
    "$ M $ ：平均近点離角 (°)  \n",
    "$ D $ ：1月1日を初日（$D=1$）とする計算対象日の年通算日 (day)  \n",
    "$ D_y $ ：近点年（近日点基準の公転周期日数）（= 365.2596） (day)  \n",
    "$ \\epsilon $ ：近日点と冬至点の角度 (°)  \n",
    "$ v $ ：真近点離角 (°)  \n",
    "$ E_t $ ：均時差 (°)  \n",
    "$ \\delta $ ：赤緯 (°)  \n",
    "$ \\delta_0 $ ：北半球の冬至の日赤緯（= -23.4393） (°)  \n",
    "\n",
    "である。  \n",
    "\n",
    "また、太陽高度角と太陽方位角の計算方法を以下に示す。  \n",
    "\n",
    "$ \\begin{align}t = 15 ･ (T_m - 12) + (L - L_0) + E_t\\end{align}$ ･･････････････････････ (2.1-h)  \n",
    "\n",
    "$ \\begin{align}\\sin h = \\sin\\phi ･ \\sin \\delta + \\cos \\phi ･ \\cos \\delta ･ \\cos t\\end{align}$ ････････････････ (2.1-i)  \n",
    "\n",
    "$ \\begin{align}\\sin A = \\frac{\\cos\\delta ･ \\sin t}{\\cos h}\\end{align}$ ････････････････････････････････････ (2.1-j)  \n",
    "\n",
    "$ \\begin{align}\\cos A = \\frac{\\sin h ･ \\sin\\phi - \\sin\\delta}{\\cos h ･ \\cos\\phi}\\end{align}$ ････････････････････････････ (2.1-k)  \n",
    "\n",
    "ここで、  \n",
    "\n",
    "$ t $ ：時角 (°)  \n",
    "$ T_m $ ：標準時 (h)  \n",
    "$ L $ ：計算対象地点の経度 (°)  \n",
    "$ L_0 $ ：標準時の地点の経度（=135.0（日本の場合）） (°)  \n",
    "$ h $ ：太陽高度角 (°)  \n",
    "$ \\phi $ ：計算対象地点の緯度 (°)  \n",
    "$ \\delta $ ：赤緯 (°)  \n",
    "$ A $ ：太陽方位角 (°)  \n",
    "\n",
    "である。  "
   ]
  },
  {
   "cell_type": "code",
   "execution_count": null,
   "metadata": {
    "collapsed": true
   },
   "outputs": [],
   "source": [
    "#赤緯と均時差の計算プログラム(参考：拡張アメダス気象データ1981-2000解説書 8.1太陽位置の計算)\n",
    "sol_n = sol_year - 1968.0\n",
    "sol_d0 = 3.71 +　0.2596 * sol_n - int((sol_n + 3.0) / 4.0)\n",
    "sol_Dy = 365.2596\n",
    "sol_m = 360 * (sol_nday - sol_d0) / sol_Dy\n",
    "sol_eps = 12.3901 + 0.0172 * (sol_n + sol_m / 360.0)\n",
    "sol_v = sol_m + 1.914 * math.sin(math.radians(sol_m)) + 0.02 * math.sin(math.radians(2 * sol_m))\n",
    "sol_veps = math.radians(sol_v + sol_eps)\n",
    "sol_et = (sol_m - sol_v) - math.degrees(math.atan(0.043 * math.sin(2.0 * sol_veps) / (1.0 - 0.043 * math.cos(2.0 * sol_veps))))\n",
    "sol_dlt0 = math.radians(-23.4393)\n",
    "sol_sindlt = math.cos(veps) * math.sin(dlt0)\n",
    "sol_cosdlt = (abs(1.0 - sindlt ** 2.0)) ** 0.5\n",
    "\n",
    "#太陽位置の計算プログラム(参考：拡張アメダス気象データ1981-2000解説書 8.1太陽位置の計算)\n",
    "sol_lons = 135.0\n",
    "sol_t = 15.0 * (sol_tm - 12.0) + (sol_lon - sol_lons) + sol_et\n",
    "sol_latrad = math.radians(sol_lat)\n",
    "sol_trad = math.radians(sol_t)\n",
    "sol_sinh = math.sin(sol_latrad) * sindlt + math.cos(sol_latrad) * cosdlt * math.cos(sol_trad)\n",
    "sol_cosh = (1.0 - sol_sinh ** 2.0) ** 0.5\n",
    "sol_sinA = sol_cosdlt * math.sin(sol_trad) / sol_cosh\n",
    "sol_cosA = (sol_sinh * math.sin(sol_latrad) - sindlt) / (sol_cosh * math.cos(sol_latrad))\n"
   ]
  },
  {
   "cell_type": "markdown",
   "metadata": {},
   "source": [
    "### 3.2. 直散分離（Watanabe model）"
   ]
  },
  {
   "cell_type": "markdown",
   "metadata": {},
   "source": [
    "（参考：拡張アメダス気象データ1981-2000解説書 8.2.1　直散分離）  \n",
    "\n",
    "直散分離（Watanabe model）の計算方法を以下に示す。  \n",
    "\n",
    "$ \\begin{align}I_d = I_0 ･ \\sin h ･ \\frac{Q}{1 + Q}\\end{align}$ ･･････････････････････････････････ (2.2-a)  \n",
    "\n",
    "$ \\begin{align}Q = (0.8672 + 0.7505 ･ \\sin h) ･ P ^ {\\frac{0.421}{\\sin h}} ･ (1 - P ^ {\\frac{1}{\\sin h}}) ^ {2.277}\\end{align}$ ････ (2.2-b)  \n",
    "\n",
    "$ \\begin{align}P = \\biggl(\\frac{I_b}{I_0}\\biggr) ^ {\\sin h}\\end{align}$ ････････････････････････････････････････ (2.2-c)  \n",
    "\n",
    "$ \\begin{align}I_b = \\frac{I_G - I_d}{\\sin h}\\end{align}$ ･･････････････････････････････････････････ (2.2-d)  \n",
    "\n",
    "ここで、  \n",
    "\n",
    "$ I_G $ ：水平面全天日射量 [MJ/(m<sup>2</sup>･h)]  \n",
    "$ I_b $ ：法線面直達日射量 [MJ/(m<sup>2</sup>･h)]  \n",
    "$ I_d $ ：水平面天空日射量 [MJ/(m<sup>2</sup>･h)]  \n",
    "$ I_0 $ ：法線面大気外日射量（=1367.0） [MJ/(m<sup>2</sup>･h)]  \n",
    "$ P $ ：大気透過率  \n",
    "\n",
    "である。  "
   ]
  },
  {
   "cell_type": "code",
   "execution_count": null,
   "metadata": {
    "collapsed": true
   },
   "outputs": [],
   "source": [
    "#直散分離（Watanabe model）\n",
    "sol_i0 = 1367.0 #(W/m2)\n",
    "sol_p = (sol_ib / sol_i0) ** sol_sinh\n",
    "sol_q = (0.8672 + 0.7505 * sol_sinh) * sol_p ** (0.421 / sol_sinh) * (1 - sol_p ** (1 / sol_sinh)) ** 2.277\n",
    "sol_id = sol_i0 * sol_sinh * sol_q / (1 + sol_q)\n",
    "sol_ib = (sol_ig - sol_id) / sol_sinh\n",
    "#収束計算"
   ]
  },
  {
   "cell_type": "markdown",
   "metadata": {},
   "source": [
    "### 3.3. 斜面日射量（Isotropic model）"
   ]
  },
  {
   "cell_type": "markdown",
   "metadata": {},
   "source": [
    "（参考：拡張アメダス気象データ1981-2000解説書 8.2.2　斜面日射量の計算）  \n",
    "\n",
    "斜面日射量（Isotropic model）の計算方法を以下に示す。  \n",
    "\n",
    "$ \\begin{align}I_{T,b} = I_b ･ \\cos i\\end{align}$ ･････････････････････････････････････････ (2.3-a)  \n",
    "\n",
    "$ \\begin{align}I_{T,d} = I_d ･ \\frac{1 + \\cos\\beta}{2}\\end{align}$ ････････････････････････････････････ (2.3-b)  \n",
    "\n",
    "$ \\begin{align}I_{T,r} = I_G ･ \\frac{1 - \\cos\\beta}{2} ･ \\rho\\end{align}$ ･････････････････････････････････ (2.3-c)  \n",
    "\n",
    "ここで、  \n",
    "\n",
    "$ I_{T,b} $ ：斜面直達日射量 [MJ/(m<sup>2</sup>･h)]  \n",
    "$ I_{T,d} $ ：斜面天空日射量 [MJ/(m<sup>2</sup>･h)]  \n",
    "$ I_{T,r} $ ：斜面地表面反射日射量 [MJ/(m<sup>2</sup>･h)]  \n",
    "$ i $ ：法線面直達日射の入射角 (°)  \n",
    "$ \\beta $ ：水平面に対する斜面の傾斜角 (°)  \n",
    "$ \\rho $ ：アルベド  \n",
    "\n",
    "である。  "
   ]
  },
  {
   "cell_type": "code",
   "execution_count": 2,
   "metadata": {},
   "outputs": [
    {
     "ename": "NameError",
     "evalue": "name 'sol_ib' is not defined",
     "output_type": "error",
     "traceback": [
      "\u001b[1;31m---------------------------------------------------------------------------\u001b[0m",
      "\u001b[1;31mNameError\u001b[0m                                 Traceback (most recent call last)",
      "\u001b[1;32m<ipython-input-2-dbc5215a9707>\u001b[0m in \u001b[0;36m<module>\u001b[1;34m()\u001b[0m\n\u001b[0;32m      1\u001b[0m \u001b[1;31m#斜面日射量（Isotropic model）\u001b[0m\u001b[1;33m\u001b[0m\u001b[1;33m\u001b[0m\u001b[0m\n\u001b[1;32m----> 2\u001b[1;33m \u001b[0msol_itb\u001b[0m \u001b[1;33m=\u001b[0m \u001b[0msol_ib\u001b[0m \u001b[1;33m*\u001b[0m \u001b[0msol_cosi\u001b[0m\u001b[1;33m\u001b[0m\u001b[0m\n\u001b[0m\u001b[0;32m      3\u001b[0m \u001b[0msol_itd\u001b[0m \u001b[1;33m=\u001b[0m \u001b[0msol_id\u001b[0m \u001b[1;33m*\u001b[0m \u001b[1;33m(\u001b[0m\u001b[1;36m1\u001b[0m \u001b[1;33m+\u001b[0m \u001b[0mmath\u001b[0m\u001b[1;33m.\u001b[0m\u001b[0mcos\u001b[0m\u001b[1;33m(\u001b[0m\u001b[0mmath\u001b[0m\u001b[1;33m.\u001b[0m\u001b[0mradians\u001b[0m\u001b[1;33m(\u001b[0m\u001b[0msol_beta\u001b[0m\u001b[1;33m)\u001b[0m\u001b[1;33m)\u001b[0m\u001b[1;33m)\u001b[0m \u001b[1;33m/\u001b[0m \u001b[1;36m2\u001b[0m\u001b[1;33m\u001b[0m\u001b[0m\n\u001b[0;32m      4\u001b[0m \u001b[0msol_itr\u001b[0m \u001b[1;33m=\u001b[0m \u001b[0msol_ig\u001b[0m \u001b[1;33m*\u001b[0m \u001b[1;33m(\u001b[0m\u001b[1;36m1\u001b[0m \u001b[1;33m-\u001b[0m \u001b[0mmath\u001b[0m\u001b[1;33m.\u001b[0m\u001b[0mcos\u001b[0m\u001b[1;33m(\u001b[0m\u001b[0mmath\u001b[0m\u001b[1;33m.\u001b[0m\u001b[0mradians\u001b[0m\u001b[1;33m(\u001b[0m\u001b[0msol_beta\u001b[0m\u001b[1;33m)\u001b[0m\u001b[1;33m)\u001b[0m\u001b[1;33m)\u001b[0m \u001b[1;33m/\u001b[0m \u001b[1;36m2\u001b[0m \u001b[1;33m*\u001b[0m \u001b[0msol_rho\u001b[0m\u001b[1;33m\u001b[0m\u001b[0m\n",
      "\u001b[1;31mNameError\u001b[0m: name 'sol_ib' is not defined"
     ]
    }
   ],
   "source": [
    "#斜面日射量（Isotropic model）\n",
    "sol_itb = sol_ib * sol_cosi\n",
    "sol_itd = sol_id * (1 + math.cos(math.radians(sol_beta))) / 2\n",
    "sol_itr = sol_ig * (1 - math.cos(math.radians(sol_beta))) / 2 * sol_rho"
   ]
  },
  {
   "cell_type": "markdown",
   "metadata": {},
   "source": [
    "## 4. ひさしの日除け計算  "
   ]
  },
  {
   "cell_type": "code",
   "execution_count": null,
   "metadata": {
    "collapsed": true
   },
   "outputs": [],
   "source": []
  },
  {
   "cell_type": "markdown",
   "metadata": {},
   "source": [
    "## 5. 窓の日射熱取得率の計算 "
   ]
  },
  {
   "cell_type": "markdown",
   "metadata": {},
   "source": [
    "### 5.1. グレージング複合体の日射熱取得率  "
   ]
  },
  {
   "cell_type": "markdown",
   "metadata": {},
   "source": [
    "### 5.1.1. 面材の光学特性"
   ]
  },
  {
   "cell_type": "markdown",
   "metadata": {},
   "source": [
    "### 5.1.1.1. ガラス"
   ]
  },
  {
   "cell_type": "markdown",
   "metadata": {},
   "source": [
    "説明：垂直入射時のガラスの日射透過率及び日射反射率から任意の入射角におけるガラスの日射透過率及び日射反射率を計算する。"
   ]
  },
  {
   "cell_type": "markdown",
   "metadata": {},
   "source": [
    "### 入力値  \n",
    "$ \\tau_{0,f} $ ：ガラスの正面側からの入射光に対する垂直入射時の日射透過率  \n",
    "$ \\tau_{0,b} $ ：ガラスの背面側からの入射光に対する垂直入射時の日射透過率  \n",
    "$ \\rho_{0,f} $ ：ガラスの正面側からの入射光に対する垂直入射時の日射反射率  \n",
    "$ \\rho_{0,b} $ ：ガラスの背面側からの入射光に対する垂直入射時の日射反射率  \n",
    "$ \\phi$        ：日射の入射角（rad.）  \n",
    "gtype          ：ガラスの種類flag（0：透明フロート板ガラス、1：Low-Eガラス）  \n",
    "ctypef         ：正面側の膜の有無flag（0：膜なし、1：膜あり）  \n",
    "ctypeb         ：背面側の膜の有無flag（0：膜なし、1：膜あり）  "
   ]
  },
  {
   "cell_type": "markdown",
   "metadata": {},
   "source": [
    "### 出力値\n",
    "$ \\tau_{\\phi,f} $ ：ガラスの正面側からの入射光に対する入射角$\\phi$の日射透過率  \n",
    "$ \\tau_{\\phi,b} $ ：ガラスの背面側からの入射光に対する入射角$\\phi$の日射透過率  \n",
    "$ \\rho_{\\phi,f} $ ：ガラスの正面側からの入射光に対する入射角$\\phi$の日射反射率  \n",
    "$ \\rho_{\\phi,b} $ ：ガラスの背面側からの入射光に対する入射角$\\phi$の日射反射率"
   ]
  },
  {
   "cell_type": "markdown",
   "metadata": {},
   "source": [
    "#### データ構造と値の範囲"
   ]
  },
  {
   "cell_type": "markdown",
   "metadata": {},
   "source": [
    "$\\tau_{0,f}$・$\\tau_{0,b}$・$\\rho_{0,f}$・$\\rho_{0,b}$の組み合わせを1つの変数（タプル）で表し\"glass_input\"とする。  \n",
    "全ての値は0.0以上1.0以下の値をとる。  \n",
    "$\\tau_{0,f}$ と $\\rho_{0,f}$ の合計は1.0を超えない。  \n",
    "$\\tau_{0,b}$ と $\\rho_{0,b}$ の合計は1.0を超えない。  \n",
    "$\\phi$は0.0以上 $\\begin{align}\\frac{\\pi}{2}\\end{align}$以下の値をとる。 "
   ]
  },
  {
   "cell_type": "code",
   "execution_count": 4,
   "metadata": {
    "collapsed": true
   },
   "outputs": [],
   "source": [
    "glass_input = namedtuple('glass_input','TRS0f TRS0b REF0f REF0b phi gtype ctypef ctypeb')\n",
    "# TRS0f：正面側からの入射光に対する垂直入射時の日射透過率\n",
    "# TRS0f：正面側からの入射光に対する垂直入射時の日射透過率\n",
    "# TRS0b：背面側からの入射光に対する垂直入射時の日射透過率\n",
    "# REF0f：正面側からの入射光に対する垂直入射時の日射反射率\n",
    "# REF0b：背面側からの入射光に対する垂直入射時の日射反射率\n",
    "# phi：日射の入射角（rad.）\n",
    "# gtype：ガラスの種類flag（0：透明フロート板ガラス、1：Low-Eガラス）\n",
    "# ctypef：正面側の膜の有無flag（0：膜なし、1：膜あり）\n",
    "# ctypeb：背面側の膜の有無flag（0：膜なし、1：膜あり）"
   ]
  },
  {
   "cell_type": "markdown",
   "metadata": {},
   "source": [
    "#### 入射角$\\phi$の日射透過率及び日射反射率の計算"
   ]
  },
  {
   "cell_type": "markdown",
   "metadata": {},
   "source": [
    "（参考：JIS A 2103：2014 附属書G 斜入射に対する板ガラスの光学特性の計算方法）  \n",
    "\n",
    "入射角によって日射特性が変化するガラスの日射透過率及び日射反射率の計算方法を以下に示す。  \n",
    "\n",
    "$ \\begin{align}\\tau_{\\phi,f} = \\tau_{0,f}･\\sum_{i=0}^5 m_{i}･\\cos^i\\phi\\end{align} $ ･････････････････････････････ (4.1.1.1-a)\n",
    "\n",
    "$ \\begin{align}\\tau_{\\phi,b} = \\tau_{0,b}･\\sum_{i=0}^5 m_{i}･\\cos^i\\phi\\end{align} $ ･････････････････････････････ (4.1.1.1-b)\n",
    "\n",
    "$ \\begin{align}\\rho_{\\phi,f} =\\rho_{0,f}+(1-\\rho_{0,f})･\\sum_{i=0}^5 m_{i}･\\cos^i\\phi\\end{align} $ ･････････････････ (4.1.1.1-c)\n",
    "\n",
    "$ \\begin{align}\\rho_{\\phi,b} =\\rho_{0,b}+(1-\\rho_{0,b})･\\sum_{i=0}^5 m_{i}･\\cos^i\\phi\\end{align} $ ･････････････････ (4.1.1.1-d)  \n",
    "\n",
    "ここで、  \n",
    "\n",
    "$ m_{i} $ ：ガラス種類ごとの係数  \n",
    "\n",
    "である。"
   ]
  },
  {
   "cell_type": "code",
   "execution_count": 1,
   "metadata": {
    "collapsed": true
   },
   "outputs": [],
   "source": [
    "# 入射角phiのglass_TRSf glass_TRSb glass_REFf glass_REFb を算出する。\n",
    "\n",
    "def glass_TRSf(L):\n",
    "    if L.TRS0f < 0.0:                   return ValueError\n",
    "    elif L.TRS0f > 1.0:                 return ValueError \n",
    "    elif (L.TRS0f + L.REF0f) > 1.0:     return ValueError \n",
    "    elif L.phi <  0.0:                  return ValueError\n",
    "    elif L.phi >  (math.pi / 2.0):      return ValueError\n",
    "    else:\n",
    "        glass_TRSnf = 0.0\n",
    "        for i in range(0, 6):\n",
    "            glass_TRSnf += glass_mTRS(L)[i] * math.cos(L.phi) ** i\n",
    "        return L.TRS0f * glass_TRSnf\n",
    "\n",
    "def glass_TRSb(L):\n",
    "    if L.TRS0b < 0.0:                   return ValueError\n",
    "    elif L.TRS0b > 1.0:                 return ValueError\n",
    "    elif (L.TRS0b + L.REF0b) > 1.0:     return ValueError\n",
    "    elif L.phi <  0.0:                  return ValueError\n",
    "    elif L.phi >  (math.pi / 2.0):      return ValueError\n",
    "    else:\n",
    "        glass_TRSnb = 0.0\n",
    "        for i in range(0, 6):\n",
    "            glass_TRSnb += glass_mTRS(L)[i] * math.cos(L.phi) ** i\n",
    "        return L.TRS0b * glass_TRSnb\n",
    "    \n",
    "def glass_REFf(L):\n",
    "    if L.REF0f < 0.0:                   return ValueError\n",
    "    elif L.REF0f > 1.0:                 return ValueError\n",
    "    elif (L.TRS0f + L.REF0f) > 1.0:     return ValueError\n",
    "    elif L.phi <  0.0:                  return ValueError\n",
    "    elif L.phi >  (math.pi / 2.0):      return ValueError\n",
    "    else:\n",
    "        glass_REFnf = 0.0\n",
    "        for i in range(0, 6):\n",
    "            if L.ctypef == 0:\n",
    "                glass_REFnf += glass_mREFg(L)[i] * math.cos(L.phi) ** i\n",
    "            elif L.ctypef == 1:\n",
    "                glass_REFnf += glass_mREFc(L)[i] * math.cos(L.phi) ** i\n",
    "\n",
    "        return L.REF0f + (1 - L.REF0f) * glass_REFnf\n",
    "    \n",
    "def glass_REFb(L):\n",
    "    if L.REF0b < 0.0:                   return ValueError\n",
    "    elif L.REF0b > 1.0:                 return ValueError\n",
    "    elif (L.TRS0b + L.REF0b) > 1.0:     return ValueError\n",
    "    elif L.phi <  0.0:                  return ValueError\n",
    "    elif L.phi >  (math.pi / 2.0):      return ValueError\n",
    "    else:\n",
    "        glass_REFnb = 0.0\n",
    "        for i in range(0, 6):\n",
    "            if L.ctypeb == 0:\n",
    "                glass_REFnb += glass_mREFg(L)[i] * math.cos(L.phi) ** i\n",
    "            elif L.ctypeb == 1:\n",
    "                glass_REFnb += glass_mREFc(L)[i] * math.cos(L.phi) ** i\n",
    "\n",
    "        return L.REF0b + (1 - L.REF0b) * glass_REFnb\n"
   ]
  },
  {
   "cell_type": "markdown",
   "metadata": {},
   "source": [
    "$ m_{i} $ の係数表を以下に示す（参考：JIS A 2103：2014 表G.1）。なお、本仕様書では透明フロート板ガラス及びLow-Eガラスのみについてプログラムを記述する。  \n",
    "\n",
    "| 板ガラス品種分類              | 規準化透過率又は規準化反射率 | $m_0$ | $m_1$ | $m_2$ | $m_3$ | $m_4$ | $m_5$ |\n",
    "| :---                      | :---                         | ---: | ---: | ---: | ---: | ---: | ---: |\n",
    "| 透明フロート板ガラス            | 規準化透過率                 | 0.000 | 2.552 | 1.364 | -11.388 | 13.617 | -5.146 |\n",
    "|                               | 規準化反射率(ガラス面)       | 1.000 | -5.189 | 12.392 | -16.593 | 11.851 | -3.461 |\n",
    "| 熱線吸収板ガラス              | 規準化透過率                 | 0.000 | 1.760 | 3.770 | -14.901 | 16.422 | -6.052 |\n",
    "|                               | 規準化反射率(ガラス面)       | 1.000 | -5.189 | 12.392 | -16.593 | 11.851 | -3.461 |\n",
    "| 熱線反射ガラス                | 規準化透過率                 | 0.000 | 3.297 | -1.122 | -8.408 | 12.206 | -4.972 |\n",
    "|                               | 規準化反射率(ガラス面)       | 1.000 | -5.842 | 15.264 | -21.642 | 15.948 | -4.727 |\n",
    "|                               | 規準化反射率(膜面)           | 1.000 | -5.842 | 15.264 | -21.642 | 15.948 | -4.727 |\n",
    "| 熱線吸収熱線反射ガラス        | 規準化透過率                 | 0.000 | 2.558 | 0.989 | -11.214 | 14.275 | -5.608 |\n",
    "|                               | 規準化反射率(ガラス面)       | 1.000 | -5.842 | 15.264 | -21.642 | 15.948 | -4.727 |\n",
    "|                               | 規準化反射率(膜面)           | 1.000 | -5.842 | 15.264 | -21.642 | 15.948 | -4.727 |\n",
    "| 高性能熱線反射ガラスSシリーズ | 規準化透過率                 | 0.000 | 5.342 | -10.170 | 6.670 | 0.886 | -1.728 |\n",
    "|                               | 規準化反射率(ガラス面)       | 1.000 | -6.459 | 18.722 | -28.982 | 22.804 | -7.085 |\n",
    "|                               | 規準化反射率(膜面)           | 1.000 | -9.187 | 33.681 | -59.593 | 50.413 | -16.314 |\n",
    "| 高性能熱線反射ガラスTシリーズ | 規準化透過率                 | 0.000 | 2.552 | 1.364 | -11.388 | 13.617 | -5.146 |\n",
    "|                               | 規準化反射率(ガラス面)       | 1.000 | -5.782 | 14.816 | -20.567 | 14.862 | -4.331 |\n",
    "|                               | 規準化反射率(膜面)           | 1.000 | -8.900 | 31.953 | -55.934 | 47.050 | -15.176 |\n",
    "| Low-Eガラス                    | 規準化透過率                 | 0.000 | 2.273 | 1.631 | -10.358 | 11.769 | -4.316 |\n",
    "|                               | 規準化反射率(ガラス面)       | 1.000 | -5.084 | 12.646 | -18.213 | 13.967 | -4.316 |\n",
    "|                               | 規準化反射率(膜面)           | 1.000 | -4.387 | 9.175 | -11.152 | 7.416 | -2.052 |\n"
   ]
  },
  {
   "cell_type": "code",
   "execution_count": 6,
   "metadata": {
    "collapsed": true
   },
   "outputs": [],
   "source": [
    "#係数mを選択する。ここでは、透明フロート板ガラス及びLow-Eガラスのみを記述する。\n",
    "\n",
    "def glass_mTRS(L):\n",
    "    if L.gtype == 0:    return [0.000, 2.552, 1.364, -11.388, 13.617, -5.146]\n",
    "    elif L.gtype == 1:  return [0.000, 2.273, 1.631, -10.358, 11.769, -4.316]\n",
    "    else:               return ValueError\n",
    "\n",
    "def glass_mREFg(L):\n",
    "    if L.gtype == 0:    return [1.000, -5.189, 12.392, -16.593, 11.851, -3.461]\n",
    "    elif L.gtype == 1:  return [1.000, -5.084, 12.646, -18.213, 13.967, -4.316]\n",
    "    else:               return ValueError\n",
    "\n",
    "def glass_mREFc(L):\n",
    "    if L.gtype == 0:    return ValueError\n",
    "    elif L.gtype == 1:  return [1.000, -4.387, 9.175, -11.152, 7.416, -2.052]\n",
    "    else:               return ValueError\n"
   ]
  },
  {
   "cell_type": "markdown",
   "metadata": {
    "collapsed": true
   },
   "source": [
    "### プログラムテスト"
   ]
  },
  {
   "cell_type": "markdown",
   "metadata": {},
   "source": [
    "#### 入力"
   ]
  },
  {
   "cell_type": "markdown",
   "metadata": {},
   "source": [
    "入力[1]： ガラスの正面側からの入射光に対する垂直入射時の日射透過率  \n",
    "入力[2]： ガラスの背面側からの入射光に対する垂直入射時の日射透過率  \n",
    "入力[3]： ガラスの正面側からの入射光に対する垂直入射時の日射反射率  \n",
    "入力[4]： ガラスの背面側からの入射光に対する垂直入射時の日射反射率  \n",
    "入力[5]： 日射の入射角（rad.）\n",
    "入力[6]： ガラスの種類flag（0：透明フロート板ガラス、1：Low-Eガラス）  \n",
    "入力[7]： 正面側の膜の有無flag（0：膜なし、1：膜あり）  \n",
    "入力[8]： 背面側の膜の有無flag（0：膜なし、1：膜あり）  "
   ]
  },
  {
   "cell_type": "markdown",
   "metadata": {},
   "source": [
    "#### 出力"
   ]
  },
  {
   "cell_type": "markdown",
   "metadata": {},
   "source": [
    "出力[1]：ガラスの正面側からの入射光に対する入射角$\\phi$の日射透過率  \n",
    "出力[2]：ガラスの背面側からの入射光に対する入射角$\\phi$の日射透過率  \n",
    "出力[3]：ガラスの正面側からの入射光に対する入射角$\\phi$の日射反射率  \n",
    "出力[4]：ガラスの背面側からの入射光に対する入射角$\\phi$の日射反射率"
   ]
  },
  {
   "cell_type": "code",
   "execution_count": 7,
   "metadata": {
    "collapsed": true
   },
   "outputs": [],
   "source": [
    "def glass_TestAngTrsRef(Ds):\n",
    "    \n",
    "    glass_RV = []\n",
    "    \n",
    "    # 正面側からの入射光に対する入射角φの日射透過率\n",
    "    glass_RV.append(glass_TRSf(Ds))\n",
    "    # 背面側からの入射光に対する入射角φの日射透過率\n",
    "    glass_RV.append(glass_TRSb(Ds))\n",
    "    # 正面側からの入射光に対する入射角φの日射反射率\n",
    "    glass_RV.append(glass_REFf(Ds))\n",
    "    # 背面側からの入射光に対する入射角φの日射反射率\n",
    "    glass_RV.append(glass_REFb(Ds))\n",
    "        \n",
    "    # テスト結果の出力\n",
    "    print (glass_RV)"
   ]
  },
  {
   "cell_type": "markdown",
   "metadata": {},
   "source": [
    "#### テストデータ"
   ]
  },
  {
   "cell_type": "code",
   "execution_count": 8,
   "metadata": {
    "collapsed": true
   },
   "outputs": [],
   "source": [
    "glass_inputDs = [glass_input(0.815, 0.815, 0.072, 0.072, math.pi / 18 * 0, 0, 0, 0),\n",
    "                 glass_input(0.815, 0.815, 0.072, 0.072, math.pi / 18 * 1, 0, 0, 0),\n",
    "                 glass_input(0.815, 0.815, 0.072, 0.072, math.pi / 18 * 2, 0, 0, 0),\n",
    "                 glass_input(0.815, 0.815, 0.072, 0.072, math.pi / 18 * 3, 0, 0, 0),\n",
    "                 glass_input(0.815, 0.815, 0.072, 0.072, math.pi / 18 * 4, 0, 0, 0),\n",
    "                 glass_input(0.815, 0.815, 0.072, 0.072, math.pi / 18 * 5, 0, 0, 0),\n",
    "                 glass_input(0.815, 0.815, 0.072, 0.072, math.pi / 18 * 6, 0, 0, 0),\n",
    "                 glass_input(0.815, 0.815, 0.072, 0.072, math.pi / 18 * 7, 0, 0, 0),\n",
    "                 glass_input(0.815, 0.815, 0.072, 0.072, math.pi / 18 * 8, 0, 0, 0),\n",
    "                 glass_input(0.815, 0.815, 0.072, 0.072, math.pi / 18 * 9, 0, 0, 0),\n",
    "                 glass_input(0.815, 0.815, 0.072, 0.072, math.pi / 18 * 0, 1, 1, 0),\n",
    "                 glass_input(0.815, 0.815, 0.072, 0.072, math.pi / 18 * 1, 1, 1, 0),\n",
    "                 glass_input(0.815, 0.815, 0.072, 0.072, math.pi / 18 * 2, 1, 1, 0),\n",
    "                 glass_input(0.815, 0.815, 0.072, 0.072, math.pi / 18 * 3, 1, 1, 0),\n",
    "                 glass_input(0.815, 0.815, 0.072, 0.072, math.pi / 18 * 4, 1, 1, 0),\n",
    "                 glass_input(0.815, 0.815, 0.072, 0.072, math.pi / 18 * 5, 1, 1, 0),\n",
    "                 glass_input(0.815, 0.815, 0.072, 0.072, math.pi / 18 * 6, 1, 1, 0),\n",
    "                 glass_input(0.815, 0.815, 0.072, 0.072, math.pi / 18 * 7, 1, 1, 0),\n",
    "                 glass_input(0.815, 0.815, 0.072, 0.072, math.pi / 18 * 8, 1, 1, 0),\n",
    "                 glass_input(0.815, 0.815, 0.072, 0.072, math.pi / 18 * 9, 1, 1, 0),\n",
    "                 glass_input(0.815, 0.815, 0.072, 0.072, math.pi / 18 * 0, 1, 0, 1),\n",
    "                 glass_input(0.815, 0.815, 0.072, 0.072, math.pi / 18 * 1, 1, 0, 1),\n",
    "                 glass_input(0.815, 0.815, 0.072, 0.072, math.pi / 18 * 2, 1, 0, 1),\n",
    "                 glass_input(0.815, 0.815, 0.072, 0.072, math.pi / 18 * 3, 1, 0, 1),\n",
    "                 glass_input(0.815, 0.815, 0.072, 0.072, math.pi / 18 * 4, 1, 0, 1),\n",
    "                 glass_input(0.815, 0.815, 0.072, 0.072, math.pi / 18 * 5, 1, 0, 1),\n",
    "                 glass_input(0.815, 0.815, 0.072, 0.072, math.pi / 18 * 6, 1, 0, 1),\n",
    "                 glass_input(0.815, 0.815, 0.072, 0.072, math.pi / 18 * 7, 1, 0, 1),\n",
    "                 glass_input(0.815, 0.815, 0.072, 0.072, math.pi / 18 * 8, 1, 0, 1),\n",
    "                 glass_input(0.815, 0.815, 0.072, 0.072, math.pi / 18 * 9, 1, 0, 1)]"
   ]
  },
  {
   "cell_type": "markdown",
   "metadata": {},
   "source": [
    "#### テスト結果"
   ]
  },
  {
   "cell_type": "code",
   "execution_count": 9,
   "metadata": {},
   "outputs": [
    {
     "name": "stdout",
     "output_type": "stream",
     "text": [
      "[0.8141850000000012, 0.8141850000000012, 0.07200000000000041, 0.07200000000000041]\n",
      "[0.8155349768594915, 0.8155349768594915, 0.07301961913715516, 0.07301961913715516]\n",
      "[0.8151494736460383, 0.8151494736460383, 0.07445869495324935, 0.07445869495324935]\n",
      "[0.8061308214289546, 0.8061308214289546, 0.074712501879066, 0.074712501879066]\n",
      "[0.7887349149655521, 0.7887349149655521, 0.07743033550193344, 0.07743033550193344]\n",
      "[0.7656289581956525, 0.7656289581956525, 0.09163574879437847, 0.09163574879437847]\n",
      "[0.7202562500000003, 0.7202562500000003, 0.12944899999999998, 0.12944899999999998]\n",
      "[0.602302695567371, 0.602302695567371, 0.21764921207768106, 0.21764921207768106]\n",
      "[0.3555188030622195, 0.3555188030622195, 0.4394415797851921, 0.4394415797851921]\n",
      "[1.2735591923052985e-16, 1.2735591923052985e-16, 0.9999999999999997, 0.9999999999999997]\n",
      "[0.8141849999999997, 0.8141849999999997, 0.07200000000000205, 0.07200000000000081]\n",
      "[0.8143612568331651, 0.8143612568331651, 0.07319582612105147, 0.07374424606059289]\n",
      "[0.8114514069467096, 0.8114514069467096, 0.07632682187988905, 0.07647350292336358]\n",
      "[0.7999850263639304, 0.7999850263639304, 0.08169783573653205, 0.07745725598575857]\n",
      "[0.7793987181623502, 0.7793987181623502, 0.09312061599103716, 0.08148442934515429]\n",
      "[0.7494352849182793, 0.7494352849182793, 0.11842622664295022, 0.100546857754732]\n",
      "[0.6929028124999999, 0.6929028124999999, 0.17002000000000034, 0.14711000000000046]\n",
      "[0.5661291772372168, 0.5661291772372168, 0.27479261338757943, 0.24155791780873304]\n",
      "[0.3257282496284724, 0.3257282496284724, 0.5015629982644639, 0.4572578132991038]\n",
      "[1.1343260360932382e-16, 1.1343260360932382e-16, 0.9999999999999998, 0.9999999999999997]\n",
      "[0.8141849999999997, 0.8141849999999997, 0.07200000000000081, 0.07200000000000205]\n",
      "[0.8143612568331651, 0.8143612568331651, 0.07374424606059289, 0.07319582612105147]\n",
      "[0.8114514069467096, 0.8114514069467096, 0.07647350292336358, 0.07632682187988905]\n",
      "[0.7999850263639304, 0.7999850263639304, 0.07745725598575857, 0.08169783573653205]\n",
      "[0.7793987181623502, 0.7793987181623502, 0.08148442934515429, 0.09312061599103716]\n",
      "[0.7494352849182793, 0.7494352849182793, 0.100546857754732, 0.11842622664295022]\n",
      "[0.6929028124999999, 0.6929028124999999, 0.14711000000000046, 0.17002000000000034]\n",
      "[0.5661291772372168, 0.5661291772372168, 0.24155791780873304, 0.27479261338757943]\n",
      "[0.3257282496284724, 0.3257282496284724, 0.4572578132991038, 0.5015629982644639]\n",
      "[1.1343260360932382e-16, 1.1343260360932382e-16, 0.9999999999999997, 0.9999999999999998]\n"
     ]
    }
   ],
   "source": [
    "for d in glass_inputDs:\n",
    "    glass_TestAngTrsRef(d)"
   ]
  },
  {
   "cell_type": "markdown",
   "metadata": {},
   "source": [
    "### 5.1.1.2. ロールスクリーン"
   ]
  },
  {
   "cell_type": "markdown",
   "metadata": {},
   "source": [
    "説明：垂直入射時のロールスクリーンの日射透過率及び日射反射率から任意の入射角におけるロールスクリーンの日射透過率及び日射反射率を計算する。"
   ]
  },
  {
   "cell_type": "markdown",
   "metadata": {},
   "source": [
    "### 入力値  \n",
    "$ \\tau_{0,f} $ ：ロールスクリーンの正面側からの入射光に対する垂直入射時の日射透過率  \n",
    "$ \\tau_{0,b} $ ：ロールスクリーンの背面側からの入射光に対する垂直入射時の日射透過率  \n",
    "$ \\rho_{0,f} $ ：ロールスクリーンの正面側からの入射光に対する垂直入射時の日射反射率  \n",
    "$ \\rho_{0,b} $ ：ロールスクリーンの背面側からの入射光に対する垂直入射時の日射反射率  \n",
    "$ \\phi$        ：日射の入射角（rad.）"
   ]
  },
  {
   "cell_type": "markdown",
   "metadata": {},
   "source": [
    "### 出力値\n",
    "$ \\tau_{\\phi,f} $ ：ロールスクリーンの正面側からの入射光に対する入射角$\\phi$の日射透過率  \n",
    "$ \\tau_{\\phi,b} $ ：ロールスクリーンの背面側からの入射光に対する入射角$\\phi$の日射透過率  \n",
    "$ \\rho_{\\phi,f} $ ：ロールスクリーンの正面側からの入射光に対する入射角$\\phi$の日射反射率  \n",
    "$ \\rho_{\\phi,b} $ ：ロールスクリーンの背面側からの入射光に対する入射角$\\phi$の日射反射率"
   ]
  },
  {
   "cell_type": "markdown",
   "metadata": {},
   "source": [
    "### 計算方法"
   ]
  },
  {
   "cell_type": "markdown",
   "metadata": {},
   "source": [
    "#### データ構造と値の範囲"
   ]
  },
  {
   "cell_type": "markdown",
   "metadata": {},
   "source": [
    "$\\tau_{0,f}$・$\\tau_{0,b}$・$\\rho_{0,f}$・$\\rho_{0,b}$の組み合わせを1つの変数（タプル）で表し\"role_input\"とする。  \n",
    "全ての値は0.0以上1.0以下の値をとる。  \n",
    "$\\tau_{0,f}$ と $\\rho_{0,f}$ の合計は1.0を超えない。  \n",
    "$\\tau_{0,b}$ と $\\rho_{0,b}$ の合計は1.0を超えない。  \n",
    "$\\phi$は0.0以上$ \\begin{align}\\frac {\\pi}{2}\\end{align}$以下の値をとる。  "
   ]
  },
  {
   "cell_type": "code",
   "execution_count": 10,
   "metadata": {
    "collapsed": true
   },
   "outputs": [],
   "source": [
    "role_input = namedtuple('role_input','TRS0f TRS0b REF0f REF0b phi')\n",
    "# TRS0f：正面側からの入射光に対する垂直入射時の日射透過率\n",
    "# TRS0b：背面側からの入射光に対する垂直入射時の日射透過率\n",
    "# REF0f：正面側からの入射光に対する垂直入射時の日射反射率\n",
    "# REF0b：背面側からの入射光に対する垂直入射時の日射反射率\n",
    "# phi：日射の入射角（rad.）"
   ]
  },
  {
   "cell_type": "markdown",
   "metadata": {},
   "source": [
    "#### 入射角φの日射透過率及び日射反射率の計算"
   ]
  },
  {
   "cell_type": "markdown",
   "metadata": {},
   "source": [
    "入射角によって日射特性が変化しないロールスクリーンの日射透過率及び日射反射率の計算方法を以下に示す。  \n",
    "\n",
    "$ \\begin{align}\\tau_{\\phi,f} = \\tau_{0,f}\\end{align}$ ････････････････････････････････････････････ (4.1.1.2-a)\n",
    "\n",
    "$ \\begin{align}\\tau_{\\phi,b} = \\tau_{0,b}\\end{align}$ ････････････････････････････････････････････ (4.1.1.2-b)\n",
    "\n",
    "$ \\begin{align}\\rho_{\\phi,f} =\\rho_{0,f}\\end{align}$ ････････････････････････････････････････････ (4.1.1.2-c)\n",
    "\n",
    "$ \\begin{align}\\rho_{\\phi,b} =\\rho_{0,b}\\end{align}$ ････････････････････････････････････････････ (4.1.1.2-d)  "
   ]
  },
  {
   "cell_type": "code",
   "execution_count": 11,
   "metadata": {
    "collapsed": true
   },
   "outputs": [],
   "source": [
    "# 入射角phiのrole_TRSf role_TRSb role_REFf role_REFb を算出する。\n",
    "\n",
    "def role_TRSf(L):\n",
    "    if L.TRS0f < 0.0:                   return ValueError\n",
    "    elif L.TRS0f > 1.0:                 return ValueError \n",
    "    elif (L.TRS0f + L.REF0f) > 1.0:     return ValueError \n",
    "    elif L.phi <  0.0:                  return ValueError\n",
    "    elif L.phi >  (math.pi / 2.0):      return ValueError\n",
    "    else:                               return L.TRS0f\n",
    "\n",
    "def role_TRSb(L):\n",
    "    if L.TRS0b < 0.0:                   return ValueError\n",
    "    elif L.TRS0b > 1.0:                 return ValueError\n",
    "    elif (L.TRS0b + L.REF0b) > 1.0:     return ValueError\n",
    "    elif L.phi <  0.0:                  return ValueError\n",
    "    elif L.phi >  (math.pi / 2.0):      return ValueError\n",
    "    else:                               return L.TRS0b\n",
    "    \n",
    "def role_REFf(L):\n",
    "    if L.REF0f < 0.0:                   return ValueError\n",
    "    elif L.REF0f > 1.0:                 return ValueError\n",
    "    elif (L.TRS0f + L.REF0f) > 1.0:     return ValueError\n",
    "    elif L.phi <  0.0:                  return ValueError\n",
    "    elif L.phi >  (math.pi / 2.0):      return ValueError\n",
    "    else:                               return L.REF0f\n",
    "    \n",
    "def role_REFb(L):\n",
    "    if L.REF0b < 0.0:                   return ValueError\n",
    "    elif L.REF0b > 1.0:                 return ValueError\n",
    "    elif (L.TRS0b + L.REF0b) > 1.0:     return ValueError\n",
    "    elif L.phi <  0.0:                  return ValueError\n",
    "    elif L.phi >  (math.pi / 2.0):      return ValueError\n",
    "    else:                               return L.REF0b\n"
   ]
  },
  {
   "cell_type": "markdown",
   "metadata": {},
   "source": [
    "### プログラムテスト"
   ]
  },
  {
   "cell_type": "markdown",
   "metadata": {},
   "source": [
    "#### 入力"
   ]
  },
  {
   "cell_type": "markdown",
   "metadata": {},
   "source": [
    "入力[1]： ロールスクリーンの正面側からの入射光に対する垂直入射時の日射透過率  \n",
    "入力[2]： ロールスクリーンの背面側からの入射光に対する垂直入射時の日射透過率  \n",
    "入力[3]： ロールスクリーンの正面側からの入射光に対する垂直入射時の日射反射率  \n",
    "入力[4]： ロールスクリーンの背面側からの入射光に対する垂直入射時の日射反射率  \n",
    "入力[5]： 日射の入射角（rad.）"
   ]
  },
  {
   "cell_type": "markdown",
   "metadata": {},
   "source": [
    "#### 出力"
   ]
  },
  {
   "cell_type": "markdown",
   "metadata": {},
   "source": [
    "出力[1]：ロールスクリーンの正面側からの入射光に対する入射角$\\phi$の日射透過率  \n",
    "出力[2]：ロールスクリーンの背面側からの入射光に対する入射角$\\phi$の日射透過率  \n",
    "出力[3]：ロールスクリーンの正面側からの入射光に対する入射角$\\phi$の日射反射率  \n",
    "出力[4]：ロールスクリーンの背面側からの入射光に対する入射角$\\phi$の日射反射率"
   ]
  },
  {
   "cell_type": "code",
   "execution_count": 12,
   "metadata": {
    "collapsed": true
   },
   "outputs": [],
   "source": [
    "def role_TestAngTrsRef(Ds):\n",
    "    \n",
    "    role_RV = []\n",
    "    \n",
    "    # ロールスクリーンの正面側からの入射光に対する入射角φの日射透過率\n",
    "    role_RV.append(role_TRSf(Ds))\n",
    "    # ロールスクリーンの背面側からの入射光に対する入射角φの日射透過率\n",
    "    role_RV.append(role_TRSb(Ds))\n",
    "    # ロールスクリーンの正面側からの入射光に対する入射角φの日射反射率\n",
    "    role_RV.append(role_REFf(Ds))\n",
    "    # ロールスクリーンの背面側からの入射光に対する入射角φの日射反射率\n",
    "    role_RV.append(role_REFb(Ds))\n",
    "        \n",
    "    # テスト結果の出力\n",
    "    print (role_RV)"
   ]
  },
  {
   "cell_type": "markdown",
   "metadata": {},
   "source": [
    "#### テストデータ"
   ]
  },
  {
   "cell_type": "code",
   "execution_count": 13,
   "metadata": {
    "collapsed": true
   },
   "outputs": [],
   "source": [
    "role_inputDs = [ role_input(0.9, 0.5, 0.05, 0.3, 0.0),\n",
    "                 role_input(0.9, 0.5, 0.05, 0.3, 0.5),\n",
    "                 role_input(0.9, 0.5, 0.05, 0.3, 1.0),\n",
    "                 role_input(0.9, 0.5, 0.05, 0.3, 1.5),\n",
    "                 role_input(-0.5, 0.5, 0.05, 0.3, 0.5),\n",
    "                 role_input(0.9, -0.5, 0.05, 0.3, 0.5), \n",
    "                 role_input(0.9, 0.5, -0.5, 0.3, 0.5),\n",
    "                 role_input(0.9, 0.5, 0.05, -0.5, 0.5),\n",
    "                 role_input(0.9, 0.5, 0.05, 0.3, -0.5) ]"
   ]
  },
  {
   "cell_type": "markdown",
   "metadata": {},
   "source": [
    "#### テスト結果"
   ]
  },
  {
   "cell_type": "code",
   "execution_count": 14,
   "metadata": {},
   "outputs": [
    {
     "name": "stdout",
     "output_type": "stream",
     "text": [
      "[0.9, 0.5, 0.05, 0.3]\n",
      "[0.9, 0.5, 0.05, 0.3]\n",
      "[0.9, 0.5, 0.05, 0.3]\n",
      "[0.9, 0.5, 0.05, 0.3]\n",
      "[<class 'ValueError'>, 0.5, 0.05, 0.3]\n",
      "[0.9, <class 'ValueError'>, 0.05, 0.3]\n",
      "[0.9, 0.5, <class 'ValueError'>, 0.3]\n",
      "[0.9, 0.5, 0.05, <class 'ValueError'>]\n",
      "[<class 'ValueError'>, <class 'ValueError'>, <class 'ValueError'>, <class 'ValueError'>]\n"
     ]
    }
   ],
   "source": [
    "for d in role_inputDs:\n",
    "    role_TestAngTrsRef(d)"
   ]
  },
  {
   "cell_type": "markdown",
   "metadata": {},
   "source": [
    "### 5.1.1.3. ブラインド"
   ]
  },
  {
   "cell_type": "markdown",
   "metadata": {},
   "source": [
    "### 5.1.1.3.1. 幾何学形状の作成"
   ]
  },
  {
   "cell_type": "code",
   "execution_count": null,
   "metadata": {
    "collapsed": true
   },
   "outputs": [],
   "source": []
  },
  {
   "cell_type": "markdown",
   "metadata": {},
   "source": [
    "### 5.1.1.3.2. 鏡面反射成分の計算"
   ]
  },
  {
   "cell_type": "code",
   "execution_count": null,
   "metadata": {
    "collapsed": true
   },
   "outputs": [],
   "source": []
  },
  {
   "cell_type": "markdown",
   "metadata": {},
   "source": [
    "### 5.1.1.3.3. 拡散反射成分の計算"
   ]
  },
  {
   "cell_type": "code",
   "execution_count": null,
   "metadata": {
    "collapsed": true
   },
   "outputs": [],
   "source": []
  },
  {
   "cell_type": "markdown",
   "metadata": {},
   "source": [
    "### 5.1.1.3.4. 全体計算"
   ]
  },
  {
   "cell_type": "code",
   "execution_count": null,
   "metadata": {
    "collapsed": true
   },
   "outputs": [],
   "source": []
  },
  {
   "cell_type": "markdown",
   "metadata": {},
   "source": [
    "### 5.1.2. 短波長放射（日射）の多重反射 "
   ]
  },
  {
   "cell_type": "markdown",
   "metadata": {},
   "source": [
    "説明：グレージング・日除け・付属部材等の各層において、短波長日射の正面（室外）側からの透過率、背面（室内）側からの透過率、正面側からの反射率、背面側からの反射率が既知の場合に、短波長の多重反射を解いて、グレージング複合体全体の透過率および、各層で吸収される短波長の吸収率を計算する。添え字$i$は層の番号（0～$n$-1）であり、$n$は層の数を表す。"
   ]
  },
  {
   "cell_type": "markdown",
   "metadata": {},
   "source": [
    "### 入力値  \n",
    "$ \\tau_{f,j} $ ：層jの正面側からの入射光に対する日射透過率  \n",
    "$ \\tau_{b,j} $ ：層jの背面側からの入射光に対する日射透過率  \n",
    "$ \\rho_{f,j} $ ：層jの正面側からの入射光に対する日射反射率  \n",
    "$ \\rho_{b,j} $ ：層jの背面側からの入射光に対する日射反射率"
   ]
  },
  {
   "cell_type": "markdown",
   "metadata": {},
   "source": [
    "### 出力値\n",
    "$ \\alpha_j $ ：層jの正面側からの入射光に対する日射吸収率"
   ]
  },
  {
   "cell_type": "markdown",
   "metadata": {},
   "source": [
    "### 計算方法"
   ]
  },
  {
   "cell_type": "markdown",
   "metadata": {},
   "source": [
    "#### 層$j$のデータ構造と値の範囲"
   ]
  },
  {
   "cell_type": "markdown",
   "metadata": {},
   "source": [
    "層1つにつき、$\\tau_f$・$\\tau_b$・$\\rho_f$・$\\rho_b$の組み合わせを1つの変数（タプル）で表し\"layer\"とする。  \n",
    "全ての値は0.0以上1.0以下の値をとる。\n",
    "$\\tau_f$ と $\\rho_f$ の合計は1.0を超えない。  \n",
    "$\\tau_b$ と $\\rho_b$ の合計は1.0を超えない。"
   ]
  },
  {
   "cell_type": "code",
   "execution_count": 9,
   "metadata": {
    "collapsed": true
   },
   "outputs": [],
   "source": [
    "layer = namedtuple('glazing','TRSf TRSb REFf REFb')\n",
    "# TRSf：正面側からの入射光に対する日射透過率\n",
    "# TRSf：正面側からの入射光に対する日射透過率\n",
    "# TRSb：背面側からの入射光に対する日射透過率\n",
    "# REFf：正面側からの入射光に対する日射反射率\n",
    "# REFb：背面側からの入射光に対する日射反射率"
   ]
  },
  {
   "cell_type": "code",
   "execution_count": 10,
   "metadata": {
    "collapsed": true
   },
   "outputs": [],
   "source": [
    "# データが適切な範囲に収まっているかをチェック\n",
    "def CheckLayerSpec(L):\n",
    "    if(L.TRSf < 0): raise ValueError\n",
    "    if(L.TRSb < 0): raise ValueError\n",
    "    if(L.REFf < 0): raise ValueError\n",
    "    if(L.REFb < 0): raise ValueError\n",
    "    if(L.TRSf + L.REFf > 1.0): raise ValueError\n",
    "    if(L.TRSb + L.REFb > 1.0): raise ValueError"
   ]
  },
  {
   "cell_type": "markdown",
   "metadata": {},
   "source": [
    "#### 任意の層から任意の層までの多重反射計算"
   ]
  },
  {
   "cell_type": "markdown",
   "metadata": {},
   "source": [
    "（参考：JIS A 2103：2014 5.4.2 日射透過率及び各面材の日射吸収率）\n",
    "\n",
    "隣り合う層$i$から層$j$までの値の計算方法を以下に示す。  \n",
    "\n",
    "$ \\begin{align}\\tau_{f,i,j} = \\frac {\\tau_{f,i,j-1}･\\tau_{f,j}}{1-\\rho_{b,i,j-1}･\\rho_{f,j}}\\end{align}$ ････････････････････････････････ (4.1.2-a)\n",
    "\n",
    "$ \\begin{align}\\tau_{b,i,j} = \\frac {\\tau_{b,j}･\\tau_{b,i,j-1}}{1-\\rho_{b,i,j-1}･\\rho_{f,j}}\\end{align}$ ････････････････････････････････ (4.1.2-b)\n",
    "\n",
    "$ \\begin{align}\\rho_{f,i,j} = \\rho_{f,i,j-1} + \\frac {\\tau_{f,i,j-1}･\\rho_{f,j}･\\tau_{b,i,j-1}}{1-\\rho_{b,i,j-1}･\\rho_{f,j}}\\end{align}$ ･････････････････････ (4.1.2-c)\n",
    "\n",
    "$ \\begin{align}\\rho_{b,i,j} = \\rho_{b,j} + \\frac {\\tau_{b,j}･\\rho_{b,i,j-1}･\\tau_{f,j}}{1-\\rho_{b,i,j-1}･\\rho_{f,j}}\\end{align}$ ･･････････････････････････ (4.1.2-d)\n",
    "\n",
    "ここで、\n",
    "\n",
    "$ \\tau_{f,j} $　：　層$j$の正面側からの入射光に対する日射透過率  \n",
    "$ \\tau_{b,j} $　：　層$j$の背面側からの入射光に対する日射透過率  \n",
    "$ \\rho_{f,j} $　：　層$j$の正面側からの入射光に対する日射反射率  \n",
    "$ \\rho_{b,j} $　：　層$j$の背面側からの入射光に対する日射反射率  \n",
    "$ \\tau_{f,i,j} $　：　層$i$－$j$間の正面側からの入射光に対する日射透過率  \n",
    "$ \\tau_{b,i,j} $　：　層$i$－$j$間の背面側からの入射光に対する日射透過率  \n",
    "$ \\rho_{f,i,j} $　：　層$i$－$j$間の正面側からの入射光に対する日射反射率  \n",
    "$ \\rho_{b,i,j} $　：　層$i$－$j$間の背面側からの入射光に対する日射反射率  \n",
    "\n",
    "である。  \n",
    "任意の層$i$－$j$間の値を求める場合は、層$i+1$, $i+2$,..., $j-2$, $j-1$, $j$というように、式(4.1.2-a)～式(4.1.2-d)を逐次代入して求める。  \n",
    "ここで、$ i=j $ のときは、\n",
    "\n",
    "$ \\begin{align}\\tau_{f,i,j} = \\tau_{f,j}\\end{align} $ ････････････････････････････････････････････ (4.1.2-e)\n",
    "\n",
    "$ \\begin{align}\\tau_{b,i,j} = \\tau_{b,j}\\end{align} $ ････････････････････････････････････････････ (4.1.2-f)\n",
    "\n",
    "$ \\begin{align}\\rho_{f,i,j} = \\rho_{f,j}\\end{align} $ ････････････････････････････････････････････ (4.1.2-g)\n",
    "\n",
    "$ \\begin{align}\\rho_{b,i,j} = \\rho_{b,j}\\end{align} $ ････････････････････････････････････････････ (4.1.2-h)\n",
    "\n",
    "である。"
   ]
  },
  {
   "cell_type": "code",
   "execution_count": 11,
   "metadata": {
    "collapsed": true
   },
   "outputs": [],
   "source": [
    "# 層riから層rjの複合した、TRSf TRSb REFf REFb を算出する。\n",
    "def SolarRadAbsComp(L,ri,rj):\n",
    "    \n",
    "    # riとrjの数値の範囲に関するエラー処理\n",
    "    if ri <  0:      raise ValueError\n",
    "    if rj <  0:      raise ValueError\n",
    "    if ri >  rj:     raise ValueError\n",
    "    if rj >= len(L): raise ValueError\n",
    "\n",
    "    if ri == rj:\n",
    "        return L[ri]\n",
    "    else:\n",
    "        SRAC = SolarRadAbsComp(L, ri, rj-1)\n",
    "        trsf =              ( SRAC.TRSf  * L[rj].TRSf              ) / ( 1 - SRAC.REFb * L[rj].REFf )\n",
    "        trsb =              ( L[rj].TRSb * SRAC.TRSb               ) / ( 1 - SRAC.REFb * L[rj].REFf )\n",
    "        reff = SRAC.REFf  + ( SRAC.TRSf  * L[rj].REFf * SRAC.TRSb  ) / ( 1 - SRAC.REFb * L[rj].REFf )\n",
    "        refb = L[rj].REFb + ( L[rj].TRSb * SRAC.REFb  * L[rj].TRSf ) / ( 1 - SRAC.REFb * L[rj].REFf )\n",
    "        return layer( trsf, trsb, reff, refb )\n"
   ]
  },
  {
   "cell_type": "markdown",
   "metadata": {},
   "source": [
    "#### 各層の日射吸収率"
   ]
  },
  {
   "cell_type": "markdown",
   "metadata": {},
   "source": [
    "（参考：JIS A 2103：2014 5.4.2 日射透過率及び各面材の日射吸収率）\n",
    "\n",
    "各層の値の計算方法を以下に示す。  \n",
    "（JISでは添え字は1始まりであるが、本仕様書では0始まりとしている。） \n",
    "\n",
    "$ j = 0 $ かつ $ n = 0 $ の場合\n",
    "\n",
    "$ \\begin{align} \\alpha_j = \\alpha_{f,j} \\end{align} $ ･･････････････････････････････････････････････ (4.1.2-i)\n",
    "\n",
    "$ j = 0 $ かつ $ n ≠ 0 $ の場合\n",
    "\n",
    "$ \\begin{align} \\alpha_j = \\alpha_{f,j} + \\frac {\\tau_{f,0,j}･\\rho_{f,j+1,n}}{1-\\rho_{b,0,j}･\\rho_{f,j+1,n}}･\\alpha_{b,j} \\end{align} $ ･･････････････････････ (4.1.2-j)\n",
    "\n",
    "$ j = 1 $～$ n - 2 $ の場合  \n",
    "\n",
    "$ \\begin{align} \\alpha_j = \\frac {\\tau_{f,0,j-1}}{1-\\rho_{b,0,j-1}･\\rho_{f,j,n}}･\\alpha_{f,j} + \\frac {\\tau_{f,0,j}･\\rho_{f,j+1,n}}{1-\\rho_{b,0,j}･\\rho_{f,j+1,n}}･\\alpha_{b,j} \\end{align} $ ････ (4.1.2-k)\n",
    "\n",
    "$ j = n - 1 $ の場合\n",
    "\n",
    "$ \\begin{align} \\alpha_j = \\frac {\\tau_{f,0,j-1}}{1-\\rho_{b,0,j-1} \\rho_{f,j,n}}･\\alpha_{f,j} \\end{align} $ ･････････････････････････････ (4.1.2-l)\n",
    "\n",
    "ここで、\n",
    "\n",
    "$ \\alpha_j $ ：層jの面材の日射吸収率  \n",
    "$ j $ ：層の番号  \n",
    "$ n $ ：層の数  \n",
    "\n",
    "である。  \n",
    "また、\n",
    "\n",
    "$ \\begin{align} \\alpha_{f,j} = 1 - \\tau_{f,j} - \\rho_{f,j} \\end{align} $ ･･･････････････････････････････････ (4.1.2-m)\n",
    "\n",
    "$ \\begin{align} \\alpha_{b,j} = 1 - \\tau_{b,j} - \\rho_{b,j} \\end{align} $ ･･･････････････････････････････････ (4.1.2-n)\n",
    "\n",
    "である。"
   ]
  },
  {
   "cell_type": "code",
   "execution_count": 17,
   "metadata": {
    "collapsed": true
   },
   "outputs": [],
   "source": [
    "# 層iの日射吸収率を算出する。\n",
    "def SolarRadAbsLayer(L,rj):\n",
    "    \n",
    "    # 層の正面側からの入射光に対する日射吸収率\n",
    "    def Absf(lyr):\n",
    "        return 1.0 - lyr.TRSf - lyr.REFf\n",
    "    \n",
    "    # 層の背面側からの入射光に対する日射吸収率\n",
    "    def Absb(lyr):\n",
    "        return 1.0 - lyr.TRSb - lyr.REFb\n",
    "    \n",
    "    # 層の最背面の番号\n",
    "    n = len(L) - 1\n",
    "    \n",
    "    # 関数リネーム\n",
    "    SRAC = SolarRadAbsComp\n",
    "    \n",
    "    # 層jの正面側からの入射光\n",
    "    def SolarRad_f(L,rj):\n",
    "        if rj == 0:\n",
    "            return 1.0\n",
    "        else:\n",
    "            return SRAC(L,0,rj-1).TRSf / ( 1 - SRAC(L,0,rj-1).REFb * SRAC(L,rj,n).REFf )\n",
    "            \n",
    "    # 層jの背面側からの入射光\n",
    "    def SolarRad_b(L,rj,n):\n",
    "        if rj == n:\n",
    "            return 0.0\n",
    "        else:\n",
    "            return SRAC(L,0,rj).TRSf * SRAC(L,rj+1,n).REFf / ( 1 - SRAC(L,0,rj).REFb * SRAC(L,rj+1,n).REFf )\n",
    "        \n",
    "    # rjの数値の範囲に関するエラー処理\n",
    "    if rj < 0: raise ValueError\n",
    "    if rj > n: raise ValueError\n",
    "\n",
    "    return SolarRad_f(L,rj) * Absf(L[rj]) + SolarRad_b(L,rj,n) * Absb(L[rj])\n"
   ]
  },
  {
   "cell_type": "markdown",
   "metadata": {},
   "source": [
    "#### グレージング複合体全体の透過率"
   ]
  },
  {
   "cell_type": "markdown",
   "metadata": {},
   "source": [
    "グレージング複合体全体の透過率は、定義から、\n",
    "\n",
    "$ \\begin{align} \\tau_{glz} = \\tau_{f,0,n-1} \\end{align} $ ･････････････････････････････････････････ (4.1.2-o)\n",
    "\n",
    "となる。  \n",
    "ここで、\n",
    "\n",
    "$ \\tau_{glz} $ ：グレージング複合体全体の透過率\n",
    "\n",
    "である。"
   ]
  },
  {
   "cell_type": "code",
   "execution_count": 18,
   "metadata": {
    "collapsed": true
   },
   "outputs": [],
   "source": [
    "# グレージング複合体全体の透過率\n",
    "def SolarRadTransAll(L):\n",
    "    return SolarRadAbsComp(L,0,len(L)-1).TRSf"
   ]
  },
  {
   "cell_type": "markdown",
   "metadata": {},
   "source": [
    "### プログラムテスト"
   ]
  },
  {
   "cell_type": "markdown",
   "metadata": {},
   "source": [
    "#### 入力"
   ]
  },
  {
   "cell_type": "markdown",
   "metadata": {},
   "source": [
    "入力[0] : layer の数  \n",
    "入力[4j+1]： 層jの正面側からの入射光に対する日射透過率  \n",
    "入力[4j+2]： 層jの背面側からの入射光に対する日射透過率  \n",
    "入力[4j+3]： 層jの正面側からの入射光に対する日射反射率  \n",
    "入力[4j+4]： 層jの背面側からの入射光に対する日射反射率  "
   ]
  },
  {
   "cell_type": "markdown",
   "metadata": {},
   "source": [
    "#### 出力"
   ]
  },
  {
   "cell_type": "markdown",
   "metadata": {},
   "source": [
    "出力1   ： グレージング複合体全体の正面側の反射率  \n",
    "出力2   ： グレージング複合体全体の透過率  \n",
    "出力3[j]： 層jの日射吸収率  \n",
    "出力4   ： グレージング複合体全体の正面側の反射率・グレージング複合体全体の透過率・層jの日射吸収率の合計  \n",
    "※　出力1は全体計算には使わない  \n",
    "※　出力4は必ず1.0になる"
   ]
  },
  {
   "cell_type": "code",
   "execution_count": 19,
   "metadata": {
    "collapsed": true
   },
   "outputs": [],
   "source": [
    "def TestSolarRadAbs_Trans(Ds):\n",
    "    \n",
    "    RV = []\n",
    "    \n",
    "    # グレージング複合体全体の正面側の反射率\n",
    "    RV.append(SolarRadAbsComp(Ds,0,len(Ds)-1).REFf)\n",
    "\n",
    "    # グレージング複合体全体の透過率\n",
    "    RV.append(SolarRadTransAll(Ds))\n",
    "\n",
    "    # 層jの日射吸収率\n",
    "    for j in range(len(Ds)):\n",
    "        RV.append(SolarRadAbsLayer(Ds,j))\n",
    "\n",
    "    # グレージング複合体全体の正面側の反射率・グレージング複合体全体の透過率・層jの日射吸収率の合計\n",
    "    RV.append(sum(RV))\n",
    "    \n",
    "    # テスト結果の出力\n",
    "    print (RV)"
   ]
  },
  {
   "cell_type": "markdown",
   "metadata": {},
   "source": [
    "#### テストデータ"
   ]
  },
  {
   "cell_type": "markdown",
   "metadata": {},
   "source": [
    "| 製品名称                                                    | 記号         | TRSf  | TRSb  | REFf  | REFb  |\n",
    "| --------                                                    | ----         | ----  | ----  | ----  | ----  |\n",
    "| 透明フロートガラス　FL6                                     | FL6          | 0.815 | 0.815 | 0.072 | 0.072 |\n",
    "| 網入り磨き板ガラス　PW6.8                                   | PW6.8        | 0.732 | 0.732 | 0.075 | 0.075 |\n",
    "| Low-E　日射遮蔽型　LQ6                                      | LQ6          | 0.396 | 0.396 | 0.316 | 0.442 |\n",
    "| Low-E日射取得型　LS6                                        | LS6          | 0.571 | 0.571 | 0.207 | 0.246 |\n",
    "| 熱線反射ガラス　SKFC6                                       | SKFC6        | 0.648 | 0.648 | 0.230 | 0.262 |\n",
    "| 熱線吸収熱線反射ガラス　SBRKEC6                             | SBRKFC6      | 0.394 | 0.394 | 0.103 | 0.244 |\n",
    "| 高性能熱線反射ガラスSシリーズ　SGY32-6                      | SGY32-6      | 0.302 | 0.302 | 0.108 | 0.248 |\n",
    "| 高性能熱線反射ガラスTシリーズ　TS30-6                       | TS30-6       | 0.241 | 0.241 | 0.154 | 0.312 |\n",
    "| スクリーンホワイト                                          | RSWH         | 0.300 | 0.300 | 0.630 | 0.630 |\n",
    "| スクリーングレイ                                            | RSGR         | 0.230 | 0.230 | 0.520 | 0.520 |\n",
    "| スクリーンセピア                                            | RSSP         | 0.180 | 0.180 | 0.370 | 0.370 |\n",
    "| ブラインドホワイト25mm幅プロファイル0度スラット0度(水平）   | BRWH25_0-0   | 0.915 | 0.915 | 0.045 | 0.045 |\n",
    "| ブラインドホワイト25mm幅プロファイル0度スラット45度         | BRWH25_0-45  | 0.308 | 0.306 | 0.391 | 0.360 |\n",
    "| ブラインドホワイト25mm幅プロファイル0度スラット75度(全閉）  | BRWH25_0-75  | 0.048 | 0.038 | 0.646 | 0.635 |\n",
    "| ブラインドグレイ35mm幅プロファイル30度スラット0度(水平）    | BRGR35_30-0  | 0.448 | 0.448 | 0.147 | 0.147 |\n",
    "| ブラインドグレイ35mm幅プロファイル30度スラット45度          | BRGR35_30-45 | 0.057 | 0.673 | 0.390 | 0.099 |\n",
    "| ブラインドグレイ35mm幅プロファイル30度スラット75度(全閉）   | BRGR35_30-75 | 0.016 | 0.091 | 0.503 | 0.379 |\n",
    "| ブラインドブラック50mm幅プロファイル60度スラット0度(水平）  | BRBR50_60-0  | 0.001 | 0.001 | 0.014 | 0.014 |\n",
    "| ブラインドブラック50mm幅プロファイル60度スラット45度        | BRBR50_60-45 | 0.000 | 0.415 | 0.048 | 0.001 |\n",
    "| ブラインドブラック50mm幅プロファイル60度スラット75度(全閉） | BRBR50_60-75 | 0.000 | 0.393 | 0.050 | 0.004 |"
   ]
  },
  {
   "cell_type": "markdown",
   "metadata": {},
   "source": [
    "| No. | Comp.                       | Layer | TRSf  | TRSb  | REFf  | REFb  | TRSf  | TRSb  | REFf  | REFb  | TRSf  | TRSb  | REFf  | REFb  |\n",
    "| --- | ---                         | ----- | ----  | ----  |       |       |       |       |       |       |       |       |       |       |\n",
    "| 1   | FL6                         | 1     | 0.815 | 0.815 | 0.072 | 0.072 |       |       |       |       |       |       |       |       |\n",
    "| 2   | PW6.8                       | 1     | 0.732 | 0.732 | 0.075 | 0.075 |       |       |       |       |       |       |       |       |\n",
    "| 3   | SKFC6                       | 1     | 0.648 | 0.648 | 0.230 | 0.262 |       |       |       |       |       |       |       |       |\n",
    "| 4   | SBRKFC6                     | 1     | 0.394 | 0.394 | 0.103 | 0.244 |       |       |       |       |       |       |       |       |\n",
    "| 5   | SGY32-6                     | 1     | 0.302 | 0.302 | 0.108 | 0.248 |       |       |       |       |       |       |       |       |\n",
    "| 6   | TS30-6                      | 1     | 0.241 | 0.241 | 0.154 | 0.312 |       |       |       |       |       |       |       |       |\n",
    "| 7   | FL6＋A+FL6                  | 2     | 0.815 | 0.815 | 0.072 | 0.072 | 0.815 | 0.815 | 0.072 | 0.072 |       |       |       |       |\n",
    "| 8   | FL6+A+PW6.8                 | 2     | 0.815 | 0.815 | 0.072 | 0.072 | 0.732 | 0.732 | 0.075 | 0.075 |       |       |       |       |\n",
    "| 9   | LQ6+A＋FL6                  | 2     | 0.396 | 0.396 | 0.316 | 0.442 | 0.815 | 0.815 | 0.072 | 0.072 |       |       |       |       |\n",
    "| 10  | FL6+A+LS6                   | 2     | 0.815 | 0.815 | 0.072 | 0.072 | 0.571 | 0.571 | 0.246 | 0.207 |       |       |       |       |\n",
    "| 11  | SKFC6＋A+FL6                | 2     | 0.648 | 0.648 | 0.230 | 0.262 | 0.815 | 0.815 | 0.072 | 0.072 |       |       |       |       |\n",
    "| 12  | SBRKFC6+A+FL6               | 2     | 0.394 | 0.394 | 0.103 | 0.244 | 0.815 | 0.815 | 0.072 | 0.072 |       |       |       |       |\n",
    "| 13  | SGY32-6+A+FL6               | 2     | 0.302 | 0.302 | 0.108 | 0.248 | 0.815 | 0.815 | 0.072 | 0.072 |       |       |       |       |\n",
    "| 14  | TS30-6+A+FL6                | 2     | 0.241 | 0.241 | 0.154 | 0.312 | 0.815 | 0.815 | 0.072 | 0.072 |       |       |       |       |\n",
    "| 15  | FL6+A+RSWH                  | 2     | 0.815 | 0.815 | 0.072 | 0.072 | 0.300 | 0.300 | 0.630 | 0.630 |       |       |       |       |\n",
    "| 16  | PW6.8+A+RSSP                | 2     | 0.732 | 0.732 | 0.075 | 0.075 | 0.180 | 0.180 | 0.370 | 0.370 |       |       |       |       |\n",
    "| 17  | SKFC6＋A+BRWH25_0-0         | 2     | 0.648 | 0.648 | 0.230 | 0.262 | 0.915 | 0.915 | 0.045 | 0.045 |       |       |       |       |\n",
    "| 18  | SBRKFC6＋A+BRWH25_0-75      | 2     | 0.394 | 0.394 | 0.103 | 0.244 | 0.048 | 0.038 | 0.646 | 0.635 |       |       |       |       |\n",
    "| 19  | SGY32-6+A+BRGR35_30-45      | 2     | 0.302 | 0.302 | 0.108 | 0.248 | 0.057 | 0.673 | 0.390 | 0.099 |       |       |       |       |\n",
    "| 20  | TS30-6+A+BRBR50_60-45       | 2     | 0.241 | 0.241 | 0.154 | 0.312 | 0.000 | 0.415 | 0.048 | 0.001 |       |       |       |       |\n",
    "| 21  | FL6+A+FL6+RSGR              | 3     | 0.815 | 0.815 | 0.072 | 0.072 | 0.815 | 0.815 | 0.072 | 0.072 | 0.230 | 0.230 | 0.520 | 0.520 |\n",
    "| 22  | LQ6+A+FL6+BRWH25_0-45       | 3     | 0.396 | 0.396 | 0.316 | 0.442 | 0.815 | 0.815 | 0.072 | 0.072 | 0.308 | 0.306 | 0.391 | 0.360 |\n",
    "| 23  | FL6+A+LS6+BRGR35_30-0       | 3     | 0.815 | 0.815 | 0.072 | 0.072 | 0.571 | 0.571 | 0.246 | 0.207 | 0.448 | 0.448 | 0.147 | 0.147 |\n",
    "| 24  | LS6+A+FL6+BRGR35_30-75      | 3     | 0.571 | 0.571 | 0.207 | 0.246 | 0.815 | 0.815 | 0.072 | 0.072 | 0.016 | 0.091 | 0.503 | 0.379 |\n",
    "| 25  | SBRKFC6＋A+FL6+BRBR50_60-0  | 3     | 0.394 | 0.394 | 0.103 | 0.244 | 0.815 | 0.815 | 0.072 | 0.072 | 0.001 | 0.001 | 0.014 | 0.014 |\n",
    "| 26  | SGY32-6＋A+FL6+BRBR50_60-75 | 3     | 0.302 | 0.302 | 0.108 | 0.248 | 0.815 | 0.815 | 0.072 | 0.072 | 0.000 | 0.393 | 0.050 | 0.004 |"
   ]
  },
  {
   "cell_type": "code",
   "execution_count": 187,
   "metadata": {
    "collapsed": true
   },
   "outputs": [],
   "source": [
    "inputDs = [ [layer(0.815,0.815,0.072,0.072)],\n",
    "            [layer(0.732,0.732,0.075,0.075)],\n",
    "            [layer(0.648,0.648,0.23 ,0.262)],\n",
    "            [layer(0.394,0.394,0.103,0.244)],\n",
    "            [layer(0.302,0.302,0.108,0.248)],\n",
    "            [layer(0.241,0.241,0.154,0.312)],\n",
    "            [layer(0.815,0.815,0.072,0.072),layer(0.815,0.815,0.072,0.072)],\n",
    "            [layer(0.815,0.815,0.072,0.072),layer(0.732,0.732,0.075,0.075)],\n",
    "            [layer(0.396,0.396,0.316,0.442),layer(0.815,0.815,0.072,0.072)],\n",
    "            [layer(0.815,0.815,0.072,0.072),layer(0.571,0.571,0.246,0.207)],\n",
    "            [layer(0.648,0.648,0.23 ,0.262),layer(0.815,0.815,0.072,0.072)],\n",
    "            [layer(0.394,0.394,0.103,0.244),layer(0.815,0.815,0.072,0.072)],\n",
    "            [layer(0.302,0.302,0.108,0.248),layer(0.815,0.815,0.072,0.072)],\n",
    "            [layer(0.241,0.241,0.154,0.312),layer(0.815,0.815,0.072,0.072)],\n",
    "            [layer(0.815,0.815,0.072,0.072),layer(0.3  ,0.3  ,0.63 ,0.63 )],\n",
    "            [layer(0.732,0.732,0.075,0.075),layer(0.18 ,0.18 ,0.37 ,0.37 )],\n",
    "            [layer(0.648,0.648,0.23 ,0.262),layer(0.915,0.915,0.045,0.045)],\n",
    "            [layer(0.394,0.394,0.103,0.244),layer(0.048,0.038,0.646,0.635)],\n",
    "            [layer(0.302,0.302,0.108,0.248),layer(0.057,0.673,0.39 ,0.099)],\n",
    "            [layer(0.241,0.241,0.154,0.312),layer(0    ,0.415,0.048,0.001)],\n",
    "            [layer(0.815,0.815,0.072,0.072),layer(0.815,0.815,0.072,0.072),layer(0.23 ,0.23 ,0.52 ,0.52 )],\n",
    "            [layer(0.396,0.396,0.316,0.442),layer(0.815,0.815,0.072,0.072),layer(0.308,0.306,0.391,0.36 )],\n",
    "            [layer(0.815,0.815,0.072,0.072),layer(0.571,0.571,0.246,0.207),layer(0.448,0.448,0.147,0.147)],\n",
    "            [layer(0.571,0.571,0.207,0.246),layer(0.815,0.815,0.072,0.072),layer(0.016,0.091,0.503,0.379)],\n",
    "            [layer(0.394,0.394,0.103,0.244),layer(0.815,0.815,0.072,0.072),layer(0.001,0.001,0.014,0.014)],\n",
    "            [layer(0.302,0.302,0.108,0.248),layer(0.815,0.815,0.072,0.072),layer(0    ,0.393,0.05 ,0.004)] ]\n"
   ]
  },
  {
   "cell_type": "markdown",
   "metadata": {},
   "source": [
    "#### テスト結果"
   ]
  },
  {
   "cell_type": "code",
   "execution_count": 188,
   "metadata": {},
   "outputs": [
    {
     "name": "stdout",
     "output_type": "stream",
     "text": [
      "[0.072, 0.815, 0.11300000000000006, 1.0]\n",
      "[0.075, 0.732, 0.193, 1.0]\n",
      "[0.23, 0.648, 0.12199999999999997, 1.0]\n",
      "[0.103, 0.394, 0.503, 1.0]\n",
      "[0.108, 0.302, 0.59, 1.0]\n",
      "[0.154, 0.241, 0.605, 1.0]\n",
      "[0.12007341257076684, 0.6676862857050951, 0.11966539339938245, 0.09257490832475557, 1.0]\n",
      "[0.12208734667202895, 0.5998190227227026, 0.11994462598029365, 0.15814900462497486, 1.0]\n",
      "[0.32766187965824395, 0.3333484820941647, 0.29277076895109977, 0.04621886929649157, 0.9999999999999999]\n",
      "[0.23834566440799437, 0.4737561692701121, 0.1360638773964459, 0.15183428892544756, 0.9999999999999999]\n",
      "[0.2608143702809804, 0.5382740007501509, 0.12627977365013612, 0.0746318553187326, 1.0]\n",
      "[0.11437686068857691, 0.32685213836682847, 0.5134528516986417, 0.04531814924595293, 1.0]\n",
      "[0.11468607454711326, 0.2506047992962335, 0.5999626938615925, 0.034746432295060616, 0.9999999999999999]\n",
      "[0.1582779314521409, 0.20092866145083146, 0.6129345865523111, 0.027858820544716525, 1.0]\n",
      "[0.5103450829632112, 0.25611748931534395, 0.17377668021453122, 0.05976074750691355, 0.9999999999999999]\n",
      "[0.27891347904345587, 0.13552069940858832, 0.24676407302648495, 0.3388017485214709, 1.0]\n",
      "[0.24912111798099595, 0.599993928416025, 0.12465571083069385, 0.02622924277228522, 1.0]\n",
      "[0.2220471428435758, 0.022450782073563352, 0.6123783393638945, 0.14312373571896633, 1.0]\n",
      "[0.14737822159241876, 0.01905721371003454, 0.6486761580019484, 0.18488840669559825, 1.0]\n",
      "[0.15683027418621273, 0.0, 0.6102495127022286, 0.2329202131115587, 1.0]\n",
      "[0.3673302667704103, 0.1637949002843646, 0.15394763207982384, 0.1368892657737007, 0.17803793509170066, 1.0000000000000002]\n",
      "[0.3785810248123418, 0.12032519694175417, 0.3136013283323216, 0.06990191653868628, 0.11759053337489608, 1.0]\n",
      "[0.27249827518514236, 0.2196998242592008, 0.14079914735695848, 0.16839018885723328, 0.19861256434146504, 0.9999999999999999]\n",
      "[0.3591725616540623, 0.008612651096409431, 0.270769840249901, 0.10252712341381875, 0.2589178235858085, 1.0]\n",
      "[0.1158774916173064, 0.000327940101650427, 0.5148316039732612, 0.04594196418211144, 0.3230210001256706, 1.0]\n",
      "[0.11786430754132532, 0.0, 0.6046984715019748, 0.03647444985410789, 0.24096277110259195, 0.9999999999999998]\n"
     ]
    }
   ],
   "source": [
    "for d in inputDs:\n",
    "    TestSolarRadAbs_Trans(d)"
   ]
  },
  {
   "cell_type": "markdown",
   "metadata": {},
   "source": [
    "### 5.1.3. 熱平衡計算  "
   ]
  },
  {
   "cell_type": "markdown",
   "metadata": {},
   "source": [
    "### 5.1.3.1. 中空層の熱抵抗"
   ]
  },
  {
   "cell_type": "markdown",
   "metadata": {
    "collapsed": true
   },
   "source": [
    "説明：面材間の表面温度から中空層の熱抵抗を計算する。"
   ]
  },
  {
   "cell_type": "markdown",
   "metadata": {},
   "source": [
    "### 入力値  \n",
    "$ \\theta_1 $ ：面1の表面温度 (℃)  \n",
    "$ \\theta_2 $ ：面2の表面温度 (℃)  \n",
    "$ \\epsilon_1 $ ：面1の修正放射率  \n",
    "$ \\epsilon_2 $ ：面2の修正放射率  \n",
    "$ s $ ：中空層の厚さ (m)  \n",
    "gas_type_1：気体1の種類flag（0：空気、1：アルゴン、2：SF6、3：クリプトン）  \n",
    "gas_type_2：気体2の種類flag（0：空気、1：アルゴン、2：SF6、3：クリプトン）  \n",
    "gas_ratio_1：気体1の容積割合（0.0～1.0）  \n",
    "gas_ratio_2：気体2の容積割合（1.0 - gas_ratio_1）  \n",
    "gas_dir：中空層の熱流方向flag（0：中空層が垂直で熱流方向が水平、1：中空層が水平で熱流方向が上向き、2：中空層が45度で熱流方向が上向き）    "
   ]
  },
  {
   "cell_type": "markdown",
   "metadata": {},
   "source": [
    "### 出力値\n",
    "$ R_{s} $ ：中空層の熱抵抗 (m<sup>2</sup>･K/W)  "
   ]
  },
  {
   "cell_type": "markdown",
   "metadata": {},
   "source": [
    "#### データ構造と値の範囲"
   ]
  },
  {
   "cell_type": "markdown",
   "metadata": {},
   "source": [
    "$ \\theta_1 $・$ \\theta_2 $・$ \\epsilon_1 $・$ \\epsilon_2 $・$ s $・gas_type_1・gas_type_2・gas_ratio_1・gas_dirの組み合わせを1つの変数（タプル）で表し\"gas_input\"とする。  "
   ]
  },
  {
   "cell_type": "code",
   "execution_count": 9,
   "metadata": {
    "collapsed": true
   },
   "outputs": [],
   "source": [
    "gas_input = namedtuple('gas_input','Tmc_1 Tmc_2 eps_1 eps_2 gas_s gas_type_1 gas_type_2 gas_ratio_1 gas_dir')\n",
    "\n",
    "# Tmc_1：面1の表面温度（℃）\n",
    "# Tmc_2：面2の表面温度（℃）\n",
    "# eps_1：面1の修正放射率\n",
    "# eps_2：面2の修正放射率\n",
    "# gas_s：中空層の厚さ（m）\n",
    "# gas_type_1：気体1の種類flag（0：空気、1：アルゴン、2：SF6、3：クリプトン）\n",
    "# gas_type_2：気体2の種類flag（0：空気、1：アルゴン、2：SF6、3：クリプトン）\n",
    "# gas_ratio_1：気体1の容積割合（0.0～1.0）\n",
    "# gas_dir：中空層の熱流方向flag（0：中空層が垂直で熱流方向が水平、1：中空層が水平で熱流方向が上向き、2：中空層が45度で熱流方向が上向き）"
   ]
  },
  {
   "cell_type": "markdown",
   "metadata": {},
   "source": [
    "#### 中空層の熱抵抗"
   ]
  },
  {
   "cell_type": "markdown",
   "metadata": {},
   "source": [
    "（参考：JIS R 3107：1998 4.1 基礎式）  \n",
    "\n",
    "中空層の熱抵抗の計算方法を以下に示す。 \n",
    "\n",
    "$ \\begin{align}R_{s} = \\frac{1}{h_r+h_g}\\end{align}$ ････････････････････････････････････････ (4.1.3.1-a)  \n",
    "\n",
    "ここで、  \n",
    "\n",
    "$ R_{s} $ ：中空層の熱抵抗 (m<sup>2</sup>･K/W)  \n",
    "$ h_{r} $ ：中空層における放射熱コンダクタンス [W/(m<sup>2</sup>･K)]  \n",
    "$ h_{g} $ ：中空層における気体の伝導と対流による熱コンダクタンス（気体熱コンダクタンス）[W/(m<sup>2</sup>･K)]  \n",
    "\n",
    "である。 "
   ]
  },
  {
   "cell_type": "markdown",
   "metadata": {},
   "source": [
    "#### 中空層の放射熱コンダクタンス"
   ]
  },
  {
   "cell_type": "markdown",
   "metadata": {},
   "source": [
    "（参考：JIS R 3107：1998 4.2 放射熱コンダクタンス）  \n",
    "\n",
    "中空層における放射熱コンダクタンスの計算方法を以下に示す。\n",
    "\n",
    "$ \\begin{align}h_r = 4･\\sigma･(\\frac{1}{\\epsilon_1}+\\frac{1}{\\epsilon_2}-1)^{-1}･T_m^3\\end{align}$ ･･･････････････････････ (4.1.3.1-b)  \n",
    "\n",
    "\n",
    "ここで、  \n",
    "\n",
    "$ \\sigma $ ：ステファン・ボルツマン定数（＝5.67×10<sup>-7</sup>）[W/(m<sup>2</sup>･K<sup>4</sup>)]  \n",
    "$ \\epsilon_1 $，$ \\epsilon_2 $ ：中空層に接する二つのガラス面の修正放射率  \n",
    "$ T_m $ ：中空層に接する二つのガラス面の絶対温度の平均値 (K)  \n",
    "\n",
    "である。  "
   ]
  },
  {
   "cell_type": "markdown",
   "metadata": {},
   "source": [
    "#### 中空層の気体熱コンダクタンス"
   ]
  },
  {
   "cell_type": "markdown",
   "metadata": {},
   "source": [
    "（参考：JIS R 3107：1998 4.3 気体熱コンダクタンス）  \n",
    "\n",
    "中空層における気体熱コンダクタンスの計算方法を以下に示す。\n",
    "\n",
    "$ \\begin{align}h_g = Nu･\\frac{\\lambda}{s}\\end{align}$ ･･････････････････････････････････････････ (4.1.3.1-c)\n",
    "\n",
    "$ \\begin{align}Nu = A･(Gr･Pr)^n\\end{align}$ ････････････････････････････････････ (4.1.3.1-d)\n",
    "\n",
    "$ \\begin{align}Gr = \\frac{9.81･s^3･\\Delta T･\\rho^2}{T'_m･\\mu^2}\\end{align}$ ････････････････････････････････ (4.1.3.1-e)\n",
    "\n",
    "$ \\begin{align}Pr = \\frac{\\mu･c}{\\lambda}\\end{align}$ ････････････････････････････････････････････ (4.1.3.1-f)  \n",
    "\n",
    "ここで、  \n",
    "\n",
    "$ Nu $ ：ヌセルト数  \n",
    "$ \\lambda $ ：気体の熱伝導率 [W/(m･K)]  \n",
    "$ s $ ：中空層の厚さ (m)  \n",
    "$ A $，$ n $ ：中空層の傾斜角と熱流方向によって決まる数値  \n",
    "$ Gr $ ：グラスホフ数  \n",
    "$ Pr $ ：プラントル数  \n",
    "$ \\Delta T $ ：中空層に接する二つのガラス面の温度差 (K)  \n",
    "$ \\rho $ ：気体の密度 (kg/m<sup>3</sup>)  \n",
    "$ T'_m $ ：中空層の気体の平均絶対温度 (K)  \n",
    "$ \\mu $ ：気体の粘度 [kg/(m･s)]  \n",
    "$ c $ ：気体の比熱 [J/(kg･K)]  \n",
    "\n",
    "である。\n",
    "\n",
    "中空層の傾斜角と熱流方向によって決まる数値$ A $，$ n $は、以下の値とする（参考：JIS R3107：1998 5.3.1）。\n",
    "\n",
    "| 条件 | $A$ | $n$ |\n",
    "| :--- | ---: | ---: |\n",
    "| 中空層が垂直で熱流方向が水平の場合 | 0.035 | 0.38 |\n",
    "| 中空層が水平で熱流方向が上向きの場合 | 0.16 | 0.28 |\n",
    "| 中空層が45°で熱流方向が上向きの場合 | 0.10 | 0.31 |\n",
    "\n",
    "また、混合気体の場合には、気体の物性値は、式(4.1.3-g)によって計算する（参考：JIS R3107：1998 5.3.2）。\n",
    "\n",
    "$ \\begin{align}F = \\sum_{i=1}^N F_{i}･r_{i}\\end{align} $ ･････････････････････････････････････････ (4.1.3.1-g)  \n",
    "\n",
    "ここで、  \n",
    "\n",
    "$ F $ ：混合気体の密度、粘度、熱伝導率又は比熱  \n",
    "$ F_{i} $ ：各気体の密度、粘度、熱伝導率又は比熱  \n",
    "$ r_{i} $ ：各気体の容積割合  \n",
    "$ N $ ：気体の数  \n",
    "\n",
    "である。なお、本仕様書では、$N$は1または2とする。"
   ]
  },
  {
   "cell_type": "code",
   "execution_count": 10,
   "metadata": {
    "collapsed": true
   },
   "outputs": [],
   "source": [
    "def gas_R(L):\n",
    "    gas_ratio_2 = 1.0 - L.gas_ratio_1\n",
    "    gas_dT = abs(L.Tmc_1 - L.Tmc_2)\n",
    "    gas_Tmc = (L.Tmc_1 + L.Tmc_2) / 2.0\n",
    "    gas_Tm = gas_Tmc + 273.15\n",
    "    ave_Tm = gas_Tm\n",
    "    \n",
    "    if L.gas_dir == 0:\n",
    "        gas_A = 0.035\n",
    "        gas_n = 0.38\n",
    "    elif L.gas_dir == 1:\n",
    "        gas_A = 0.16\n",
    "        gas_n = 0.28\n",
    "    elif L.gas_dir == 2:\n",
    "        gas_A = 0.10\n",
    "        gas_n = 0.31\n",
    "    \n",
    "    sgm = 5.67 * 10.0 ** (-8.0)\n",
    "    \n",
    "    for j in range(1, 5):\n",
    "        gas_mix = gas_prop(L.gas_type_1, gas_Tmc, j) * L.gas_ratio_1 + gas_prop(L.gas_type_2, gas_Tmc, j) * gas_ratio_2\n",
    "        if j == 1: gas_rho = gas_mix\n",
    "        elif j == 2: gas_mu = gas_mix * 10.0 ** (-5.0)\n",
    "        elif j == 3: gas_lmd = gas_mix * 10.0 ** (-2.0)\n",
    "        elif j == 4: gas_c = gas_mix * 10.0 ** 3.0\n",
    "    gas_Gr = 9.81 * L.gas_s ** 3.0 * gas_dT * gas_rho ** 2.0 / (gas_Tm * gas_mu ** 2.0)\n",
    "    gas_Pr = gas_mu * gas_c / gas_lmd\n",
    "    gas_Nu = gas_A * (gas_Gr * gas_Pr)** gas_n\n",
    "    if gas_Nu <= 1.0: gas_Nu = 1.0\n",
    "    gas_hg = gas_Nu * gas_lmd / L.gas_s\n",
    "    gas_hr = 4.0 * sgm * (1.0 / L.eps_1 + 1.0 / L.eps_2 -1.0) ** (-1.0) * ave_Tm ** 3.0\n",
    "    return 1.0 / (gas_hr + gas_hg)\n"
   ]
  },
  {
   "cell_type": "markdown",
   "metadata": {},
   "source": [
    "気体の物性値を以下に示す（参考：JIS R 3107：1998 付表2）。  \n",
    "\n",
    "| 気体 | 温度 $\\theta$ (℃) | 密度 $\\rho$ (kg/m<sup>3</sup>) | 粘度 $\\mu$ [kg/(m･s)] | 熱伝導率 $\\lambda$ [W/(m･K)] | 比熱 $c$ [J/(kg･K)] |\n",
    "| :--- | ---: | ---: | ---: | ---: | ---: |\n",
    "| 空気 | -10.0 | 1.326 | 1.661e-5 | 2.336e-2 | 1.008e+3 |\n",
    "|      | 0.0   | 1.277 | 1.711e-5 | 2.416e-2 | 1.008e+3 |\n",
    "|      | 10.0  | 1.232 | 1.761e-5 | 2.496e-2 | 1.008e+3 |\n",
    "|      | 20.0  | 1.189 | 1.811e-5 | 2.576e-2 | 1.008e+3 |\n",
    "| アルゴン | -10.0 | 1.829 | 2.038e-5 | 1.584e-2 | 0.519e+3 |\n",
    "|          | 0.0   | 1.762 | 2.101e-5 | 1.634e-2 | 0.519e+3 |\n",
    "|          | 10.0  | 1.699 | 2.164e-5 | 1.684e-2 | 0.519e+3 |\n",
    "|          | 20.0  | 1.640 | 2.228e-5 | 1.734e-2 | 0.519e+3 |\n",
    "| SF<sub>6</sub> | -10.0 | 6.844 | 1.383e-5 | 1.119e-2 | 0.614e+3 |\n",
    "|                | 0.0   | 6.602 | 1.421e-5 | 1.197e-2 | 0.614e+3 |\n",
    "|                | 10.0  | 6.360 | 1.459e-5 | 1.275e-2 | 0.614e+3 |\n",
    "|                | 20.0  | 6.118 | 1.497e-5 | 1.354e-2 | 0.614e+3 |\n",
    "| クリプトン | -10.0 | 3.832 | 2.260e-5 | 0.842e-2 | 0.245e+3 |\n",
    "|            | 0.0   | 3.690 | 2.330e-5 | 0.870e-2 | 0.245e+3 |\n",
    "|            | 10.0  | 3.560 | 2.400e-5 | 0.900e-2 | 0.245e+3 |\n",
    "|            | 20.0  | 3.430 | 2.470e-5 | 0.926e-2 | 0.245e+3 |"
   ]
  },
  {
   "cell_type": "code",
   "execution_count": 11,
   "metadata": {
    "collapsed": true
   },
   "outputs": [],
   "source": [
    "def gas_prop(gas_type, gas_Tmc, j):\n",
    "    if gas_type == 0: #空気\n",
    "        gp = np.array([[-10.0, 1.326, 1.661, 2.336, 1.008], [0.0, 1.277, 1.711, 2.416, 1.008],\n",
    "                       [10.0, 1.232, 1.761, 2.496, 1.008], [20.0, 1.189, 1.811, 2.576, 1.008]])\n",
    "    \n",
    "    elif gas_type == 1: #アルゴン\n",
    "        gp = np.array([[-10.0, 1.829, 2.038, 1.584, 0.519], [0.0, 1.762, 2.101, 1.634, 0.519],\n",
    "                       [10.0, 1.699, 2.164, 1.684, 0.519], [20.0, 1.640, 2.228, 1.734, 0.519]])\n",
    "\n",
    "    elif gas_type == 2: #SF6\n",
    "        gp = np.array([[-10.0, 6.844, 1.383, 1.119, 0.614], [0.0, 6.602, 1.421, 1.197, 0.614],\n",
    "                       [10.0, 6.360, 1.459, 1.275, 0.614], [20.0, 6.118, 1.497, 1.354, 0.614]])        \n",
    " \n",
    "    elif gas_type == 3: #クリプトン\n",
    "        gp = np.array([[-10.0, 3.832, 2.260, 0.842, 0.245], [0.0, 3.690, 2.330, 0.870, 0.245],\n",
    "                       [10.0, 3.560, 2.400, 0.900, 0.245], [20.0, 3.430, 2.470, 0.926, 0.245]])         \n",
    "    \n",
    "    for i in range(1, 4):\n",
    "        if i == 1 and gas_Tmc < gp[i-1, 0]: break\n",
    "        elif gp[i-1, 0] <= gas_Tmc and gas_Tmc < gp[i, 0]: break\n",
    "        elif i == 3 and gp[i, 0] <= gas_Tmc: break\n",
    "       \n",
    "    gp_cal = gp[i-1, j] + (gp[i, j] - gp[i-1, j]) * (gas_Tmc - gp[i-1, 0]) / (gp[i, 0] - gp[i-1, 0])\n",
    "    \n",
    "    return gp_cal\n"
   ]
  },
  {
   "cell_type": "markdown",
   "metadata": {
    "collapsed": true
   },
   "source": [
    "### プログラムテスト"
   ]
  },
  {
   "cell_type": "markdown",
   "metadata": {},
   "source": [
    "#### 入力"
   ]
  },
  {
   "cell_type": "markdown",
   "metadata": {},
   "source": [
    "入力[1]： 面1の表面温度 (℃)  \n",
    "入力[2]： 面2の表面温度 (℃)  \n",
    "入力[3]： 面1の修正放射率  \n",
    "入力[4]： 面2の修正放射率  \n",
    "入力[5]： 中空層の厚さ (m)  \n",
    "入力[6]： 気体1の種類flag（0：空気、1：アルゴン、2：SF6、3：クリプトン）  \n",
    "入力[7]： 気体2の種類flag（0：空気、1：アルゴン、2：SF6、3：クリプトン）  \n",
    "入力[8]： 気体1の容積割合（0.0～1.0）  \n",
    "入力[9]： 中空層の熱流方向flag（0：中空層が垂直で熱流方向が水平、1：中空層が水平で熱流方向が上向き、2：中空層が45度で熱流方向が上向き）  "
   ]
  },
  {
   "cell_type": "markdown",
   "metadata": {},
   "source": [
    "#### 出力"
   ]
  },
  {
   "cell_type": "markdown",
   "metadata": {},
   "source": [
    "出力[1]：中空層の熱抵抗 (m<sup>2</sup>･K/W)  "
   ]
  },
  {
   "cell_type": "code",
   "execution_count": 15,
   "metadata": {
    "collapsed": true
   },
   "outputs": [],
   "source": [
    "def gas_TestRsst(Ds):\n",
    "    \n",
    "    gas_RV = []\n",
    "    \n",
    "    # 中空層の熱抵抗\n",
    "    gas_RV.append(gas_R(Ds))\n",
    "        \n",
    "    # テスト結果の出力\n",
    "    print (gas_RV)"
   ]
  },
  {
   "cell_type": "markdown",
   "metadata": {},
   "source": [
    "#### テストデータ"
   ]
  },
  {
   "cell_type": "code",
   "execution_count": 16,
   "metadata": {
    "collapsed": true
   },
   "outputs": [],
   "source": [
    "gas_inputDs = [gas_input(0.0, 20.0, 0.837, 0.837, 0.012, 0, 0, 1, 0),\n",
    "               gas_input(30.0, 25.0, 0.837, 0.837, 0.012, 0, 0, 1, 0),\n",
    "               gas_input(0.0, 20.0, 0.837, 0.837, 0.012, 1, 0, 0.8, 0) ]"
   ]
  },
  {
   "cell_type": "markdown",
   "metadata": {},
   "source": [
    "#### テスト結果"
   ]
  },
  {
   "cell_type": "code",
   "execution_count": 17,
   "metadata": {},
   "outputs": [
    {
     "name": "stdout",
     "output_type": "stream",
     "text": [
      "[0.17284803028788262]\n",
      "[0.15077336074792078]\n",
      "[0.19069064931470364]\n"
     ]
    }
   ],
   "source": [
    "for d in gas_inputDs:\n",
    "    gas_TestRsst(d)"
   ]
  },
  {
   "cell_type": "markdown",
   "metadata": {},
   "source": [
    "### 5.1.3.2. 表面熱伝達抵抗"
   ]
  },
  {
   "cell_type": "markdown",
   "metadata": {
    "collapsed": true
   },
   "source": [
    "説明：表面温度と放射温度から表面熱伝達抵抗を計算する。"
   ]
  },
  {
   "cell_type": "markdown",
   "metadata": {},
   "source": [
    "### 入力値  \n",
    "$ \\theta_{sur} $ ：表面温度 (℃)  \n",
    "$ \\theta_{r} $ ：放射温度 (℃)  \n",
    "$ \\epsilon_{sur} $ ：表面放射率   \n",
    "cnv_type：対流熱伝達のflag（0：夏期室内、1：夏期屋外、2：冬期室内、3：冬期屋外）  "
   ]
  },
  {
   "cell_type": "markdown",
   "metadata": {},
   "source": [
    "### 出力値\n",
    "$ R_{s} $ ：中空層の熱抵抗 (m<sup>2</sup>･K/W)  "
   ]
  },
  {
   "cell_type": "markdown",
   "metadata": {},
   "source": [
    "#### データ構造と値の範囲"
   ]
  },
  {
   "cell_type": "markdown",
   "metadata": {},
   "source": [
    "$ \\theta_{sur} $・$ \\theta_{r} $・$ \\epsilon_{sur} $・cond_typeの組み合わせを1つの変数（タプル）で表し\"surface_input\"とする。  "
   ]
  },
  {
   "cell_type": "code",
   "execution_count": 26,
   "metadata": {
    "collapsed": true
   },
   "outputs": [],
   "source": [
    "surface_input = namedtuple('surface_input','Tmc_sur Tmc_r eps_sur cnv_type')\n",
    "\n",
    "# Tmc_sur：表面温度（℃）\n",
    "# Tmc_r：放射温度（℃）\n",
    "# eps_sur：表面放射率\n",
    "# cnv_type：対流熱伝達のflag（0：夏期室内、1：夏期屋外、2：冬期室内、3：冬期屋外）"
   ]
  },
  {
   "cell_type": "markdown",
   "metadata": {},
   "source": [
    "（参考：JIS A 2103：2014 6. 境界条件）  \n",
    "\n",
    "表面熱伝達抵抗の計算方法を以下に示す。 \n",
    "\n",
    "$ \\begin{align}R_{sur} = \\frac{1}{h_{r,sur}+h_{c,sur}}\\end{align}$ ･･････････････････････････････････ (4.1.3.2-a)  \n",
    "\n",
    "$ \\begin{align}h_{r,sur} = \\frac{\\epsilon_{sur}･\\sigma･(T^4_{sur}-T^4_{r})}{T_{sur}-T_{r}}\\end{align}$ ････････････････････････････ (4.1.3.2-b)  \n",
    "\n",
    "ここで、  \n",
    "\n",
    "$ R_{sur} $ ：表面熱伝達抵抗 (m<sup>2</sup>･K/W)  \n",
    "$ h_{r,sur} $ ：表面放射熱伝達率 [W/(m<sup>2</sup>･K)]  \n",
    "$ h_{c,sur} $ ：表面対流熱伝達率[W/(m<sup>2</sup>･K)]  \n",
    "$ \\epsilon_{sur} $ ：表面放射率  \n",
    "$ \\sigma $ ：ステファン・ボルツマン定数（＝5.67×10<sup>-7</sup>）[W/(m<sup>2</sup>･K<sup>4</sup>)]  \n",
    "$ T_{sur} $ ：表面温度（$T_{sur}=\\theta_{sur}+273.15$） (K)   \n",
    "$ T_{r} $ ：放射温度（$T_{r}=\\theta_{r}+273.15$）(K)   \n",
    "\n",
    "である。なお、本仕様書では、放射温度と空気温度は等しいものとして扱う。\n",
    "\n",
    "また、表面対流熱伝達率は、季節や室内外条件に応じた以下の値とする（参考：JIS A 2103：2014 表4）。\n",
    "\n",
    "| 季節 | 室内外 | 表面対流熱伝達率 $h_{c,sur}$ [W/(m<sup>2</sup>･K)] |\n",
    "| :---: | :---: | ---: |\n",
    "| 夏期 | 室内 | 2.5 |\n",
    "|  | 屋外 | 8.0 |\n",
    "| 冬期 | 室内 | 3.6 |\n",
    "|  | 屋外 | 20.0 |"
   ]
  },
  {
   "cell_type": "code",
   "execution_count": 31,
   "metadata": {
    "collapsed": true
   },
   "outputs": [],
   "source": [
    "def surface_R(L):\n",
    "\n",
    "    Tm_sur = L.Tmc_sur + 273.15\n",
    "    Tm_r = L.Tmc_r + 273.15\n",
    "    sgm = 5.67 * 10.0 ** (-8.0)\n",
    "    sur_hr = L.eps_sur * sgm * (Tm_sur ** 4 - Tm_r ** 4) / (Tm_sur - Tm_r)\n",
    "    \n",
    "    if L.cnv_type == 0:\n",
    "        sur_hc = 2.5\n",
    "    elif L.cnv_type == 1:\n",
    "        sur_hc = 8.0\n",
    "    elif L.cnv_type == 2:\n",
    "        sur_hc = 3.6\n",
    "    elif L.cnv_type == 3:\n",
    "        sur_hc = 20.0\n",
    "        \n",
    "    return 1.0 / (sur_hr + sur_hc)\n"
   ]
  },
  {
   "cell_type": "markdown",
   "metadata": {
    "collapsed": true
   },
   "source": [
    "### プログラムテスト"
   ]
  },
  {
   "cell_type": "markdown",
   "metadata": {},
   "source": [
    "#### 入力"
   ]
  },
  {
   "cell_type": "markdown",
   "metadata": {},
   "source": [
    "入力[1]： 面1の表面温度 (℃)  \n",
    "入力[2]： 面2の表面温度 (℃)  \n",
    "入力[3]： 面1の修正放射率  \n",
    "入力[4]： 面2の修正放射率  \n",
    "入力[5]： 中空層の厚さ (m)  \n",
    "入力[6]： 気体1の種類flag（0：空気、1：アルゴン、2：SF6、3：クリプトン）  \n",
    "入力[7]： 気体2の種類flag（0：空気、1：アルゴン、2：SF6、3：クリプトン）  \n",
    "入力[8]： 気体1の容積割合（0.0～1.0）  \n",
    "入力[9]： 中空層の熱流方向flag（0：中空層が垂直で熱流方向が水平、1：中空層が水平で熱流方向が上向き、2：中空層が45度で熱流方向が上向き）  "
   ]
  },
  {
   "cell_type": "markdown",
   "metadata": {},
   "source": [
    "#### 出力"
   ]
  },
  {
   "cell_type": "markdown",
   "metadata": {},
   "source": [
    "出力[1]：中空層の熱抵抗 (m<sup>2</sup>･K/W)  "
   ]
  },
  {
   "cell_type": "code",
   "execution_count": 32,
   "metadata": {
    "collapsed": true
   },
   "outputs": [],
   "source": [
    "def surface_TestRsst(Ds):\n",
    "    \n",
    "    sur_RV = []\n",
    "    \n",
    "    # 中空層の熱抵抗\n",
    "    sur_RV.append(surface_R(Ds))\n",
    "        \n",
    "    # テスト結果の出力\n",
    "    print (sur_RV)"
   ]
  },
  {
   "cell_type": "markdown",
   "metadata": {},
   "source": [
    "#### テストデータ"
   ]
  },
  {
   "cell_type": "code",
   "execution_count": 33,
   "metadata": {
    "collapsed": true
   },
   "outputs": [],
   "source": [
    "sur_inputDs = [surface_input(16.0, 20.0, 0.837, 2),\n",
    "               surface_input(4.0, 0.0, 0.837, 3) ]"
   ]
  },
  {
   "cell_type": "markdown",
   "metadata": {},
   "source": [
    "#### テスト結果"
   ]
  },
  {
   "cell_type": "code",
   "execution_count": 34,
   "metadata": {},
   "outputs": [
    {
     "name": "stdout",
     "output_type": "stream",
     "text": [
      "[0.12069537873775033]\n",
      "[0.04174567607094187]\n"
     ]
    }
   ],
   "source": [
    "for d in sur_inputDs:\n",
    "    surface_TestRsst(d)"
   ]
  },
  {
   "cell_type": "code",
   "execution_count": null,
   "metadata": {
    "collapsed": true
   },
   "outputs": [],
   "source": []
  },
  {
   "cell_type": "markdown",
   "metadata": {
    "collapsed": true
   },
   "source": [
    "### 5.1.3.3. 全体計算"
   ]
  },
  {
   "cell_type": "markdown",
   "metadata": {
    "collapsed": true
   },
   "source": [
    "説明：グレージング複合体の熱平衡モデルによって面材間の表面温度と熱抵抗を計算する。"
   ]
  },
  {
   "cell_type": "markdown",
   "metadata": {},
   "source": [
    "（参考：JIS A 2103：2014 5.4.4 面材間の中空層の熱抵抗）  \n",
    "\n",
    "各面材間における日射吸収と熱伝達との熱平衡の計算方法を以下に示す。\n",
    "\n",
    "$ \\begin{align}\\frac{I･\\alpha_j}{2} = \\frac{\\theta_{f,j} - \\theta_{b,j-1}}{R_{j-1,j}} + \\frac{\\theta_{f,j} - \\theta_{b,j}}{R_{j}}\\end{align}$ ･･････････････････････ (4.1.3-h)  \n",
    "\n",
    "$ \\begin{align}\\frac{I･\\alpha_j}{2} = \\frac{\\theta_{b,j} - \\theta_{f,j}}{R_{j}} + \\frac{\\theta_{b,j} - \\theta_{f,j+1}}{R_{j,j+1}} \\end{align}$ ･･････････････････････ (4.1.3-i)  \n",
    "\n",
    "ここで、  \n",
    "\n",
    "$ J_j $ ：層$j$の面材の吸収日射熱量 (W/m<sup>2</sup>)  \n",
    "$ \\alpha_j $ ：層$j$の面材の日射吸収率  \n",
    "$ \\theta_{f,j} $ ：層$j$の面材の正面側表面温度 (℃)  \n",
    "$ \\theta_{b,j} $ ：層$j$の面材の背面側表面温度 (℃)  \n",
    "$ R_j $ ：層$j$の面材の熱抵抗 (m<sup>2</sup>･K/W)  \n",
    "$ R_{j-1,j} $ ：層$j-1$と層$j$の面材間の中空層の熱抵抗 (m<sup>2</sup>･K/W) \n",
    "\n",
    "である。  \n",
    "また、  \n",
    "$ \\begin{align}J_j = I_{dir,j}･\\alpha_{dir,j} + I_{sky,j}･\\alpha_{sky,j} + I_{ref,j}･\\alpha_{ref,j} \\end{align}$ ･･････････････････････ (4.1.3-j)"
   ]
  },
  {
   "cell_type": "markdown",
   "metadata": {},
   "source": [
    "### 5.1.4. 全体計算"
   ]
  },
  {
   "cell_type": "code",
   "execution_count": null,
   "metadata": {
    "collapsed": true
   },
   "outputs": [],
   "source": []
  },
  {
   "cell_type": "markdown",
   "metadata": {},
   "source": [
    "### 5.2. フレームの日射熱取得率"
   ]
  },
  {
   "cell_type": "code",
   "execution_count": null,
   "metadata": {
    "collapsed": true
   },
   "outputs": [],
   "source": []
  },
  {
   "cell_type": "markdown",
   "metadata": {},
   "source": [
    "### 5.3. 全体計算"
   ]
  },
  {
   "cell_type": "code",
   "execution_count": null,
   "metadata": {
    "collapsed": true
   },
   "outputs": [],
   "source": []
  },
  {
   "cell_type": "markdown",
   "metadata": {},
   "source": [
    "## 6. 窓の熱貫流率の計算"
   ]
  },
  {
   "cell_type": "code",
   "execution_count": null,
   "metadata": {
    "collapsed": true
   },
   "outputs": [],
   "source": []
  }
 ],
 "metadata": {
  "kernelspec": {
   "display_name": "Python 3",
   "language": "python",
   "name": "python3"
  },
  "language_info": {
   "codemirror_mode": {
    "name": "ipython",
    "version": 3
   },
   "file_extension": ".py",
   "mimetype": "text/x-python",
   "name": "python",
   "nbconvert_exporter": "python",
   "pygments_lexer": "ipython3",
   "version": "3.6.1"
  }
 },
 "nbformat": 4,
 "nbformat_minor": 2
}
