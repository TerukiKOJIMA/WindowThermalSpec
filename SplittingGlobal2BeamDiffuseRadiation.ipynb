{
 "cells": [
  {
   "cell_type": "code",
   "execution_count": 1,
   "metadata": {},
   "outputs": [
    {
     "name": "stdout",
     "output_type": "stream",
     "text": [
      "Importing Jupyter notebook from Weather.ipynb\n",
      "Importing Jupyter notebook from SolarPosition.ipynb\n"
     ]
    }
   ],
   "source": [
    "from collections import namedtuple\n",
    "import csv\n",
    "import math\n",
    "import numpy as np\n",
    "import matplotlib.pyplot as plt\n",
    "\n",
    "import nbimporter\n",
    "import Weather\n",
    "import SolarPosition"
   ]
  },
  {
   "cell_type": "markdown",
   "metadata": {},
   "source": [
    "# 直散分離を計算するモジュール"
   ]
  },
  {
   "cell_type": "markdown",
   "metadata": {},
   "source": [
    "## 1. Functions  "
   ]
  },
  {
   "cell_type": "markdown",
   "metadata": {},
   "source": [
    "水平面全天日射量から水平面天空日射量と法線面直達日射量を計算する。"
   ]
  },
  {
   "cell_type": "markdown",
   "metadata": {},
   "source": [
    "### 1.1. Watanabe Model"
   ]
  },
  {
   "cell_type": "markdown",
   "metadata": {},
   "source": [
    "### 入力値  \n",
    "\n",
    "$ I_G $ ：水平面全天日射量 [MJ/(m<sup>2</sup>･h)]  \n",
    "$ h $ ：太陽高度角 (°)  "
   ]
  },
  {
   "cell_type": "markdown",
   "metadata": {},
   "source": [
    "### 出力値\n",
    "\n",
    "$ I_b $ ：法線面直達日射量 [MJ/(m<sup>2</sup>･h)]  \n",
    "$ I_d $ ：水平面天空日射量 [MJ/(m<sup>2</sup>･h)]  "
   ]
  },
  {
   "cell_type": "markdown",
   "metadata": {},
   "source": [
    "### 計算方法\n",
    "\n",
    "#### データ構造と値の範囲\n",
    "\n",
    "$ I_G $・$ h $の組み合わせを1つの変数（タプル）で表し\"dbd_input\"とする。  \n",
    "$ h $は0°以上、90°以下の値をとる（ただし、$ h $が3°より小さい場合には、$ h $=3°として計算する）。  "
   ]
  },
  {
   "cell_type": "code",
   "execution_count": 2,
   "metadata": {},
   "outputs": [],
   "source": [
    "dbd_input = namedtuple('dbd_input', 'dbd_ig dbd_h')\n",
    "#dbd_ig：水平面全天日射量 [MJ/(m2･h)]  \n",
    "#dbd_h：太陽高度角 (°) "
   ]
  },
  {
   "cell_type": "markdown",
   "metadata": {},
   "source": [
    "#### 直散分離（Watanabe model）の計算\n",
    "\n",
    "（参考：拡張アメダス気象データ1981-2000解説書 8.2.1　直散分離）  \n",
    "\n",
    "直散分離（Watanabe model）の計算方法を以下に示す。  \n",
    "\n",
    "$ \\begin{align}I_d = I_0 ･ \\sin h ･ \\frac{Q}{1 + Q}\\end{align}$ ･･････････････････････････････････ (3.3-a)  \n",
    "\n",
    "$ \\begin{align}Q = (0.8672 + 0.7505 ･ \\sin h) ･ P ^ {\\frac{0.421}{\\sin h}} ･ (1 - P ^ {\\frac{1}{\\sin h}}) ^ {2.277}\\end{align}$ ････ (3.3-b)  \n",
    "\n",
    "大気透過率$ P $は、Bouguer式による。Bouguer式を以下に示す。\n",
    "\n",
    "$ \\begin{align}I_b = I_0 ･ P ^ {\\frac{1}{\\sin h}}\\end{align}$ ･･････････････････････････････････････････ (3.3-c)  \n",
    "\n",
    "日射の直散成分の関係式を以下に示す。 \n",
    "\n",
    "$ \\begin{align}I_G = I_b ･ \\sin h + I_d\\end{align}$ ･････････････････････････････････････ (3.3-d)  \n",
    "\n",
    "ここで、  \n",
    "\n",
    "$ I_0 $ ：法線面大気外日射量（1367[W/m<sup>2</sup>]=4.9212） [MJ/(m<sup>2</sup>･h)]  \n",
    "$ P $ ：大気透過率（0 < $ P $ ≦ 0.85）  \n",
    "\n",
    "である。  \n",
    "\n",
    "式(3.3-c)、式(3.3-d)を整理すると、式(3.3-e)が得られる。  \n",
    "\n",
    "$ \\begin{align}I_d = I_G - I_0 ･ P ^ {\\frac{1}{\\sin h}} ･ \\sin h\\end{align}$ ･･･････････････････････････････ (3.3-e)  \n",
    "\n",
    "大気透過率$ P $及び水平面天空日射量$I_d$は、式(3.3-a)と式(3.3-e)から収束計算によって求める。  \n",
    "\n",
    "法線面直達日射量$I_b$は、式(3.3-d)を変形した式(3.3-f)から求める。  \n",
    "\n",
    "$ \\begin{align}I_b = \\frac{I_G - I_d}{\\sin h}\\end{align}$ ･･････････････････････････････････････････ (3.3-f)  "
   ]
  },
  {
   "cell_type": "code",
   "execution_count": 3,
   "metadata": {},
   "outputs": [],
   "source": [
    "#直散分離（Watanabe model）の計算\n",
    "#法線面大気外日射量、水平面天空日射量\n",
    "def division_beam_diffuse(L):\n",
    "\n",
    "    dbd_i0 = 4.9212 #法線面大気外日射量(MJ/(m2h))\n",
    "    if 0. < L.dbd_h and L.dbd_h < 3.:\n",
    "        dbd_sinh =  math.sin(math.radians(3.)) #太陽高度角の補正\n",
    "    elif 3. < L.dbd_h and L.dbd_h <= 90.:\n",
    "        dbd_sinh =  math.sin(math.radians(L.dbd_h))\n",
    "    else:\n",
    "        dbd_sinh = 0.\n",
    "        \n",
    "    def f_id(dbd_px):\n",
    "        dbd_q = (0.8672 + 0.7505 * dbd_sinh) * dbd_px ** (0.421 / dbd_sinh) * (1. - dbd_px ** (1. / dbd_sinh)) ** 2.277\n",
    "        dbd_id1 = dbd_i0 * dbd_sinh * dbd_q / (1 + dbd_q)\n",
    "        dbd_id2 = L.dbd_ig - dbd_i0 * dbd_px ** (1 / dbd_sinh) * dbd_sinh\n",
    "        return dbd_id1 - dbd_id2\n",
    "    \n",
    "    #収束計算(二分法)\n",
    "    p_min = 0. #初期値(下限)\n",
    "    p_max = 1. #初期値(上限)\n",
    "    p_cnt = 0  #繰り返し回数\n",
    "    if dbd_sinh > 0. and L.dbd_ig > 0.:\n",
    "        while True:\n",
    "            p_cnt += 1\n",
    "            dbd_p = (p_min + p_max) / 2.\n",
    "            if f_id(p_min) * f_id(dbd_p) < 0.:\n",
    "                p_max = dbd_p\n",
    "            else:\n",
    "                p_min = dbd_p\n",
    "            if abs (f_id(dbd_p)) < 10. ** (-10.):\n",
    "                if dbd_p > 0.85:\n",
    "                    dbd_p = 0.85\n",
    "                break\n",
    "            elif p_cnt > 10. ** 3.:\n",
    "                dbd_p = 99999.\n",
    "                break\n",
    "     \n",
    "        if dbd_p != 99999.:\n",
    "            #法線面直達日射量\n",
    "            r_dbd_ib = dbd_i0 * dbd_p ** (1. / dbd_sinh)\n",
    "            if r_dbd_ib > 4.18:\n",
    "                r_dbd_ib = 4.18\n",
    "            #水平面天空日射量\n",
    "            r_dbd_id = L.dbd_ig - r_dbd_ib * dbd_sinh\n",
    "            if r_dbd_id < 0.:\n",
    "                r_dbd_id = 0.            \n",
    "        else:\n",
    "            r_dbd_ib = 99999.\n",
    "            r_dbd_id = 99999.\n",
    "    else:\n",
    "        r_dbd_ib = 0.\n",
    "        r_dbd_id = 0.\n",
    "        \n",
    "    return r_dbd_ib, r_dbd_id"
   ]
  },
  {
   "cell_type": "markdown",
   "metadata": {},
   "source": [
    "#### Example"
   ]
  },
  {
   "cell_type": "code",
   "execution_count": 4,
   "metadata": {},
   "outputs": [
    {
     "ename": "NameError",
     "evalue": "name 'sp_input' is not defined",
     "output_type": "error",
     "traceback": [
      "\u001b[1;31m---------------------------------------------------------------------------\u001b[0m",
      "\u001b[1;31mNameError\u001b[0m                                 Traceback (most recent call last)",
      "\u001b[1;32m<ipython-input-4-b86d3c3e36ed>\u001b[0m in \u001b[0;36m<module>\u001b[1;34m()\u001b[0m\n\u001b[0;32m     10\u001b[0m \u001b[1;33m\u001b[0m\u001b[0m\n\u001b[0;32m     11\u001b[0m \u001b[1;32mfor\u001b[0m \u001b[0mi\u001b[0m \u001b[1;32min\u001b[0m \u001b[0mrange\u001b[0m\u001b[1;33m(\u001b[0m\u001b[1;36m0\u001b[0m\u001b[1;33m,\u001b[0m \u001b[1;36m8760\u001b[0m\u001b[1;33m)\u001b[0m\u001b[1;33m:\u001b[0m\u001b[1;33m\u001b[0m\u001b[0m\n\u001b[1;32m---> 12\u001b[1;33m     \u001b[0msp_in\u001b[0m \u001b[1;33m=\u001b[0m \u001b[0msp_input\u001b[0m\u001b[1;33m(\u001b[0m\u001b[0myear\u001b[0m\u001b[1;33m,\u001b[0m \u001b[0mint\u001b[0m\u001b[1;33m(\u001b[0m\u001b[1;33m(\u001b[0m\u001b[0mi\u001b[0m \u001b[1;33m+\u001b[0m \u001b[1;36m1.\u001b[0m\u001b[1;33m)\u001b[0m \u001b[1;33m/\u001b[0m \u001b[1;36m24.\u001b[0m\u001b[1;33m)\u001b[0m \u001b[1;33m+\u001b[0m \u001b[1;36m1.\u001b[0m\u001b[1;33m,\u001b[0m \u001b[1;33m(\u001b[0m\u001b[1;33m(\u001b[0m\u001b[0mi\u001b[0m \u001b[1;33m+\u001b[0m \u001b[1;36m1.\u001b[0m\u001b[1;33m)\u001b[0m \u001b[1;33m/\u001b[0m \u001b[1;36m24.\u001b[0m \u001b[1;33m-\u001b[0m \u001b[0mint\u001b[0m\u001b[1;33m(\u001b[0m\u001b[1;33m(\u001b[0m\u001b[0mi\u001b[0m \u001b[1;33m+\u001b[0m \u001b[1;36m1.\u001b[0m\u001b[1;33m)\u001b[0m \u001b[1;33m/\u001b[0m \u001b[1;36m24.\u001b[0m\u001b[1;33m)\u001b[0m\u001b[1;33m)\u001b[0m \u001b[1;33m*\u001b[0m \u001b[1;36m24.\u001b[0m\u001b[1;33m,\u001b[0m \u001b[0mlat\u001b[0m\u001b[1;33m,\u001b[0m \u001b[0mlon\u001b[0m\u001b[1;33m)\u001b[0m\u001b[1;33m\u001b[0m\u001b[0m\n\u001b[0m\u001b[0;32m     13\u001b[0m     \u001b[0msp_h\u001b[0m \u001b[1;33m=\u001b[0m \u001b[0mSolarPosition\u001b[0m\u001b[1;33m.\u001b[0m\u001b[0msolar_position\u001b[0m\u001b[1;33m(\u001b[0m\u001b[0msp_in\u001b[0m\u001b[1;33m)\u001b[0m\u001b[1;33m[\u001b[0m\u001b[1;36m0\u001b[0m\u001b[1;33m]\u001b[0m                                     \u001b[1;31m#太陽高度角\u001b[0m\u001b[1;33m\u001b[0m\u001b[0m\n\u001b[0;32m     14\u001b[0m \u001b[1;33m\u001b[0m\u001b[0m\n",
      "\u001b[1;31mNameError\u001b[0m: name 'sp_input' is not defined"
     ]
    }
   ],
   "source": [
    "location = '3639999'               #東京ID\n",
    "year = 1995                        #西暦年\n",
    "lat = 35. + 41.2 / 60.             #計算対象地点の緯度 (°)  \n",
    "lon = 139. + 45.9 / 60.            #計算対象地点の経度 (°)  \n",
    "\n",
    "#気象データ読込\n",
    "ig = Weather.weather_input(location)[4]                                        #水平面全天日射量\n",
    "\n",
    "dbd_result = np.empty((5,8760))\n",
    "\n",
    "for i in range(0, 8760):\n",
    "    sp_in = sp_input(year, int((i + 1.) / 24.) + 1., ((i + 1.) / 24. - int((i + 1.) / 24.)) * 24., lat, lon)\n",
    "    sp_h = SolarPosition.solar_position(sp_in)[0]                                     #太陽高度角\n",
    "\n",
    "    dbd_in = dbd_input(ig[i], sp_h)\n",
    "    dbd_result[0][i] = i + 1.                                           #年通算時間\n",
    "    dbd_result[1][i] = int((i + 1.) / 24.) + 1.                         #年通算日\n",
    "    dbd_result[2][i] = ((i + 1.) / 24. - int((i + 1.) / 24.)) * 24.     #時刻\n",
    "    dbd_result[3][i] = division_beam_diffuse(dbd_in)[0]                 #法線面直達日射量\n",
    "    dbd_result[4][i] = division_beam_diffuse(dbd_in)[1]                 #水平面天空日射量\n",
    "    \n",
    "#np.savetxt(location + '_out_dbd.csv', np.transpose(dbd_result), fmt='%.10f', delimiter=',')\n",
    "\n",
    "#確認用気象データ読込\n",
    "ib_ea = Weather.weather_confirm_input(location)[0]                              #法線面直達日射量\n",
    "id_ea = Weather.weather_confirm_input(location)[1]                              #水平面天空日射量\n",
    "\n",
    "#グラフの描画\n",
    "graph_num = 2\n",
    "ax = np.empty(graph_num, dtype = np.object)\n",
    "fig = plt.figure(figsize = (15, 5 * ((graph_num + 1) // 2)))\n",
    "plt.style.use('ggplot')\n",
    "\n",
    "gpc = ['C0', 'C1']\n",
    "gxd = [[ib_ea[0:8760], [-0.5,4.]], [id_ea[0:8760], [-0.5,4.]]]\n",
    "gyd = [[dbd_result[3][0:8760], [-0.5,4.]], [dbd_result[4][0:8760], [-0.5,4.]]]\n",
    "gxl = ['ib(eadata) [MJ/(m2h)]','id(eadata) [MJ/(m2h)]']\n",
    "gyl = ['ib(calc) [MJ/(m2h)]', 'id(calc) [MJ/(m2h)]']\n",
    "gxt = [[0.5 * (i-1) for i in range(10)], [0.5 * (i-1) for i in range(10)]]\n",
    "gyt = [[0.5 * (i-1) for i in range(10)], [0.5 * (i-1) for i in range(10)]]\n",
    "\n",
    "for i in range(graph_num):   \n",
    "    ax[i] = fig.add_subplot((graph_num + 1) // 2, 2, i + 1)\n",
    "    ax[i].scatter(gxd[i][0], gyd[i][0], color = gpc[i])\n",
    "    ax[i].plot(gxd[i][1], gyd[i][1], color = (0,0,0))\n",
    "    ax[i].set_xticks(gxt[i])\n",
    "    ax[i].set_yticks(gyt[i])\n",
    "    ax[i].set_xlabel(gxl[i], fontsize = 12)\n",
    "    ax[i].set_ylabel(gyl[i], fontsize = 12)\n",
    "\n",
    "plt.show()"
   ]
  },
  {
   "cell_type": "code",
   "execution_count": null,
   "metadata": {},
   "outputs": [],
   "source": []
  }
 ],
 "metadata": {
  "kernelspec": {
   "display_name": "Python 3",
   "language": "python",
   "name": "python3"
  },
  "language_info": {
   "codemirror_mode": {
    "name": "ipython",
    "version": 3
   },
   "file_extension": ".py",
   "mimetype": "text/x-python",
   "name": "python",
   "nbconvert_exporter": "python",
   "pygments_lexer": "ipython3",
   "version": "3.6.4"
  }
 },
 "nbformat": 4,
 "nbformat_minor": 2
}
