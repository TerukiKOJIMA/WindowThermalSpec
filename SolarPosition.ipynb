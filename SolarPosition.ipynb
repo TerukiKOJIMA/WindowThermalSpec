{
 "cells": [
  {
   "cell_type": "code",
   "execution_count": 1,
   "metadata": {},
   "outputs": [
    {
     "name": "stdout",
     "output_type": "stream",
     "text": [
      "Importing Jupyter notebook from Weather.ipynb\n"
     ]
    }
   ],
   "source": [
    "from collections import namedtuple\n",
    "import csv\n",
    "import math\n",
    "import numpy as np\n",
    "import matplotlib.pyplot as plt\n",
    "\n",
    "import nbimporter\n",
    "import Weather"
   ]
  },
  {
   "cell_type": "markdown",
   "metadata": {},
   "source": [
    "# 太陽位置を計算するモジュール"
   ]
  },
  {
   "cell_type": "markdown",
   "metadata": {},
   "source": [
    "## 1. Functions  "
   ]
  },
  {
   "cell_type": "markdown",
   "metadata": {},
   "source": [
    "任意の時刻・緯度・経度における太陽高度角・太陽方位角を計算する。"
   ]
  },
  {
   "cell_type": "markdown",
   "metadata": {},
   "source": [
    "### 入力値  \n",
    "\n",
    "$ Y $ ：西暦年（year）  \n",
    "$ D $ ：1月1日を初日（$D=1$）とする計算対象日の年通算日 (day)  \n",
    "$ T_m $ ：標準時 (h)  \n",
    "$ \\Phi $ ：計算対象地点の緯度 (°)  \n",
    "$ L $ ：計算対象地点の経度 (°)  "
   ]
  },
  {
   "cell_type": "markdown",
   "metadata": {},
   "source": [
    "### 出力値\n",
    "\n",
    "$ h $ ：太陽高度角 (°)  \n",
    "$ A $ ：太陽方位角 (°)  "
   ]
  },
  {
   "cell_type": "markdown",
   "metadata": {},
   "source": [
    "### 計算方法\n",
    "\n",
    "#### データ構造と値の範囲\n",
    "\n",
    "$Y$・$D$・$T_m$・$\\Phi$・$L$の組み合わせを1つの変数（タプル）で表し\"sp_input\"とする。  \n",
    "$h$は0°以上、90°以下の値をとる（地平：0°、天頂：90°）。  \n",
    "$A$は-180°以上、180°以下の値をとる（東：-90°、南：0°、西：90°）。"
   ]
  },
  {
   "cell_type": "code",
   "execution_count": 2,
   "metadata": {},
   "outputs": [],
   "source": [
    "sp_input = namedtuple('sp_input','sp_year sp_nday sp_tm sp_lat sp_lon')\n",
    "#sp_year：西暦年（year）  \n",
    "#sp_nday：1月1日を初日（$D=1$）とする計算対象日の年通算日 (day)  \n",
    "#sp_tm：標準時 (h)  \n",
    "#sp_lat：計算対象地点の緯度 (°)  \n",
    "#sp_lon：計算対象地点の経度 (°)  "
   ]
  },
  {
   "cell_type": "markdown",
   "metadata": {},
   "source": [
    "#### 太陽高度角及び太陽方位角の計算\n",
    "\n",
    "（参考：拡張アメダス気象データ1981-2000解説書 8.1　太陽位置の計算）  \n",
    "\n",
    "太陽高度角$ h $、太陽方位角$ A $の計算方法を以下に示す。  \n",
    "\n",
    "$ \\begin{align}\\sin h = \\sin\\Phi ･ \\sin \\delta + \\cos \\Phi ･ \\cos \\delta ･ \\cos t\\end{align}$ ････････････････ (3.1-a)  \n",
    "\n",
    "$ \\begin{align}\\sin A = \\frac{\\cos\\delta ･ \\sin t}{\\cos h}\\end{align}$ ････････････････････････････････････ (3.1-b)  \n",
    "\n",
    "$ \\begin{align}\\cos A = \\frac{\\sin h ･ \\sin\\Phi - \\sin\\delta}{\\cos h ･ \\cos\\phi}\\end{align}$ ････････････････････････････ (3.1-c)  \n",
    "\n",
    "$ \\begin{align}t = 15 ･ (T_m - 12) + (L - L_0) + E_t\\end{align}$ ･･････････････････････ (3.1-d)  \n",
    "\n",
    "$ \\begin{align}\\sin\\delta = \\cos(v + \\epsilon) ･ \\sin\\delta_0\\end{align}$ ･･･････････････････････････････ (3.1-e)  \n",
    "\n",
    "$ \\begin{align}E_t = (M - v) - \\tan^{-1}\\biggl[\\frac{0.043 ･ \\sin 2(v + \\epsilon)}{1 - 0.043 ･ \\cos 2(v + \\epsilon)}\\biggr]\\end{align}$ ･････････ (3.1-f)  \n",
    "\n",
    "$ \\begin{align}v = M + 1.914 ･ \\sin M + 0.02 ･ \\sin(2M)\\end{align}$ ･･････････････････ (3.1-g)  \n",
    "\n",
    "$ \\begin{align}\\epsilon = 12.3901 + 0.0172 ･ \\biggl(n + \\frac{M}{360}\\biggr)\\end{align}$ ･････････････････････ (3.1-h)  \n",
    "\n",
    "$ \\begin{align}M = \\frac{360 ･ (D - d_0)}{D_{ay}} \\end{align}$ ･････････････････････････････････････ (3.1-i)  \n",
    "\n",
    "$ \\begin{align}d_0 = 3.71 + 0.2596 ･ n - INT\\biggl[\\frac{n+3}{4}\\biggr]\\end{align}$ ･･･････････････････ (3.1-j)  \n",
    "\n",
    "$ \\begin{align}n = Y - 1968\\end{align}$ ･･････････････････････････････････････････ (3.1-k)  \n",
    "\n",
    "ここで、  \n",
    "\n",
    "$ \\delta $ ：赤緯 (°)  \n",
    "$ t $ ：時角 (°)  \n",
    "$ L_0 $ ：標準時の地点の経度（=135.0（日本の場合）） (°)  \n",
    "$ E_t $ ：均時差 (°)  \n",
    "$ v $ ：真近点離角 (°)  \n",
    "$ \\epsilon $ ：近日点と冬至点の角度 (°)  \n",
    "$ \\delta_0 $ ：北半球の冬至の日赤緯（= -23.4393） (°)  \n",
    "$ M $ ：平均近点離角 (°)  \n",
    "$ n $ ：1968年との年差 (year)  \n",
    "$ d_0 $ ：平均軌道上の近日点通過日（暦表時による1968年1月1日正午基準の日差）(day)  \n",
    "$ D_{ay} $ ：近点年（近日点基準の公転周期日数）（= 365.2596） (day)  \n",
    "$ INT[] $ ：小数点以下切り捨て  \n",
    "$ Y $ ：西暦年 (year)  \n",
    "\n",
    "である。  "
   ]
  },
  {
   "cell_type": "code",
   "execution_count": 3,
   "metadata": {},
   "outputs": [],
   "source": [
    "#太陽位置の計算\n",
    "#太陽高度角、太陽方位角\n",
    "def solar_position(L):\n",
    "    \n",
    "    sp_n = L.sp_year - 1968.\n",
    "    sp_d0 = 3.71 + 0.2596 * sp_n - int((sp_n + 3.) / 4.)\n",
    "    sp_Day = 365.2596\n",
    "    sp_M = 360. * (L.sp_nday - sp_d0) / sp_Day\n",
    "    sp_eps = 12.3901 + 0.0172 * (sp_n + sp_M / 360.)\n",
    "    sp_v = sp_M + 1.914 * math.sin(math.radians(sp_M)) + 0.02 * math.sin(math.radians(2. * sp_M))\n",
    "    sp_veps = math.radians(sp_v + sp_eps)\n",
    "    sp_et = (sp_M - sp_v) - math.degrees(math.atan(0.043 * math.sin(2. * sp_veps) / (1. - 0.043 * math.cos(2. * sp_veps))))\n",
    "    sp_dlt0 = math.radians(-23.4393)\n",
    "    sp_sindlt = math.cos(sp_veps) * math.sin(sp_dlt0)\n",
    "    sp_cosdlt = (abs(1. - sp_sindlt ** 2.)) ** 0.5\n",
    "    sp_lons = 135.\n",
    "    sp_t = 15. * (L.sp_tm - 12.) + (L.sp_lon - sp_lons) + sp_et\n",
    "    sp_latrad = math.radians(L.sp_lat)\n",
    "    sp_trad = math.radians(sp_t)\n",
    "    sp_sinh = math.sin(sp_latrad) * sp_sindlt + math.cos(sp_latrad) * sp_cosdlt * math.cos(sp_trad)\n",
    "    sp_cosh = (1. - sp_sinh ** 2.) ** 0.5\n",
    "    sp_sinA = sp_cosdlt * math.sin(sp_trad) / sp_cosh\n",
    "    sp_cosA = (sp_sinh * math.sin(sp_latrad) - sp_sindlt) / (sp_cosh * math.cos(sp_latrad))\n",
    "    \n",
    "    r_sp_h = 0.\n",
    "    r_sp_A = 0.\n",
    "    if sp_sinh > 0.:\n",
    "        r_sp_h = math.degrees(math.asin(sp_sinh))\n",
    "        if sp_sinA > 0.:\n",
    "            r_sp_A = 90. - math.degrees(math.atan(sp_cosA / sp_sinA))\n",
    "        elif sp_sinA < 0.:\n",
    "            r_sp_A = - 90. - math.degrees(math.atan(sp_cosA / sp_sinA))\n",
    "        elif sp_sinA == 0.:\n",
    "            r_sp_A = 0.\n",
    "        \n",
    "    return r_sp_h, r_sp_A"
   ]
  },
  {
   "cell_type": "markdown",
   "metadata": {},
   "source": [
    "#### Example"
   ]
  },
  {
   "cell_type": "code",
   "execution_count": 1,
   "metadata": {},
   "outputs": [
    {
     "ename": "NameError",
     "evalue": "name 'np' is not defined",
     "output_type": "error",
     "traceback": [
      "\u001b[1;31m---------------------------------------------------------------------------\u001b[0m",
      "\u001b[1;31mNameError\u001b[0m                                 Traceback (most recent call last)",
      "\u001b[1;32m<ipython-input-1-71873fe2470c>\u001b[0m in \u001b[0;36m<module>\u001b[1;34m()\u001b[0m\n\u001b[0;32m      4\u001b[0m \u001b[0mlon\u001b[0m \u001b[1;33m=\u001b[0m \u001b[1;36m139.\u001b[0m \u001b[1;33m+\u001b[0m \u001b[1;36m45.9\u001b[0m \u001b[1;33m/\u001b[0m \u001b[1;36m60.\u001b[0m            \u001b[1;31m#計算対象地点の経度 (°)\u001b[0m\u001b[1;33m\u001b[0m\u001b[0m\n\u001b[0;32m      5\u001b[0m \u001b[1;33m\u001b[0m\u001b[0m\n\u001b[1;32m----> 6\u001b[1;33m \u001b[0msp_result\u001b[0m \u001b[1;33m=\u001b[0m \u001b[0mnp\u001b[0m\u001b[1;33m.\u001b[0m\u001b[0mempty\u001b[0m\u001b[1;33m(\u001b[0m\u001b[1;33m(\u001b[0m\u001b[1;36m5\u001b[0m\u001b[1;33m,\u001b[0m\u001b[1;36m8760\u001b[0m\u001b[1;33m)\u001b[0m\u001b[1;33m)\u001b[0m\u001b[1;33m\u001b[0m\u001b[0m\n\u001b[0m\u001b[0;32m      7\u001b[0m \u001b[1;33m\u001b[0m\u001b[0m\n\u001b[0;32m      8\u001b[0m \u001b[1;32mfor\u001b[0m \u001b[0mi\u001b[0m \u001b[1;32min\u001b[0m \u001b[0mrange\u001b[0m\u001b[1;33m(\u001b[0m\u001b[1;36m0\u001b[0m\u001b[1;33m,\u001b[0m \u001b[1;36m8760\u001b[0m\u001b[1;33m)\u001b[0m\u001b[1;33m:\u001b[0m\u001b[1;33m\u001b[0m\u001b[0m\n",
      "\u001b[1;31mNameError\u001b[0m: name 'np' is not defined"
     ]
    }
   ],
   "source": [
    "location = '3639999'               #東京ID\n",
    "year = 1995                        #西暦年\n",
    "lat = 35. + 41.2 / 60.             #計算対象地点の緯度 (°)  \n",
    "lon = 139. + 45.9 / 60.            #計算対象地点の経度 (°)  \n",
    "\n",
    "sp_result = np.empty((5,8760))\n",
    "\n",
    "for i in range(0, 8760):\n",
    "    sp_in = sp_input(year, int((i + 1.) / 24.) + 1., ((i + 1.) / 24. - int((i + 1.) / 24.)) * 24., lat, lon)\n",
    "    sp_result[0][i] = i + 1.                                           #年通算時間\n",
    "    sp_result[1][i] = int((i + 1.) / 24.) + 1.                         #年通算日\n",
    "    sp_result[2][i] = ((i + 1.) / 24. - int((i + 1.) / 24.)) * 24.     #時刻\n",
    "    sp_result[3][i] = solar_position(sp_in)[0]                         #太陽高度角\n",
    "    sp_result[4][i] = solar_position(sp_in)[1]                         #太陽方位角\n",
    "    \n",
    "#np.savetxt(location + '_out_sp.csv', np.transpose(sp_result), fmt='%.10f', delimiter=',')\n",
    "\n",
    "#確認用気象データ読込\n",
    "h_ea = Weather.weather_confirm_input(location)[5]                              #太陽高度角\n",
    "A_ea = Weather.weather_confirm_input(location)[6]                              #太陽方位角\n",
    "\n",
    "#グラフの描画\n",
    "graph_num = 2\n",
    "ax = np.empty(graph_num, dtype = np.object)\n",
    "fig = plt.figure(figsize = (15, 5 * ((graph_num + 1) // 2)))\n",
    "plt.style.use('ggplot')\n",
    "\n",
    "gpc = 'C0'\n",
    "gxd = [[h_ea[0:8760], [0,90]], [A_ea[0:8760], [-120,120]]]\n",
    "gyd = [[sp_result[3][0:8760], [0,90]], [sp_result[4][0:8760], [-120,120]]]\n",
    "gxl = ['h(eadata) (°)','A(eadata) (°)']\n",
    "gyl = ['h(calc) (°)', 'A(calc) (°)']\n",
    "gxt = [[10 * i for i in range(10)], [30 * (i - 4) for i in range(9)]]\n",
    "gyt = [[10 * i for i in range(10)], [30 * (i - 4) for i in range(9)]]\n",
    "\n",
    "for i in range(graph_num):   \n",
    "    ax[i] = fig.add_subplot((graph_num + 1) // 2, 2, i + 1)\n",
    "    ax[i].scatter(gxd[i][0], gyd[i][0], color = gpc)\n",
    "    ax[i].plot(gxd[i][1], gyd[i][1], color = (0,0,0))\n",
    "    ax[i].set_xticks(gxt[i])\n",
    "    ax[i].set_yticks(gyt[i])\n",
    "    ax[i].set_xlabel(gxl[i], fontsize = 12)\n",
    "    ax[i].set_ylabel(gyl[i], fontsize = 12)\n",
    "\n",
    "plt.show()"
   ]
  },
  {
   "cell_type": "code",
   "execution_count": null,
   "metadata": {},
   "outputs": [],
   "source": []
  }
 ],
 "metadata": {
  "kernelspec": {
   "display_name": "Python 3",
   "language": "python",
   "name": "python3"
  },
  "language_info": {
   "codemirror_mode": {
    "name": "ipython",
    "version": 3
   },
   "file_extension": ".py",
   "mimetype": "text/x-python",
   "name": "python",
   "nbconvert_exporter": "python",
   "pygments_lexer": "ipython3",
   "version": "3.6.4"
  }
 },
 "nbformat": 4,
 "nbformat_minor": 2
}
