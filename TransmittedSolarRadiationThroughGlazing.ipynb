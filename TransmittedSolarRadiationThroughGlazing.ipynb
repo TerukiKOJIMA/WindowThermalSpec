{
 "cells": [
  {
   "cell_type": "code",
   "execution_count": 1,
   "metadata": {
    "scrolled": true
   },
   "outputs": [
    {
     "name": "stdout",
     "output_type": "stream",
     "text": [
      "Importing Jupyter notebook from GlassAngularProperty.ipynb\n",
      "Importing Jupyter notebook from IncidentSolarRadiationOnGlazing.ipynb\n",
      "Importing Jupyter notebook from MultipleReflectionOfSolarRadiation.ipynb\n",
      "Importing Jupyter notebook from DivisionDiffuseRatio.ipynb\n"
     ]
    }
   ],
   "source": [
    "from collections import namedtuple\n",
    "import csv\n",
    "import math\n",
    "import numpy as np\n",
    "import matplotlib.pyplot as plt\n",
    "\n",
    "import nbimporter\n",
    "import GlassAngularProperty\n",
    "import IncidentSolarRadiationOnGlazing\n",
    "import MultipleReflectionOfSolarRadiation\n",
    "import DivisionDiffuseRatio"
   ]
  },
  {
   "cell_type": "markdown",
   "metadata": {},
   "source": [
    "# 開口面透過日射量を計算するモジュール"
   ]
  },
  {
   "cell_type": "markdown",
   "metadata": {},
   "source": [
    "## 1. Functions  "
   ]
  },
  {
   "cell_type": "markdown",
   "metadata": {},
   "source": [
    "開口面日射量（直達・天空・地表面反射）とグレージング複合体の日射透過率から開口面透過日射量を計算する。"
   ]
  },
  {
   "cell_type": "markdown",
   "metadata": {},
   "source": [
    "### 入力値  \n",
    "\n",
    "$ I_{T,b} $ ：斜面（開口面）直達日射量 (W/m<sup>2</sup>)  \n",
    "$ I_{T,d} $ ：斜面（開口面）天空日射量 (W/m<sup>2</sup>)  \n",
    "$ I_{T,r} $ ：斜面（開口面）地表面反射日射量 (W/m<sup>2</sup>)  \n",
    "$ \\tau_{glz,b} $ ：直達日射に対する日射透過率  \n",
    "$ \\tau_{glz,d,l,m} $ ：天空上の微小要素からの入射日射に対する日射透過率  \n",
    "$ \\tau_{glz,r,l,m} $ ：地表面上の微小要素からの入射日射に対する日射透過率  \n",
    "$ F_{d,l,m} $ ：天空日射量に対する天空上の微小要素からの天空日射量の割合  \n",
    "$ F_{r,l,m} $ ：地表面反射日射量に対する地表面上の微小要素からの地表面反射日射量の割合  "
   ]
  },
  {
   "cell_type": "markdown",
   "metadata": {},
   "source": [
    "### 出力値  \n",
    "\n",
    "$ I_{\\tau} $ ：開口面透過日射量 (W/m<sup>2</sup>)  "
   ]
  },
  {
   "cell_type": "markdown",
   "metadata": {},
   "source": [
    "### 計算方法  \n",
    "\n",
    "#### データ構造と値の範囲  \n",
    "\n",
    "$ \\tau_{glz,b} $・$ \\tau_{glz,d} $・$ \\tau_{glz,r} $ の組み合わせを入力条件として1つの変数（タプル）で表し\"tta_tuple\"とする。  "
   ]
  },
  {
   "cell_type": "code",
   "execution_count": 2,
   "metadata": {},
   "outputs": [],
   "source": [
    "def tta_input():\n",
    "    return namedtuple('tta_tuple','tta_taub tta_taud tta_taur')\n",
    "\n",
    "#tta_taub：直達成分の日射透過率\n",
    "#tta_taud：天空成分の日射透過率\n",
    "#tta_taur：地表面反射成分の日射透過率"
   ]
  },
  {
   "cell_type": "markdown",
   "metadata": {},
   "source": [
    "#### 透過日射量の計算  \n",
    "\n",
    "透過日射量の計算方法を以下に示す。\n",
    "\n",
    "$ \\begin{align}I_{\\tau} = I_{T,b}･\\tau_{glz,b} + I_{T,d}･\\tau_{glz,d} + I_{T,r}･\\tau_{glz,r} \\end{align}$ ････････････････････ (5.1.4.3-a)  \n",
    "\n",
    "$ \\begin{align}\\tau_{glz,d} = \\sum_{l=0}^{N_{d,lat}-1}\\sum_{m=0}^{N_{d,lon}-1} F_{d,l,m}･\\tau_{glz,d,l,m} \\end{align}$ ････････････････････ (5.1.4.3-b)  \n",
    "\n",
    "$ \\begin{align}\\tau_{glz,r} = \\sum_{l=0}^{N_{r,lat}-1}\\sum_{m=0}^{N_{r,lon}-1} F_{r,l,m}･\\tau_{glz,r,l,m} \\end{align}$ ････････････････････ (5.1.4.3-c)  "
   ]
  },
  {
   "cell_type": "code",
   "execution_count": 3,
   "metadata": {},
   "outputs": [],
   "source": [
    "#開口面透過日射量\n",
    "def transmit_sol(L, M):\n",
    "    \n",
    "    return L.ita_Itb * M.tta_taub + L.ita_Itd * M.tta_taud + L.ita_Itr * M.tta_taur\n",
    "\n",
    "#直達日射での透過率\n",
    "def actual_trans_beam(L, phi_b):\n",
    "    \n",
    "    r_taub = 0.\n",
    "    ly_in_b = np.empty(len(L), dtype = tuple)\n",
    "    for j in range(0, len(L)):\n",
    "        ly_in_b[j] = MultipleReflectionOfSolarRadiation.layer_input() \\\n",
    "                     (GlassAngularProperty.glass_TRSf(L[j], phi_b), GlassAngularProperty.glass_TRSb(L[j], phi_b), \\\n",
    "                      GlassAngularProperty.glass_REFf(L[j], phi_b), GlassAngularProperty.glass_REFb(L[j], phi_b))\n",
    "    \n",
    "    r_taub = MultipleReflectionOfSolarRadiation.Sol_Trs_All(ly_in_b)\n",
    "                \n",
    "    return r_taub\n",
    "\n",
    "#天空日射での透過率\n",
    "def actual_trans_diffuse(L, Nd_lat, Nd_lon):\n",
    "\n",
    "    F_d = np.empty((Nd_lat, Nd_lon))\n",
    "    phi_d = np.empty((Nd_lat, Nd_lon))\n",
    "    tau_d = np.empty((Nd_lat, Nd_lon))\n",
    "    r_taud = 0.\n",
    "    ly_in_d = np.empty(len(L), dtype = tuple)\n",
    "    for l in range(0, Nd_lat):\n",
    "        for m in range(0, Nd_lon):\n",
    "            dd_in = DivisionDiffuseRatio.dd_input()(Nd_lat, Nd_lon, l, m)\n",
    "            F_d[l][m] = DivisionDiffuseRatio.division_diffuse_ratio(dd_in)[0]   #割合\n",
    "            phi_d[l][m] = DivisionDiffuseRatio.division_diffuse_ratio(dd_in)[3] #入射角\n",
    "            \n",
    "            for j in range(0, len(L)):\n",
    "                ly_in_d[j] = MultipleReflectionOfSolarRadiation.layer_input() \\\n",
    "                             (GlassAngularProperty.glass_TRSf(L[j], phi_d[l][m]), GlassAngularProperty.glass_TRSb(L[j], phi_d[l][m]), \\\n",
    "                              GlassAngularProperty.glass_REFf(L[j], phi_d[l][m]), GlassAngularProperty.glass_REFb(L[j], phi_d[l][m]))\n",
    "\n",
    "            tau_d[l][m] = MultipleReflectionOfSolarRadiation.Sol_Trs_All(ly_in_d)\n",
    "\n",
    "            r_taud += F_d[l][m] * tau_d[l][m]\n",
    "               \n",
    "    return r_taud\n",
    "\n",
    "#地表面反射日射での透過率\n",
    "def actual_trans_reflect(L, Nr_lat, Nr_lon):\n",
    "\n",
    "    F_r = np.empty((Nr_lat, Nr_lon))\n",
    "    phi_r = np.empty((Nr_lat, Nr_lon))\n",
    "    tau_r = np.empty((Nr_lat, Nr_lon))\n",
    "    r_taur =0.\n",
    "    ly_in_r = np.empty(len(L), dtype = tuple)  \n",
    "    for l in range(0, Nr_lat):\n",
    "        for m in range(0, Nr_lon):\n",
    "            dr_in = DivisionDiffuseRatio.dr_input()(Nr_lat, Nr_lon, l, m)\n",
    "            F_r[l][m] = DivisionDiffuseRatio.division_reflect_ratio(dr_in)[0]   #割合\n",
    "            phi_r[l][m] = DivisionDiffuseRatio.division_reflect_ratio(dr_in)[3] #入射角\n",
    "\n",
    "            for j in range(0, len(L)):\n",
    "                ly_in_r[j] = MultipleReflectionOfSolarRadiation.layer_input() \\\n",
    "                             (GlassAngularProperty.glass_TRSf(L[j], phi_r[l][m]), GlassAngularProperty.glass_TRSb(L[j], phi_r[l][m]), \\\n",
    "                              GlassAngularProperty.glass_REFf(L[j], phi_r[l][m]), GlassAngularProperty.glass_REFb(L[j], phi_r[l][m]))\n",
    "\n",
    "            tau_r[l][m] = MultipleReflectionOfSolarRadiation.Sol_Trs_All(ly_in_r)\n",
    "\n",
    "            r_taur += F_r[l][m] * tau_r[l][m]\n",
    "                \n",
    "    return r_taur"
   ]
  },
  {
   "cell_type": "markdown",
   "metadata": {},
   "source": [
    "#### Example"
   ]
  },
  {
   "cell_type": "code",
   "execution_count": 4,
   "metadata": {
    "scrolled": true
   },
   "outputs": [
    {
     "name": "stdout",
     "output_type": "stream",
     "text": [
      "418.40754179495804\n"
     ]
    }
   ],
   "source": [
    "if __name__ == '__main__':\n",
    "\n",
    "    #ガラス光学特性\n",
    "    gl_in = [GlassAngularProperty.glass_input()(0.815, 0.815, 0.072, 0.072, 0, 0, 0),\n",
    "             GlassAngularProperty.glass_input()(0.815, 0.815, 0.072, 0.072, 0, 0, 0),\n",
    "             GlassAngularProperty.glass_input()(0.815, 0.815, 0.072, 0.072, 0, 0, 0)]\n",
    "\n",
    "    #斜面日射量\n",
    "    ita_in = IncidentSolarRadiationOnGlazing.ita_input()(2.6840261248 * 10. ** 6. / 3600., \n",
    "                                                         0.1181932153 * 10. ** 6. / 3600., \n",
    "                                                         0.094 * 10. ** 6. / 3600.)\n",
    "\n",
    "    #直達日射の入射角\n",
    "    phi_b = 31.6403837639\n",
    "\n",
    "    #天空分割数\n",
    "    Nd_lat = 90\n",
    "    Nd_lon = 180\n",
    "\n",
    "    #地表面反射分割数\n",
    "    Nr_lat = 90\n",
    "    Nr_lon = 180\n",
    "\n",
    "    tau_b = actual_trans_beam(gl_in, phi_b)\n",
    "    tau_d = actual_trans_diffuse(gl_in, Nd_lat, Nd_lon)\n",
    "    tau_r = actual_trans_reflect(gl_in, Nr_lat, Nr_lon)\n",
    "\n",
    "    tta_in = tta_input()(tau_b, tau_d, tau_r)\n",
    "    I_tau = transmit_sol(ita_in, tta_in)                  #斜面（開口面）透過日射量\n",
    "\n",
    "    print (I_tau)"
   ]
  },
  {
   "cell_type": "code",
   "execution_count": null,
   "metadata": {},
   "outputs": [],
   "source": []
  }
 ],
 "metadata": {
  "kernelspec": {
   "display_name": "Python 3",
   "language": "python",
   "name": "python3"
  },
  "language_info": {
   "codemirror_mode": {
    "name": "ipython",
    "version": 3
   },
   "file_extension": ".py",
   "mimetype": "text/x-python",
   "name": "python",
   "nbconvert_exporter": "python",
   "pygments_lexer": "ipython3",
   "version": "3.6.4"
  }
 },
 "nbformat": 4,
 "nbformat_minor": 2
}
