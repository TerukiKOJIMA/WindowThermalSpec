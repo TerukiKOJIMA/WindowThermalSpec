{
 "cells": [
  {
   "cell_type": "markdown",
   "metadata": {},
   "source": [
    "### 5.1.4.3. 開口面透過日射量"
   ]
  },
  {
   "cell_type": "markdown",
   "metadata": {},
   "source": [
    "説明：開口面日射量（直達・天空・地表面反射）とグレージング複合体の日射透過率から開口面透過日射量を計算する。"
   ]
  },
  {
   "cell_type": "markdown",
   "metadata": {},
   "source": [
    "### 入力値  \n",
    "\n",
    "$ I_{T,b} $ ：斜面（開口面）直達日射量 (W/m<sup>2</sup>)  \n",
    "$ I_{T,d} $ ：斜面（開口面）天空日射量 (W/m<sup>2</sup>)  \n",
    "$ I_{T,r} $ ：斜面（開口面）地表面反射日射量 (W/m<sup>2</sup>)  \n",
    "$ \\tau_{glz,b} $ ：直達日射に対する日射透過率  \n",
    "$ \\tau_{glz,d,l,m} $ ：天空上の微小要素からの入射日射に対する日射透過率  \n",
    "$ \\tau_{glz,r,l,m} $ ：地表面上の微小要素からの入射日射に対する日射透過率  \n",
    "$ F_{d,l,m} $ ：天空日射量に対する天空上の微小要素からの天空日射量の割合  \n",
    "$ F_{r,l,m} $ ：地表面反射日射量に対する地表面上の微小要素からの地表面反射日射量の割合  "
   ]
  },
  {
   "cell_type": "markdown",
   "metadata": {},
   "source": [
    "### 出力値  \n",
    "\n",
    "$ I_{\\tau} $ ：開口面透過日射量 (W/m<sup>2</sup>)  "
   ]
  },
  {
   "cell_type": "markdown",
   "metadata": {},
   "source": [
    "### 計算方法  \n",
    "\n",
    "#### データ構造と値の範囲  \n",
    "\n",
    "$ \\tau_{glz,b} $・$ \\tau_{glz,d} $・$ \\tau_{glz,r} $ の組み合わせを入力条件として1つの変数（タプル）で表し\"tta_input\"とする。  "
   ]
  },
  {
   "cell_type": "code",
   "execution_count": 33,
   "metadata": {},
   "outputs": [],
   "source": [
    "tta_input = namedtuple('tta_input','tta_taub tta_taud tta_taur')\n",
    "#tta_taub：直達成分の日射透過率\n",
    "#tta_taud：天空成分の日射透過率\n",
    "#tta_taur：地表面反射成分の日射透過率"
   ]
  },
  {
   "cell_type": "markdown",
   "metadata": {},
   "source": [
    "#### 透過日射量の計算  \n",
    "\n",
    "透過日射量の計算方法を以下に示す。\n",
    "\n",
    "$ \\begin{align}I_{\\tau} = I_{T,b}･\\tau_{glz,b} + I_{T,d}･\\tau_{glz,d} + I_{T,r}･\\tau_{glz,r} \\end{align}$ ････････････････････ (5.1.4.3-a)  \n",
    "\n",
    "$ \\begin{align}\\tau_{glz,d} = \\sum_{l=0}^{N_{d,lat}-1}\\sum_{m=0}^{N_{d,lon}-1} F_{d,l,m}･\\tau_{glz,d,l,m} \\end{align}$ ････････････････････ (5.1.4.3-b)  \n",
    "\n",
    "$ \\begin{align}\\tau_{glz,r} = \\sum_{l=0}^{N_{r,lat}-1}\\sum_{m=0}^{N_{r,lon}-1} F_{r,l,m}･\\tau_{glz,r,l,m} \\end{align}$ ････････････････････ (5.1.4.3-c)  "
   ]
  },
  {
   "cell_type": "code",
   "execution_count": 34,
   "metadata": {},
   "outputs": [],
   "source": [
    "#開口面透過日射量\n",
    "def transmit_sol(L, M):\n",
    "    \n",
    "    return L.ita_Itb * M.tta_taub + L.ita_Itd * M.tta_taud + L.ita_Itr * M.tta_taur\n",
    "\n",
    "#直達日射での透過率\n",
    "def actual_trans_beam(L, phi_b):\n",
    "    \n",
    "    r_taub = 0.\n",
    "    ly_in_b = np.empty(len(L), dtype = tuple)\n",
    "    for j in range(0, len(L)):\n",
    "        ly_in_b[j] = layer_input(glass_TRSf(L[j], phi_b), glass_TRSb(L[j], phi_b), glass_REFf(L[j], phi_b), glass_REFb(L[j], phi_b))\n",
    "    \n",
    "    r_taub = Sol_Trs_All(ly_in_b)\n",
    "                \n",
    "    return r_taub\n",
    "\n",
    "#天空日射での透過率\n",
    "def actual_trans_diffuse(L, Nd_lat, Nd_lon):\n",
    "\n",
    "    F_d = np.empty((Nd_lat, Nd_lon))\n",
    "    phi_d = np.empty((Nd_lat, Nd_lon))\n",
    "    tau_d = np.empty((Nd_lat, Nd_lon))\n",
    "    r_taud = 0.\n",
    "    ly_in_d = np.empty(len(L), dtype = tuple)\n",
    "    for l in range(0, Nd_lat):\n",
    "        for m in range(0, Nd_lon):\n",
    "            dd_in = dd_input(Nd_lat, Nd_lon, l, m)\n",
    "            F_d[l][m] = DivisionDiffuseRatio.division_diffuse_ratio(dd_in)[0]   #割合\n",
    "            phi_d[l][m] = DivisionDiffuseRatio.division_diffuse_ratio(dd_in)[3] #入射角\n",
    "            \n",
    "            for j in range(0, len(L)):\n",
    "                ly_in_d[j] = layer_input(glass_TRSf(L[j], phi_d[l][m]), glass_TRSb(L[j], phi_d[l][m]), \\\n",
    "                                         glass_REFf(L[j], phi_d[l][m]), glass_REFb(L[j], phi_d[l][m]))\n",
    "\n",
    "            tau_d[l][m] = Sol_Trs_All(ly_in_d)\n",
    "\n",
    "            r_taud += F_d[l][m] * tau_d[l][m]\n",
    "               \n",
    "    return r_taud\n",
    "\n",
    "#地表面反射日射での透過率\n",
    "def actual_trans_reflect(L, Nr_lat, Nr_lon):\n",
    "\n",
    "    F_r = np.empty((Nr_lat, Nr_lon))\n",
    "    phi_r = np.empty((Nr_lat, Nr_lon))\n",
    "    tau_r = np.empty((Nr_lat, Nr_lon))\n",
    "    r_taur =0.\n",
    "    ly_in_r = np.empty(len(L), dtype = tuple)  \n",
    "    for l in range(0, Nr_lat):\n",
    "        for m in range(0, Nr_lon):\n",
    "            dr_in = dr_input(Nr_lat, Nr_lon, l, m)\n",
    "            F_r[l][m] = DivisionDiffuseRatio.division_reflect_ratio(dr_in)[0]   #割合\n",
    "            phi_r[l][m] = DivisionDiffuseRatio.division_reflect_ratio(dr_in)[3] #入射角\n",
    "\n",
    "            for j in range(0, len(L)):\n",
    "                ly_in_r[j] = layer_input(glass_TRSf(L[j], phi_r[l][m]), glass_TRSb(L[j], phi_r[l][m]), \\\n",
    "                                         glass_REFf(L[j], phi_r[l][m]), glass_REFb(L[j], phi_r[l][m]))\n",
    "\n",
    "            tau_r[l][m] = Sol_Trs_All(ly_in_r)\n",
    "\n",
    "            r_taur += F_r[l][m] * tau_r[l][m]\n",
    "                \n",
    "    return r_taur"
   ]
  },
  {
   "cell_type": "markdown",
   "metadata": {},
   "source": [
    "#### Example"
   ]
  },
  {
   "cell_type": "code",
   "execution_count": 35,
   "metadata": {
    "scrolled": true
   },
   "outputs": [
    {
     "ename": "NameError",
     "evalue": "name 'dd_input' is not defined",
     "output_type": "error",
     "traceback": [
      "\u001b[1;31m---------------------------------------------------------------------------\u001b[0m",
      "\u001b[1;31mNameError\u001b[0m                                 Traceback (most recent call last)",
      "\u001b[1;32m<ipython-input-35-62711c661c64>\u001b[0m in \u001b[0;36m<module>\u001b[1;34m()\u001b[0m\n\u001b[0;32m     19\u001b[0m \u001b[1;33m\u001b[0m\u001b[0m\n\u001b[0;32m     20\u001b[0m \u001b[0mtau_b\u001b[0m \u001b[1;33m=\u001b[0m \u001b[0mactual_trans_beam\u001b[0m\u001b[1;33m(\u001b[0m\u001b[0mgl_in\u001b[0m\u001b[1;33m,\u001b[0m \u001b[0mphi_b\u001b[0m\u001b[1;33m)\u001b[0m\u001b[1;33m\u001b[0m\u001b[0m\n\u001b[1;32m---> 21\u001b[1;33m \u001b[0mtau_d\u001b[0m \u001b[1;33m=\u001b[0m \u001b[0mactual_trans_diffuse\u001b[0m\u001b[1;33m(\u001b[0m\u001b[0mgl_in\u001b[0m\u001b[1;33m,\u001b[0m \u001b[0mNd_lat\u001b[0m\u001b[1;33m,\u001b[0m \u001b[0mNd_lon\u001b[0m\u001b[1;33m)\u001b[0m\u001b[1;33m\u001b[0m\u001b[0m\n\u001b[0m\u001b[0;32m     22\u001b[0m \u001b[0mtau_r\u001b[0m \u001b[1;33m=\u001b[0m \u001b[0mactual_trans_reflect\u001b[0m\u001b[1;33m(\u001b[0m\u001b[0mgl_in\u001b[0m\u001b[1;33m,\u001b[0m \u001b[0mNr_lat\u001b[0m\u001b[1;33m,\u001b[0m \u001b[0mNr_lon\u001b[0m\u001b[1;33m)\u001b[0m\u001b[1;33m\u001b[0m\u001b[0m\n\u001b[0;32m     23\u001b[0m \u001b[1;33m\u001b[0m\u001b[0m\n",
      "\u001b[1;32m<ipython-input-34-9644e4a404ca>\u001b[0m in \u001b[0;36mactual_trans_diffuse\u001b[1;34m(L, Nd_lat, Nd_lon)\u001b[0m\n\u001b[0;32m     26\u001b[0m     \u001b[1;32mfor\u001b[0m \u001b[0ml\u001b[0m \u001b[1;32min\u001b[0m \u001b[0mrange\u001b[0m\u001b[1;33m(\u001b[0m\u001b[1;36m0\u001b[0m\u001b[1;33m,\u001b[0m \u001b[0mNd_lat\u001b[0m\u001b[1;33m)\u001b[0m\u001b[1;33m:\u001b[0m\u001b[1;33m\u001b[0m\u001b[0m\n\u001b[0;32m     27\u001b[0m         \u001b[1;32mfor\u001b[0m \u001b[0mm\u001b[0m \u001b[1;32min\u001b[0m \u001b[0mrange\u001b[0m\u001b[1;33m(\u001b[0m\u001b[1;36m0\u001b[0m\u001b[1;33m,\u001b[0m \u001b[0mNd_lon\u001b[0m\u001b[1;33m)\u001b[0m\u001b[1;33m:\u001b[0m\u001b[1;33m\u001b[0m\u001b[0m\n\u001b[1;32m---> 28\u001b[1;33m             \u001b[0mdd_in\u001b[0m \u001b[1;33m=\u001b[0m \u001b[0mdd_input\u001b[0m\u001b[1;33m(\u001b[0m\u001b[0mNd_lat\u001b[0m\u001b[1;33m,\u001b[0m \u001b[0mNd_lon\u001b[0m\u001b[1;33m,\u001b[0m \u001b[0ml\u001b[0m\u001b[1;33m,\u001b[0m \u001b[0mm\u001b[0m\u001b[1;33m)\u001b[0m\u001b[1;33m\u001b[0m\u001b[0m\n\u001b[0m\u001b[0;32m     29\u001b[0m             \u001b[0mF_d\u001b[0m\u001b[1;33m[\u001b[0m\u001b[0ml\u001b[0m\u001b[1;33m]\u001b[0m\u001b[1;33m[\u001b[0m\u001b[0mm\u001b[0m\u001b[1;33m]\u001b[0m \u001b[1;33m=\u001b[0m \u001b[0mDivisionDiffuseRatio\u001b[0m\u001b[1;33m.\u001b[0m\u001b[0mdivision_diffuse_ratio\u001b[0m\u001b[1;33m(\u001b[0m\u001b[0mdd_in\u001b[0m\u001b[1;33m)\u001b[0m\u001b[1;33m[\u001b[0m\u001b[1;36m0\u001b[0m\u001b[1;33m]\u001b[0m   \u001b[1;31m#割合\u001b[0m\u001b[1;33m\u001b[0m\u001b[0m\n\u001b[0;32m     30\u001b[0m             \u001b[0mphi_d\u001b[0m\u001b[1;33m[\u001b[0m\u001b[0ml\u001b[0m\u001b[1;33m]\u001b[0m\u001b[1;33m[\u001b[0m\u001b[0mm\u001b[0m\u001b[1;33m]\u001b[0m \u001b[1;33m=\u001b[0m \u001b[0mDivisionDiffuseRatio\u001b[0m\u001b[1;33m.\u001b[0m\u001b[0mdivision_diffuse_ratio\u001b[0m\u001b[1;33m(\u001b[0m\u001b[0mdd_in\u001b[0m\u001b[1;33m)\u001b[0m\u001b[1;33m[\u001b[0m\u001b[1;36m3\u001b[0m\u001b[1;33m]\u001b[0m \u001b[1;31m#入射角\u001b[0m\u001b[1;33m\u001b[0m\u001b[0m\n",
      "\u001b[1;31mNameError\u001b[0m: name 'dd_input' is not defined"
     ]
    }
   ],
   "source": [
    "#ガラス光学特性\n",
    "gl_in = [glass_input(0.815, 0.815, 0.072, 0.072, 0, 0, 0),\n",
    "         glass_input(0.815, 0.815, 0.072, 0.072, 0, 0, 0),\n",
    "         glass_input(0.815, 0.815, 0.072, 0.072, 0, 0, 0)]\n",
    "\n",
    "#斜面日射量\n",
    "ita_in = ita_input(2.6840261248 * 10. ** 6. / 3600., 0.1181932153 * 10. ** 6. / 3600., 0.094 * 10. ** 6. / 3600.)\n",
    "\n",
    "#直達日射の入射角\n",
    "phi_b = 31.6403837639\n",
    "\n",
    "#天空分割数\n",
    "Nd_lat = 90\n",
    "Nd_lon = 180\n",
    "\n",
    "#地表面反射分割数\n",
    "Nr_lat = 90\n",
    "Nr_lon = 180\n",
    "\n",
    "tau_b = actual_trans_beam(gl_in, phi_b)\n",
    "tau_d = actual_trans_diffuse(gl_in, Nd_lat, Nd_lon)\n",
    "tau_r = actual_trans_reflect(gl_in, Nr_lat, Nr_lon)\n",
    "\n",
    "tta_in = tta_input(tau_b, tau_d, tau_r)\n",
    "I_tau = transmit_sol(ita_in, tta_in)                  #斜面（開口面）透過日射量\n",
    "    \n",
    "print (I_tau)"
   ]
  }
 ],
 "metadata": {
  "kernelspec": {
   "display_name": "Python 3",
   "language": "python",
   "name": "python3"
  },
  "language_info": {
   "codemirror_mode": {
    "name": "ipython",
    "version": 3
   },
   "file_extension": ".py",
   "mimetype": "text/x-python",
   "name": "python",
   "nbconvert_exporter": "python",
   "pygments_lexer": "ipython3",
   "version": "3.6.4"
  }
 },
 "nbformat": 4,
 "nbformat_minor": 2
}
