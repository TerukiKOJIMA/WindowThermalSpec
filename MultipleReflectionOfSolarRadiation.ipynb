{
 "cells": [
  {
   "cell_type": "markdown",
   "metadata": {},
   "source": [
    "### 5.1.2. 短波長放射（日射）の多重反射 "
   ]
  },
  {
   "cell_type": "markdown",
   "metadata": {},
   "source": [
    "説明：グレージング・日除け・付属部材等の各層において、短波長日射の正面（室外）側からの透過率、背面（室内）側からの透過率、正面側からの反射率、背面側からの反射率が既知の場合に、短波長の多重反射を解いて、グレージング複合体全体の透過率および、各層で吸収される短波長の吸収率を計算する。  \n",
    "添え字$i$、$j$は層の番号（0～$n$-1）であり、$n$は層の数を表す。"
   ]
  },
  {
   "cell_type": "markdown",
   "metadata": {},
   "source": [
    "### 入力値  \n",
    "$ \\tau_{f,j} $ ：層$j$の正面側からの入射光に対する日射透過率  \n",
    "$ \\tau_{b,j} $ ：層$j$の背面側からの入射光に対する日射透過率  \n",
    "$ \\rho_{f,j} $ ：層$j$の正面側からの入射光に対する日射反射率  \n",
    "$ \\rho_{b,j} $ ：層$j$の背面側からの入射光に対する日射反射率"
   ]
  },
  {
   "cell_type": "markdown",
   "metadata": {},
   "source": [
    "### 出力値  \n",
    "\n",
    "$ \\tau_{glz} $ ：グレージング複合体全体の透過率  \n",
    "$ \\alpha_j $ ：層$j$の正面側からの入射光に対する日射吸収率  "
   ]
  },
  {
   "cell_type": "markdown",
   "metadata": {},
   "source": [
    "### 計算方法  \n",
    "\n",
    "#### 層$j$のデータ構造と値の範囲\n",
    "\n",
    "層1つにつき、$\\tau_f$・$\\tau_b$・$\\rho_f$・$\\rho_b$の組み合わせを1つの変数（タプル）で表し\"layer\"とする。  \n",
    "全ての値は0.0以上1.0以下の値をとる。  \n",
    "$\\tau_f$ と $\\rho_f$ の合計は1.0を超えない。  \n",
    "$\\tau_b$ と $\\rho_b$ の合計は1.0を超えない。  "
   ]
  },
  {
   "cell_type": "code",
   "execution_count": 8,
   "metadata": {},
   "outputs": [],
   "source": [
    "layer_input = namedtuple('layer_input','ly_TRSf ly_TRSb ly_REFf ly_REFb')\n",
    "# ly_TRSf：正面側からの入射光に対する日射透過率\n",
    "# ly_TRSf：正面側からの入射光に対する日射透過率\n",
    "# ly_TRSb：背面側からの入射光に対する日射透過率\n",
    "# ly_REFf：正面側からの入射光に対する日射反射率\n",
    "# ly_REFb：背面側からの入射光に対する日射反射率"
   ]
  },
  {
   "cell_type": "markdown",
   "metadata": {},
   "source": [
    "#### 任意の層から任意の層までの多重反射計算  \n",
    "\n",
    "（参考：JIS A 2103：2014 5.4.2 日射透過率及び各面材の日射吸収率）\n",
    "\n",
    "隣り合う層$i$から層$j$までの値の計算方法を以下に示す。  \n",
    "\n",
    "$ \\begin{align}\\tau_{f,i,j} = \\frac {\\tau_{f,i,j-1}･\\tau_{f,j}}{1-\\rho_{b,i,j-1}･\\rho_{f,j}}\\end{align}$ ････････････････････････････････ (5.1.2-a)\n",
    "\n",
    "$ \\begin{align}\\tau_{b,i,j} = \\frac {\\tau_{b,j}･\\tau_{b,i,j-1}}{1-\\rho_{b,i,j-1}･\\rho_{f,j}}\\end{align}$ ････････････････････････････････ (5.1.2-b)\n",
    "\n",
    "$ \\begin{align}\\rho_{f,i,j} = \\rho_{f,i,j-1} + \\frac {\\tau_{f,i,j-1}･\\rho_{f,j}･\\tau_{b,i,j-1}}{1-\\rho_{b,i,j-1}･\\rho_{f,j}}\\end{align}$ ･････････････････････ (5.1.2-c)\n",
    "\n",
    "$ \\begin{align}\\rho_{b,i,j} = \\rho_{b,j} + \\frac {\\tau_{b,j}･\\rho_{b,i,j-1}･\\tau_{f,j}}{1-\\rho_{b,i,j-1}･\\rho_{f,j}}\\end{align}$ ･･････････････････････････ (5.1.2-d)\n",
    "\n",
    "ここで、\n",
    "\n",
    "$ \\tau_{f,i,j} $　：　層$i$－$j$間の正面側からの入射光に対する日射透過率  \n",
    "$ \\tau_{b,i,j} $　：　層$i$－$j$間の背面側からの入射光に対する日射透過率  \n",
    "$ \\rho_{f,i,j} $　：　層$i$－$j$間の正面側からの入射光に対する日射反射率  \n",
    "$ \\rho_{b,i,j} $　：　層$i$－$j$間の背面側からの入射光に対する日射反射率  \n",
    "\n",
    "である。  \n",
    "\n",
    "任意の層$i$－$j$間の値を求める場合は、層$i+1$, $i+2$,..., $j-2$, $j-1$, $j$というように、式(5.1.2-a)～式(5.1.2-d)を逐次代入して求める。  \n",
    "\n",
    "ここで、$ i=j $ のときは、\n",
    "\n",
    "$ \\begin{align}\\tau_{f,i,j} = \\tau_{f,j}\\end{align} $ ････････････････････････････････････････････ (5.1.2-e)\n",
    "\n",
    "$ \\begin{align}\\tau_{b,i,j} = \\tau_{b,j}\\end{align} $ ････････････････････････････････････････････ (5.1.2-f)\n",
    "\n",
    "$ \\begin{align}\\rho_{f,i,j} = \\rho_{f,j}\\end{align} $ ････････････････････････････････････････････ (5.1.2-g)\n",
    "\n",
    "$ \\begin{align}\\rho_{b,i,j} = \\rho_{b,j}\\end{align} $ ････････････････････････････････････････････ (5.1.2-h)\n",
    "\n",
    "である。"
   ]
  },
  {
   "cell_type": "code",
   "execution_count": 9,
   "metadata": {},
   "outputs": [],
   "source": [
    "# 層riから層rjの複合した、TRSf TRSb REFf REFb を算出する。\n",
    "def Sol_Multi_Lay(L, ri, rj):\n",
    "    \n",
    "    # riとrjの数値の範囲に関するエラー処理\n",
    "    if ri <  0:      raise ValueError\n",
    "    if rj <  0:      raise ValueError\n",
    "    if ri >  rj:     raise ValueError\n",
    "    if rj >= len(L): raise ValueError\n",
    "\n",
    "    if ri == rj:\n",
    "        return L[rj]\n",
    "    else:\n",
    "        SML = Sol_Multi_Lay(L, ri, rj-1) #層1から層j-1の日射特性値\n",
    "        trsf = (SML.ly_TRSf * L[rj].ly_TRSf) / (1. - SML.ly_REFb * L[rj].ly_REFf)\n",
    "        trsb = (L[rj].ly_TRSb * SML.ly_TRSb) / (1. - SML.ly_REFb * L[rj].ly_REFf)\n",
    "        reff = SML.ly_REFf + (SML.ly_TRSf * L[rj].ly_REFf * SML.ly_TRSb) / (1. - SML.ly_REFb * L[rj].ly_REFf)\n",
    "        refb = L[rj].ly_REFb + (L[rj].ly_TRSb * SML.ly_REFb * L[rj].ly_TRSf) / (1. - SML.ly_REFb * L[rj].ly_REFf)\n",
    "        return layer_input(trsf, trsb, reff, refb)"
   ]
  },
  {
   "cell_type": "markdown",
   "metadata": {},
   "source": [
    "#### 各層の日射吸収率\n",
    "\n",
    "（参考：JIS A 2103：2014 5.4.2 日射透過率及び各面材の日射吸収率）\n",
    "\n",
    "各層の値の計算方法を以下に示す。  \n",
    "（JISでは添え字は1始まりであるが、本仕様書では0始まりとしている。） \n",
    "\n",
    "$ j = 0 $ かつ $ n = 0 $ の場合\n",
    "\n",
    "$ \\begin{align} \\alpha_j = \\alpha_{f,j} \\end{align} $ ･･････････････････････････････････････････････ (5.1.2-i)\n",
    "\n",
    "$ j = 0 $ かつ $ n ≠ 0 $ の場合\n",
    "\n",
    "$ \\begin{align} \\alpha_j = \\alpha_{f,j} + \\frac {\\tau_{f,0,j}･\\rho_{f,j+1,n}}{1-\\rho_{b,0,j}･\\rho_{f,j+1,n}}･\\alpha_{b,j} \\end{align} $ ･･････････････････････ (5.1.2-j)\n",
    "\n",
    "$ j = 1 $～$ n - 2 $ の場合  \n",
    "\n",
    "$ \\begin{align} \\alpha_j = \\frac {\\tau_{f,0,j-1}}{1-\\rho_{b,0,j-1}･\\rho_{f,j,n}}･\\alpha_{f,j} + \\frac {\\tau_{f,0,j}･\\rho_{f,j+1,n}}{1-\\rho_{b,0,j}･\\rho_{f,j+1,n}}･\\alpha_{b,j} \\end{align} $ ････ (5.1.2-k)\n",
    "\n",
    "$ j = n - 1 $ の場合\n",
    "\n",
    "$ \\begin{align} \\alpha_j = \\frac {\\tau_{f,0,j-1}}{1-\\rho_{b,0,j-1} \\rho_{f,j,n}}･\\alpha_{f,j} \\end{align} $ ･････････････････････････････ (5.1.2-l)\n",
    "\n",
    "ここで、\n",
    "\n",
    "$ j $ ：層の番号  \n",
    "$ n $ ：層の数  \n",
    "\n",
    "である。  \n",
    "\n",
    "また、\n",
    "\n",
    "$ \\begin{align} \\alpha_{f,j} = 1 - \\tau_{f,j} - \\rho_{f,j} \\end{align} $ ･･･････････････････････････････････ (5.1.2-m)\n",
    "\n",
    "$ \\begin{align} \\alpha_{b,j} = 1 - \\tau_{b,j} - \\rho_{b,j} \\end{align} $ ･･･････････････････････････････････ (5.1.2-n)\n",
    "\n",
    "である。"
   ]
  },
  {
   "cell_type": "code",
   "execution_count": 10,
   "metadata": {},
   "outputs": [],
   "source": [
    "# 層iの日射吸収率を算出する。\n",
    "def Abs_Multi_Lay(L, rj):\n",
    "    \n",
    "    # 層の正面側からの入射光に対する日射吸収率\n",
    "    def ABSf(M):\n",
    "        return 1. - M.ly_TRSf - M.ly_REFf\n",
    "    \n",
    "    # 層の背面側からの入射光に対する日射吸収率\n",
    "    def ABSb(M):\n",
    "        return 1. - M.ly_TRSb - M.ly_REFb\n",
    "    \n",
    "    # 層の最背面の番号\n",
    "    n = len(L) - 1\n",
    "    \n",
    "    # 関数リネーム\n",
    "    SML = Sol_Multi_Lay\n",
    "    \n",
    "    # 層jの正面側からの入射光\n",
    "    def Sol_Rad_f(L, rj):\n",
    "        if rj == 0:\n",
    "            return 1.\n",
    "        else:\n",
    "            return SML(L, 0, rj - 1).ly_TRSf / (1. - SML(L, 0, rj - 1).ly_REFb * SML(L, rj, n).ly_REFf)\n",
    "            \n",
    "    # 層jの背面側からの入射光\n",
    "    def Sol_Rad_b(L, rj, n):\n",
    "        if rj == n:\n",
    "        \n",
    "            return 0.\n",
    "        else:\n",
    "            return SML(L, 0, rj).ly_TRSf * SML(L, rj + 1, n).ly_REFf / ( 1. - SML(L, 0, rj).ly_REFb * SML(L, rj + 1, n).ly_REFf )\n",
    "        \n",
    "    # rjの数値の範囲に関するエラー処理\n",
    "    if rj < 0: raise ValueError\n",
    "    if rj > n: raise ValueError\n",
    "    \n",
    "    return Sol_Rad_f(L, rj) * ABSf(L[rj]) + Sol_Rad_b(L, rj, n) * ABSb(L[rj])"
   ]
  },
  {
   "cell_type": "markdown",
   "metadata": {},
   "source": [
    "#### グレージング複合体全体の透過率  \n",
    "\n",
    "グレージング複合体全体の透過率は、定義から、\n",
    "\n",
    "$ \\begin{align} \\tau_{glz} = \\tau_{f,0,n-1} \\end{align} $ ･････････････････････････････････････････ (5.1.2-o)\n",
    "\n",
    "となる。  "
   ]
  },
  {
   "cell_type": "code",
   "execution_count": 11,
   "metadata": {},
   "outputs": [],
   "source": [
    "# グレージング複合体全体の透過率\n",
    "def Sol_Trs_All(L):\n",
    "    \n",
    "    return Sol_Multi_Lay(L, 0, len(L) - 1).ly_TRSf"
   ]
  },
  {
   "cell_type": "markdown",
   "metadata": {},
   "source": [
    "#### Example"
   ]
  },
  {
   "cell_type": "code",
   "execution_count": 12,
   "metadata": {},
   "outputs": [],
   "source": [
    "ly_in = [layer_input(0.859, 0.859, 0.077, 0.077),layer_input(0.859, 0.859, 0.077, 0.077),layer_input(0.859, 0.859, 0.077, 0.077)]\n",
    "\n",
    "\n",
    "layer_result = np.zeros(len(ly_in) + 3)\n",
    "layer_result[1] = Sol_Multi_Lay(ly_in, 0, len(ly_in) - 1).ly_REFf      #グレージング複合体全体の正面側の反射率\n",
    "layer_result[2] = Sol_Trs_All(ly_in)                                 #グレージング複合体全体の透過率\n",
    "\n",
    "sum_abs = 0.\n",
    "for j in range(0, len(ly_in)):\n",
    "    layer_result[j + 3] = Abs_Multi_Lay(ly_in, j)                    #層jの日射吸収率\n",
    "    sum_abs += layer_result[j + 3]\n",
    "\n",
    "#グレージング複合体全体の正面側の反射率・グレージング複合体全体の透過率・層jの日射吸収率の合計\n",
    "layer_result[0] = layer_result[1] + layer_result[2] + sum_abs\n",
    "\n",
    "#np.savetxt('layer_result.csv', layer_result, fmt='%.10f', delimiter=',')"
   ]
  }
 ],
 "metadata": {
  "kernelspec": {
   "display_name": "Python 3",
   "language": "python",
   "name": "python3"
  },
  "language_info": {
   "codemirror_mode": {
    "name": "ipython",
    "version": 3
   },
   "file_extension": ".py",
   "mimetype": "text/x-python",
   "name": "python",
   "nbconvert_exporter": "python",
   "pygments_lexer": "ipython3",
   "version": "3.6.4"
  }
 },
 "nbformat": 4,
 "nbformat_minor": 2
}
