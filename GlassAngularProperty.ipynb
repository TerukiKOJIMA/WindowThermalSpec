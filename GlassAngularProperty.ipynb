{
 "cells": [
  {
   "cell_type": "code",
   "execution_count": 1,
   "metadata": {},
   "outputs": [],
   "source": [
    "from collections import namedtuple\n",
    "import csv\n",
    "import math\n",
    "import numpy as np\n",
    "import matplotlib.pyplot as plt"
   ]
  },
  {
   "cell_type": "markdown",
   "metadata": {},
   "source": [
    "# ガラスの斜入射特性を計算するモジュール"
   ]
  },
  {
   "cell_type": "markdown",
   "metadata": {},
   "source": [
    "## 1. Functions  "
   ]
  },
  {
   "cell_type": "markdown",
   "metadata": {},
   "source": [
    "垂直入射時のガラスの日射透過率及び日射反射率から任意の入射角におけるガラスの日射透過率及び日射反射率を計算する。"
   ]
  },
  {
   "cell_type": "markdown",
   "metadata": {},
   "source": [
    "### 入力値  \n",
    "\n",
    "$ \\tau_{0,f} $ ：ガラスの正面側からの入射光に対する垂直入射時の日射透過率  \n",
    "$ \\tau_{0,b} $ ：ガラスの背面側からの入射光に対する垂直入射時の日射透過率  \n",
    "$ \\rho_{0,f} $ ：ガラスの正面側からの入射光に対する垂直入射時の日射反射率  \n",
    "$ \\rho_{0,b} $ ：ガラスの背面側からの入射光に対する垂直入射時の日射反射率  \n",
    "$ \\phi $       ：日射の入射角（°）  \n",
    "gtype          ：ガラスの種類flag（0：透明フロート板ガラス、1：Low-Eガラス）  \n",
    "ctypef         ：正面側の膜の有無flag（0：膜なし、1：膜あり）  \n",
    "ctypeb         ：背面側の膜の有無flag（0：膜なし、1：膜あり）  "
   ]
  },
  {
   "cell_type": "markdown",
   "metadata": {},
   "source": [
    "### 出力値\n",
    "\n",
    "$ \\tau_{\\phi,f} $ ：ガラスの正面側からの入射光に対する入射角$\\phi$の日射透過率  \n",
    "$ \\tau_{\\phi,b} $ ：ガラスの背面側からの入射光に対する入射角$\\phi$の日射透過率  \n",
    "$ \\rho_{\\phi,f} $ ：ガラスの正面側からの入射光に対する入射角$\\phi$の日射反射率  \n",
    "$ \\rho_{\\phi,b} $ ：ガラスの背面側からの入射光に対する入射角$\\phi$の日射反射率"
   ]
  },
  {
   "cell_type": "markdown",
   "metadata": {},
   "source": [
    "### 計算方法\n",
    "\n",
    "#### データ構造と値の範囲\n",
    "\n",
    "$\\tau_{0,f}$・$\\tau_{0,b}$・$\\rho_{0,f}$・$\\rho_{0,b}$・gtype・ctypef・ctypebの組み合わせを1つの変数（タプル）で表し\"glass_tuple\"とする。  \n",
    "全ての値は0.0以上1.0以下の値をとる。  \n",
    "$\\tau_{0,f}$ と $\\rho_{0,f}$ の合計は1.0を超えない。  \n",
    "$\\tau_{0,b}$ と $\\rho_{0,b}$ の合計は1.0を超えない。   "
   ]
  },
  {
   "cell_type": "code",
   "execution_count": 2,
   "metadata": {},
   "outputs": [],
   "source": [
    "def glass_input():\n",
    "    return namedtuple('glass_tuple','glass_TRS0f glass_TRS0b glass_REF0f glass_REF0b glass_gtype glass_ctypef glass_ctypeb')\n",
    "\n",
    "# glass_TRS0f：正面側からの入射光に対する垂直入射時の日射透過率\n",
    "# glass_TRS0f：正面側からの入射光に対する垂直入射時の日射透過率\n",
    "# glass_TRS0b：背面側からの入射光に対する垂直入射時の日射透過率\n",
    "# glass_REF0f：正面側からの入射光に対する垂直入射時の日射反射率\n",
    "# glass_REF0b：背面側からの入射光に対する垂直入射時の日射反射率\n",
    "# glass_gtype：ガラスの種類flag（0：透明フロート板ガラス、1：Low-Eガラス）\n",
    "# glass_ctypef：正面側の膜の有無flag（0：膜なし、1：膜あり）\n",
    "# glass_ctypeb：背面側の膜の有無flag（0：膜なし、1：膜あり）"
   ]
  },
  {
   "cell_type": "markdown",
   "metadata": {},
   "source": [
    "#### 入射角$\\phi$の日射透過率及び日射反射率の計算  \n",
    "\n",
    "（参考：JIS A 2103：2014 附属書G 斜入射に対する板ガラスの光学特性の計算方法）  \n",
    "\n",
    "入射角によって日射特性が変化するガラスの日射透過率及び日射反射率の計算方法を以下に示す。  \n",
    "\n",
    "$ \\begin{align}\\tau_{\\phi,f} = \\tau_{0,f}･\\sum_{i=0}^5 m_{i}･\\cos^i\\phi\\end{align} $ ･････････････････････････････ (5.1.1.1-a)\n",
    "\n",
    "$ \\begin{align}\\tau_{\\phi,b} = \\tau_{0,b}･\\sum_{i=0}^5 m_{i}･\\cos^i\\phi\\end{align} $ ･････････････････････････････ (5.1.1.1-b)\n",
    "\n",
    "$ \\begin{align}\\rho_{\\phi,f} =\\rho_{0,f}+(1-\\rho_{0,f})･\\sum_{i=0}^5 m_{i}･\\cos^i\\phi\\end{align} $ ･････････････････ (5.1.1.1-c)\n",
    "\n",
    "$ \\begin{align}\\rho_{\\phi,b} =\\rho_{0,b}+(1-\\rho_{0,b})･\\sum_{i=0}^5 m_{i}･\\cos^i\\phi\\end{align} $ ･････････････････ (5.1.1.1-d)  \n",
    "\n",
    "ここで、  \n",
    "\n",
    "$ m_{i} $ ：ガラス種類ごとの係数  \n",
    "\n",
    "である。\n",
    "\n",
    "$ m_{i} $ の係数表を以下に示す（参考：JIS A 2103：2014 表G.1）。なお、本仕様書では透明フロート板ガラス及びLow-Eガラスのみについてプログラムを記述する。  \n",
    "\n",
    "| 板ガラス品種分類              | 規準化透過率又は規準化反射率 | $m_0$ | $m_1$ | $m_2$ | $m_3$ | $m_4$ | $m_5$ |\n",
    "| :---                      | :---                         | ---: | ---: | ---: | ---: | ---: | ---: |\n",
    "| 透明フロート板ガラス            | 規準化透過率                 | 0.000 | 2.552 | 1.364 | -11.388 | 13.617 | -5.146 |\n",
    "|                               | 規準化反射率(ガラス面)       | 1.000 | -5.189 | 12.392 | -16.593 | 11.851 | -3.461 |\n",
    "| 熱線吸収板ガラス              | 規準化透過率                 | 0.000 | 1.760 | 3.770 | -14.901 | 16.422 | -6.052 |\n",
    "|                               | 規準化反射率(ガラス面)       | 1.000 | -5.189 | 12.392 | -16.593 | 11.851 | -3.461 |\n",
    "| 熱線反射ガラス                | 規準化透過率                 | 0.000 | 3.297 | -1.122 | -8.408 | 12.206 | -4.972 |\n",
    "|                               | 規準化反射率(ガラス面)       | 1.000 | -5.842 | 15.264 | -21.642 | 15.948 | -4.727 |\n",
    "|                               | 規準化反射率(膜面)           | 1.000 | -5.842 | 15.264 | -21.642 | 15.948 | -4.727 |\n",
    "| 熱線吸収熱線反射ガラス        | 規準化透過率                 | 0.000 | 2.558 | 0.989 | -11.214 | 14.275 | -5.608 |\n",
    "|                               | 規準化反射率(ガラス面)       | 1.000 | -5.842 | 15.264 | -21.642 | 15.948 | -4.727 |\n",
    "|                               | 規準化反射率(膜面)           | 1.000 | -5.842 | 15.264 | -21.642 | 15.948 | -4.727 |\n",
    "| 高性能熱線反射ガラスSシリーズ | 規準化透過率                 | 0.000 | 5.342 | -10.170 | 6.670 | 0.886 | -1.728 |\n",
    "|                               | 規準化反射率(ガラス面)       | 1.000 | -6.459 | 18.722 | -28.982 | 22.804 | -7.085 |\n",
    "|                               | 規準化反射率(膜面)           | 1.000 | -9.187 | 33.681 | -59.593 | 50.413 | -16.314 |\n",
    "| 高性能熱線反射ガラスTシリーズ | 規準化透過率                 | 0.000 | 2.552 | 1.364 | -11.388 | 13.617 | -5.146 |\n",
    "|                               | 規準化反射率(ガラス面)       | 1.000 | -5.782 | 14.816 | -20.567 | 14.862 | -4.331 |\n",
    "|                               | 規準化反射率(膜面)           | 1.000 | -8.900 | 31.953 | -55.934 | 47.050 | -15.176 |\n",
    "| Low-Eガラス                    | 規準化透過率                 | 0.000 | 2.273 | 1.631 | -10.358 | 11.769 | -4.316 |\n",
    "|                               | 規準化反射率(ガラス面)       | 1.000 | -5.084 | 12.646 | -18.213 | 13.967 | -4.316 |\n",
    "|                               | 規準化反射率(膜面)           | 1.000 | -4.387 | 9.175 | -11.152 | 7.416 | -2.052 |"
   ]
  },
  {
   "cell_type": "code",
   "execution_count": 3,
   "metadata": {},
   "outputs": [],
   "source": [
    "# 入射角φの日射透過率及び日射反射率の計算\n",
    "def glass_TRSf(L, phi):\n",
    "    glass_TRSnf = 0.\n",
    "    for i in range(0, 6):\n",
    "        glass_TRSnf += glass_mTRS(L)[i] * math.cos(math.radians(phi)) ** i\n",
    "    return L.glass_TRS0f * glass_TRSnf\n",
    "\n",
    "def glass_TRSb(L, phi):\n",
    "    glass_TRSnb = 0.\n",
    "    for i in range(0, 6):\n",
    "        glass_TRSnb += glass_mTRS(L)[i] * math.cos(math.radians(phi)) ** i\n",
    "    return L.glass_TRS0b * glass_TRSnb\n",
    "    \n",
    "def glass_REFf(L, phi):\n",
    "    glass_REFnf = 0.\n",
    "    for i in range(0, 6):\n",
    "        if L.glass_ctypef == 0:\n",
    "            glass_REFnf += glass_mREFg(L)[i] * math.cos(math.radians(phi)) ** i\n",
    "        elif L.glass_ctypef == 1:\n",
    "            glass_REFnf += glass_mREFc(L)[i] * math.cos(math.radians(phi)) ** i\n",
    "    return L.glass_REF0f + (1 - L.glass_REF0f) * glass_REFnf\n",
    "    \n",
    "def glass_REFb(L, phi):\n",
    "    glass_REFnb = 0.0\n",
    "    for i in range(0, 6):\n",
    "        if L.glass_ctypeb == 0:\n",
    "            glass_REFnb += glass_mREFg(L)[i] * math.cos(math.radians(phi)) ** i\n",
    "        elif L.glass_ctypeb == 1:\n",
    "            glass_REFnb += glass_mREFc(L)[i] * math.cos(math.radians(phi)) ** i\n",
    "    return L.glass_REF0b + (1 - L.glass_REF0b) * glass_REFnb\n",
    "\n",
    "#係数mの選択。ここでは、透明フロート板ガラス及びLow-Eガラスのみを記述する。\n",
    "def glass_mTRS(L):\n",
    "    if L.glass_gtype == 0:    return [0.000, 2.552, 1.364, -11.388, 13.617, -5.146]\n",
    "    elif L.glass_gtype == 1:  return [0.000, 2.273, 1.631, -10.358, 11.769, -4.316]\n",
    "    else:                         return ValueError\n",
    "\n",
    "def glass_mREFg(L):\n",
    "    if L.glass_gtype == 0:    return [1.000, -5.189, 12.392, -16.593, 11.851, -3.461]\n",
    "    elif L.glass_gtype == 1:  return [1.000, -5.084, 12.646, -18.213, 13.967, -4.316]\n",
    "    else:                   return ValueError\n",
    "\n",
    "def glass_mREFc(L):\n",
    "    if L.glass_gtype == 0:    return ValueError\n",
    "    elif L.glass_gtype == 1:  return [1.000, -4.387, 9.175, -11.152, 7.416, -2.052]\n",
    "    else:                   return ValueError"
   ]
  },
  {
   "cell_type": "markdown",
   "metadata": {},
   "source": [
    "#### Example"
   ]
  },
  {
   "cell_type": "code",
   "execution_count": 5,
   "metadata": {},
   "outputs": [
    {
     "data": {
      "image/png": "[encoded data removed]",
      "text/plain": [
       "<matplotlib.figure.Figure at 0x97ab0b8>"
      ]
     },
     "metadata": {},
     "output_type": "display_data"
    }
   ],
   "source": [
    "if __name__ == '__main__':\n",
    "\n",
    "    glass_result = np.zeros((5,91))\n",
    "    gl_in = glass_input()(0.703, 0.703, 0.106, 0.117, 1, 0, 1)\n",
    "    for j in range(0, 91):\n",
    "        phi = j\n",
    "        glass_result[0][j] = phi\n",
    "        glass_result[1][j] = glass_TRSf(gl_in, phi)\n",
    "        glass_result[2][j] = glass_TRSb(gl_in, phi)\n",
    "        glass_result[3][j] = glass_REFf(gl_in, phi)\n",
    "        glass_result[4][j] = glass_REFb(gl_in, phi)\n",
    "\n",
    "    #np.savetxt('glass_result.csv', np.transpose(glass_result), fmt='%.10f', delimiter=',')\n",
    "\n",
    "    #グラフの描画\n",
    "    graph_num = 2\n",
    "    ax = np.empty(graph_num, dtype = np.object)\n",
    "    fig = plt.figure(figsize = (15, 5 * ((graph_num + 1) // 2)))\n",
    "    plt.style.use('ggplot')\n",
    "\n",
    "    gpc = ['C0', 'C1']\n",
    "    gxd = [[glass_result[0][0:91], glass_result[0][0:91]], [glass_result[0][0:91], glass_result[0][0:91]]]\n",
    "    gyd = [[glass_result[1][0:91], glass_result[2][0:91]], [glass_result[3][0:91], glass_result[4][0:91]]]\n",
    "    gxl = 'φ[°]'\n",
    "    gyl = ['τ ', 'ρ']\n",
    "    gxt = [10 * i for i in range(10)]\n",
    "    gyt = [0.1 * i for i in range(11)]\n",
    "\n",
    "    for i in range(graph_num):   \n",
    "        ax[i] = fig.add_subplot((graph_num + 1) // 2, 2, i + 1)\n",
    "        for j in range(2):\n",
    "            ax[i].plot(gxd[i][j], gyd[i][j], color = gpc[j])\n",
    "        ax[i].set_xticks(gxt)\n",
    "        ax[i].set_yticks(gyt)\n",
    "        ax[i].set_xlabel(gxl, fontsize = 12)\n",
    "        ax[i].set_ylabel(gyl[i], fontsize = 12)\n",
    "\n",
    "    plt.show()"
   ]
  },
  {
   "cell_type": "code",
   "execution_count": null,
   "metadata": {},
   "outputs": [],
   "source": []
  }
 ],
 "metadata": {
  "kernelspec": {
   "display_name": "Python 3",
   "language": "python",
   "name": "python3"
  },
  "language_info": {
   "codemirror_mode": {
    "name": "ipython",
    "version": 3
   },
   "file_extension": ".py",
   "mimetype": "text/x-python",
   "name": "python",
   "nbconvert_exporter": "python",
   "pygments_lexer": "ipython3",
   "version": "3.6.4"
  }
 },
 "nbformat": 4,
 "nbformat_minor": 2
}
