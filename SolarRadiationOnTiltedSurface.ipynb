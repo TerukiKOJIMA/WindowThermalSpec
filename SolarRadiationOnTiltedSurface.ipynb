{
 "cells": [
  {
   "cell_type": "code",
   "execution_count": 1,
   "metadata": {},
   "outputs": [
    {
     "name": "stdout",
     "output_type": "stream",
     "text": [
      "Importing Jupyter notebook from Weather.ipynb\n",
      "Importing Jupyter notebook from SolarPosition.ipynb\n",
      "Importing Jupyter notebook from SplittingGlobal2BeamDiffuseRadiation.ipynb\n"
     ]
    }
   ],
   "source": [
    "from collections import namedtuple\n",
    "import csv\n",
    "import math\n",
    "import numpy as np\n",
    "\n",
    "import matplotlib.pyplot as plt\n",
    "\n",
    "import nbimporter\n",
    "import Weather\n",
    "import SolarPosition\n",
    "import SplittingGlobal2BeamDiffuseRadiation"
   ]
  },
  {
   "cell_type": "markdown",
   "metadata": {},
   "source": [
    "# 斜面日射量を計算するモジュール"
   ]
  },
  {
   "cell_type": "markdown",
   "metadata": {},
   "source": [
    "## 1. Functions  "
   ]
  },
  {
   "cell_type": "markdown",
   "metadata": {},
   "source": [
    "### 1.1. Isotropic Model  "
   ]
  },
  {
   "cell_type": "markdown",
   "metadata": {},
   "source": [
    "水平面全天日射量・水平面天空日射量・法線面直達日射量から斜面（開口面）日射量（直達・天空・地表面反射）を計算する。"
   ]
  },
  {
   "cell_type": "markdown",
   "metadata": {},
   "source": [
    "### 入力値  \n",
    "\n",
    "$ I_G $ ：水平面全天日射量 [MJ/(m<sup>2</sup>･h)]  \n",
    "$ I_b $ ：法線面直達日射量 [MJ/(m<sup>2</sup>･h)]  \n",
    "$ I_d $ ：水平面天空日射量 [MJ/(m<sup>2</sup>･h)]  \n",
    "$ h $ ：太陽高度角 (°)  \n",
    "$ A $ ：太陽方位角 (°)  \n",
    "$ \\beta $ ：水平面に対する斜面（開口面）の傾斜角 (°)  \n",
    "$ A_w $ ：斜面（開口面）の方位角 (°)  \n",
    "$ \\rho $ ：アルベド  "
   ]
  },
  {
   "cell_type": "markdown",
   "metadata": {},
   "source": [
    "### 出力値\n",
    "\n",
    "$ I_{T,b} $ ：斜面（開口面）直達日射量 [MJ/(m<sup>2</sup>･h)]  \n",
    "$ I_{T,d} $ ：斜面（開口面）天空日射量 [MJ/(m<sup>2</sup>･h)]  \n",
    "$ I_{T,r} $ ：斜面（開口面）地表面反射日射量 [MJ/(m<sup>2</sup>･h)]  \n",
    "$ \\phi $ ：直達日射の入射角 (°)  "
   ]
  },
  {
   "cell_type": "markdown",
   "metadata": {},
   "source": [
    "### 計算方法\n",
    "\n",
    "#### データ構造と値の範囲\n",
    "\n",
    "$ I_G $・$ I_d $・$ I_b $・$ h $・$ A $・$ \\beta $・$ A_w $・$ \\rho $の組み合わせを1つの変数（タプル）で表し\"st_input\"とする。  \n",
    "$ h $は0°以上、90°以下の値をとる。  \n",
    "$ \\rho $は0.0以上、1.0以下の値をとる。"
   ]
  },
  {
   "cell_type": "code",
   "execution_count": 2,
   "metadata": {},
   "outputs": [],
   "source": [
    "st_input = namedtuple('st_input', 'st_ig st_ib st_id st_h st_A st_Bw st_Aw st_rho')\n",
    "#st_ig：水平面全天日射量 [MJ/(m2･h)]  \n",
    "#st_ib：法線面直達日射量 [MJ/(m2･h)]  \n",
    "#st_id：水平面天空日射量 [MJ/(m2･h)]  \n",
    "#st_h：太陽高度角 (°) \n",
    "#st_A：太陽方位角 (°)  \n",
    "#st_Bw：水平面に対する斜面（開口面）の傾斜角 (°)  \n",
    "#st_Aw：斜面（開口面）の方位角 (°)  \n",
    "#st_rho：アルベド"
   ]
  },
  {
   "cell_type": "markdown",
   "metadata": {},
   "source": [
    "#### 斜面（開口面）日射量（Isotropic model）の計算\n",
    "\n",
    "（参考：拡張アメダス気象データ1981-2000解説書 8.2.2　斜面日射量の計算）  \n",
    "\n",
    "斜面（開口面）日射量（Isotropic model）の計算方法を以下に示す。  \n",
    "\n",
    "$ \\begin{align}I_{T,b} = I_b ･ \\cos \\phi\\end{align}$ ････････････････････････････････････････････ (3.4-a)  \n",
    "\n",
    "$ \\begin{align}I_{T,d} = I_d ･ \\frac{1 + \\cos\\beta}{2}\\end{align}$ ････････････････････････････････････････ (3.4-b)  \n",
    "\n",
    "$ \\begin{align}I_{T,r} = I_G ･ \\frac{1 - \\cos\\beta}{2} ･ \\rho\\end{align}$ ･･････････････････････････････････････ (3.4-c)  \n",
    "\n",
    "$ \\begin{align}\\cos \\phi = \\sin h ･ \\cos \\beta + \\cos h ･ \\sin \\beta ･ \\cos (A-A_w)\\end{align}$ ･････････････ (3.4-d)  \n"
   ]
  },
  {
   "cell_type": "code",
   "execution_count": 3,
   "metadata": {},
   "outputs": [],
   "source": [
    "#斜面（開口面）日射量（Isotropic model）の計算\n",
    "#斜面（開口面）直達日射量、斜面（開口面）天空日射量、斜面（開口面）地表面反射日射量、直達日射の入射角\n",
    "def solor_tilt(L):\n",
    "\n",
    "    if 0. < L.st_h and L.st_h < 3.:\n",
    "        st_sinh =  math.sin(math.radians(3.)) #太陽高度角の補正\n",
    "        st_cosh =  math.cos(math.radians(3.)) #太陽高度角の補正\n",
    "    elif 3. < L.st_h and L.st_h < 90.:\n",
    "        st_sinh =  math.sin(math.radians(L.st_h))\n",
    "        st_cosh =  math.cos(math.radians(L.st_h))\n",
    "    else:\n",
    "        st_sinh =  0.\n",
    "        st_cosh =  1.\n",
    "            \n",
    "    if st_sinh > 0. and L.st_ig > 0.:\n",
    "        st_cosphi = abs(st_sinh * math.cos(math.radians(L.st_Bw)) + st_cosh * math.sin(math.radians(L.st_Bw)) * \\\n",
    "                    math.cos(math.radians(L.st_A - L.st_Aw)))\n",
    "        r_st_ib = L.st_ib * st_cosphi\n",
    "        r_st_id = L.st_id * (1 + math.cos(math.radians(L.st_Bw))) / 2\n",
    "        r_st_ir = L.st_ig * (1 - math.cos(math.radians(L.st_Bw))) / 2 * L.st_rho\n",
    "        r_st_phi = math.degrees(math.acos(st_cosphi))\n",
    "    else:\n",
    "        r_st_ib = 0.\n",
    "        r_st_id = 0.\n",
    "        r_st_ir = 0.\n",
    "        r_st_phi = 90.\n",
    "        \n",
    "    return r_st_ib, r_st_id, r_st_ir, r_st_phi"
   ]
  },
  {
   "cell_type": "markdown",
   "metadata": {},
   "source": [
    "#### Example"
   ]
  },
  {
   "cell_type": "code",
   "execution_count": 4,
   "metadata": {},
   "outputs": [
    {
     "ename": "NameError",
     "evalue": "name 'sp_input' is not defined",
     "output_type": "error",
     "traceback": [
      "\u001b[1;31m---------------------------------------------------------------------------\u001b[0m",
      "\u001b[1;31mNameError\u001b[0m                                 Traceback (most recent call last)",
      "\u001b[1;32m<ipython-input-4-628cbc8b06f4>\u001b[0m in \u001b[0;36m<module>\u001b[1;34m()\u001b[0m\n\u001b[0;32m     13\u001b[0m \u001b[1;33m\u001b[0m\u001b[0m\n\u001b[0;32m     14\u001b[0m \u001b[1;32mfor\u001b[0m \u001b[0mi\u001b[0m \u001b[1;32min\u001b[0m \u001b[0mrange\u001b[0m\u001b[1;33m(\u001b[0m\u001b[1;36m0\u001b[0m\u001b[1;33m,\u001b[0m \u001b[1;36m8760\u001b[0m\u001b[1;33m)\u001b[0m\u001b[1;33m:\u001b[0m\u001b[1;33m\u001b[0m\u001b[0m\n\u001b[1;32m---> 15\u001b[1;33m     \u001b[0msp_in\u001b[0m \u001b[1;33m=\u001b[0m \u001b[0msp_input\u001b[0m\u001b[1;33m(\u001b[0m\u001b[0myear\u001b[0m\u001b[1;33m,\u001b[0m \u001b[0mint\u001b[0m\u001b[1;33m(\u001b[0m\u001b[1;33m(\u001b[0m\u001b[0mi\u001b[0m \u001b[1;33m+\u001b[0m \u001b[1;36m1.\u001b[0m\u001b[1;33m)\u001b[0m \u001b[1;33m/\u001b[0m \u001b[1;36m24.\u001b[0m\u001b[1;33m)\u001b[0m \u001b[1;33m+\u001b[0m \u001b[1;36m1.\u001b[0m\u001b[1;33m,\u001b[0m \u001b[1;33m(\u001b[0m\u001b[1;33m(\u001b[0m\u001b[0mi\u001b[0m \u001b[1;33m+\u001b[0m \u001b[1;36m1.\u001b[0m\u001b[1;33m)\u001b[0m \u001b[1;33m/\u001b[0m \u001b[1;36m24.\u001b[0m \u001b[1;33m-\u001b[0m \u001b[0mint\u001b[0m\u001b[1;33m(\u001b[0m\u001b[1;33m(\u001b[0m\u001b[0mi\u001b[0m \u001b[1;33m+\u001b[0m \u001b[1;36m1.\u001b[0m\u001b[1;33m)\u001b[0m \u001b[1;33m/\u001b[0m \u001b[1;36m24.\u001b[0m\u001b[1;33m)\u001b[0m\u001b[1;33m)\u001b[0m \u001b[1;33m*\u001b[0m \u001b[1;36m24.\u001b[0m\u001b[1;33m,\u001b[0m \u001b[0mlat\u001b[0m\u001b[1;33m,\u001b[0m \u001b[0mlon\u001b[0m\u001b[1;33m)\u001b[0m\u001b[1;33m\u001b[0m\u001b[0m\n\u001b[0m\u001b[0;32m     16\u001b[0m     \u001b[0msp_h\u001b[0m \u001b[1;33m=\u001b[0m \u001b[0mSolarPosition\u001b[0m\u001b[1;33m.\u001b[0m\u001b[0msolar_position\u001b[0m\u001b[1;33m(\u001b[0m\u001b[0msp_in\u001b[0m\u001b[1;33m)\u001b[0m\u001b[1;33m[\u001b[0m\u001b[1;36m0\u001b[0m\u001b[1;33m]\u001b[0m                                    \u001b[1;31m#太陽高度角\u001b[0m\u001b[1;33m\u001b[0m\u001b[0m\n\u001b[0;32m     17\u001b[0m     \u001b[0msp_A\u001b[0m \u001b[1;33m=\u001b[0m \u001b[0mSolarPosition\u001b[0m\u001b[1;33m.\u001b[0m\u001b[0msolar_position\u001b[0m\u001b[1;33m(\u001b[0m\u001b[0msp_in\u001b[0m\u001b[1;33m)\u001b[0m\u001b[1;33m[\u001b[0m\u001b[1;36m1\u001b[0m\u001b[1;33m]\u001b[0m                                    \u001b[1;31m#太陽方位角\u001b[0m\u001b[1;33m\u001b[0m\u001b[0m\n",
      "\u001b[1;31mNameError\u001b[0m: name 'sp_input' is not defined"
     ]
    }
   ],
   "source": [
    "location = '3639999'               #東京ID\n",
    "year = 1995                        #西暦年\n",
    "lat = 35. + 41.2 / 60.             #計算対象地点の緯度 (°)  \n",
    "lon = 139. + 45.9 / 60.            #計算対象地点の経度 (°)  \n",
    "Bw = 90.                           #水平面に対する斜面（開口面）の傾斜角 (°) \n",
    "Aw = 0.                            #斜面（開口面）の方位角 (°)\n",
    "rho = 0.1                          #アルベド\n",
    "\n",
    "#気象データ読込\n",
    "ig = Weather.weather_input(location)[4]                                        #水平面全天日射量\n",
    "\n",
    "st_result = np.empty((7,8760))\n",
    "\n",
    "for i in range(0, 8760):\n",
    "    sp_in = sp_input(year, int((i + 1.) / 24.) + 1., ((i + 1.) / 24. - int((i + 1.) / 24.)) * 24., lat, lon)\n",
    "    sp_h = SolarPosition.solar_position(sp_in)[0]                                    #太陽高度角\n",
    "    sp_A = SolarPosition.solar_position(sp_in)[1]                                    #太陽方位角\n",
    "\n",
    "    dbd_in = dbd_input(ig[i], sp_h)\n",
    "    dbd_ib = SplittingGlobal2BeamDiffuseRadiation.division_beam_diffuse(dbd_in)[0]                          #法線面直達日射量\n",
    "    dbd_id = SplittingGlobal2BeamDiffuseRadiation.division_beam_diffuse(dbd_in)[1]                          #水平面天空日射量\n",
    "\n",
    "    st_in = st_input(ig[i], dbd_ib, dbd_id, sp_h, sp_A, Bw, Aw, rho)\n",
    "    st_result[0][i] = i + 1.                                           #年通算時間\n",
    "    st_result[1][i] = int((i + 1.) / 24.) + 1.                         #年通算日\n",
    "    st_result[2][i] = ((i + 1.) / 24. - int((i + 1.) / 24.)) * 24.     #時刻\n",
    "    st_result[3][i] = solor_tilt(st_in)[0]                             #斜面（開口面）直達日射量\n",
    "    st_result[4][i] = solor_tilt(st_in)[1]                             #斜面（開口面）天空日射量\n",
    "    st_result[5][i] = solor_tilt(st_in)[2]                             #斜面（開口面）地表面反射日射量\n",
    "    st_result[6][i] = solor_tilt(st_in)[3]                             #直達日射の入射角\n",
    "    \n",
    "#np.savetxt(location + '_out_st.csv', np.transpose(st_result), fmt='%.10f', delimiter=',')\n",
    "\n",
    "#確認用気象データ読込\n",
    "itb_ea = Weather.weather_confirm_input(location)[2]                            #斜面（開口面）直達日射量\n",
    "itd_ea = Weather.weather_confirm_input(location)[3]                            #斜面（開口面）天空日射量\n",
    "itr_ea = Weather.weather_confirm_input(location)[4]                            #斜面（開口面）地表面反射日射量\n",
    "\n",
    "#グラフの描画\n",
    "graph_num = 3\n",
    "ax = np.empty(graph_num, dtype = np.object)\n",
    "fig = plt.figure(figsize = (15, 5 * ((graph_num + 1) // 2)))\n",
    "plt.style.use('ggplot')\n",
    "\n",
    "gpc = ['C0', 'C1', 'C2']\n",
    "gxd = [[itb_ea[0:8760], [-0.5,4.]], [itd_ea[0:8760], [-0.5,4.]], [itr_ea[0:8760], [-0.5,4.]]]\n",
    "gyd = [[st_result[3][0:8760], [-0.5,4.]], [st_result[4][0:8760], [-0.5,4.]], [st_result[5][0:8760], [-0.5,4.]]]\n",
    "gxl = ['itb(eadata) [MJ/(m2h)]','itd(eadata) [MJ/(m2h)]','itr(eadata) [MJ/(m2h)]']\n",
    "gyl = ['itb(calc) [MJ/(m2h)]', 'itd(calc) [MJ/(m2h)]', 'itr(calc) [MJ/(m2h)]']\n",
    "gxt = [[0.5 * (i-1) for i in range(10)], [0.5 * (i-1) for i in range(10)], [0.5 * (i-1) for i in range(10)]]\n",
    "gyt = [[0.5 * (i-1) for i in range(10)], [0.5 * (i-1) for i in range(10)], [0.5 * (i-1) for i in range(10)]]\n",
    "\n",
    "for i in range(graph_num):   \n",
    "    ax[i] = fig.add_subplot((graph_num + 1) // 2, 2, i + 1)\n",
    "    ax[i].scatter(gxd[i][0], gyd[i][0], color = gpc[i])\n",
    "    ax[i].plot(gxd[i][1], gyd[i][1], color = (0,0,0))\n",
    "    ax[i].set_xticks(gxt[i])\n",
    "    ax[i].set_yticks(gyt[i])\n",
    "    ax[i].set_xlabel(gxl[i], fontsize = 12)\n",
    "    ax[i].set_ylabel(gyl[i], fontsize = 12)\n",
    "\n",
    "plt.show()"
   ]
  }
 ],
 "metadata": {
  "kernelspec": {
   "display_name": "Python 3",
   "language": "python",
   "name": "python3"
  },
  "language_info": {
   "codemirror_mode": {
    "name": "ipython",
    "version": 3
   },
   "file_extension": ".py",
   "mimetype": "text/x-python",
   "name": "python",
   "nbconvert_exporter": "python",
   "pygments_lexer": "ipython3",
   "version": "3.6.4"
  }
 },
 "nbformat": 4,
 "nbformat_minor": 2
}
