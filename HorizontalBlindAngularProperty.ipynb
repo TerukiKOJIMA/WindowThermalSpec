{
 "cells": [
  {
   "cell_type": "code",
   "execution_count": 1,
   "metadata": {},
   "outputs": [],
   "source": [
    "from collections import namedtuple\n",
    "import csv\n",
    "import math\n",
    "import numpy as np\n",
    "import matplotlib.pyplot as plt"
   ]
  },
  {
   "cell_type": "markdown",
   "metadata": {},
   "source": [
    "# 横型ブラインドの斜入射特性を計算するモジュール"
   ]
  },
  {
   "cell_type": "markdown",
   "metadata": {},
   "source": [
    "スラット材の形状とスラットの日射反射率から任意のプロファイル角における横型ブラインドの日射透過率及び日射反射率を計算する。"
   ]
  },
  {
   "cell_type": "markdown",
   "metadata": {},
   "source": [
    "### 入力値  \n",
    "\n",
    "$ W $ ：スラット幅 (m)  \n",
    "$ d $ ：スラット高さ (m)  \n",
    "$ S $ ：スラット間隔 (m)  \n",
    "$ \\rho_{upper,S} $：スラット材上面の日射反射率（鏡面反射成分）  \n",
    "$ \\rho_{upper,D} $：スラット材上面の日射反射率（拡散反射成分）  \n",
    "$ \\rho_{lower,S} $：スラット材下面の日射反射率（鏡面反射成分）  \n",
    "$ \\rho_{lower,D} $：スラット材下面の日射反射率（拡散反射成分）  \n",
    "$ \\psi $：スラット角 (°)  \n",
    "$ \\phi $：プロファイル角 (°)  "
   ]
  },
  {
   "cell_type": "markdown",
   "metadata": {},
   "source": [
    "### 出力値\n",
    "$ \\tau_{\\phi,f} $ ：横型ブラインドの正面側からの入射光に対するプロファイル角$\\phi$の日射透過率  \n",
    "$ \\tau_{\\phi,b} $ ：横型ブラインドの背面側からの入射光に対するプロファイル角$\\phi$の日射透過率  \n",
    "$ \\rho_{\\phi,f} $ ：横型ブラインドの正面側からの入射光に対するプロファイル角$\\phi$の日射反射率  \n",
    "$ \\rho_{\\phi,b} $ ：横型ブラインドの背面側からの入射光に対するプロファイル角$\\phi$の日射反射率"
   ]
  },
  {
   "cell_type": "markdown",
   "metadata": {},
   "source": [
    "### 計算方法  \n",
    "\n",
    "#### データ構造と値の範囲  \n",
    "\n",
    "$ W $・$ d $・$ S $・$ \\rho_{upper,S} $・$ \\rho_{upper,D} $・$ \\rho_{lower,S} $・$ \\rho_{lower,D} $・$ \\psi $・$ \\phi $の組み合わせをクラス『hbl＿input』と定義する。  \n",
    "$ \\rho_{upper,S} $・$ \\rho_{upper,D} $・$ \\rho_{lower,S} $・$ \\rho_{lower,D} $の値は0.0以上1.0以下の値をとる。  \n",
    "$ \\psi $・$ \\phi $の値は-90°以上90°以下の値をとる。  "
   ]
  },
  {
   "cell_type": "code",
   "execution_count": 2,
   "metadata": {},
   "outputs": [],
   "source": [
    "class hbl_input():\n",
    "    def __init__( self, W, d, S, REFUS, REFUD, REFLS, REFLD, psi, phi ):\n",
    "        self.W = W\n",
    "        self.d = d\n",
    "        self.S = S\n",
    "        self.REFUS = REFUS\n",
    "        self.REFUD = REFUD\n",
    "        self.REFLS = REFLS\n",
    "        self.REFLD = REFLD\n",
    "        self.psi = psi\n",
    "        self.phi = phi\n",
    "\n",
    "# W：スラット幅 (mm)\n",
    "# d：スラット高さ (mm) \n",
    "# S：スラット間隔 (mm) \n",
    "# REFUS：スラット材上面の日射反射率（鏡面反射成分）\n",
    "# REFUD：スラット材上面の日射反射率（拡散反射成分）\n",
    "# REFLS：スラット材下面の日射反射率（鏡面反射成分）\n",
    "# REFLD：スラット材下面の日射反射率（拡散反射成分）\n",
    "# psi：スラット角 (°) \n",
    "# phi：プロファイル角 (°)"
   ]
  },
  {
   "cell_type": "markdown",
   "metadata": {},
   "source": [
    "### 1. 鏡面反射"
   ]
  },
  {
   "cell_type": "markdown",
   "metadata": {},
   "source": [
    "スラット材の鏡面反射成分の光線追跡計算方法を以下に示す。  \n",
    "\n",
    "（参考：JIS A 2103：2014 附属書C ブラインドの光学特性の計算方法）  "
   ]
  },
  {
   "cell_type": "markdown",
   "metadata": {},
   "source": [
    "#### 入射日射（$l = 0$）の位置ベクトル、方向ベクトル、入射日射熱量  \n",
    "\n",
    "入射開口DA間の分割要素$m$（$0$～$M-1$）からの入射日射の始点の位置ベクトル$ \\boldsymbol{p}_{(0)} $は、"
   ]
  },
  {
   "cell_type": "markdown",
   "metadata": {},
   "source": [
    "$$ \n",
    "\\displaystyle \\boldsymbol{p}_{m,(0)} = \n",
    "\\begin{pmatrix} \n",
    "\\displaystyle 0 \\\\\n",
    "\\displaystyle (m + 0.5) \\frac{S}{M} \\\\\n",
    "\\end{pmatrix} \n",
    "\\qquad\\qquad\\text{(1)}\n",
    "$$"
   ]
  },
  {
   "cell_type": "markdown",
   "metadata": {},
   "source": [
    "入射開口DA間の分割要素$m$（$0$～$M-1$）からの入射日射の方向ベクトル$ \\boldsymbol{s}_{(0)} $は、"
   ]
  },
  {
   "cell_type": "markdown",
   "metadata": {},
   "source": [
    "$$ \n",
    "\\displaystyle \\boldsymbol{s}_{m,(0)} = \n",
    "\\begin{pmatrix} \n",
    "\\displaystyle \\cos\\phi \\\\\n",
    "\\displaystyle -\\sin\\phi \\\\\n",
    "\\end{pmatrix} \n",
    "\\qquad\\qquad\\text{(2)}\n",
    "$$"
   ]
  },
  {
   "cell_type": "markdown",
   "metadata": {},
   "source": [
    "入射開口DA間の分割要素$m$（$0$～$M-1$）からの入射日射熱量$ Q_{m,(0)} $は、"
   ]
  },
  {
   "cell_type": "markdown",
   "metadata": {},
   "source": [
    "$$\n",
    "\\begin{eqnarray}\n",
    " &\\displaystyle Q_{m,(0)} = I \\cdot \\cos \\phi \\cdot \\Delta L_{m}& \\qquad\\qquad\\text{(3)} \\nonumber\\\\\n",
    "\\end{eqnarray}\n",
    "$$"
   ]
  },
  {
   "cell_type": "markdown",
   "metadata": {},
   "source": [
    "#### 光線の位置ベクトルの計算  \n",
    "\n",
    "光線の位置ベクトル$ \\boldsymbol{p}_{(l)} $の計算式  "
   ]
  },
  {
   "cell_type": "markdown",
   "metadata": {},
   "source": [
    "$$\n",
    "\\begin{eqnarray}\n",
    " &\\displaystyle \\boldsymbol{p}_{(l)} = \\boldsymbol{p}_{(l-1)} + a \\cdot \\boldsymbol{s}_{(l-1)} = \\boldsymbol{q}_{(i)} + b \\cdot \\boldsymbol{v}_{(i)}& \\qquad\\qquad\\text{(4)} \\nonumber\\\\\n",
    "\\end{eqnarray}\n",
    "$$"
   ]
  },
  {
   "cell_type": "markdown",
   "metadata": {},
   "source": [
    "式(4)の関係より、"
   ]
  },
  {
   "cell_type": "markdown",
   "metadata": {},
   "source": [
    "$$ \n",
    "\\begin{pmatrix} \n",
    "\\displaystyle s_{(l-1),x}& -v_{(i),x} \\\\\n",
    "\\displaystyle s_{(l-1),y}& -v_{(i),y} \\\\\n",
    "\\end{pmatrix}\n",
    "\\begin{pmatrix} \n",
    "\\displaystyle a \\\\\n",
    "\\displaystyle b \\\\\n",
    "\\end{pmatrix}\n",
    "=\n",
    "\\begin{pmatrix} \n",
    "\\displaystyle q_{(i),x} - p_{(l-1),x} \\\\\n",
    "\\displaystyle q_{(i),y} - p_{(l-1),y} \\\\\n",
    "\\end{pmatrix}\n",
    "\\qquad\\qquad\\text{(5)}\n",
    "$$"
   ]
  },
  {
   "cell_type": "markdown",
   "metadata": {},
   "source": [
    "$$\n",
    "\\begin{eqnarray}\n",
    " &\\displaystyle a = \\frac{-(q_{(i),x}-p_{(l-1),x})v_{(i),y} + v_{(i),x}(q_{(i),y}-p_{(l-1),y})}{-s_{(l-1),x}v_{(i),y} + v_{(i),x} s_{(l-1),y}}& \\qquad\\qquad\\text{(6)} \\nonumber\\\\\n",
    "\\end{eqnarray}\n",
    "$$"
   ]
  },
  {
   "cell_type": "markdown",
   "metadata": {},
   "source": [
    "$$\n",
    "\\begin{eqnarray}\n",
    " &\\displaystyle b = \\frac{s_{(l-1),x}(q_{(i),y}-p_{(l-1),y}) - (q_{(i),x} - p_{(l-1),x})s_{(l-1),y}}{-s_{(l-1),x}v_{(i),y} + v_{(i),x} s_{(l-1),y}}& \\qquad\\qquad\\text{(7)} \\nonumber\\\\\n",
    "\\end{eqnarray}\n",
    "$$"
   ]
  },
  {
   "cell_type": "markdown",
   "metadata": {},
   "source": [
    "#### 光線の方向ベクトルの計算  \n",
    "\n",
    "光線の方向ベクトル$ \\boldsymbol{s}_{(l)} $の計算式  "
   ]
  },
  {
   "cell_type": "markdown",
   "metadata": {},
   "source": [
    "$$\n",
    "\\begin{eqnarray}\n",
    " &\\displaystyle \\boldsymbol{s}_{(l)} = - \\boldsymbol{s}_{(l-1)} + 2 \\frac{\\boldsymbol{s}_{(l-1)} \\cdot \\boldsymbol{v}_{(i)}}{\\bigl|\\boldsymbol{v}_{(i)}\\bigr|} \\frac{\\boldsymbol{v}_{(i)}}{\\bigl|\\boldsymbol{v}_{(i)}\\bigr|}& \\qquad\\qquad\\text{(8)} \\nonumber\\\\\n",
    "\\end{eqnarray}\n",
    "$$"
   ]
  },
  {
   "cell_type": "markdown",
   "metadata": {},
   "source": [
    "（式(8)の補足説明）  "
   ]
  },
  {
   "cell_type": "markdown",
   "metadata": {},
   "source": [
    "$$\n",
    "\\begin{eqnarray}\n",
    " &\\displaystyle c = \\bigl|\\boldsymbol{s}_{(l-1)}\\bigr| \\cos \\theta& \\qquad\\qquad\\text{(8-1)} \\nonumber\\\\\n",
    "\\end{eqnarray}\n",
    "$$"
   ]
  },
  {
   "cell_type": "markdown",
   "metadata": {},
   "source": [
    "内積の関係より、"
   ]
  },
  {
   "cell_type": "markdown",
   "metadata": {},
   "source": [
    "$$\n",
    "\\begin{eqnarray}\n",
    " &\\displaystyle \\cos \\theta = \\frac{\\boldsymbol{s}_{(l-1)}\\cdot \\boldsymbol{v}_{(i)}}{\\bigl|\\boldsymbol{s}_{(l-1)}\\bigr|\\bigl|\\boldsymbol{v}_{(i)}\\bigr|}& \\qquad\\qquad\\text{(8-2)} \\nonumber\\\\\n",
    "\\end{eqnarray}\n",
    "$$"
   ]
  },
  {
   "cell_type": "markdown",
   "metadata": {},
   "source": [
    "式(8-1)と式(8-2)より、"
   ]
  },
  {
   "cell_type": "markdown",
   "metadata": {},
   "source": [
    "$$\n",
    "\\begin{eqnarray}\n",
    " &\\displaystyle c = \\frac{\\boldsymbol{s}_{(l-1)} \\cdot \\boldsymbol{v}_{(i)}}{\\bigl|\\boldsymbol{v}_{(i)}\\bigr|}& \\qquad\\qquad\\text{(8-3)} \\nonumber\\\\\n",
    "\\end{eqnarray}\n",
    "$$"
   ]
  },
  {
   "cell_type": "markdown",
   "metadata": {},
   "source": [
    "次に、  "
   ]
  },
  {
   "cell_type": "markdown",
   "metadata": {},
   "source": [
    "$$\n",
    "\\begin{eqnarray}\n",
    " &\\displaystyle \\boldsymbol{s}_{(l)} = -\\boldsymbol{s}_{(l-1)} + 2c\\frac{\\boldsymbol{v}_{(i)}}{\\bigl|\\boldsymbol{v}_{(i)}\\bigr|}& \\qquad\\qquad\\text{(8-4)} \\nonumber\\\\\n",
    "\\end{eqnarray}\n",
    "$$"
   ]
  },
  {
   "cell_type": "markdown",
   "metadata": {},
   "source": [
    "式(8-3)と式(8-4)より、式(8)が得られる。  "
   ]
  },
  {
   "cell_type": "markdown",
   "metadata": {},
   "source": [
    "![image3.png][attached1]\n",
    "[attached1]:img\\image3.png  "
   ]
  },
  {
   "cell_type": "code",
   "execution_count": 3,
   "metadata": {},
   "outputs": [],
   "source": [
    "def specular_reflection(L, M, lmax, sK):\n",
    "\n",
    "    l = 0 #反射回数\n",
    "    p = np.empty((M, lmax, 2), dtype=object) #光線の始点の位置ベクトル\n",
    "    s = np.empty((M, lmax, 2), dtype=object) #光線の方向ベクトル\n",
    "    ipi = np.empty((M, lmax), dtype=object)\n",
    "    rc_upper = np.zeros(M) #スラット上面での反射回数\n",
    "    rc_lower = np.zeros(M) #スラット下面での反射回数\n",
    "    dir_ray = np.empty(M) #光線が透過側と反射側のどちらにたどり着いたかの判断\n",
    "    while l <= 10 and not (s[:,l-1] == 0).all(): #s[:,l-1] == 0が何だったか要確認\n",
    "        for m in range(M):\n",
    "            if l == 0:\n",
    "                p[m][l] = [0, (m + 0.5) * L.S / M]                                #式(1)、日射の始点の位置ベクトル(0回目)            \n",
    "                s[m][l] = [np.cos(np.deg2rad(L.phi)), -np.sin(np.deg2rad(L.phi))] #式(2)、日射の方向ベクトル(0回目)\n",
    "            elif l > 0:\n",
    "                #日射の方向ベクトル(1回目以降)\n",
    "                if (sK[2] <= ipi[m][l-1] and ipi[m][l-1] < (sK[3])):\n",
    "                    dir_ray[m] = 1 #透過\n",
    "                    s[m][l] = 0\n",
    "                elif  (sK[6] <= ipi[m][l-1] and ipi[m][l-1] < (sK[7] - 1)):\n",
    "                    dir_ray[m] = 0 #反射\n",
    "                    s[m][l] = 0\n",
    "                else:\n",
    "                    s[m][l] = -s[m][l-1] + 2 * np.vdot(s[m][l-1], v[ipi[m][l-1]]) * v[ipi[m][l-1]] / \\\n",
    "                              (v[ipi[m][l-1]][0] ** 2. + v[ipi[m][l-1]][1] ** 2.) #式(8)\n",
    "\n",
    "        for m in range(M):\n",
    "            for i in range(sK[len(sK) - 1] - 1):\n",
    "                if (s[m][l] == 0).all(): #光線の方向ベクトルが0であれば動かないので\n",
    "                    p[m][l + 1] = p[m][l]\n",
    "                    ipi[m][l] = ipi[m][l-1]\n",
    "                else:\n",
    "                    if l == 0 or (l > 0 and i != ipi[m][l-1]): #反射回数が0回または0回でない場合には同じ微小要素には帰らないことを示す\n",
    "                        deno = -s[m][l][0] * v[i][1] + v[i][0] * s[m][l][1]\n",
    "                        if deno != 0:\n",
    "                            a = (-(q[i][0] - p[m][l][0]) * v[i][1] + v[i][0] * (q[i][1] - p[m][l][1])) / deno #式(6)\n",
    "                            b = (s[m][l][0] * (q[i][1] - p[m][l][1]) - (q[i][0] - p[m][l][0]) * s[m][l][1]) / deno #式(7)\n",
    "\n",
    "                            if 0 < a and 0 <= b and b < 1:\n",
    "                                p[m][l + 1] = q[i] + b * v[i]\n",
    "                                ipi[m][l] = i #ipi[m][l]は光線mがどの微小境界要素にたどり着いたか判断\n",
    "                                \n",
    "                                if i < sK[0]:                  rc_lower[m] += 1 #AB間の下面\n",
    "                                elif sK[0] <= i and i < sK[1]: rc_upper[m] += 1 #AB間の上面\n",
    "                                elif sK[1] <= i and i < sK[2]: rc_lower[m] += 1 #AB間の下面\n",
    "                                elif sK[3] <= i and i < sK[4]: rc_upper[m] += 1 #CD間の上面\n",
    "                                elif sK[4] <= i and i < sK[5]: rc_lower[m] += 1 #CD間の下面\n",
    "                                elif sK[5] <= i and i < sK[6]: rc_upper[m] += 1 #CD間の上面\n",
    "                                    \n",
    "        l += 1 #反射回数の追加\n",
    "\n",
    "    attenuation = np.zeros(M)\n",
    "    for m in range(M):\n",
    "        attenuation[m] = L.REFUS ** rc_upper[m] * L.REFLS ** rc_lower[m] #全入射光線の減衰率\n",
    "\n",
    "    tau_tot = 0.\n",
    "    rho_tot = 0.\n",
    "    for m in range(M):\n",
    "        tau_tot += attenuation[m] * dir_ray[m] / M #透過\n",
    "        rho_tot += attenuation[m] * (1 - dir_ray[m]) / M #反射\n",
    "\n",
    "    return tau_tot, rho_tot, p, s, l"
   ]
  },
  {
   "cell_type": "markdown",
   "metadata": {},
   "source": [
    "### 2. 拡散反射"
   ]
  },
  {
   "cell_type": "markdown",
   "metadata": {},
   "source": []
  },
  {
   "cell_type": "code",
   "execution_count": 4,
   "metadata": {},
   "outputs": [],
   "source": [
    "def diffuse_reflection():\n",
    "    return tau_tot, rho_tot"
   ]
  },
  {
   "cell_type": "markdown",
   "metadata": {},
   "source": [
    "### 3. 領域境界分割要素の位置ベクトルと方向ベクトル"
   ]
  },
  {
   "cell_type": "markdown",
   "metadata": {},
   "source": [
    "#### スラット端点と中央点の位置\n",
    "\n",
    "点A(下スラットの左端点)、点B(下スラットの右端点)、点C(上スラットの右端点)、点D(上スラットの左端点)、点E(下スラットの中央点)、点F(上スラットの中央点)の位置ベクトルは、"
   ]
  },
  {
   "cell_type": "markdown",
   "metadata": {},
   "source": [
    "![image4.png][attached1]\n",
    "[attached1]:img\\image4.png  "
   ]
  },
  {
   "cell_type": "markdown",
   "metadata": {},
   "source": [
    "$$ \n",
    "\\displaystyle \\boldsymbol{A} = \n",
    "\\begin{pmatrix} \n",
    "\\displaystyle 0 \\\\\n",
    "\\displaystyle 0 \\\\\n",
    "\\end{pmatrix} \n",
    "\\qquad\\qquad\\text{(1)}\n",
    "$$"
   ]
  },
  {
   "cell_type": "markdown",
   "metadata": {},
   "source": [
    "$$ \n",
    "\\displaystyle \\boldsymbol{B} = \n",
    "\\begin{pmatrix} \n",
    "\\displaystyle W\\cos\\psi \\\\\n",
    "\\displaystyle W\\sin\\psi \\\\\n",
    "\\end{pmatrix} \n",
    "\\qquad\\qquad\\text{(2)}\n",
    "$$"
   ]
  },
  {
   "cell_type": "markdown",
   "metadata": {},
   "source": [
    "$$ \n",
    "\\displaystyle \\boldsymbol{C} = \n",
    "\\begin{pmatrix} \n",
    "\\displaystyle B_{x} \\\\\n",
    "\\displaystyle B_{y} + S \\\\\n",
    "\\end{pmatrix}\n",
    "\\qquad\\qquad\\text{(3)}\n",
    "$$"
   ]
  },
  {
   "cell_type": "markdown",
   "metadata": {},
   "source": [
    "$$ \n",
    "\\displaystyle \\boldsymbol{D} = \n",
    "\\begin{pmatrix} \n",
    "\\displaystyle A_{x} \\\\\n",
    "\\displaystyle A_{y} + S \\\\\n",
    "\\end{pmatrix}\n",
    "\\qquad\\qquad\\text{(4)}\n",
    "$$"
   ]
  },
  {
   "cell_type": "markdown",
   "metadata": {},
   "source": [
    "平板スラット($d=0$)の場合、"
   ]
  },
  {
   "cell_type": "markdown",
   "metadata": {},
   "source": [
    "$$\n",
    "\\begin{eqnarray}\n",
    " &\\displaystyle \\boldsymbol{E} = \\frac{\\boldsymbol{B} - \\boldsymbol{A}}{2}& \\qquad\\qquad\\text{(5)} \\nonumber\\\\\n",
    "\\end{eqnarray}\n",
    "$$"
   ]
  },
  {
   "cell_type": "markdown",
   "metadata": {},
   "source": [
    "円弧スラット($d \\neq 0$)の場合、"
   ]
  },
  {
   "cell_type": "markdown",
   "metadata": {},
   "source": [
    "$$ \n",
    "\\displaystyle \\boldsymbol{E} = \n",
    "\\begin{pmatrix} \n",
    "\\displaystyle \\sqrt{(0.5W)^2 + d^2} \\cos\\Bigl(\\arctan\\frac{d}{0.5W} + \\psi\\Bigl) \\\\\n",
    "\\displaystyle \\sqrt{(0.5W)^2 + d^2} \\sin\\Bigl(\\arctan\\frac{d}{0.5W} + \\psi\\Bigl) \\\\\n",
    "\\end{pmatrix} \n",
    "\\qquad\\qquad\\text{(6)}\n",
    "$$"
   ]
  },
  {
   "cell_type": "markdown",
   "metadata": {},
   "source": [
    "$$ \n",
    "\\displaystyle \\boldsymbol{F} = \n",
    "\\begin{pmatrix} \n",
    "\\displaystyle E_{x} \\\\\n",
    "\\displaystyle E_{y} + S \\\\\n",
    "\\end{pmatrix}\n",
    "\\qquad\\qquad\\text{(7)}\n",
    "$$"
   ]
  },
  {
   "cell_type": "code",
   "execution_count": 5,
   "metadata": {},
   "outputs": [],
   "source": [
    "def slat_edge_position(L):\n",
    "    \n",
    "    A = np.array([0., 0.]) #式(1)\n",
    "    B = np.array([L.W * np.cos(np.deg2rad(L.psi)), L.W * np.sin(np.deg2rad(L.psi))]) #式(2)\n",
    "    C = np.array([B[0], B[1] + L.S]) #式(3)\n",
    "    D = np.array([A[0], A[1] + L.S]) #式(4)\n",
    "    if L.d ==0:\n",
    "        E = (B - A) / 2. #式(5)\n",
    "    else:\n",
    "        E = np.array([((0.5 * L.W) ** 2. + L.d ** 2.) ** 0.5 * np.cos(np.arctan(L.d / (0.5 * L.W)) + np.deg2rad(L.psi)), \n",
    "                      ((0.5 * L.W) ** 2. + L.d ** 2.) ** 0.5 * np.sin(np.arctan(L.d / (0.5 * L.W)) + np.deg2rad(L.psi))]) #式(6)\n",
    "    \n",
    "    F = np.array([E[0], E[1] + L.S]) #式(7)\n",
    "    \n",
    "    return A, B, C, D, E, F"
   ]
  },
  {
   "cell_type": "markdown",
   "metadata": {},
   "source": [
    "#### 円弧スラットの中心座標、半径、中心角  \n",
    "\n",
    "円弧スラット($d \\neq 0$)の場合、  \n",
    "\n",
    "円の方程式  "
   ]
  },
  {
   "cell_type": "markdown",
   "metadata": {},
   "source": [
    "$$\n",
    "\\begin{eqnarray}\n",
    " &\\displaystyle x^2 + y^2 + l_0x + l_1y + l_2 = 0& \\qquad\\qquad\\text{(1)} \\nonumber\\\\\n",
    "\\end{eqnarray}\n",
    "$$"
   ]
  },
  {
   "cell_type": "markdown",
   "metadata": {},
   "source": [
    "式(1)を変形すると、  "
   ]
  },
  {
   "cell_type": "markdown",
   "metadata": {},
   "source": [
    "$$\n",
    "\\begin{eqnarray}\n",
    " &\\displaystyle l_0x + l_1y + l_2 = -(x^2 + y^2)& \\qquad\\qquad\\text{(2)} \\nonumber\\\\\n",
    "\\end{eqnarray}\n",
    "$$"
   ]
  },
  {
   "cell_type": "markdown",
   "metadata": {},
   "source": [
    "外接円となる点A、点B、点Eの3点の位置ベクトルを式(2)に代入して連立すると、"
   ]
  },
  {
   "cell_type": "markdown",
   "metadata": {},
   "source": [
    "$$\n",
    "\\begin{eqnarray}\n",
    " &\\displaystyle \\boldsymbol{a} \\cdot \\boldsymbol{l} = \\boldsymbol{b}& \\qquad\\qquad\\text{(3)} \\nonumber\\\\\n",
    "\\end{eqnarray}\n",
    "$$"
   ]
  },
  {
   "cell_type": "markdown",
   "metadata": {},
   "source": [
    "ここで、"
   ]
  },
  {
   "cell_type": "markdown",
   "metadata": {},
   "source": [
    "$ \n",
    "\\displaystyle \\boldsymbol{a} = \n",
    "\\begin{pmatrix} \n",
    "\\displaystyle 0&\\displaystyle 0&\\displaystyle 1 \\\\\n",
    "\\displaystyle W\\cos\\psi&\\displaystyle W\\sin\\psi&\\displaystyle 1 \\\\\n",
    "\\displaystyle \\sqrt{(0.5W)^2 + d^2} \\cos\\Bigl(\\arctan\\frac{d}{0.5W} +\\psi\\Bigr)&\\displaystyle \\sqrt{(0.5W)^2 + d^2} \\sin\\Bigl(\\arctan\\frac{d}{0.5W} + \\psi\\Bigr)&\\displaystyle 1 \\\\\n",
    "\\end{pmatrix} \n",
    "$  \n",
    "\n",
    "$\n",
    "\\displaystyle \\boldsymbol{l}\n",
    "=\n",
    "\\begin{pmatrix} \n",
    "\\displaystyle l_0 \\\\\n",
    "\\displaystyle l_1 \\\\\n",
    "\\displaystyle l_2 \\\\\n",
    "\\end{pmatrix}\n",
    "$  \n",
    "\n",
    "$\n",
    "\\displaystyle \\boldsymbol{b}\n",
    "= \n",
    "\\begin{pmatrix} \n",
    "\\displaystyle 0 \\\\\n",
    "\\displaystyle -(W\\cos\\psi^2 + \\sin\\psi^2) \\\\\n",
    "\\displaystyle -\\Biggl(\\biggl(\\sqrt{(0.5W)^2 + d^2}\\cos\\Bigl(\\arctan\\frac{d}{0.5W} + \\psi\\Bigr)\\biggr)^2 + \n",
    "               \\biggl(\\sqrt{(0.5W)^2 + d^2}\\sin\\Bigl(\\arctan\\frac{d}{0.5W} + \\psi\\Bigr)\\biggr)^2\\Biggr) \\\\\n",
    "\\end{pmatrix} \n",
    "$  "
   ]
  },
  {
   "cell_type": "markdown",
   "metadata": {},
   "source": [
    "外接円の中心点Oの位置ベクトルは、"
   ]
  },
  {
   "cell_type": "markdown",
   "metadata": {},
   "source": [
    "$$ \n",
    "\\displaystyle \\boldsymbol{O} = \n",
    "\\begin{pmatrix} \n",
    "\\displaystyle -0.5l_0 \\\\\n",
    "\\displaystyle -0.5l_1 \\\\\n",
    "\\end{pmatrix}\n",
    "\\qquad\\qquad\\text{(4)}\n",
    "$$"
   ]
  },
  {
   "cell_type": "markdown",
   "metadata": {},
   "source": [
    "外接円の半径$r$は、"
   ]
  },
  {
   "cell_type": "markdown",
   "metadata": {},
   "source": [
    "$$\n",
    "\\begin{eqnarray}\n",
    " &\\displaystyle r = \\sqrt{(-0.5l_0) ^ 2 + (-0.5l_1) ^ 2 - l_2}& \\qquad\\qquad\\text{(5)} \\nonumber\\\\\n",
    "\\end{eqnarray}\n",
    "$$"
   ]
  },
  {
   "cell_type": "markdown",
   "metadata": {},
   "source": [
    "点Aと点Bがなす円弧の中心角$\\theta$は、"
   ]
  },
  {
   "cell_type": "markdown",
   "metadata": {},
   "source": [
    "$$\n",
    "\\begin{eqnarray}\n",
    " &\\displaystyle \\theta = 4 \\arctan \\frac{d}{0.5W}& \\qquad\\qquad\\text{(6)} \\nonumber\\\\\n",
    "\\end{eqnarray}\n",
    "$$"
   ]
  },
  {
   "cell_type": "code",
   "execution_count": 6,
   "metadata": {},
   "outputs": [],
   "source": [
    "#3点を通る外接円の点A、点B、点E及び中心点Oの座標、半径r、中心角θ\n",
    "def slat_circle(L, A, B, E):\n",
    "    \n",
    "    if L.d == 0:\n",
    "        O = ''\n",
    "        r = ''\n",
    "        theta = ''\n",
    "    else:\n",
    "        a = np.array([[A[0], A[1], 1.], [B[0], B[1], 1.], [E[0], E[1], 1.]])\n",
    "        b = -(a[:, 0] ** 2 + a[:, 1] ** 2.)\n",
    "\n",
    "        a = a.astype(np.float64)\n",
    "        b = b.astype(np.float64)\n",
    "        l = np.linalg.solve(a, b) #式(3)\n",
    "\n",
    "        O =[- 0.5 * l[0], - 0.5 * l[1]] #円弧の原点の位置ベクトル 式(4)\n",
    "        r = ((- 0.5 * l[0]) ** 2. + (- 0.5 * l[1]) ** 2. - l[2]) ** 0.5 #式(5)\n",
    "        theta = np.rad2deg(4 * np.arctan(L.d / (0.5 * L.W))) #円弧の中心角 式(6)\n",
    "    \n",
    "    return O, r, theta"
   ]
  },
  {
   "cell_type": "markdown",
   "metadata": {},
   "source": [
    "#### スラットの最端座標  \n",
    "\n",
    "円弧スラット($d \\neq 0$)かつ$ O_{y} > A_{y} $の場合、 "
   ]
  },
  {
   "cell_type": "markdown",
   "metadata": {},
   "source": [
    "$$ \n",
    "\\displaystyle \\boldsymbol{A}' = \n",
    "\\begin{pmatrix} \n",
    "\\displaystyle O_{x} - r \\\\\n",
    "\\displaystyle O_{y} \\\\\n",
    "\\end{pmatrix}\n",
    "\\qquad\\qquad\\text{(1)}\n",
    "$$"
   ]
  },
  {
   "cell_type": "markdown",
   "metadata": {},
   "source": [
    "円弧スラット($d \\neq 0$)かつ$ O_{y} > B_{y} $の場合、 "
   ]
  },
  {
   "cell_type": "markdown",
   "metadata": {},
   "source": [
    "$$ \n",
    "\\displaystyle \\boldsymbol{B}' = \n",
    "\\begin{pmatrix} \n",
    "\\displaystyle O_{x} + r \\\\\n",
    "\\displaystyle O_{y} \\\\\n",
    "\\end{pmatrix}\n",
    "\\qquad\\qquad\\text{(2)}\n",
    "$$"
   ]
  },
  {
   "cell_type": "markdown",
   "metadata": {},
   "source": [
    "その他の場合、"
   ]
  },
  {
   "cell_type": "markdown",
   "metadata": {},
   "source": [
    "$$\n",
    "\\begin{eqnarray}\n",
    " &\\displaystyle \\boldsymbol{A}' = \\boldsymbol{A}& \\qquad\\qquad\\text{(3)} \\nonumber\\\\\n",
    "\\end{eqnarray}\n",
    "$$"
   ]
  },
  {
   "cell_type": "markdown",
   "metadata": {},
   "source": [
    "$$\n",
    "\\begin{eqnarray}\n",
    " &\\displaystyle \\boldsymbol{B}' = \\boldsymbol{B}& \\qquad\\qquad\\text{(4)} \\nonumber\\\\\n",
    "\\end{eqnarray}\n",
    "$$"
   ]
  },
  {
   "cell_type": "markdown",
   "metadata": {},
   "source": [
    "$$ \n",
    "\\displaystyle \\boldsymbol{C}' = \n",
    "\\begin{pmatrix} \n",
    "\\displaystyle B'_{x} \\\\\n",
    "\\displaystyle B'_{y} + S \\\\\n",
    "\\end{pmatrix}\n",
    "\\qquad\\qquad\\text{(5)}\n",
    "$$"
   ]
  },
  {
   "cell_type": "markdown",
   "metadata": {},
   "source": [
    "$$ \n",
    "\\displaystyle \\boldsymbol{D}' = \n",
    "\\begin{pmatrix} \n",
    "\\displaystyle A'_{x} \\\\\n",
    "\\displaystyle A'_{y} + S \\\\\n",
    "\\end{pmatrix}\n",
    "\\qquad\\qquad\\text{(6)}\n",
    "$$"
   ]
  },
  {
   "cell_type": "code",
   "execution_count": 7,
   "metadata": {},
   "outputs": [],
   "source": [
    "def slat_additional_position(L, O, r, A, B):\n",
    "    \n",
    "    if L.d == 0:\n",
    "        Ad = A\n",
    "        Bd = B\n",
    "    else:\n",
    "        if O[1] > A[1]: #円弧が食い込む\n",
    "            Ad = np.array([O[0] - r, O[1]]) #点A'の位置\n",
    "        else:           #円弧が食い込まない\n",
    "            Ad = A                          #点A'の位置\n",
    "\n",
    "        if O[1] > B[1]: #円弧が食い込む\n",
    "            Bd = np.array([O[0] + r, O[1]]) #点B'の位置\n",
    "        else:           #円弧が食い込まない\n",
    "            Bd = B                          #点B'の位置\n",
    "    Cd = np.array([Bd[0], Bd[1] + L.S]) #点C'の位置\n",
    "    Dd = np.array([Ad[0], Ad[1] + L.S]) #点D'の位置\n",
    "    \n",
    "    return Ad, Bd, Cd, Dd"
   ]
  },
  {
   "cell_type": "markdown",
   "metadata": {},
   "source": [
    "#### 平板スラットの領域境界分割要素の始点の位置ベクトル \n",
    "\n",
    "平板スラット($d=0$)の領域境界分割要素の始点の位置ベクトル$\\boldsymbol{q}_i$は、次のように表すことができる。  \n",
    "\n",
    "$0 \\leq i \\leq K_0$の場合、"
   ]
  },
  {
   "cell_type": "markdown",
   "metadata": {},
   "source": [
    "$$ \n",
    "\\displaystyle \\boldsymbol{q}_i = \n",
    "\\begin{pmatrix} \n",
    "\\displaystyle \\frac{i}{K_0} W \\cos \\psi \\\\\n",
    "\\displaystyle \\frac{i}{K_0} W \\sin \\psi \\\\\n",
    "\\end{pmatrix} \n",
    "\\qquad\\qquad\\text{(1)}\n",
    "$$"
   ]
  },
  {
   "cell_type": "markdown",
   "metadata": {},
   "source": [
    "$K_0 < i \\leq (K_0 + K_1)$の場合、  "
   ]
  },
  {
   "cell_type": "markdown",
   "metadata": {},
   "source": [
    "$$ \n",
    "\\displaystyle \\boldsymbol{q}_i = \n",
    "\\begin{pmatrix} \n",
    "\\displaystyle q_{K_0,x} \\\\\n",
    "\\displaystyle q_{K_0,y} + \\frac{i - K_0}{K_1} S \\\\\n",
    "\\end{pmatrix}\n",
    "\\qquad\\qquad\\text{(2)}\n",
    "$$"
   ]
  },
  {
   "cell_type": "markdown",
   "metadata": {},
   "source": [
    "$(K_0 + K_1) < i \\leq (K_0 + K_1 + K_2)$の場合、 "
   ]
  },
  {
   "cell_type": "markdown",
   "metadata": {},
   "source": [
    "$$ \n",
    "\\displaystyle \\boldsymbol{q}_i = \n",
    "\\begin{pmatrix} \n",
    "\\displaystyle q_{(K_0 + K_1),x} - \\frac{i - K_0 - K_1 - K_2}{K_2} W\\cos\\psi \\\\\n",
    "\\displaystyle q_{(K_0 + K_1),y} - \\frac{i - K_0 - K_1 - K_2}{K_2} W\\sin\\psi \\\\\n",
    "\\end{pmatrix} \n",
    "\\qquad\\qquad\\text{(3)}\n",
    "$$"
   ]
  },
  {
   "cell_type": "markdown",
   "metadata": {},
   "source": [
    "$(K_0 + K_1 + K_2) < i \\leq (K_0 + K_1 + K_2 + K_3)$の場合、 "
   ]
  },
  {
   "cell_type": "markdown",
   "metadata": {},
   "source": [
    "$$ \n",
    "\\displaystyle \\boldsymbol{q}_i = \n",
    "\\begin{pmatrix} \n",
    "\\displaystyle q_{(K_0 + K_1 + K_2),x} \\\\\n",
    "\\displaystyle q_{(K_0 + K_1 + K_2),y} - \\frac{i - K_0 - K_1 - K_2}{K_3} S \\\\\n",
    "\\end{pmatrix} \n",
    "\\qquad\\qquad\\text{(4)}\n",
    "$$"
   ]
  },
  {
   "cell_type": "code",
   "execution_count": 8,
   "metadata": {},
   "outputs": [],
   "source": [
    "#平板スラットの領域境界の分割要素の始点の位置ベクトル\n",
    "def position_vector_flat_q(L, K):\n",
    "    \n",
    "    sK =np.zeros(len(K), dtype=int)\n",
    "    for i in range(len(K)):\n",
    "        sK[i] = np.sum(K[:i+1])\n",
    "    \n",
    "    q = np.empty((sK[len(K)-1] + 1, 2), dtype=object)\n",
    "    for i in range(sK[len(K)-1] + 1):\n",
    "        if L.d == 0: #平板\n",
    "            if i <= sK[0]:   #A-B間\n",
    "                q[i] = [i / K[0] * L.W * np.cos(np.deg2rad(L.psi)), \n",
    "                        i / K[0] * L.W * np.sin(np.deg2rad(L.psi))]\n",
    "            elif i <= sK[1]: #B-C間\n",
    "                q[i] = [q[sK[0]][0], \n",
    "                        q[sK[0]][1] + (i - sK[0]) / K[1] * L.S]\n",
    "            elif i <= sK[2]: #C-D間\n",
    "                q[i] = [q[sK[1]][0] - (i - sK[1]) / K[2] * L.W * np.cos(np.deg2rad(L.psi)), \n",
    "                        q[sK[1]][1] - (i - sK[1]) / K[2] * L.W * np.sin(np.deg2rad(L.psi))]\n",
    "            elif i <= sK[3]: #D-A間\n",
    "                q[i] = [q[sK[2]][0], \n",
    "                        q[sK[2]][1] - (i - sK[2]) / K[3] * L.S]\n",
    "                \n",
    "    Kn = np.array([0, K[0], 0, K[1], 0, K[2], 0, K[3] + 1])\n",
    "\n",
    "    sKn =np.zeros(len(Kn), dtype=int)\n",
    "    for i in range(len(Kn)):\n",
    "        sKn[i] = np.sum(Kn[:i+1])\n",
    "                             \n",
    "    return q, sKn#sK[len(K)-1]"
   ]
  },
  {
   "cell_type": "markdown",
   "metadata": {},
   "source": [
    "#### 円弧スラットの領域境界分割要素の始点の位置ベクトル \n",
    "\n",
    "円弧スラット($d \\neq 0$)の領域境界分割要素の始点の位置ベクトル$\\boldsymbol{q}_i$は、次のように表すことができる。  \n",
    "\n",
    "$0 \\leq i \\leq K_0$の場合、"
   ]
  },
  {
   "cell_type": "markdown",
   "metadata": {},
   "source": [
    "$$ \n",
    "\\displaystyle \\boldsymbol{q}_i = \n",
    "\\begin{pmatrix} \n",
    "\\displaystyle O_x - r \\cos\\Bigl(\\arctan\\frac{O_y}{O_x} - \\frac{i}{K_0} \\theta \\Bigr) \\\\\n",
    "\\displaystyle O_y - r \\sin\\Bigl(\\arctan\\frac{O_y}{O_x} - \\frac{i}{K_0} \\theta \\Bigr) \\\\\n",
    "\\end{pmatrix} \n",
    "\\qquad\\qquad\\text{(1)}\n",
    "$$"
   ]
  },
  {
   "cell_type": "markdown",
   "metadata": {},
   "source": [
    "$K_0 \\leq i \\leq (K_0 + K_1)$の場合、  "
   ]
  },
  {
   "cell_type": "markdown",
   "metadata": {},
   "source": [
    "$$ \n",
    "\\displaystyle \\boldsymbol{q}_i = \n",
    "\\begin{pmatrix} \n",
    "\\displaystyle q_{K_0,x} \\\\\n",
    "\\displaystyle q_{K_0,y} + \\frac{i - K_0}{K_1} S \\\\\n",
    "\\end{pmatrix}\n",
    "\\qquad\\qquad\\text{(2)}\n",
    "$$"
   ]
  },
  {
   "cell_type": "markdown",
   "metadata": {},
   "source": [
    "$(K_0 + K_1) \\leq i \\leq (K_0 + K_1 + K_2)$の場合、 "
   ]
  },
  {
   "cell_type": "markdown",
   "metadata": {},
   "source": [
    "$$ \n",
    "\\displaystyle \\boldsymbol{q}_i = \n",
    "\\begin{pmatrix} \n",
    "\\displaystyle q_{(K_0 + K_1),x} + O_x - r\\cos\\Bigl(\\arctan\\frac{O_y}{O_x} + \\frac{i - K_0 - K_1 - K_2}{K_2} \\theta \\Bigr) - W\\cos\\psi \\\\\n",
    "\\displaystyle q_{(K_0 + K_1),y} + O_y - r\\sin\\Bigl(\\arctan\\frac{O_y}{O_x} + \\frac{i - K_0 - K_1 - K_2}{K_2} \\theta \\Bigr) - W\\sin\\psi \\\\\n",
    "\\end{pmatrix} \n",
    "\\qquad\\qquad\\text{(3)}\n",
    "$$"
   ]
  },
  {
   "cell_type": "markdown",
   "metadata": {},
   "source": [
    "$(K_0 + K_1 + K_2) \\leq i \\leq (K_0 + K_1 + K_2 + K_3)$の場合、 "
   ]
  },
  {
   "cell_type": "markdown",
   "metadata": {},
   "source": [
    "$$ \n",
    "\\displaystyle \\boldsymbol{q}_i = \n",
    "\\begin{pmatrix} \n",
    "\\displaystyle q_{(K_0 + K_1 + K_2),x} \\\\\n",
    "\\displaystyle q_{(K_0 + K_1 + K_2),y} - \\frac{i - K_0 - K_1 - K_2}{K_3} S \\\\\n",
    "\\end{pmatrix} \n",
    "\\qquad\\qquad\\text{(4)}\n",
    "$$"
   ]
  },
  {
   "cell_type": "code",
   "execution_count": 9,
   "metadata": {},
   "outputs": [],
   "source": [
    "#円弧スラットの領域境界の分割要素の始点の位置ベクトル\n",
    "def position_vector_curve_qd(L, K, O, r, theta, A, B, C, D, Ad, Bd, Cd, Dd):\n",
    "\n",
    "    qd = np.empty((len(K), max(K) + 1, 2), dtype=object)\n",
    "\n",
    "    for k in range(len(K)):\n",
    "        for i in range(K[k] + 1):\n",
    "            if k == 0: #A-B間\n",
    "                if O[0] >= A[0]: pns = - 1.\n",
    "                elif O[0] < A[0]: pns = 1.\n",
    "\n",
    "                qd[k][i] = [O[0] + pns * r * np.cos((np.arctan(O[1] / O[0])) - np.deg2rad(i / K[0] * theta)), \n",
    "                            O[1] + pns * r * np.sin((np.arctan(O[1] / O[0])) - np.deg2rad(i / K[0] * theta))] #式(1)\n",
    "            \n",
    "            elif k == 1: #B-C間\n",
    "                if all(B == Bd): sp = qd[0][K[0]]\n",
    "                else: sp = Bd\n",
    "\n",
    "                qd[k][i] = [sp[0], \n",
    "                            sp[1] + i / K[1] * L.S] #式(2)\n",
    "                \n",
    "            elif k == 2: #C-D間\n",
    "                if all(C == Cd): sp = qd[1][K[1]]\n",
    "                else: sp = C\n",
    "\n",
    "                if O[0] >= A[0]: pns = - 1.\n",
    "                elif O[0] < A[0]: pns = 1.\n",
    "\n",
    "                qd[k][i] = [sp[0] + O[0] + pns * r * np.cos((np.arctan(O[1] / O[0])) + \\\n",
    "                            np.deg2rad((i - K[2]) / K[2] * theta)) - L.W * np.cos(np.deg2rad(L.psi)), \n",
    "                            sp[1] + O[1] + pns * r * np.sin((np.arctan(O[1] / O[0])) + \\\n",
    "                            np.deg2rad((i - K[2]) / K[2] * theta)) - L.W * np.sin(np.deg2rad(L.psi))] #式(3)\n",
    "                \n",
    "            elif k == 3: #D-A間\n",
    "                if all(D == Dd): sp = qd[2][K[2]]\n",
    "                else: sp = Dd\n",
    "\n",
    "                qd[k][i] = [sp[0], \n",
    "                            sp[1] - i / K[3] * L.S] #式(4)\n",
    "\n",
    "    return qd"
   ]
  },
  {
   "cell_type": "code",
   "execution_count": 10,
   "metadata": {},
   "outputs": [],
   "source": [
    "#領域内・外点の判断(回転角で判断すべきか？？)\n",
    "def position_specific_qd(L, K, qd, A, B, C, D, Ad, Bd, Cd, Dd):\n",
    "    \n",
    "    out_pt = np.zeros(len(qd), dtype=int)\n",
    "    in_pt = np.zeros(len(qd), dtype=int) \n",
    "        \n",
    "    for k in range(len(K)):\n",
    "        for i in range(K[k] + 1):\n",
    "            if k == 0: #A-B間\n",
    "                if all(A != Ad) and qd[k][i][0] < B[0]:\n",
    "                    if L.d > 0 and qd[k][i][1] < Ad[1]:\n",
    "                        out_pt[0] += 1 #点A-A'間の領域外点\n",
    "                    elif L.d < 0 and qd[k][i][1] > Ad[1]:\n",
    "                        in_pt[0] += 1  #点A-A'間の領域内点\n",
    "\n",
    "                if all(B != Bd) and qd[k][i][0] > A[0]:\n",
    "                    if L.d > 0 and qd[k][i][1] < Bd[1]:\n",
    "                        out_pt[1] += 1 #点B-B'間の領域外点\n",
    "                    elif L.d < 0 and qd[k][i][1] > Bd[1]:\n",
    "                        in_pt[1] += 1  #点B-B'間の領域内点\n",
    "\n",
    "            if k == 2: #C-D間\n",
    "                if all(C != Cd) and qd[k][i][0] > D[0]:\n",
    "                    if L.d > 0 and qd[k][i][1] < Cd[1]:\n",
    "                        in_pt[2] += 1 #点C-C'間の領域内点\n",
    "                    elif L.d < 0 and qd[k][i][1] > Cd[1]:\n",
    "                        out_pt[2] += 1  #点C-C'間の領域外点 \n",
    "                    \n",
    "                if all(D != Dd) and qd[k][i][0] < C[0]:\n",
    "                    if L.d > 0 and qd[k][i][1] < Dd[1]:\n",
    "                        in_pt[3] += 1 #点D-D'間の領域内点\n",
    "                    elif L.d < 0 and qd[k][i][1] > Dd[1]:\n",
    "                        out_pt[3] += 1  #点D-D'間の領域外点\n",
    "                    \n",
    "    return out_pt, in_pt"
   ]
  },
  {
   "cell_type": "code",
   "execution_count": 11,
   "metadata": {},
   "outputs": [],
   "source": [
    "#領域外点の削除・追加\n",
    "def position_vector_curve_q(L, K, qd, A, B, C, D, Ad, Bd, Cd, Dd, out_pt, in_pt):\n",
    "    \n",
    "    Kn = np.array([in_pt[0], K[0] - (out_pt[0] + out_pt[1]), in_pt[1], K[1], \n",
    "                   in_pt[2], K[2] - (out_pt[2] + out_pt[3]), in_pt[3], K[3] + 1])\n",
    "\n",
    "    \n",
    "    if out_pt[0] != 0 or out_pt[1] != 0: Kn[1] = K[0] + 1 - (out_pt[0] + out_pt[1])\n",
    "    if out_pt[2] != 0 or out_pt[3] != 0: Kn[6] = K[2] + 1 - (out_pt[2] + out_pt[3])\n",
    "        \n",
    "    sKn =np.zeros(len(Kn), dtype=int)\n",
    "    for i in range(len(Kn)):\n",
    "        sKn[i] = np.sum(Kn[:i+1])\n",
    "\n",
    "    qn = np.empty((sKn[len(Kn)-1], 2), dtype=object) \n",
    "    \n",
    "    for i in range(sKn[len(Kn)-1]):\n",
    "        if i < sKn[0]: #d<0でなければ存在しない\n",
    "            qn[i] = \" \"\n",
    "            \n",
    "        elif i < sKn[1]: #A-B間\n",
    "            if out_pt[0] == 0:\n",
    "                qn[i] = qd[0, i] \n",
    "            else:\n",
    "                if i == 0:\n",
    "                    qn[i] = Ad\n",
    "                else:\n",
    "                    qn[i] = qd[0, i - 1 + out_pt[0]]\n",
    "            \n",
    "        elif i < sKn[2]: #d<0でなければ存在しない\n",
    "            qn[i] = \" \"\n",
    "            \n",
    "        elif i < sKn[3]: #B-C間\n",
    "            qn[i] = qd[1, i - sKn[2]]\n",
    "            \n",
    "        elif i < sKn[4]: #上スラット上面右\n",
    "            if in_pt[2] != 0:\n",
    "                if i - sKn[3] == 0:\n",
    "                    qn[i] = Cd\n",
    "                else:\n",
    "                    qn[i] = qd[2, sKn[4] - i]\n",
    "            \n",
    "        elif i < sKn[5]: #C-D間\n",
    "            qn[i] = qd[2, i - sKn[4]]\n",
    "            \n",
    "        elif i < sKn[6]: #上スラット上面左\n",
    "            if in_pt[3] != 0:               \n",
    "                qn[i] = qd[2, sKn[5] + Kn[5] - i]\n",
    "            \n",
    "        elif i < sKn[7]: #D-A間\n",
    "            qn[i] = qd[3, i - sKn[6]]\n",
    "            \n",
    "    for i in range(sKn[len(Kn)-1]):\n",
    "        qn[i] -= Ad\n",
    "\n",
    "    return qn, sKn"
   ]
  },
  {
   "cell_type": "markdown",
   "metadata": {},
   "source": [
    "#### 境界分割要素の方向ベクトル  \n",
    "\n",
    "領域境界分割要素の方向ベクトル$\\boldsymbol{v}_i$は、次のように表すことができる。 "
   ]
  },
  {
   "cell_type": "markdown",
   "metadata": {},
   "source": [
    "$$\n",
    "\\begin{eqnarray}\n",
    " &\\displaystyle \\boldsymbol{v}_i = \\boldsymbol{q}_{i+1} - \\boldsymbol{q}_i& \\qquad\\qquad\\text{(1)} \\nonumber\\\\\n",
    "\\end{eqnarray}\n",
    "$$"
   ]
  },
  {
   "cell_type": "code",
   "execution_count": 12,
   "metadata": {},
   "outputs": [],
   "source": [
    "#領域境界の分割要素の方向ベクトル\n",
    "def direction_vector(q, sK):\n",
    "    \n",
    "    v = np.empty((sK[len(sK) - 1] - 1, 2), dtype=object)\n",
    "    for i in range(sK[len(sK) - 1] - 1):\n",
    "        v[i] = q[i + 1] - q[i]\n",
    "        \n",
    "    return v"
   ]
  },
  {
   "cell_type": "markdown",
   "metadata": {},
   "source": [
    "#### Example"
   ]
  },
  {
   "cell_type": "code",
   "execution_count": 13,
   "metadata": {},
   "outputs": [
    {
     "data": {
      "image/png": "[encoded data removed]",
      "text/plain": [
       "<matplotlib.figure.Figure at 0x90cd278>"
      ]
     },
     "metadata": {},
     "output_type": "display_data"
    },
    {
     "name": "stdout",
     "output_type": "stream",
     "text": [
      "0.09418311086080002 0.0399536128\n"
     ]
    }
   ],
   "source": [
    "if __name__ == '__main__':\n",
    "    #hbl_input( W, d, S, REFUS, REFUD, REFLS, REFLD, psi, phi )\n",
    "    hbl = hbl_input( 25., 5., 20., 0.8, 0.8, 0.2, 0.2, -70., 30. )#d<0未考慮, dが大きすぎると下のスラットを貫通する場合がある\n",
    "    #hbl = hbl_input( 25., 0., 20., 0.8, 0.8, 0.2, 0.2, 70., 30. )\n",
    "\n",
    "    # W：スラット幅 (mm)\n",
    "    # d：スラット高さ (mm) \n",
    "    # S：スラット間隔 (mm) \n",
    "    # REFUS：スラット材上面の日射反射率（鏡面反射成分）\n",
    "    # REFUD：スラット材上面の日射反射率（拡散反射成分）\n",
    "    # REFLS：スラット材下面の日射反射率（鏡面反射成分）\n",
    "    # REFLD：スラット材下面の日射反射率（拡散反射成分）\n",
    "    # psi：スラット角 (°) \n",
    "    # phi：プロファイル角 (°)\n",
    "\n",
    "    K = np.array([10, 10, 10, 10])       #領域境界の微小線分要素分割数(各境界)\n",
    "    M = 100                              #入射開口の微小線分要素分割数\n",
    "    lmax = 100                           #最大反射回数\n",
    "\n",
    "    A = slat_edge_position(hbl)[0]\n",
    "    B = slat_edge_position(hbl)[1]\n",
    "    C = slat_edge_position(hbl)[2]\n",
    "    D = slat_edge_position(hbl)[3]\n",
    "    E = slat_edge_position(hbl)[4]\n",
    "    F = slat_edge_position(hbl)[5]\n",
    "    \n",
    "    O = slat_circle(hbl, A, B, E)[0]\n",
    "    r = slat_circle(hbl, A, B, E)[1]\n",
    "    theta = slat_circle(hbl, A, B, E)[2]\n",
    "\n",
    "    Ad = slat_additional_position(hbl, O, r, A, B)[0]\n",
    "    Bd = slat_additional_position(hbl, O, r, A, B)[1]\n",
    "    Cd = slat_additional_position(hbl, O, r, A, B)[2]\n",
    "    Dd = slat_additional_position(hbl, O, r, A, B)[3]\n",
    "\n",
    "    if hbl.d == 0: \n",
    "        q = position_vector_flat_q(hbl, K)[0]\n",
    "        sK = position_vector_flat_q(hbl, K)[1]\n",
    "    elif hbl.d != 0:\n",
    "        qd = position_vector_curve_qd(hbl, K, O, r, theta, A, B, C, D, Ad, Bd, Cd, Dd)\n",
    "\n",
    "        out_pt = position_specific_qd(hbl, K, qd, A, B, C, D, Ad, Bd, Cd, Dd)[0]\n",
    "        in_pt = position_specific_qd(hbl, K, qd, A, B, C, D, Ad, Bd, Cd, Dd)[1]\n",
    "\n",
    "        q = position_vector_curve_q(hbl, K, qd, A, B, C, D, Ad, Bd, Cd, Dd, out_pt, in_pt)[0]\n",
    "        sK = position_vector_curve_q(hbl, K, qd, A, B, C, D, Ad, Bd, Cd, Dd, out_pt, in_pt)[1]\n",
    "        \n",
    "    v = direction_vector(q, sK)\n",
    "    \n",
    "    tau_s = specular_reflection(hbl, M, lmax, sK)[0]\n",
    "    rho_s = specular_reflection(hbl, M, lmax, sK)[1]\n",
    "    \n",
    "    p = specular_reflection(hbl, M, lmax, sK)[2]\n",
    "    s = specular_reflection(hbl, M, lmax, sK)[3]\n",
    "    \n",
    "    l = specular_reflection(hbl, M, lmax, sK)[4]\n",
    "    \n",
    "    #グラフの描画\n",
    "    gx = np.empty((M, lmax, 2), dtype=object)\n",
    "    gy = np.empty((M, lmax, 2), dtype=object)\n",
    "    for ll in range(l):\n",
    "        for m in range(0, M, 2):\n",
    "            gx[m][ll] = [p[m][ll][0], p[m][ll + 1][0]]\n",
    "            gy[m][ll] = [p[m][ll][1], p[m][ll + 1][1]]      \n",
    "    \n",
    "    \n",
    "    #l = 2\n",
    "    ax = np.empty(l, dtype = np.object)\n",
    "    fig = plt.figure(figsize = (15, 7.5 * ((l + 1) // 2)))\n",
    "    plt.style.use('ggplot')\n",
    "\n",
    "    for ll in range(l-1):   \n",
    "        ax[ll] = fig.add_subplot((l+1) // 2, 2, ll + 1)\n",
    "        ax[ll].set_title('Ray-' + str(ll))\n",
    "        ax[ll].plot(q[:, 0], q[:, 1], color='k')\n",
    "        ax[ll].scatter(q[:, 0], q[:, 1], color='k')\n",
    "\n",
    "        ax[ll].scatter(A[0]-Ad[0], A[1]-Ad[1], color='b')\n",
    "        ax[ll].scatter(B[0]-Ad[0], B[1]-Ad[1], color='r')\n",
    "        ax[ll].scatter(C[0]-Ad[0], C[1]-Ad[1], color='r')\n",
    "        ax[ll].scatter(D[0]-Ad[0], D[1]-Ad[1], color='b')\n",
    "        ax[ll].scatter(Ad[0]-Ad[0], Ad[1]-Ad[1], color='b')\n",
    "        ax[ll].scatter(Bd[0]-Ad[0], Bd[1]-Ad[1], color='r')\n",
    "        ax[ll].scatter(Cd[0]-Ad[0], Cd[1]-Ad[1], color='r')\n",
    "        ax[ll].scatter(Dd[0]-Ad[0], Dd[1]-Ad[1], color='b')\n",
    "\n",
    "        for m in range(M):\n",
    "            ax[ll].plot(gx[m][ll], gy[m][ll], color='C0', linewidth=0.5)\n",
    "        #ax.scatter(p[:, 1, 0], p[:, 1, 1], color='C0')\n",
    "        plt.axis('equal')\n",
    "\n",
    "    plt.show()\n",
    "    \n",
    "    #print(sK)\n",
    "    #print(q)\n",
    "    #print(v)\n",
    "    print(tau_s, rho_s)"
   ]
  },
  {
   "cell_type": "code",
   "execution_count": null,
   "metadata": {},
   "outputs": [],
   "source": []
  }
 ],
 "metadata": {
  "kernelspec": {
   "display_name": "Python 3",
   "language": "python",
   "name": "python3"
  },
  "language_info": {
   "codemirror_mode": {
    "name": "ipython",
    "version": 3
   },
   "file_extension": ".py",
   "mimetype": "text/x-python",
   "name": "python",
   "nbconvert_exporter": "python",
   "pygments_lexer": "ipython3",
   "version": "3.6.4"
  }
 },
 "nbformat": 4,
 "nbformat_minor": 2
}
