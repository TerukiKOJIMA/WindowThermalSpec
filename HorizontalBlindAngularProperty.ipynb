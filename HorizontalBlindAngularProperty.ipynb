{
 "cells": [
  {
   "cell_type": "code",
   "execution_count": 1,
   "metadata": {
    "collapsed": true
   },
   "outputs": [],
   "source": [
    "from collections import namedtuple\n",
    "import csv\n",
    "import math\n",
    "import numpy as np\n",
    "import matplotlib.pyplot as plt"
   ]
  },
  {
   "cell_type": "markdown",
   "metadata": {},
   "source": [
    "# 横型ブラインドの斜入射特性を計算するモジュール"
   ]
  },
  {
   "cell_type": "markdown",
   "metadata": {},
   "source": [
    "スラット材の形状とスラットの日射反射率から任意のプロファイル角における横型ブラインドの日射透過率及び日射反射率を計算する。"
   ]
  },
  {
   "cell_type": "markdown",
   "metadata": {},
   "source": [
    "### 入力値  \n",
    "\n",
    "$ W $ ：スラット幅 (m)  \n",
    "$ d $ ：スラット高さ (m)  \n",
    "$ S $ ：スラット間隔 (m)  \n",
    "$ \\rho_{upper,S} $：スラット材上面の日射反射率（鏡面反射成分）  \n",
    "$ \\rho_{upper,D} $：スラット材上面の日射反射率（拡散反射成分）  \n",
    "$ \\rho_{lower,S} $：スラット材下面の日射反射率（鏡面反射成分）  \n",
    "$ \\rho_{lower,D} $：スラット材下面の日射反射率（拡散反射成分）  \n",
    "$ \\psi $：スラット角 (°)  \n",
    "$ \\phi $：プロファイル角 (°)  "
   ]
  },
  {
   "cell_type": "markdown",
   "metadata": {},
   "source": [
    "### 出力値\n",
    "$ \\tau_{\\phi,f} $ ：横型ブラインドの正面側からの入射光に対するプロファイル角$\\phi$の日射透過率  \n",
    "$ \\tau_{\\phi,b} $ ：横型ブラインドの背面側からの入射光に対するプロファイル角$\\phi$の日射透過率  \n",
    "$ \\rho_{\\phi,f} $ ：横型ブラインドの正面側からの入射光に対するプロファイル角$\\phi$の日射反射率  \n",
    "$ \\rho_{\\phi,b} $ ：横型ブラインドの背面側からの入射光に対するプロファイル角$\\phi$の日射反射率"
   ]
  },
  {
   "cell_type": "markdown",
   "metadata": {},
   "source": [
    "### 計算方法  \n",
    "\n",
    "#### データ構造と値の範囲  \n",
    "\n",
    "$ W $・$ d $・$ S $・$ \\rho_{upper,S} $・$ \\rho_{upper,D} $・$ \\rho_{lower,S} $・$ \\rho_{lower,D} $・$ \\psi $・$ \\phi $の組み合わせをクラス『hbl＿input』と定義する。  \n",
    "$ \\rho_{upper,S} $・$ \\rho_{upper,D} $・$ \\rho_{lower,S} $・$ \\rho_{lower,D} $の値は0.0以上1.0以下の値をとる。  \n",
    "$ \\psi $・$ \\phi $の値は-90°以上90°以下の値をとる。  "
   ]
  },
  {
   "cell_type": "code",
   "execution_count": 2,
   "metadata": {
    "collapsed": true
   },
   "outputs": [],
   "source": [
    "class hbl_input():\n",
    "    def __init__( self, W, d, S, REFUS, REFUD, REFLS, REFLD, psi, phi ):\n",
    "        self.W = W\n",
    "        self.d = d\n",
    "        self.S = S\n",
    "        self.REFUS = REFUS\n",
    "        self.REFUD = REFUD\n",
    "        self.REFLS = REFLS\n",
    "        self.REFLD = REFLD\n",
    "        self.psi = psi\n",
    "        self.phi = phi\n",
    "\n",
    "# W：スラット幅 (mm)\n",
    "# d：スラット高さ (mm) \n",
    "# S：スラット間隔 (mm) \n",
    "# REFUS：スラット材上面の日射反射率（鏡面反射成分）\n",
    "# REFUD：スラット材上面の日射反射率（拡散反射成分）\n",
    "# REFLS：スラット材下面の日射反射率（鏡面反射成分）\n",
    "# REFLD：スラット材下面の日射反射率（拡散反射成分）\n",
    "# psi：スラット角 (°) \n",
    "# phi：プロファイル角 (°)"
   ]
  },
  {
   "cell_type": "markdown",
   "metadata": {},
   "source": [
    "$ \\begin{align} Q_{m,(0)} = I･\\cos \\phi･\\Delta L_{m} \\end{align}$ ････････････････････････････････････････････ (1)"
   ]
  },
  {
   "cell_type": "markdown",
   "metadata": {},
   "source": [
    "### 1. 鏡面反射"
   ]
  },
  {
   "cell_type": "markdown",
   "metadata": {},
   "source": [
    "#### 光線の方向ベクトルの計算  \n",
    "\n",
    "（参考：JIS A 2103：2014 附属書C ブラインドの光学特性の計算方法）  \n",
    "\n",
    "光線の方向ベクトル$ \\boldsymbol{s}_{(l)} $の計算式  \n",
    "$ \\begin{align}\\boldsymbol{s}_{(l)} = \\boldsymbol{s}_{(l-1)} + 2 \\frac{\\boldsymbol{s}_{(l-1)}･\\boldsymbol{v}_{(i)}}{\\bigl|\\boldsymbol{v}_{(i)}\\bigr|} \\frac{\\boldsymbol{v}_{(i)}}{\\bigl|\\boldsymbol{v}_{(i)}\\bigr|}\\end{align}$ ･･････････････････････ (C.5)  \n",
    "\n",
    "（式(C.5)の補足説明）  \n",
    "\n",
    "$ \\begin{align}c = \\bigl|\\boldsymbol{s}_{(l-1)}\\bigr| \\cos \\theta \\end{align}$ ･･････････････････････ (1)  \n",
    "\n",
    "内積の関係より、  \n",
    "\n",
    "$ \\begin{align}\\cos \\theta = \\frac{\\boldsymbol{s}_{(l-1)}･\\boldsymbol{v}_{(i)}}{\\bigl|\\boldsymbol{s}_{(l-1)}\\bigr|\\bigl|\\boldsymbol{v}_{(i)}\\bigr|}\\end{align}$ ･･････････････････････ (2)  \n",
    "\n",
    "式(1)と式(2)より、\n",
    "\n",
    "$ \\begin{align}c = \\frac{\\boldsymbol{s}_{(l-1)}･\\boldsymbol{v}_{(i)}}{\\bigl|\\boldsymbol{v}_{(i)}\\bigr|} \\end{align}$ ･･････････････････････ (3)  \n",
    "\n",
    "次に、  \n",
    "\n",
    "$ \\begin{align}\\boldsymbol{s}_{(l)} = -\\boldsymbol{s}_{(l-1)} + 2c\\frac{\\boldsymbol{v}_{(i)}}{\\bigl|\\boldsymbol{v}_{(i)}\\bigr|}\\end{align}$ ･･････････････････････ (4)  \n",
    "\n",
    "式(3)と式(4)より、  \n",
    "\n",
    "$ \\begin{align}\\boldsymbol{s}_{(l)} = \\boldsymbol{s}_{(l-1)} + 2 \\frac{\\boldsymbol{s}_{(l-1)}･\\boldsymbol{v}_{(i)}}{\\bigl|\\boldsymbol{v}_{(i)}\\bigr|} \\frac{\\boldsymbol{v}_{(i)}}{\\bigl|\\boldsymbol{v}_{(i)}\\bigr|}\\end{align}$ ･･････････････････････ (5)  \n",
    "\n",
    "![image3.png][attached1]\n",
    "[attached1]:img\\image3.png  "
   ]
  },
  {
   "cell_type": "code",
   "execution_count": 9,
   "metadata": {},
   "outputs": [
    {
     "name": "stdout",
     "output_type": "stream",
     "text": [
      "0.0512 0.5056\n"
     ]
    },
    {
     "data": {
      "image/png": "[encoded data removed]",
      "text/plain": [
       "<matplotlib.figure.Figure at 0x21526052d30>"
      ]
     },
     "metadata": {},
     "output_type": "display_data"
    }
   ],
   "source": [
    "#1\n",
    "\n",
    "S = 20.                              #スラット間隔(mm)\n",
    "W = 25.                              #スラット幅(mm)\n",
    "d = 2.                               #スラット高さ(mm)\n",
    "psi = 45.                            #スラット角(°)\n",
    "rho_upper = 0.8                      #スラット材上面の反射率(鏡面)\n",
    "rho_lower = 0.2                      #スラット材下面の反射率(鏡面)\n",
    "phi = 30.                            #プロファイル角(°)\n",
    "\n",
    "M = 100                              #入射開口の微小線分要素分割数\n",
    "K = np.array([10, 10, 10, 10])       #領域境界の微小線分要素分割数(各境界)\n",
    "Kall = np.sum(K)                     #領域境界の微小線分要素分割数(全境界)\n",
    "L = 100                              #最大反射回数\n",
    "\n",
    "#スラット高さがある場合のスラット円弧の計算\n",
    "if d != 0:\n",
    "    circle = np.empty((2, 3, 2), dtype=object)\n",
    "    circle[0][0] = [0., 0.]                              #点A\n",
    "\n",
    "    circle[0][1] = [W * np.cos(np.deg2rad(psi)), \n",
    "                    W * np.sin(np.deg2rad(psi))]       #点B\n",
    "\n",
    "    circle[0][2] = [((W / 2) ** 2 + d ** 2) ** 0.5 * np.cos(np.arctan(d / (W / 2)) + np.deg2rad(psi)),\n",
    "                    ((W / 2) ** 2 + d ** 2) ** 0.5 * np.sin(np.arctan(d / (W / 2)) + np.deg2rad(psi))]   #点F\n",
    "\n",
    "    a = np.empty((3, 3), dtype=object)\n",
    "    b = np.empty((3), dtype=object)\n",
    "    x = np.empty((3), dtype=object)\n",
    "\n",
    "    a[:, 0] = circle[0][:, 0]\n",
    "    a[:, 1] = circle[0][:, 1]\n",
    "    a[:, 2] = 1.\n",
    "    b = -(circle[0][:, 0] ** 2. + circle[0][:, 1] ** 2.)\n",
    "\n",
    "    a = a.astype(np.float64)\n",
    "    b = b.astype(np.float64)\n",
    "\n",
    "    x = np.linalg.solve(a,b)\n",
    "\n",
    "    r = ((x[0] / 2) ** 2 + (x[1] / 2) ** 2 - x[2]) ** 0.5\n",
    "\n",
    "    circle_o = [r * np.cos(np.deg2rad(90 - psi) - 2 * np.arctan(d / (W / 2))),\n",
    "                -r * np.sin(np.deg2rad(90 - psi) - 2 * np.arctan(d / (W / 2)))]\n",
    "\n",
    "    circle_theta = np.rad2deg(4 * np.arctan(d / (W / 2)))\n",
    "\n",
    "#領域境界の分割要素の始点の位置ベクトル\n",
    "q = np.empty((Kall + 1, 2), dtype=object)\n",
    "for i in range(Kall + 1):\n",
    "    if d == 0: #平板\n",
    "        if i <= K[0]:                            #A-B間\n",
    "            q[i] = [W / K[0] * i * np.cos(np.deg2rad(psi)), \n",
    "                    W / K[0] * i * np.sin(np.deg2rad(psi))]\n",
    "        elif i <= (K[0] + K[1]):                 #B-C間\n",
    "            q[i] = [q[K[0]][0], \n",
    "                    q[K[0]][1] + S / K[1] * (i - K[0])]\n",
    "        elif i <= (K[0] + K[1] + K[2]):          #C-D間\n",
    "            q[i] = [q[K[0] + K[1]][0] - W / K[2] * (i - K[0] - K[1]) * np.cos(np.deg2rad(psi)), \n",
    "                    q[K[0] + K[1]][1] - W / K[2] * (i - K[0] - K[1]) * np.sin(np.deg2rad(psi))]\n",
    "        elif i <= (K[0] + K[1] + K[2] + K[3]):    #D-A間\n",
    "            q[i] = [q[K[0] + K[1] + K[2]][0], \n",
    "                    q[K[0] + K[1] + K[2]][1] - S / K[3] * (i - K[0] - K[1] - K[2])]\n",
    "    elif d != 0: #円弧\n",
    "        if i <= K[0]:                            #A-B間\n",
    "            q[i] = [circle_o[0] - r * np.cos((np.arctan(circle_o[1] / circle_o[0])) - np.deg2rad(circle_theta / K[0] * i)), \n",
    "                    circle_o[1] - r * np.sin((np.arctan(circle_o[1] / circle_o[0])) - np.deg2rad(circle_theta / K[0] * i))]\n",
    "        elif i <= (K[0] + K[1]):                 #B-C間\n",
    "            q[i] = [q[K[0]][0], \n",
    "                    q[K[0]][1] + S / K[1] * (i - K[0])]\n",
    "        elif i <= (K[0] + K[1] + K[2]):          #C-D間\n",
    "            q[i] = [q[K[0] + K[1]][0] + \\\n",
    "                    circle_o[0] - r * np.cos((np.arctan(circle_o[1] / circle_o[0])) - np.deg2rad(circle_theta) + \\\n",
    "                    np.deg2rad(circle_theta / K[2] * (i - K[0] - K[1]))) - W * np.cos(np.deg2rad(psi)), \n",
    "                    q[K[0] + K[1]][1] + \\\n",
    "                    circle_o[1] - r * np.sin((np.arctan(circle_o[1] / circle_o[0])) - np.deg2rad(circle_theta) + \\\n",
    "                    np.deg2rad(circle_theta / K[2] * (i - K[0] - K[1]))) - W * np.sin(np.deg2rad(psi))]\n",
    "        elif i <= (K[0] + K[1] + K[2] + K[3]):    #D-A間\n",
    "            q[i] = [q[K[0] + K[1] + K[2]][0], \n",
    "                    q[K[0] + K[1] + K[2]][1] - S / K[3] * (i - K[0] - K[1] - K[2])]\n",
    "        \n",
    "#領域境界の分割要素の方向ベクトル\n",
    "v = np.empty((Kall, 2), dtype=object)\n",
    "for i in range(Kall):\n",
    "    v[i] = [q[i+1][0] - q[i][0], q[i+1][1] - q[i][1]]\n",
    "\n",
    "l = 0\n",
    "p = np.empty((M, L, 2), dtype=object)\n",
    "s = np.empty((M, L, 2), dtype=object)\n",
    "ipi = np.empty((M, L), dtype=object)\n",
    "rc_upper = np.zeros(M)\n",
    "rc_lower = np.zeros(M)\n",
    "dir_ray = np.empty(M)\n",
    "while l <= 10 and not (s[:,l-1] == 0).all():\n",
    "    for m in range(M):\n",
    "        if l == 0:\n",
    "            #日射の始点の位置ベクトル(0回目)\n",
    "            p[m][l] = [0, S / M * (m + 0.5)]            \n",
    "            #日射の方向ベクトル(0回目)\n",
    "            s[m][l] = [np.cos(np.deg2rad(phi)), -np.sin(np.deg2rad(phi))]\n",
    "        elif l > 0:\n",
    "            #日射の方向ベクトル(1回目以降)\n",
    "            if (K[0] <= ipi[m][l-1] and ipi[m][l-1] <= (K[0] + K[1])):\n",
    "                dir_ray[m] = 1 #透過\n",
    "                s[m][l] = 0\n",
    "            elif  ((K[0] + K[1] + K[2]) <= ipi[m][l-1] and ipi[m][l-1] <= Kall):\n",
    "                dir_ray[m] = 0 #反射\n",
    "                s[m][l] = 0\n",
    "            else:\n",
    "                s[m][l] = -s[m][l-1] + 2 * np.vdot(s[m][l-1], v[ipi[m][l-1]]) * v[ipi[m][l-1]] / \\\n",
    "                          (v[ipi[m][l-1]][0] ** 2. + v[ipi[m][l-1]][1] ** 2.)\n",
    "\n",
    "    for m in range(M):\n",
    "        for i in range(Kall):\n",
    "            if (s[m][l] == 0).all():\n",
    "                p[m][l + 1] = p[m][l]\n",
    "                ipi[m][l] = ipi[m][l-1]\n",
    "            else:\n",
    "                if l == 0 or (l > 0 and i != ipi[m][l-1]):\n",
    "                    deno = v[i][1] * s[m][l][0] - v[i][0] * s[m][l][1]\n",
    "                    if deno != 0:\n",
    "                        a = (v[i][0] * (p[m][l][1] - q[i][1]) - v[i][1] * (p[m][l][0] - q[i][0])) / deno\n",
    "                        b = (s[m][l][0] * (p[m][l][1] - q[i][1]) - s[m][l][1] * (p[m][l][0] - q[i][0])) / deno\n",
    "\n",
    "                        if 0 < a and 0 <= b and b < 1:\n",
    "                            p[m][l + 1] = q[i] + b * v[i]\n",
    "                            ipi[m][l] = i\n",
    "                            if 0 <= i and i <= K[0]:\n",
    "                                rc_upper[m] += 1\n",
    "                            elif (K[0] + K[1]) <= i and i <= (K[0] + K[1] + K[2]):\n",
    "                                rc_lower[m] += 1\n",
    "\n",
    "    l += 1\n",
    "\n",
    "attenuation = np.zeros(M)\n",
    "for m in range(M):\n",
    "    attenuation[m] = rho_upper ** rc_upper[m] * rho_lower ** rc_lower[m]\n",
    "\n",
    "tau_tot = 0.\n",
    "rho_tot = 0.\n",
    "for m in range(M):\n",
    "    tau_tot += attenuation[m] * dir_ray[m] / M #透過\n",
    "    rho_tot += attenuation[m] * (1 - dir_ray[m]) / M #反射\n",
    "\n",
    "print(tau_tot, rho_tot)\n",
    "\n",
    "#グラフの描画\n",
    "gx = np.empty((M, L, 2), dtype=object)\n",
    "gy = np.empty((M, L, 2), dtype=object)\n",
    "for ll in range(l):\n",
    "    for m in range(0, M, 2):\n",
    "        gx[m][ll] = [p[m][ll][0], p[m][ll + 1][0]]\n",
    "        gy[m][ll] = [p[m][ll][1], p[m][ll + 1][1]]    \n",
    "\n",
    "ax = np.empty(l, dtype = np.object) #\n",
    "fig = plt.figure(figsize = (15, 7.5 * ((l + 1) // 2))) #\n",
    "#fig = plt.figure(figsize = (10, 10))\n",
    "plt.style.use('ggplot')\n",
    "#plt.tick_params(labelsize=10)\n",
    "\n",
    "for ll in range(l-1):   \n",
    "    ax[ll] = fig.add_subplot((l+1) // 2, 2, ll + 1)\n",
    "    #ax = fig.add_subplot(1, 1, 1)\n",
    "    ax[ll].set_title('Ray-' + str(ll))\n",
    "    ax[ll].scatter(q[:, 0], q[:, 1], color='k')\n",
    "    ax[ll].plot(q[:, 0], q[:, 1], color='k')\n",
    "    for m in range(M):\n",
    "        ax[ll].plot(gx[m][ll], gy[m][ll], color='C0', linewidth=0.5)\n",
    "    #ax.scatter(p[:, 1, 0], p[:, 1, 1], color='C0')\n",
    "    plt.axis('equal')\n",
    "\n",
    "plt.show()\n"
   ]
  },
  {
   "cell_type": "markdown",
   "metadata": {},
   "source": [
    "#### 円弧スラットの微小線分要素の位置ベクトルと方向ベクトルの計算  \n",
    "\n",
    "\n",
    "円の方程式\n",
    "\n",
    "$\\begin{align}x^2 + y^2 + l_0x + l_1y + l_2 = 0\\end{align}$ ･･････････････････････ (1)  \n",
    "\n",
    "式(1)を変形すると\n",
    "\n",
    "$\\begin{align}l_0x + l_1y + l_2 = -(x^2 + y^2)\\end{align}$ ･･････････････････････ (2)  \n",
    "\n",
    "点A、点B、点Fの3点の座標を通る外接円について考える。\n",
    "\n",
    "それぞれの位置ベクトルは、次のように表すことができる。\n",
    "\n",
    "$ \n",
    "\\boldsymbol{A} = \n",
    "\\begin{pmatrix} \n",
    "0 \\\\\n",
    "0 \\\\\n",
    "\\end{pmatrix} \n",
    "$、\n",
    "$ \n",
    "\\boldsymbol{B} = \n",
    "\\begin{pmatrix} \n",
    "W\\cos\\psi \\\\\n",
    "W\\sin\\psi \\\\\n",
    "\\end{pmatrix} \n",
    "$、\n",
    "$ \n",
    "\\boldsymbol{F} = \n",
    "\\begin{pmatrix} \n",
    "\\sqrt{(0.5W)^2 + d^2} \\cos\\Bigl(\\arctan\\frac{d}{0.5W} + \\psi\\Bigl) \\\\\n",
    "\\sqrt{(0.5W)^2 + d^2} \\sin\\Bigl(\\arctan\\frac{d}{0.5W} + \\psi\\Bigl) \\\\\n",
    "\\end{pmatrix} \n",
    "$\n",
    "\n",
    "3点の位置ベクトルを式(2)に代入して連立すると\n",
    "               \n",
    "$\\begin{align}\\boldsymbol{a}･\\boldsymbol{l} = \\boldsymbol{b}\\end{align}$ ･･････････････････････ (3)\n",
    "                      \n",
    "ここで、\n",
    "\n",
    "$ \n",
    "\\boldsymbol{a} = \n",
    "\\begin{pmatrix} \n",
    "0&0&1 \\\\\n",
    "W\\cos\\psi&W\\sin\\psi&1 \\\\\n",
    "\\sqrt{(0.5W)^2 + d^2} \\cos\\Bigl(\\arctan\\frac{d}{0.5W} +\\psi\\Bigr)&\\sqrt{(0.5W)^2 + d^2} \\sin\\Bigl(\\arctan\\frac{d}{0.5W} + \\psi\\Bigr)&1 \\\\\n",
    "\\end{pmatrix} \n",
    "$\n",
    "\n",
    "\n",
    "$\n",
    "\\boldsymbol{l}\n",
    "=\n",
    "\\begin{pmatrix} \n",
    "l_0 \\\\\n",
    "l_1 \\\\\n",
    "l_2 \\\\\n",
    "\\end{pmatrix}\n",
    "$\n",
    "\n",
    "$\n",
    "\\boldsymbol{b}\n",
    "= \n",
    "\\begin{pmatrix} \n",
    "0 \\\\\n",
    "-(W\\cos\\psi^2 + \\sin\\psi^2) \\\\\n",
    "-\\Biggl(\\biggl(\\sqrt{(0.5W)^2 + d^2}\\cos\\Bigl(\\arctan\\frac{d}{0.5W} + \\psi\\Bigr)\\biggr)^2 + \n",
    "        \\biggl(\\sqrt{(0.5W)^2 + d^2}\\sin\\Bigl(\\arctan\\frac{d}{0.5W} + \\psi\\Bigr)\\biggr)^2\\Biggr) \\\\\n",
    "\\end{pmatrix} \n",
    "$  \n",
    "\n",
    "外接円の中心点Gの位置ベクトルは、次のように表すことができる。  \n",
    "\n",
    "$ \n",
    "\\boldsymbol{G} = \n",
    "\\begin{pmatrix} \n",
    "-0.5l_0 \\\\\n",
    "-0.5l_1 \\\\\n",
    "\\end{pmatrix} \n",
    "$\n",
    "\n",
    "外接円の半径$r$は、 \n",
    "\n",
    "$\\begin{align}r = \\sqrt{(-0.5l_0) ^ 2 + (-0.5l_1) ^ 2 - l_2} \\end{align}$ ･･････････････････････ (4)\n",
    "\n",
    "\n",
    "\n",
    "円弧の領域境界の微小要素の位置ベクトルは、次のように表すことができる。  \n",
    "\n",
    "$0 \\leq i \\leq K_0$の場合、  \n",
    "\n",
    "$ \n",
    "\\boldsymbol{q}_i = \n",
    "\\begin{pmatrix} \n",
    "\\boldsymbol{G}_x - r \\cos\\Bigl(\\arctan\\frac{\\boldsymbol{G}_y}{\\boldsymbol{G}_x} - \\frac{i}{K_0}\\theta\\Bigr) \\\\\n",
    "\\boldsymbol{G}_y - r \\sin\\Bigl(\\arctan\\frac{\\boldsymbol{G}_y}{\\boldsymbol{G}_x} - \\frac{i}{K_0}\\theta\\Bigr) \\\\\n",
    "\\end{pmatrix} \n",
    "$\n",
    "\n",
    "$K_0 < i \\leq (K_0 + K_1)$の場合、  \n",
    "\n",
    "$ \n",
    "\\boldsymbol{q}_i = \n",
    "\\begin{pmatrix} \n",
    "\\boldsymbol{q}_{K_0,x} \\\\\n",
    "\\boldsymbol{q}_{K_0,y} - \\frac{i - K_0}{K_1}S \\\\\n",
    "\\end{pmatrix} \n",
    "$\n",
    "\n",
    "$(K_0 + K_1) < i \\leq (K_0 + K_1 + K_2)$の場合、  \n",
    "\n",
    "$ \n",
    "\\boldsymbol{q}_i = \n",
    "\\begin{pmatrix} \n",
    "\\boldsymbol{q}_{(K_0 + K_1),x} + \\boldsymbol{G}_x - r\\cos\\Bigl(\\arctan\\frac{\\boldsymbol{G}_y}{\\boldsymbol{G}_x} + \\frac{i - K_0 - K_1 - K_2}{K_2}\\theta\\Bigr) - W\\cos\\psi \\\\\n",
    "\\boldsymbol{q}_{(K_0 + K_1),y} + \\boldsymbol{G}_y - r\\sin\\Bigl(\\arctan\\frac{\\boldsymbol{G}_y}{\\boldsymbol{G}_x} + \\frac{i - K_0 - K_1 - K_2}{K_2}\\theta\\Bigr) - W\\sin\\psi \\\\\n",
    "\\end{pmatrix} \n",
    "$\n",
    "\n",
    "$(K_0 + K_1 + K_2) < i \\leq (K_0 + K_1 + K_2 + K_3)$の場合、  \n",
    "\n",
    "$ \n",
    "\\boldsymbol{q}_i = \n",
    "\\begin{pmatrix} \n",
    "\\boldsymbol{q}_{(K_0 + K_1 + K_2),x} \\\\\n",
    "\\boldsymbol{q}_{(K_0 + K_1 + K_2),y} - \\frac{i - K_0 - K_1 - K_2}{K_3}S \\\\\n",
    "\\end{pmatrix} \n",
    "$\n"
   ]
  },
  {
   "cell_type": "code",
   "execution_count": 6,
   "metadata": {},
   "outputs": [
    {
     "name": "stdout",
     "output_type": "stream",
     "text": [
      "0.0512 0.5056\n"
     ]
    },
    {
     "data": {
      "image/png": "[encoded data removed]",
      "text/plain": [
       "<matplotlib.figure.Figure at 0x17fa8d736a0>"
      ]
     },
     "metadata": {},
     "output_type": "display_data"
    }
   ],
   "source": [
    "#2\n",
    "\n",
    "S = 20.                              #スラット間隔(mm)\n",
    "W = 25.                              #スラット幅(mm)\n",
    "d = 2.                               #スラット高さ(mm)\n",
    "psi = 45.                            #スラット角(°)\n",
    "rho_upper = 0.8                      #スラット材上面の反射率(鏡面)\n",
    "rho_lower = 0.2                      #スラット材下面の反射率(鏡面)\n",
    "phi = 30.                            #プロファイル角(°)\n",
    "\n",
    "M = 100                              #入射開口の微小線分要素分割数\n",
    "K = np.array([10, 10, 10, 10])       #領域境界の微小線分要素分割数(各境界)\n",
    "Kall = np.sum(K)                     #領域境界の微小線分要素分割数(全境界)\n",
    "L = 100                              #最大反射回数\n",
    "\n",
    "#スラット高さがある場合のスラット円弧の計算\n",
    "if d != 0:\n",
    "    cir_a = np.empty((3, 3), dtype=object)\n",
    "    cir_b = np.empty((3), dtype=object)\n",
    "    cir_l = np.empty((3), dtype=object)\n",
    "    \n",
    "    cir_a = np.array([[0., 0., 1.],\n",
    "                     [W * np.cos(np.deg2rad(psi)), W * np.sin(np.deg2rad(psi)), 1.],\n",
    "                     [((W / 2) ** 2 + d ** 2) ** 0.5 * np.cos(np.arctan(d / (W / 2)) + np.deg2rad(psi)), \n",
    "                      ((W / 2) ** 2 + d ** 2) ** 0.5 * np.sin(np.arctan(d / (W / 2)) + np.deg2rad(psi)), 1.]])\n",
    "    \n",
    "    cir_b = -(cir_a[:, 0] ** 2 + cir_a[:, 1] ** 2)\n",
    "\n",
    "    cir_a = cir_a.astype(np.float64)\n",
    "    cir_b = cir_b.astype(np.float64)\n",
    "    cir_l = np.linalg.solve(cir_a, cir_b)\n",
    "    \n",
    "    cir_r = ((cir_l[0] / 2) ** 2 + (cir_l[1] / 2) ** 2 - cir_l[2]) ** 0.5\n",
    "\n",
    "    cir_o = [cir_r * np.cos(np.deg2rad(90 - psi) - 2 * np.arctan(d / (W / 2))),\n",
    "             -cir_r * np.sin(np.deg2rad(90 - psi) - 2 * np.arctan(d / (W / 2)))]\n",
    "\n",
    "    cir_theta = np.rad2deg(4 * np.arctan(d / (W / 2)))\n",
    "    \n",
    "#領域境界の分割要素の始点の位置ベクトル\n",
    "q = np.empty((Kall + 1, 2), dtype=object)\n",
    "for i in range(Kall + 1):\n",
    "    if d == 0: #平板\n",
    "        if i <= K[0]:                            #A-B間\n",
    "            q[i] = [W / K[0] * i * np.cos(np.deg2rad(psi)), \n",
    "                    W / K[0] * i * np.sin(np.deg2rad(psi))]\n",
    "        elif i <= (K[0] + K[1]):                 #B-C間\n",
    "            q[i] = [q[K[0]][0], \n",
    "                    q[K[0]][1] + S / K[1] * (i - K[0])]\n",
    "        elif i <= (K[0] + K[1] + K[2]):          #C-D間\n",
    "            q[i] = [q[K[0] + K[1]][0] - W / K[2] * (i - K[0] - K[1]) * np.cos(np.deg2rad(psi)), \n",
    "                    q[K[0] + K[1]][1] - W / K[2] * (i - K[0] - K[1]) * np.sin(np.deg2rad(psi))]\n",
    "        elif i <= (K[0] + K[1] + K[2] + K[3]):    #D-A間\n",
    "            q[i] = [q[K[0] + K[1] + K[2]][0], \n",
    "                    q[K[0] + K[1] + K[2]][1] - S / K[3] * (i - K[0] - K[1] - K[2])]\n",
    "    elif d != 0: #円弧\n",
    "        if i <= K[0]:                            #A-B間\n",
    "            q[i] = [cir_o[0] - cir_r * np.cos((np.arctan(cir_o[1] / cir_o[0])) - np.deg2rad(cir_theta / K[0] * i)), \n",
    "                    cir_o[1] - cir_r * np.sin((np.arctan(cir_o[1] / cir_o[0])) - np.deg2rad(cir_theta / K[0] * i))]\n",
    "        elif i <= (K[0] + K[1]):                 #B-C間\n",
    "            q[i] = [q[K[0]][0], \n",
    "                    q[K[0]][1] + S / K[1] * (i - K[0])]\n",
    "        elif i <= (K[0] + K[1] + K[2]):          #C-D間\n",
    "            q[i] = [q[K[0] + K[1]][0] + cir_o[0] - cir_r * np.cos((np.arctan(cir_o[1] / cir_o[0])) + \\\n",
    "                    np.deg2rad(cir_theta / K[2] * (i - K[0] - K[1] - K[2]))) - W * np.cos(np.deg2rad(psi)), \n",
    "                    q[K[0] + K[1]][1] + cir_o[1] - cir_r * np.sin((np.arctan(cir_o[1] / cir_o[0])) + \\\n",
    "                    np.deg2rad(cir_theta / K[2] * (i - K[0] - K[1] - K[2]))) - W * np.sin(np.deg2rad(psi))]\n",
    "\n",
    "#                    cir_o[0] - cir_r * np.cos((np.arctan(cir_o[1] / cir_o[0])) - np.deg2rad(cir_theta) + \\\n",
    "#                    np.deg2rad(cir_theta / K[2] * (i - K[0] - K[1]))) - W * np.cos(np.deg2rad(psi)), \n",
    "#                    q[K[0] + K[1]][1] + \\\n",
    "#                    cir_o[1] - cir_r * np.sin((np.arctan(cir_o[1] / cir_o[0])) - np.deg2rad(cir_theta) + \\\n",
    "#                    np.deg2rad(cir_theta / K[2] * (i - K[0] - K[1]))) - W * np.sin(np.deg2rad(psi))]\n",
    "        elif i <= (K[0] + K[1] + K[2] + K[3]):    #D-A間\n",
    "            q[i] = [q[K[0] + K[1] + K[2]][0], \n",
    "                    q[K[0] + K[1] + K[2]][1] - S / K[3] * (i - K[0] - K[1] - K[2])]\n",
    "        \n",
    "#領域境界の分割要素の方向ベクトル\n",
    "v = np.empty((Kall, 2), dtype=object)\n",
    "for i in range(Kall):\n",
    "    v[i] = [q[i+1][0] - q[i][0], q[i+1][1] - q[i][1]]\n",
    "\n",
    "l = 0\n",
    "p = np.empty((M, L, 2), dtype=object)\n",
    "s = np.empty((M, L, 2), dtype=object)\n",
    "ipi = np.empty((M, L), dtype=object)\n",
    "rc_upper = np.zeros(M)\n",
    "rc_lower = np.zeros(M)\n",
    "dir_ray = np.empty(M)\n",
    "while l <= 10 and not (s[:,l-1] == 0).all():\n",
    "    for m in range(M):\n",
    "        if l == 0:\n",
    "            #日射の始点の位置ベクトル(0回目)\n",
    "            p[m][l] = [0, S / M * (m + 0.5)]            \n",
    "            #日射の方向ベクトル(0回目)\n",
    "            s[m][l] = [np.cos(np.deg2rad(phi)), -np.sin(np.deg2rad(phi))]\n",
    "        elif l > 0:\n",
    "            #日射の方向ベクトル(1回目以降)\n",
    "            if (K[0] <= ipi[m][l-1] and ipi[m][l-1] <= (K[0] + K[1])):\n",
    "                dir_ray[m] = 1 #透過\n",
    "                s[m][l] = 0\n",
    "            elif  ((K[0] + K[1] + K[2]) <= ipi[m][l-1] and ipi[m][l-1] <= Kall):\n",
    "                dir_ray[m] = 0 #反射\n",
    "                s[m][l] = 0\n",
    "            else:\n",
    "                s[m][l] = -s[m][l-1] + 2 * np.vdot(s[m][l-1], v[ipi[m][l-1]]) * v[ipi[m][l-1]] / \\\n",
    "                          (v[ipi[m][l-1]][0] ** 2. + v[ipi[m][l-1]][1] ** 2.)\n",
    "\n",
    "    for m in range(M):\n",
    "        for i in range(Kall):\n",
    "            if (s[m][l] == 0).all():\n",
    "                p[m][l + 1] = p[m][l]\n",
    "                ipi[m][l] = ipi[m][l-1]\n",
    "            else:\n",
    "                if l == 0 or (l > 0 and i != ipi[m][l-1]):\n",
    "                    deno = v[i][1] * s[m][l][0] - v[i][0] * s[m][l][1]\n",
    "                    if deno != 0:\n",
    "                        a = (v[i][0] * (p[m][l][1] - q[i][1]) - v[i][1] * (p[m][l][0] - q[i][0])) / deno\n",
    "                        b = (s[m][l][0] * (p[m][l][1] - q[i][1]) - s[m][l][1] * (p[m][l][0] - q[i][0])) / deno\n",
    "\n",
    "                        if 0 < a and 0 <= b and b < 1:\n",
    "                            p[m][l + 1] = q[i] + b * v[i]\n",
    "                            ipi[m][l] = i\n",
    "                            if 0 <= i and i <= K[0]:\n",
    "                                rc_upper[m] += 1\n",
    "                            elif (K[0] + K[1]) <= i and i <= (K[0] + K[1] + K[2]):\n",
    "                                rc_lower[m] += 1\n",
    "\n",
    "    l += 1\n",
    "\n",
    "attenuation = np.zeros(M)\n",
    "for m in range(M):\n",
    "    attenuation[m] = rho_upper ** rc_upper[m] * rho_lower ** rc_lower[m]\n",
    "\n",
    "tau_tot = 0.\n",
    "rho_tot = 0.\n",
    "for m in range(M):\n",
    "    tau_tot += attenuation[m] * dir_ray[m] / M #透過\n",
    "    rho_tot += attenuation[m] * (1 - dir_ray[m]) / M #反射\n",
    "\n",
    "print(tau_tot, rho_tot)\n",
    "\n",
    "#グラフの描画\n",
    "gx = np.empty((M, L, 2), dtype=object)\n",
    "gy = np.empty((M, L, 2), dtype=object)\n",
    "for ll in range(l):\n",
    "    for m in range(0, M, 2):\n",
    "        gx[m][ll] = [p[m][ll][0], p[m][ll + 1][0]]\n",
    "        gy[m][ll] = [p[m][ll][1], p[m][ll + 1][1]]    \n",
    "\n",
    "ax = np.empty(l, dtype = np.object) #\n",
    "fig = plt.figure(figsize = (15, 7.5 * ((l + 1) // 2))) #\n",
    "#fig = plt.figure(figsize = (10, 10))\n",
    "plt.style.use('ggplot')\n",
    "#plt.tick_params(labelsize=10)\n",
    "\n",
    "for ll in range(l-1):   \n",
    "    ax[ll] = fig.add_subplot((l+1) // 2, 2, ll + 1)\n",
    "    #ax = fig.add_subplot(1, 1, 1)\n",
    "    ax[ll].set_title('Ray-' + str(ll))\n",
    "    ax[ll].scatter(q[:, 0], q[:, 1], color='k')\n",
    "    ax[ll].plot(q[:, 0], q[:, 1], color='k')\n",
    "    for m in range(M):\n",
    "        ax[ll].plot(gx[m][ll], gy[m][ll], color='C0', linewidth=0.5)\n",
    "    #ax.scatter(p[:, 1, 0], p[:, 1, 1], color='C0')\n",
    "    plt.axis('equal')\n",
    "\n",
    "plt.show()\n"
   ]
  },
  {
   "cell_type": "code",
   "execution_count": 13,
   "metadata": {},
   "outputs": [
    {
     "name": "stdout",
     "output_type": "stream",
     "text": [
      "T+ 7.25714337867445 0.0\n",
      "0.0 0.880000000000001\n"
     ]
    },
    {
     "data": {
      "image/png": "[encoded data removed]",
      "text/plain": [
       "<matplotlib.figure.Figure at 0x9292dd8>"
      ]
     },
     "metadata": {},
     "output_type": "display_data"
    },
    {
     "name": "stdout",
     "output_type": "stream",
     "text": [
      "A= [[ 0.          0.          1.        ]\n",
      " [ 8.55050358 23.49231552  1.        ]\n",
      " [-0.42321131 13.45625848  1.        ]]\n",
      "B= [  -0.   -625.   -181.25]\n",
      "l= [-33.21743488 -14.51428676   0.        ]\n",
      "O= [16.60871743938591, 7.25714337867445]\n",
      "r= 18.125\n",
      "θ= 87.20563794540725\n"
     ]
    }
   ],
   "source": [
    "#3\n",
    "\n",
    "S = 20.                              #スラット間隔(mm)\n",
    "W = 25.                              #スラット幅(mm)\n",
    "d = 5.                               #スラット高さ(mm)\n",
    "psi = 70.                            #スラット角(°)\n",
    "rho_upper = 0.8                      #スラット材上面の反射率(鏡面)\n",
    "rho_lower = 0.2                      #スラット材下面の反射率(鏡面)\n",
    "phi = 30.                            #プロファイル角(°)\n",
    "\n",
    "M = 100                              #入射開口の微小線分要素分割数\n",
    "K = np.array([10, 10, 10, 10])       #領域境界の微小線分要素分割数(各境界)\n",
    "Kall = np.sum(K)                     #領域境界の微小線分要素分割数(全境界)\n",
    "L = 100                              #最大反射回数\n",
    "\n",
    "#スラット高さがある場合のスラット円弧の計算\n",
    "if d != 0:\n",
    "    cir_a = np.empty((3, 3), dtype=object)\n",
    "    cir_b = np.empty((3), dtype=object)\n",
    "    cir_l = np.empty((3), dtype=object)\n",
    "    \n",
    "    cir_a = np.array([[0., 0., 1.],\n",
    "                     [W * np.cos(np.deg2rad(psi)), W * np.sin(np.deg2rad(psi)), 1.],\n",
    "                     [((W / 2) ** 2 + d ** 2) ** 0.5 * np.cos(np.arctan(d / (W / 2)) + np.deg2rad(psi)), \n",
    "                      ((W / 2) ** 2 + d ** 2) ** 0.5 * np.sin(np.arctan(d / (W / 2)) + np.deg2rad(psi)), 1.]])\n",
    "    \n",
    "    cir_b = -(cir_a[:, 0] ** 2 + cir_a[:, 1] ** 2)\n",
    "\n",
    "    cir_a = cir_a.astype(np.float64)\n",
    "    cir_b = cir_b.astype(np.float64)\n",
    "    cir_l = np.linalg.solve(cir_a, cir_b)\n",
    "    \n",
    "    cir_o =[- 0.5 * cir_l[0], - 0.5 * cir_l[1]]\n",
    "    cir_r = ((- 0.5 * cir_l[0]) ** 2 + (- 0.5 * cir_l[1]) ** 2 - cir_l[2]) ** 0.5\n",
    "\n",
    "    cir_theta = np.rad2deg(4 * np.arctan(d / (W / 2)))\n",
    "\n",
    "    if psi > 0:\n",
    "        if cir_o[1] > cir_a[0][1]:\n",
    "            print(\"T+\", cir_o[1], cir_a[0][1])\n",
    "    elif psi < 0:\n",
    "        if cir_o[1] > cir_a[0][1]:\n",
    "            print(\"T-\", cir_o[1], cir_a[0][1])\n",
    "\n",
    "    \n",
    "#領域境界の分割要素の始点の位置ベクトル\n",
    "q = np.empty((Kall + 1, 2), dtype=object)\n",
    "for i in range(Kall + 1):\n",
    "    if d == 0: #平板\n",
    "        if i <= K[0]:                            #A-B間\n",
    "            q[i] = [W / K[0] * i * np.cos(np.deg2rad(psi)), \n",
    "                    W / K[0] * i * np.sin(np.deg2rad(psi))]\n",
    "        elif i <= (K[0] + K[1]):                 #B-C間\n",
    "            q[i] = [q[K[0]][0], \n",
    "                    q[K[0]][1] + S / K[1] * (i - K[0])]\n",
    "        elif i <= (K[0] + K[1] + K[2]):          #C-D間\n",
    "            q[i] = [q[K[0] + K[1]][0] - W / K[2] * (i - K[0] - K[1]) * np.cos(np.deg2rad(psi)), \n",
    "                    q[K[0] + K[1]][1] - W / K[2] * (i - K[0] - K[1]) * np.sin(np.deg2rad(psi))]\n",
    "        elif i <= (K[0] + K[1] + K[2] + K[3]):    #D-A間\n",
    "            q[i] = [q[K[0] + K[1] + K[2]][0], \n",
    "                    q[K[0] + K[1] + K[2]][1] - S / K[3] * (i - K[0] - K[1] - K[2])]\n",
    "    elif d != 0: #円弧\n",
    "        if i <= K[0]:                            #A-B間\n",
    "            q[i] = [cir_o[0] - cir_r * np.cos((np.arctan(cir_o[1] / cir_o[0])) - np.deg2rad(cir_theta / K[0] * i)), \n",
    "                    cir_o[1] - cir_r * np.sin((np.arctan(cir_o[1] / cir_o[0])) - np.deg2rad(cir_theta / K[0] * i))]\n",
    "        elif i <= (K[0] + K[1]):                 #B-C間\n",
    "            q[i] = [q[K[0]][0], \n",
    "                    q[K[0]][1] + S / K[1] * (i - K[0])]\n",
    "        elif i <= (K[0] + K[1] + K[2]):          #C-D間\n",
    "            q[i] = [q[K[0] + K[1]][0] + cir_o[0] - cir_r * np.cos((np.arctan(cir_o[1] / cir_o[0])) + \\\n",
    "                    np.deg2rad(cir_theta / K[2] * (i - K[0] - K[1] - K[2]))) - W * np.cos(np.deg2rad(psi)), \n",
    "                    q[K[0] + K[1]][1] + cir_o[1] - cir_r * np.sin((np.arctan(cir_o[1] / cir_o[0])) + \\\n",
    "                    np.deg2rad(cir_theta / K[2] * (i - K[0] - K[1] - K[2]))) - W * np.sin(np.deg2rad(psi))]\n",
    "        elif i <= (K[0] + K[1] + K[2] + K[3]):    #D-A間\n",
    "            q[i] = [q[K[0] + K[1] + K[2]][0], \n",
    "                    q[K[0] + K[1] + K[2]][1] - S / K[3] * (i - K[0] - K[1] - K[2])]\n",
    "        \n",
    "#領域境界の分割要素の方向ベクトル\n",
    "v = np.empty((Kall, 2), dtype=object)\n",
    "for i in range(Kall):\n",
    "    v[i] = [q[i+1][0] - q[i][0], q[i+1][1] - q[i][1]]\n",
    "\n",
    "l = 0\n",
    "p = np.empty((M, L, 2), dtype=object)\n",
    "s = np.empty((M, L, 2), dtype=object)\n",
    "ipi = np.empty((M, L), dtype=object)\n",
    "rc_upper = np.zeros(M)\n",
    "rc_lower = np.zeros(M)\n",
    "dir_ray = np.empty(M)\n",
    "while l <= 10 and not (s[:,l-1] == 0).all():\n",
    "    for m in range(M):\n",
    "        if l == 0:\n",
    "            #日射の始点の位置ベクトル(0回目)\n",
    "            p[m][l] = [0, S / M * (m + 0.5)]            \n",
    "            #日射の方向ベクトル(0回目)\n",
    "            s[m][l] = [np.cos(np.deg2rad(phi)), -np.sin(np.deg2rad(phi))]\n",
    "        elif l > 0:\n",
    "            #日射の方向ベクトル(1回目以降)\n",
    "            if (K[0] <= ipi[m][l-1] and ipi[m][l-1] <= (K[0] + K[1])):\n",
    "                dir_ray[m] = 1 #透過\n",
    "                s[m][l] = 0\n",
    "            elif  ((K[0] + K[1] + K[2]) <= ipi[m][l-1] and ipi[m][l-1] <= Kall):\n",
    "                dir_ray[m] = 0 #反射\n",
    "                s[m][l] = 0\n",
    "            else:\n",
    "                s[m][l] = -s[m][l-1] + 2 * np.vdot(s[m][l-1], v[ipi[m][l-1]]) * v[ipi[m][l-1]] / \\\n",
    "                          (v[ipi[m][l-1]][0] ** 2. + v[ipi[m][l-1]][1] ** 2.)\n",
    "\n",
    "    for m in range(M):\n",
    "        for i in range(Kall):\n",
    "            if (s[m][l] == 0).all():\n",
    "                p[m][l + 1] = p[m][l]\n",
    "                ipi[m][l] = ipi[m][l-1]\n",
    "            else:\n",
    "                if l == 0 or (l > 0 and i != ipi[m][l-1]):\n",
    "                    deno = v[i][1] * s[m][l][0] - v[i][0] * s[m][l][1]\n",
    "                    if deno != 0:\n",
    "                        a = (v[i][0] * (p[m][l][1] - q[i][1]) - v[i][1] * (p[m][l][0] - q[i][0])) / deno\n",
    "                        b = (s[m][l][0] * (p[m][l][1] - q[i][1]) - s[m][l][1] * (p[m][l][0] - q[i][0])) / deno\n",
    "\n",
    "                        if 0 < a and 0 <= b and b < 1:\n",
    "                            p[m][l + 1] = q[i] + b * v[i]\n",
    "                            ipi[m][l] = i\n",
    "                            if 0 <= i and i <= K[0]:\n",
    "                                rc_upper[m] += 1\n",
    "                            elif (K[0] + K[1]) <= i and i <= (K[0] + K[1] + K[2]):\n",
    "                                rc_lower[m] += 1\n",
    "\n",
    "    l += 1\n",
    "\n",
    "attenuation = np.zeros(M)\n",
    "for m in range(M):\n",
    "    attenuation[m] = rho_upper ** rc_upper[m] * rho_lower ** rc_lower[m]\n",
    "\n",
    "tau_tot = 0.\n",
    "rho_tot = 0.\n",
    "for m in range(M):\n",
    "    tau_tot += attenuation[m] * dir_ray[m] / M #透過\n",
    "    rho_tot += attenuation[m] * (1 - dir_ray[m]) / M #反射\n",
    "\n",
    "print(tau_tot, rho_tot)\n",
    "\n",
    "#グラフの描画\n",
    "gx = np.empty((M, L, 2), dtype=object)\n",
    "gy = np.empty((M, L, 2), dtype=object)\n",
    "for ll in range(l):\n",
    "    for m in range(0, M, 2):\n",
    "        gx[m][ll] = [p[m][ll][0], p[m][ll + 1][0]]\n",
    "        gy[m][ll] = [p[m][ll][1], p[m][ll + 1][1]]    \n",
    "\n",
    "ax = np.empty(l, dtype = np.object) #\n",
    "fig = plt.figure(figsize = (15, 7.5 * ((l + 1) // 2))) #\n",
    "#fig = plt.figure(figsize = (10, 10))\n",
    "plt.style.use('ggplot')\n",
    "#plt.tick_params(labelsize=10)\n",
    "\n",
    "for ll in range(l-1):   \n",
    "    ax[ll] = fig.add_subplot((l+1) // 2, 2, ll + 1)\n",
    "    #ax = fig.add_subplot(1, 1, 1)\n",
    "    ax[ll].set_title('Ray-' + str(ll))\n",
    "    ax[ll].scatter(q[:, 0], q[:, 1], color='k')\n",
    "    ax[ll].plot(q[:, 0], q[:, 1], color='k')\n",
    "    for m in range(M):\n",
    "        ax[ll].plot(gx[m][ll], gy[m][ll], color='C0', linewidth=0.5)\n",
    "    #ax.scatter(p[:, 1, 0], p[:, 1, 1], color='C0')\n",
    "    plt.axis('equal')\n",
    "\n",
    "plt.show()\n",
    "\n",
    "print('A=', cir_a)\n",
    "print('B=', cir_b)\n",
    "print('l=', cir_l)\n",
    "print('O=', cir_o)\n",
    "print('r=', cir_r)\n",
    "print('θ=', cir_theta)"
   ]
  },
  {
   "cell_type": "markdown",
   "metadata": {},
   "source": [
    "### 作成中"
   ]
  },
  {
   "cell_type": "markdown",
   "metadata": {},
   "source": [
    "#### スラット端点と中央点の位置\n",
    "\n",
    "点A(下スラットの左端点)、点B(下スラットの右端点)、点C(上スラットの右端点)、点D(上スラットの左端点)、点E(下スラットの中央点)、点F(上スラットの中央点)の位置ベクトルは、"
   ]
  },
  {
   "cell_type": "markdown",
   "metadata": {},
   "source": [
    "$$ \n",
    "\\displaystyle \\boldsymbol{A} = \n",
    "\\begin{pmatrix} \n",
    "\\displaystyle 0 \\\\\n",
    "\\displaystyle 0 \\\\\n",
    "\\end{pmatrix} \n",
    "\\qquad\\qquad\\text{(1)}\n",
    "$$"
   ]
  },
  {
   "cell_type": "markdown",
   "metadata": {},
   "source": [
    "$$ \n",
    "\\displaystyle \\boldsymbol{B} = \n",
    "\\begin{pmatrix} \n",
    "\\displaystyle W\\cos\\psi \\\\\n",
    "\\displaystyle W\\sin\\psi \\\\\n",
    "\\end{pmatrix} \n",
    "\\qquad\\qquad\\text{(2)}\n",
    "$$"
   ]
  },
  {
   "cell_type": "markdown",
   "metadata": {},
   "source": [
    "$$ \n",
    "\\displaystyle \\boldsymbol{C} = \n",
    "\\begin{pmatrix} \n",
    "\\displaystyle \\boldsymbol{B}_{x} \\\\\n",
    "\\displaystyle \\boldsymbol{B}_{y} + S \\\\\n",
    "\\end{pmatrix}\n",
    "\\qquad\\qquad\\text{(3)}\n",
    "$$"
   ]
  },
  {
   "cell_type": "markdown",
   "metadata": {},
   "source": [
    "$$ \n",
    "\\displaystyle \\boldsymbol{D} = \n",
    "\\begin{pmatrix} \n",
    "\\displaystyle \\boldsymbol{A}_{x} \\\\\n",
    "\\displaystyle \\boldsymbol{A}_{y} + S \\\\\n",
    "\\end{pmatrix}\n",
    "\\qquad\\qquad\\text{(4)}\n",
    "$$"
   ]
  },
  {
   "cell_type": "markdown",
   "metadata": {},
   "source": [
    "平板スラット($d=0$)の場合、"
   ]
  },
  {
   "cell_type": "markdown",
   "metadata": {},
   "source": [
    "$$\n",
    "\\begin{eqnarray}\n",
    " &\\displaystyle \\boldsymbol{E} = \\frac{\\boldsymbol{B} - \\boldsymbol{A}}{2}& \\qquad\\qquad\\text{(5)} \\nonumber\\\\\n",
    "\\end{eqnarray}\n",
    "$$"
   ]
  },
  {
   "cell_type": "markdown",
   "metadata": {},
   "source": [
    "円弧スラット($d \\neq 0$)の場合、"
   ]
  },
  {
   "cell_type": "markdown",
   "metadata": {},
   "source": [
    "$$ \n",
    "\\displaystyle \\boldsymbol{E} = \n",
    "\\begin{pmatrix} \n",
    "\\displaystyle \\sqrt{(0.5W)^2 + d^2} \\cos\\Bigl(\\arctan\\frac{d}{0.5W} + \\psi\\Bigl) \\\\\n",
    "\\displaystyle \\sqrt{(0.5W)^2 + d^2} \\sin\\Bigl(\\arctan\\frac{d}{0.5W} + \\psi\\Bigl) \\\\\n",
    "\\end{pmatrix} \n",
    "\\qquad\\qquad\\text{(6)}\n",
    "$$"
   ]
  },
  {
   "cell_type": "markdown",
   "metadata": {},
   "source": [
    "$$ \n",
    "\\displaystyle \\boldsymbol{F} = \n",
    "\\begin{pmatrix} \n",
    "\\displaystyle \\boldsymbol{E}_{x} \\\\\n",
    "\\displaystyle \\boldsymbol{E}_{y} + S \\\\\n",
    "\\end{pmatrix}\n",
    "\\qquad\\qquad\\text{(7)}\n",
    "$$"
   ]
  },
  {
   "cell_type": "code",
   "execution_count": 9,
   "metadata": {
    "collapsed": true
   },
   "outputs": [],
   "source": [
    "def slat_edge_position(L):\n",
    "    \n",
    "    A = np.array([0., 0.]) #式(1)\n",
    "    B = np.array([L.W * np.cos(np.deg2rad(L.psi)), L.W * np.sin(np.deg2rad(L.psi))]) #式(2)\n",
    "    C = np.array([B[0], B[1] + L.S]) #式(3)\n",
    "    D = np.array([A[0], A[1] + L.S]) #式(4)\n",
    "    if L.d ==0:\n",
    "        E = (B - A) / 2. #式(5)\n",
    "        print(E)\n",
    "    else:\n",
    "        E = np.array([((0.5 * L.W) ** 2. + L.d ** 2.) ** 0.5 * np.cos(np.arctan(L.d / (0.5 * L.W)) + np.deg2rad(L.psi)), \n",
    "                      ((0.5 * L.W) ** 2. + L.d ** 2.) ** 0.5 * np.sin(np.arctan(L.d / (0.5 * L.W)) + np.deg2rad(L.psi))]) #式(6)\n",
    "    \n",
    "    F = np.array([E[0], E[1] + L.S]) #式(7)\n",
    "    \n",
    "    return A, B, C, D, E, F"
   ]
  },
  {
   "cell_type": "markdown",
   "metadata": {},
   "source": [
    "#### 円弧スラットの中心座標、半径、中心角  \n",
    "\n",
    "円弧スラット($d \\neq 0$)の場合、  \n",
    "\n",
    "円の方程式  "
   ]
  },
  {
   "cell_type": "markdown",
   "metadata": {},
   "source": [
    "$$\n",
    "\\begin{eqnarray}\n",
    " &\\displaystyle x^2 + y^2 + l_0x + l_1y + l_2 = 0& \\qquad\\qquad\\text{(1)} \\nonumber\\\\\n",
    "\\end{eqnarray}\n",
    "$$"
   ]
  },
  {
   "cell_type": "markdown",
   "metadata": {},
   "source": [
    "式(1)を変形すると、  "
   ]
  },
  {
   "cell_type": "markdown",
   "metadata": {},
   "source": [
    "$$\n",
    "\\begin{eqnarray}\n",
    " &\\displaystyle l_0x + l_1y + l_2 = -(x^2 + y^2)& \\qquad\\qquad\\text{(2)} \\nonumber\\\\\n",
    "\\end{eqnarray}\n",
    "$$"
   ]
  },
  {
   "cell_type": "markdown",
   "metadata": {},
   "source": [
    "外接円となる点A、点B、点Eの3点の位置ベクトルを式(2)に代入して連立すると、"
   ]
  },
  {
   "cell_type": "markdown",
   "metadata": {},
   "source": [
    "$$\n",
    "\\begin{eqnarray}\n",
    " &\\displaystyle \\boldsymbol{a} \\cdot \\boldsymbol{l} = \\boldsymbol{b}& \\qquad\\qquad\\text{(3)} \\nonumber\\\\\n",
    "\\end{eqnarray}\n",
    "$$"
   ]
  },
  {
   "cell_type": "markdown",
   "metadata": {},
   "source": [
    "ここで、"
   ]
  },
  {
   "cell_type": "markdown",
   "metadata": {},
   "source": [
    "$ \n",
    "\\displaystyle \\boldsymbol{a} = \n",
    "\\begin{pmatrix} \n",
    "\\displaystyle 0&\\displaystyle 0&\\displaystyle 1 \\\\\n",
    "\\displaystyle W\\cos\\psi&\\displaystyle W\\sin\\psi&\\displaystyle 1 \\\\\n",
    "\\displaystyle \\sqrt{(0.5W)^2 + d^2} \\cos\\Bigl(\\arctan\\frac{d}{0.5W} +\\psi\\Bigr)&\\displaystyle \\sqrt{(0.5W)^2 + d^2} \\sin\\Bigl(\\arctan\\frac{d}{0.5W} + \\psi\\Bigr)&\\displaystyle 1 \\\\\n",
    "\\end{pmatrix} \n",
    "$  \n",
    "\n",
    "$\n",
    "\\displaystyle \\boldsymbol{l}\n",
    "=\n",
    "\\begin{pmatrix} \n",
    "\\displaystyle l_0 \\\\\n",
    "\\displaystyle l_1 \\\\\n",
    "\\displaystyle l_2 \\\\\n",
    "\\end{pmatrix}\n",
    "$  \n",
    "\n",
    "$\n",
    "\\displaystyle \\boldsymbol{b}\n",
    "= \n",
    "\\begin{pmatrix} \n",
    "\\displaystyle 0 \\\\\n",
    "\\displaystyle -(W\\cos\\psi^2 + \\sin\\psi^2) \\\\\n",
    "\\displaystyle -\\Biggl(\\biggl(\\sqrt{(0.5W)^2 + d^2}\\cos\\Bigl(\\arctan\\frac{d}{0.5W} + \\psi\\Bigr)\\biggr)^2 + \n",
    "               \\biggl(\\sqrt{(0.5W)^2 + d^2}\\sin\\Bigl(\\arctan\\frac{d}{0.5W} + \\psi\\Bigr)\\biggr)^2\\Biggr) \\\\\n",
    "\\end{pmatrix} \n",
    "$  "
   ]
  },
  {
   "cell_type": "markdown",
   "metadata": {},
   "source": [
    "外接円の中心点Oの位置ベクトルは、"
   ]
  },
  {
   "cell_type": "markdown",
   "metadata": {},
   "source": [
    "$$ \n",
    "\\displaystyle \\boldsymbol{O} = \n",
    "\\begin{pmatrix} \n",
    "\\displaystyle -0.5l_0 \\\\\n",
    "\\displaystyle -0.5l_1 \\\\\n",
    "\\end{pmatrix}\n",
    "\\qquad\\qquad\\text{(4)}\n",
    "$$"
   ]
  },
  {
   "cell_type": "markdown",
   "metadata": {},
   "source": [
    "外接円の半径$r$は、"
   ]
  },
  {
   "cell_type": "markdown",
   "metadata": {},
   "source": [
    "$$\n",
    "\\begin{eqnarray}\n",
    " &\\displaystyle r = \\sqrt{(-0.5l_0) ^ 2 + (-0.5l_1) ^ 2 - l_2}& \\qquad\\qquad\\text{(5)} \\nonumber\\\\\n",
    "\\end{eqnarray}\n",
    "$$"
   ]
  },
  {
   "cell_type": "markdown",
   "metadata": {},
   "source": [
    "点Aと点Bがなす円弧の中心角$\\theta$は、"
   ]
  },
  {
   "cell_type": "markdown",
   "metadata": {},
   "source": [
    "$$\n",
    "\\begin{eqnarray}\n",
    " &\\displaystyle \\theta = 4 \\arctan \\frac{d}{0.5W}& \\qquad\\qquad\\text{(6)} \\nonumber\\\\\n",
    "\\end{eqnarray}\n",
    "$$"
   ]
  },
  {
   "cell_type": "code",
   "execution_count": 28,
   "metadata": {
    "collapsed": true
   },
   "outputs": [],
   "source": [
    "#3点を通る外接円の点A、点B、点E及び中心点Oの座標、半径r、中心角θ\n",
    "def slat_circle(L, A, B, E):\n",
    "    \n",
    "    if L.d == 0:\n",
    "        O = ''\n",
    "        r = ''\n",
    "        theta = ''\n",
    "    else:\n",
    "        a = np.array([[A[0], A[1], 1.], [B[0], B[1], 1.], [E[0], E[1], 1.]])\n",
    "        b = -(a[:, 0] ** 2 + a[:, 1] ** 2.)\n",
    "\n",
    "        a = a.astype(np.float64)\n",
    "        b = b.astype(np.float64)\n",
    "        l = np.linalg.solve(a, b) #式(3)\n",
    "\n",
    "        O =[- 0.5 * l[0], - 0.5 * l[1]] #円弧の原点の位置ベクトル 式(4)\n",
    "        r = ((- 0.5 * l[0]) ** 2. + (- 0.5 * l[1]) ** 2. - l[2]) ** 0.5 #式(5)\n",
    "        theta = np.rad2deg(4 * np.arctan(L.d / (0.5 * L.W))) #円弧の中心角 式(6)\n",
    "    \n",
    "    return O, r, theta"
   ]
  },
  {
   "cell_type": "markdown",
   "metadata": {},
   "source": [
    "#### スラットの最端座標  \n",
    "\n",
    "円弧スラット($d \\neq 0$)かつ$ \\boldsymbol{O}_{y} > \\boldsymbol{A}_{y} $の場合、 "
   ]
  },
  {
   "cell_type": "markdown",
   "metadata": {},
   "source": [
    "$$ \n",
    "\\displaystyle \\boldsymbol{A}' = \n",
    "\\begin{pmatrix} \n",
    "\\displaystyle \\boldsymbol{O}_{x} - r \\\\\n",
    "\\displaystyle \\boldsymbol{O}_{y} \\\\\n",
    "\\end{pmatrix}\n",
    "\\qquad\\qquad\\text{(1)}\n",
    "$$"
   ]
  },
  {
   "cell_type": "markdown",
   "metadata": {},
   "source": [
    "円弧スラット($d \\neq 0$)かつ$ \\boldsymbol{O}_{y} > \\boldsymbol{B}_{y} $の場合、 "
   ]
  },
  {
   "cell_type": "markdown",
   "metadata": {},
   "source": [
    "$$ \n",
    "\\displaystyle \\boldsymbol{B}' = \n",
    "\\begin{pmatrix} \n",
    "\\displaystyle \\boldsymbol{O}_{x} + r \\\\\n",
    "\\displaystyle \\boldsymbol{O}_{y} \\\\\n",
    "\\end{pmatrix}\n",
    "\\qquad\\qquad\\text{(2)}\n",
    "$$"
   ]
  },
  {
   "cell_type": "markdown",
   "metadata": {},
   "source": [
    "その他の場合、"
   ]
  },
  {
   "cell_type": "markdown",
   "metadata": {},
   "source": [
    "$$\n",
    "\\begin{eqnarray}\n",
    " &\\displaystyle \\boldsymbol{A}' = \\boldsymbol{A}& \\qquad\\qquad\\text{(3)} \\nonumber\\\\\n",
    "\\end{eqnarray}\n",
    "$$"
   ]
  },
  {
   "cell_type": "markdown",
   "metadata": {},
   "source": [
    "$$\n",
    "\\begin{eqnarray}\n",
    " &\\displaystyle \\boldsymbol{B}' = \\boldsymbol{B}& \\qquad\\qquad\\text{(4)} \\nonumber\\\\\n",
    "\\end{eqnarray}\n",
    "$$"
   ]
  },
  {
   "cell_type": "markdown",
   "metadata": {},
   "source": [
    "$$ \n",
    "\\displaystyle \\boldsymbol{C}' = \n",
    "\\begin{pmatrix} \n",
    "\\displaystyle \\boldsymbol{B}'_{x} \\\\\n",
    "\\displaystyle \\boldsymbol{B}'_{y} + S \\\\\n",
    "\\end{pmatrix}\n",
    "\\qquad\\qquad\\text{(5)}\n",
    "$$"
   ]
  },
  {
   "cell_type": "markdown",
   "metadata": {},
   "source": [
    "$$ \n",
    "\\displaystyle \\boldsymbol{D}' = \n",
    "\\begin{pmatrix} \n",
    "\\displaystyle \\boldsymbol{A}'_{x} \\\\\n",
    "\\displaystyle \\boldsymbol{A}'_{y} + S \\\\\n",
    "\\end{pmatrix}\n",
    "\\qquad\\qquad\\text{(6)}\n",
    "$$"
   ]
  },
  {
   "cell_type": "code",
   "execution_count": 34,
   "metadata": {
    "collapsed": true
   },
   "outputs": [],
   "source": [
    "def slat_additional_position(L, O, r, A, B):\n",
    "    \n",
    "    if L.d == 0:\n",
    "        Ad = A\n",
    "        Bd = B\n",
    "    else:\n",
    "        if O[1] > A[1]: #円弧が食い込む\n",
    "            Ad = np.array([O[0] - r, O[1]]) #点A'の位置\n",
    "        else:           #円弧が食い込まない\n",
    "            Ad = A                          #点A'の位置\n",
    "\n",
    "        if O[1] > B[1]: #円弧が食い込む\n",
    "            Bd = np.array([O[0] + r, O[1]]) #点B'の位置\n",
    "        else:           #円弧が食い込まない\n",
    "            Bd = B                          #点B'の位置\n",
    "    Cd = np.array([Bd[0], Bd[1] + L.S]) #点C'の位置\n",
    "    Dd = np.array([Ad[0], Ad[1] + L.S]) #点D'の位置\n",
    "    \n",
    "    return Ad, Bd, Cd, Dd"
   ]
  },
  {
   "cell_type": "markdown",
   "metadata": {},
   "source": [
    "#### 平板スラットの領域境界分割要素の始点の位置ベクトル \n",
    "\n",
    "平板スラット($d=0$)の領域境界分割要素の始点の位置ベクトルは、次のように表すことができる。  \n",
    "\n",
    "$0 \\leq i \\leq K_0$の場合、"
   ]
  },
  {
   "cell_type": "markdown",
   "metadata": {},
   "source": [
    "$$ \n",
    "\\displaystyle \\boldsymbol{q}_i = \n",
    "\\begin{pmatrix} \n",
    "\\displaystyle \\frac{i}{K_0} W \\cos \\psi \\\\\n",
    "\\displaystyle \\frac{i}{K_0} W \\sin \\psi \\\\\n",
    "\\end{pmatrix} \n",
    "\\qquad\\qquad\\text{(1)}\n",
    "$$"
   ]
  },
  {
   "cell_type": "markdown",
   "metadata": {},
   "source": [
    "$K_0 < i \\leq (K_0 + K_1)$の場合、  "
   ]
  },
  {
   "cell_type": "markdown",
   "metadata": {},
   "source": [
    "$$ \n",
    "\\displaystyle \\boldsymbol{q}_i = \n",
    "\\begin{pmatrix} \n",
    "\\displaystyle \\boldsymbol{q}_{K_0,x} \\\\\n",
    "\\displaystyle \\boldsymbol{q}_{K_0,y} + \\frac{i - K_0}{K_1} S \\\\\n",
    "\\end{pmatrix}\n",
    "\\qquad\\qquad\\text{(2)}\n",
    "$$"
   ]
  },
  {
   "cell_type": "markdown",
   "metadata": {},
   "source": [
    "$(K_0 + K_1) < i \\leq (K_0 + K_1 + K_2)$の場合、 "
   ]
  },
  {
   "cell_type": "markdown",
   "metadata": {},
   "source": [
    "$$ \n",
    "\\displaystyle \\boldsymbol{q}_i = \n",
    "\\begin{pmatrix} \n",
    "\\displaystyle \\boldsymbol{q}_{(K_0 + K_1),x} - \\frac{i - K_0 - K_1 - K_2}{K_2} W\\cos\\psi \\\\\n",
    "\\displaystyle \\boldsymbol{q}_{(K_0 + K_1),y} - \\frac{i - K_0 - K_1 - K_2}{K_2} W\\sin\\psi \\\\\n",
    "\\end{pmatrix} \n",
    "\\qquad\\qquad\\text{(3)}\n",
    "$$"
   ]
  },
  {
   "cell_type": "markdown",
   "metadata": {},
   "source": [
    "$(K_0 + K_1 + K_2) < i \\leq (K_0 + K_1 + K_2 + K_3)$の場合、 "
   ]
  },
  {
   "cell_type": "markdown",
   "metadata": {},
   "source": [
    "$$ \n",
    "\\displaystyle \\boldsymbol{q}_i = \n",
    "\\begin{pmatrix} \n",
    "\\displaystyle \\boldsymbol{q}_{(K_0 + K_1 + K_2),x} \\\\\n",
    "\\displaystyle \\boldsymbol{q}_{(K_0 + K_1 + K_2),y} - \\frac{i - K_0 - K_1 - K_2}{K_3} S \\\\\n",
    "\\end{pmatrix} \n",
    "\\qquad\\qquad\\text{(4)}\n",
    "$$"
   ]
  },
  {
   "cell_type": "code",
   "execution_count": 13,
   "metadata": {
    "collapsed": true
   },
   "outputs": [],
   "source": [
    "#平板スラットの領域境界の分割要素の始点の位置ベクトル\n",
    "def position_vector_flat_q(L, K):\n",
    "    Kall = np.sum(K)\n",
    "    q = np.empty((Kall + 1, 2), dtype=object)\n",
    "    for i in range(Kall + 1):\n",
    "        if L.d == 0: #平板\n",
    "            if i <= K[0]:                            #A-B間\n",
    "                q[i] = [i / K[0] * L.W * np.cos(np.deg2rad(L.psi)), \n",
    "                        i / K[0] * L.W * np.sin(np.deg2rad(L.psi))]\n",
    "            elif i <= (K[0] + K[1]):                 #B-C間\n",
    "                q[i] = [q[K[0]][0], \n",
    "                        q[K[0]][1] + (i - K[0]) / K[1] * L.S]\n",
    "            elif i <= (K[0] + K[1] + K[2]):          #C-D間\n",
    "                q[i] = [q[K[0] + K[1]][0] - (i - K[0] - K[1]) / K[2] * L.W * np.cos(np.deg2rad(L.psi)), \n",
    "                        q[K[0] + K[1]][1] - (i - K[0] - K[1]) / K[2] * L.W * np.sin(np.deg2rad(L.psi))]\n",
    "            elif i <= (K[0] + K[1] + K[2] + K[3]):    #D-A間\n",
    "                q[i] = [q[K[0] + K[1] + K[2]][0], \n",
    "                        q[K[0] + K[1] + K[2]][1] - (i - K[0] - K[1] - K[2]) / K[3] * L.S]\n",
    "                             \n",
    "    return q"
   ]
  },
  {
   "cell_type": "markdown",
   "metadata": {},
   "source": [
    "#### 円弧スラットの領域境界分割要素の始点の位置ベクトル \n",
    "\n",
    "円弧スラット($d \\neq 0$)の領域境界分割要素の始点の位置ベクトルは、次のように表すことができる。  \n",
    "\n",
    "$0 \\leq i \\leq K_0$の場合、"
   ]
  },
  {
   "cell_type": "markdown",
   "metadata": {},
   "source": [
    "$$ \n",
    "\\displaystyle \\boldsymbol{q}_i = \n",
    "\\begin{pmatrix} \n",
    "\\displaystyle \\boldsymbol{O}_x - r \\cos\\Bigl(\\arctan\\frac{\\boldsymbol{O}_y}{\\boldsymbol{O}_x} - \\theta \\frac{i}{K_0}\\Bigr) \\\\\n",
    "\\displaystyle \\boldsymbol{O}_y - r \\sin\\Bigl(\\arctan\\frac{\\boldsymbol{O}_y}{\\boldsymbol{O}_x} - \\theta \\frac{i}{K_0}\\Bigr) \\\\\n",
    "\\end{pmatrix} \n",
    "\\qquad\\qquad\\text{(1)}\n",
    "$$"
   ]
  },
  {
   "cell_type": "markdown",
   "metadata": {},
   "source": [
    "$K_0 < i \\leq (K_0 + K_1)$の場合、  "
   ]
  },
  {
   "cell_type": "markdown",
   "metadata": {},
   "source": [
    "$$ \n",
    "\\displaystyle \\boldsymbol{q}_i = \n",
    "\\begin{pmatrix} \n",
    "\\displaystyle \\boldsymbol{q}_{K_0,x} \\\\\n",
    "\\displaystyle \\boldsymbol{q}_{K_0,y} + \\frac{i - K_0}{K_1} S \\\\\n",
    "\\end{pmatrix}\n",
    "\\qquad\\qquad\\text{(2)}\n",
    "$$"
   ]
  },
  {
   "cell_type": "markdown",
   "metadata": {},
   "source": [
    "$(K_0 + K_1) < i \\leq (K_0 + K_1 + K_2)$の場合、 "
   ]
  },
  {
   "cell_type": "markdown",
   "metadata": {},
   "source": [
    "$$ \n",
    "\\displaystyle \\boldsymbol{q}_i = \n",
    "\\begin{pmatrix} \n",
    "\\displaystyle \\boldsymbol{q}_{(K_0 + K_1),x} + \\boldsymbol{O}_x - r\\cos\\Bigl(\\arctan\\frac{\\boldsymbol{O}_y}{\\boldsymbol{O}_x} + \\theta \\frac{i - K_0 - K_1 - K_2}{K_2}\\Bigr) - W\\cos\\psi \\\\\n",
    "\\displaystyle \\boldsymbol{q}_{(K_0 + K_1),y} + \\boldsymbol{O}_y - r\\sin\\Bigl(\\arctan\\frac{\\boldsymbol{O}_y}{\\boldsymbol{O}_x} + \\theta \\frac{i - K_0 - K_1 - K_2}{K_2}\\Bigr) - W\\sin\\psi \\\\\n",
    "\\end{pmatrix} \n",
    "\\qquad\\qquad\\text{(3)}\n",
    "$$"
   ]
  },
  {
   "cell_type": "markdown",
   "metadata": {},
   "source": [
    "$(K_0 + K_1 + K_2) < i \\leq (K_0 + K_1 + K_2 + K_3)$の場合、 "
   ]
  },
  {
   "cell_type": "markdown",
   "metadata": {},
   "source": [
    "$$ \n",
    "\\displaystyle \\boldsymbol{q}_i = \n",
    "\\begin{pmatrix} \n",
    "\\displaystyle \\boldsymbol{q}_{(K_0 + K_1 + K_2),x} \\\\\n",
    "\\displaystyle \\boldsymbol{q}_{(K_0 + K_1 + K_2),y} - S \\frac{i - K_0 - K_1 - K_2}{K_3} \\\\\n",
    "\\end{pmatrix} \n",
    "\\qquad\\qquad\\text{(4)}\n",
    "$$"
   ]
  },
  {
   "cell_type": "code",
   "execution_count": 24,
   "metadata": {
    "collapsed": true
   },
   "outputs": [],
   "source": [
    "#円弧スラットの領域境界の分割要素の始点の位置ベクトル\n",
    "def position_vector_curve_q(L, K, O, r, theta, A, B, C, D, Ad, Bd, Cd, Dd):\n",
    "    Kall = np.sum(K)\n",
    "    q = np.empty((Kall + 1, 2), dtype=object)\n",
    "    for i in range(Kall + 1):\n",
    "        if i <= K[0]:                           #A-B間\n",
    "            if O[0] >= A[0]: pns = - 1.\n",
    "            elif O[0] < A[0]: pns = 1.\n",
    "\n",
    "            q[i] = [O[0] + pns * r * np.cos((np.arctan(O[1] / O[0])) - np.deg2rad(theta / K[0] * i)), \n",
    "                    O[1] + pns * r * np.sin((np.arctan(O[1] / O[0])) - np.deg2rad(theta / K[0] * i))] #式(1)                          \n",
    "\n",
    "        elif i <= (K[0] + K[1]):                 #B-C間\n",
    "            if all(B == Bd): sp = q[K[0]]\n",
    "            else: sp = Bd\n",
    "\n",
    "            q[i] = [sp[0], \n",
    "                    sp[1] + (i - K[0]) / K[1] * L.S] #式(2) \n",
    "\n",
    "        elif i <= (K[0] + K[1] + K[2]):          #C-D間\n",
    "            if all(C == Cd): sp = q[K[0] + K[1]]\n",
    "            else: sp = C\n",
    "\n",
    "            if O[0] >= A[0]: pns = - 1.\n",
    "            elif O[0] < A[0]: pns = 1.\n",
    "\n",
    "            q[i] = [sp[0] + O[0] + pns * r * np.cos((np.arctan(O[1] / O[0])) + \\\n",
    "                    np.deg2rad(theta / K[2] * (i - K[0] - K[1] - K[2]))) - L.W * np.cos(np.deg2rad(L.psi)), \n",
    "                    sp[1] + O[1] + pns * r * np.sin((np.arctan(O[1] / O[0])) + \\\n",
    "                    np.deg2rad(theta / K[2] * (i - K[0] - K[1] - K[2]))) - L.W * np.sin(np.deg2rad(L.psi))] #式(3)\n",
    "\n",
    "        elif i <= (K[0] + K[1] + K[2] + K[3]):    #D-A間\n",
    "            if all(D == Dd): sp = q[K[0] + K[1] + K[2]]\n",
    "            else: sp = Dd\n",
    "\n",
    "            q[i] = [sp[0], \n",
    "                    sp[1] - (i - K[0] - K[1] - K[2]) / K[3] * L.S] #式(4)\n",
    "\n",
    "    #for i in range(Kall + 1):\n",
    "    #        q[i] = q[i] - Ad\n",
    "                    \n",
    "    return q"
   ]
  },
  {
   "cell_type": "markdown",
   "metadata": {},
   "source": [
    "#### Example"
   ]
  },
  {
   "cell_type": "code",
   "execution_count": 37,
   "metadata": {},
   "outputs": [
    {
     "name": "stdout",
     "output_type": "stream",
     "text": [
      "A= [ 0.  0.]\n",
      "B= [  8.55050358  23.49231552]\n",
      "Ad= [-1.51628256  7.25714338]\n",
      "Bd= [  8.55050358  23.49231552]\n",
      "E= [ -0.42321131  13.45625848]\n",
      "O= [16.608717439385909, 7.2571433786744501]\n",
      "r= 18.125\n",
      "θ= 87.2056379454\n"
     ]
    },
    {
     "data": {
      "image/png": "[encoded data removed]",
      "text/plain": [
       "<matplotlib.figure.Figure at 0x2587ea186d8>"
      ]
     },
     "metadata": {},
     "output_type": "display_data"
    }
   ],
   "source": [
    "if __name__ == '__main__':\n",
    "    #hbl_input( W, d, S, REFUS, REFUD, REFLS, REFLD, psi, phi )\n",
    "    hbl = hbl_input( 25., 5., 20., 0.8, 0.8, 0.2, 0.2, 70., 30. )\n",
    "    #hbl = hbl_input( 25., 0., 20., 0.8, 0.8, 0.2, 0.2, 70., 30. )\n",
    "\n",
    "    # W：スラット幅 (mm)\n",
    "    # d：スラット高さ (mm) \n",
    "    # S：スラット間隔 (mm) \n",
    "    # REFUS：スラット材上面の日射反射率（鏡面反射成分）\n",
    "    # REFUD：スラット材上面の日射反射率（拡散反射成分）\n",
    "    # REFLS：スラット材下面の日射反射率（鏡面反射成分）\n",
    "    # REFLD：スラット材下面の日射反射率（拡散反射成分）\n",
    "    # psi：スラット角 (°) \n",
    "    # phi：プロファイル角 (°)\n",
    "\n",
    "    K = np.array([10, 10, 10, 10])       #領域境界の微小線分要素分割数(各境界)\n",
    "\n",
    "    A = slat_edge_position(hbl)[0]\n",
    "    B = slat_edge_position(hbl)[1]\n",
    "    C = slat_edge_position(hbl)[2]\n",
    "    D = slat_edge_position(hbl)[3]\n",
    "    E = slat_edge_position(hbl)[4]\n",
    "    F = slat_edge_position(hbl)[5]\n",
    "    \n",
    "    O = slat_circle(hbl, A, B, E)[0]\n",
    "    r = slat_circle(hbl, A, B, E)[1]\n",
    "    theta = slat_circle(hbl, A, B, E)[2]\n",
    "\n",
    "    Ad = slat_additional_position(hbl, O, r, A, B)[0]\n",
    "    Bd = slat_additional_position(hbl, O, r, A, B)[1]\n",
    "    Cd = slat_additional_position(hbl, O, r, A, B)[2]\n",
    "    Dd = slat_additional_position(hbl, O, r, A, B)[3]\n",
    "\n",
    "    if hbl.d == 0: q = position_vector_flat_q(hbl, K)\n",
    "    elif hbl.d != 0: q = position_vector_curve_q(hbl, K, O, r, theta, A, B, C, D, Ad, Bd, Cd, Dd)\n",
    "\n",
    "    print('A=', A)\n",
    "    print('B=', B)\n",
    "    print('Ad=', Ad)\n",
    "    print('Bd=', Bd)\n",
    "    print('E=', E)\n",
    "    print('O=', O)\n",
    "    print('r=', r)\n",
    "    print('θ=', theta)\n",
    "\n",
    "    l = 2\n",
    "    ax = np.empty(l, dtype = np.object)\n",
    "    fig = plt.figure(figsize = (15, 7.5 * ((l + 1) // 2)))\n",
    "    plt.style.use('ggplot')\n",
    "\n",
    "    for ll in range(l-1):   \n",
    "        ax[ll] = fig.add_subplot((l+1) // 2, 2, ll + 1)\n",
    "        ax[ll].set_title('Ray-' + str(ll))\n",
    "        ax[ll].scatter(q[:, 0], q[:, 1], color='k')\n",
    "        ax[ll].plot(q[:, 0], q[:, 1], color='k')\n",
    "        ax[ll].scatter(A[0], A[1], color='b')\n",
    "        ax[ll].scatter(B[0], B[1], color='r')\n",
    "        ax[ll].scatter(C[0], C[1], color='r')\n",
    "        ax[ll].scatter(D[0], D[1], color='b')\n",
    "        ax[ll].scatter(Ad[0], Ad[1], color='b')\n",
    "        ax[ll].scatter(Bd[0], Bd[1], color='r')\n",
    "        ax[ll].scatter(Cd[0], Cd[1], color='r')\n",
    "        ax[ll].scatter(Dd[0], Dd[1], color='b')\n",
    "        plt.axis('equal')\n",
    "\n",
    "    plt.show()"
   ]
  },
  {
   "cell_type": "code",
   "execution_count": 71,
   "metadata": {},
   "outputs": [
    {
     "name": "stdout",
     "output_type": "stream",
     "text": [
      "T+ 7.25714337867 0.0 87.2056379454 0.729342969918 [-1.5162825606140906, 7.2571433786744501]\n"
     ]
    },
    {
     "data": {
      "image/png": "[encoded data removed]",
      "text/plain": [
       "<matplotlib.figure.Figure at 0x1d8760e1710>"
      ]
     },
     "metadata": {},
     "output_type": "display_data"
    }
   ],
   "source": [
    "#4 スラット円弧の位置ベクトルのみ\n",
    "\n",
    "S = 20.                              #スラット間隔(mm)\n",
    "W = 25.                              #スラット幅(mm)\n",
    "d = 5.                               #スラット高さ(mm)\n",
    "psi = 70.                            #スラット角(°)\n",
    "rho_upper = 0.8                      #スラット材上面の反射率(鏡面)\n",
    "rho_lower = 0.2                      #スラット材下面の反射率(鏡面)\n",
    "phi = 30.                            #プロファイル角(°)\n",
    "\n",
    "M = 100                              #入射開口の微小線分要素分割数\n",
    "K = np.array([10, 10, 10, 10])       #領域境界の微小線分要素分割数(各境界)\n",
    "Kall = np.sum(K)                     #領域境界の微小線分要素分割数(全境界)\n",
    "L = 100                              #最大反射回数\n",
    "#↓ここから\n",
    "#スラット高さがある場合のスラット円弧の計算\n",
    "if d != 0:\n",
    "    cir_a = np.empty((3, 3), dtype=object)\n",
    "    cir_b = np.empty((3), dtype=object)\n",
    "    cir_l = np.empty((3), dtype=object)\n",
    "    \n",
    "    cir_a = np.array([[0., 0., 1.],\n",
    "                      [W * np.cos(np.deg2rad(psi)), W * np.sin(np.deg2rad(psi)), 1.],\n",
    "                      [((0.5 * W) ** 2. + d ** 2.) ** 0.5 * np.cos(np.arctan(d / (0.5 * W)) + np.deg2rad(psi)), \n",
    "                       ((0.5 * W) ** 2. + d ** 2.) ** 0.5 * np.sin(np.arctan(d / (0.5 * W)) + np.deg2rad(psi)), 1.]]) #外接円の3点の座標\n",
    "    \n",
    "    cir_b = -(cir_a[:, 0] ** 2 + cir_a[:, 1] ** 2.)\n",
    "\n",
    "    cir_a = cir_a.astype(np.float64)\n",
    "    cir_b = cir_b.astype(np.float64)\n",
    "    cir_l = np.linalg.solve(cir_a, cir_b)\n",
    "    \n",
    "    cir_o =[- 0.5 * cir_l[0], - 0.5 * cir_l[1]] #円弧の原点の位置ベクトル\n",
    "    cir_r = ((- 0.5 * cir_l[0]) ** 2. + (- 0.5 * cir_l[1]) ** 2. - cir_l[2]) ** 0.5\n",
    "\n",
    "    cir_theta = np.rad2deg(4 * np.arctan(d / (0.5 * W))) #円弧の中心角\n",
    "#↑ここまで確認\n",
    "\n",
    "#↓ここは今検討中の場所、食い込み判定\n",
    "    if psi > 0: #スラット角が正\n",
    "        if cir_o[1] > cir_a[0][1]: #スラット角が0より大きく、円弧が食い込む\n",
    "            point_Ad = [cir_o[0] - cir_r, cir_o[1]] #点A'の位置\n",
    "            cir_theta1 = np.rad2deg(np.arcsin(cir_o[1] / cir_r))\n",
    "            cir_theta2 = cir_theta - cir_theta1\n",
    "            div_theta_ratio = cir_theta2 / cir_theta\n",
    "            print(\"T+\", cir_o[1], cir_a[0][1], cir_theta, div_theta_ratio, point_Ad)\n",
    "        else:                      #スラット角が0より大きく、円弧が食い込まない\n",
    "            point_Ad = [0., 0.] #点A'の位置            \n",
    "            print(\"F+\", cir_o[1], cir_a[0][1], cir_theta, point_Ad)\n",
    "    elif psi < 0:\n",
    "        if cir_o[1] > cir_a[0][1]:\n",
    "            print(\"T-\", cir_o[1], cir_a[0][1])\n",
    "        else:\n",
    "            print(\"F-\", cir_o[1], cir_a[0][1])\n",
    "#↑ここは今検討中の場所、食い込み判定\n",
    "    \n",
    "#領域境界の分割要素の始点の位置ベクトル\n",
    "q = np.empty((Kall + 1, 2), dtype=object)\n",
    "for i in range(Kall + 1):\n",
    "    if d == 0: #平板\n",
    "        if i <= K[0]:                            #A-B間\n",
    "            q[i] = [W / K[0] * i * np.cos(np.deg2rad(psi)), \n",
    "                    W / K[0] * i * np.sin(np.deg2rad(psi))]\n",
    "        elif i <= (K[0] + K[1]):                 #B-C間\n",
    "            q[i] = [q[K[0]][0], \n",
    "                    q[K[0]][1] + S / K[1] * (i - K[0])]\n",
    "        elif i <= (K[0] + K[1] + K[2]):          #C-D間\n",
    "            q[i] = [q[K[0] + K[1]][0] - W / K[2] * (i - K[0] - K[1]) * np.cos(np.deg2rad(psi)), \n",
    "                    q[K[0] + K[1]][1] - W / K[2] * (i - K[0] - K[1]) * np.sin(np.deg2rad(psi))]\n",
    "        elif i <= (K[0] + K[1] + K[2] + K[3]):    #D-A間\n",
    "            q[i] = [q[K[0] + K[1] + K[2]][0], \n",
    "                    q[K[0] + K[1] + K[2]][1] - S / K[3] * (i - K[0] - K[1] - K[2])]\n",
    "    elif d != 0: #円弧\n",
    "        if i <= K[0]:                            #A-B間\n",
    "            if psi > 0:\n",
    "                if cir_o[1] <= cir_a[0][1]:\n",
    "                    q[i] = [cir_o[0] - cir_r * np.cos((np.arctan(cir_o[1] / cir_o[0])) - np.deg2rad(cir_theta / K[0] * i)), \n",
    "                            cir_o[1] - cir_r * np.sin((np.arctan(cir_o[1] / cir_o[0])) - np.deg2rad(cir_theta / K[0] * i))]\n",
    "                elif cir_o[1] > cir_a[0][1]:\n",
    "                    if i / K[0] + 1. <= div_theta_ratio:\n",
    "                        q[i] = [cir_o[0] - cir_r * np.cos((np.arctan(cir_o[1] / cir_o[0])) - np.deg2rad(cir_theta / K[0] * i)), \n",
    "                                cir_o[1] - cir_r * np.sin((np.arctan(cir_o[1] / cir_o[0])) - np.deg2rad(cir_theta / K[0] * i))]\n",
    "                        q[i+1]=\n",
    "                    else:\n",
    "                        q[i] = [cir_o[0] - cir_r * np.cos((np.arctan(cir_o[1] / cir_o[0])) - np.deg2rad(cir_theta / K[0] * i)), \n",
    "                                cir_o[1] - cir_r * np.sin((np.arctan(cir_o[1] / cir_o[0])) - np.deg2rad(cir_theta / K[0] * i))] #要検討                    \n",
    "            elif psi < 0:\n",
    "                    q[i] = [cir_o[0] - cir_r * np.cos((np.arctan(cir_o[1] / cir_o[0])) - np.deg2rad(cir_theta / K[0] * i)), \n",
    "                            cir_o[1] - cir_r * np.sin((np.arctan(cir_o[1] / cir_o[0])) - np.deg2rad(cir_theta / K[0] * i))] #要検討            \n",
    "            else:\n",
    "                    q[i] = [cir_o[0] - cir_r * np.cos((np.arctan(cir_o[1] / cir_o[0])) - np.deg2rad(cir_theta / K[0] * i)), \n",
    "                            cir_o[1] - cir_r * np.sin((np.arctan(cir_o[1] / cir_o[0])) - np.deg2rad(cir_theta / K[0] * i))] #要検討                \n",
    "        elif i <= (K[0] + K[1]):                 #B-C間\n",
    "            q[i] = [q[K[0]][0], \n",
    "                    q[K[0]][1] + S / K[1] * (i - K[0])]\n",
    "        elif i <= (K[0] + K[1] + K[2]):          #C-D間\n",
    "            q[i] = [q[K[0] + K[1]][0] + cir_o[0] - cir_r * np.cos((np.arctan(cir_o[1] / cir_o[0])) + \\\n",
    "                    np.deg2rad(cir_theta / K[2] * (i - K[0] - K[1] - K[2]))) - W * np.cos(np.deg2rad(psi)), \n",
    "                    q[K[0] + K[1]][1] + cir_o[1] - cir_r * np.sin((np.arctan(cir_o[1] / cir_o[0])) + \\\n",
    "                    np.deg2rad(cir_theta / K[2] * (i - K[0] - K[1] - K[2]))) - W * np.sin(np.deg2rad(psi))]\n",
    "        elif i <= (K[0] + K[1] + K[2] + K[3]):    #D-A間\n",
    "            q[i] = [q[K[0] + K[1] + K[2]][0], \n",
    "                    q[K[0] + K[1] + K[2]][1] - S / K[3] * (i - K[0] - K[1] - K[2])]\n",
    "        \n",
    "#グラフの描画\n",
    "#gx = np.empty((M, L, 2), dtype=object)\n",
    "#gy = np.empty((M, L, 2), dtype=object)\n",
    "#for ll in range(l):\n",
    "#    for m in range(0, M, 2):\n",
    "#        gx[m][ll] = [p[m][ll][0], p[m][ll + 1][0]]\n",
    "#        gy[m][ll] = [p[m][ll][1], p[m][ll + 1][1]]    \n",
    "\n",
    "l = 2\n",
    "ax = np.empty(l, dtype = np.object) #\n",
    "fig = plt.figure(figsize = (15, 7.5 * ((l + 1) // 2))) #\n",
    "#fig = plt.figure(figsize = (10, 10))\n",
    "plt.style.use('ggplot')\n",
    "#plt.tick_params(labelsize=10)\n",
    "\n",
    "for ll in range(l-1):   \n",
    "    ax[ll] = fig.add_subplot((l+1) // 2, 2, ll + 1)\n",
    "    #ax = fig.add_subplot(1, 1, 1)\n",
    "    ax[ll].set_title('Ray-' + str(ll))\n",
    "    ax[ll].scatter(q[:, 0], q[:, 1], color='k')\n",
    "    ax[ll].plot(q[:, 0], q[:, 1], color='k')\n",
    "#    for m in range(M):\n",
    "#        ax[ll].plot(gx[m][ll], gy[m][ll], color='C0', linewidth=0.5)\n",
    "    #ax.scatter(p[:, 1, 0], p[:, 1, 1], color='C0')\n",
    "    plt.axis('equal')\n",
    "\n",
    "plt.show()\n",
    "\n",
    "#-45より小さいスラット角度\n",
    "\n"
   ]
  },
  {
   "cell_type": "code",
   "execution_count": 3,
   "metadata": {},
   "outputs": [
    {
     "name": "stdout",
     "output_type": "stream",
     "text": [
      "45.0 -45.0\n"
     ]
    }
   ],
   "source": [
    "a = np.rad2deg(np.arctan(1))\n",
    "b = np.rad2deg(np.arctan(-1))\n",
    "\n",
    "print(a,b)"
   ]
  },
  {
   "cell_type": "code",
   "execution_count": null,
   "metadata": {
    "collapsed": true
   },
   "outputs": [],
   "source": [
    "40.0625\n",
    "0.0512 0.5056"
   ]
  }
 ],
 "metadata": {
  "kernelspec": {
   "display_name": "Python 3",
   "language": "python",
   "name": "python3"
  },
  "language_info": {
   "codemirror_mode": {
    "name": "ipython",
    "version": 3
   },
   "file_extension": ".py",
   "mimetype": "text/x-python",
   "name": "python",
   "nbconvert_exporter": "python",
   "pygments_lexer": "ipython3",
   "version": "3.6.1"
  }
 },
 "nbformat": 4,
 "nbformat_minor": 2
}
