{
 "cells": [
  {
   "cell_type": "code",
   "execution_count": 1,
   "metadata": {},
   "outputs": [
    {
     "name": "stdout",
     "output_type": "stream",
     "text": [
      "Importing Jupyter notebook from TwoDimensionalViewFactor.ipynb\n"
     ]
    }
   ],
   "source": [
    "import math\n",
    "import numpy as np\n",
    "import matplotlib.pyplot as plt\n",
    "from scipy import optimize\n",
    "\n",
    "import nbimporter\n",
    "import TwoDimensionalViewFactor as TDVF"
   ]
  },
  {
   "cell_type": "markdown",
   "metadata": {},
   "source": [
    "# 横型ブラインドの斜入射特性を計算するモジュール"
   ]
  },
  {
   "cell_type": "markdown",
   "metadata": {},
   "source": [
    "スラット材の形状とスラットの日射反射率から任意のプロファイル角における横型ブラインドの日射透過率及び日射反射率を計算する。"
   ]
  },
  {
   "cell_type": "markdown",
   "metadata": {},
   "source": [
    "### 入力値  \n",
    "\n",
    "$ W $ ：スラット幅 (mm)  \n",
    "$ d $ ：スラット高さ (mm)  \n",
    "$ S $ ：スラット間隔 (mm)  \n",
    "$ \\rho_{upper,S} $：スラット材上面の日射反射率（鏡面反射成分）  \n",
    "$ \\rho_{upper,D} $：スラット材上面の日射反射率（拡散反射成分）  \n",
    "$ \\rho_{lower,S} $：スラット材下面の日射反射率（鏡面反射成分）  \n",
    "$ \\rho_{lower,D} $：スラット材下面の日射反射率（拡散反射成分）  \n",
    "$ \\psi $：スラット角 (°)  \n",
    "$ \\phi $：プロファイル角 (°)  \n",
    "\n",
    "![image9.png][attached1]\n",
    "[attached1]:img\\image9.png  "
   ]
  },
  {
   "cell_type": "markdown",
   "metadata": {},
   "source": [
    "### 出力値\n",
    "$ \\tau_{\\phi,\\psi,f} $ ：横型ブラインドの正面側からの入射光に対するプロファイル角$\\phi$、スラット角$\\psi$の日射透過率  \n",
    "$ \\rho_{\\phi,\\psi,f} $ ：横型ブラインドの正面側からの入射光に対するプロファイル角$\\phi$、スラット角$\\psi$の日射反射率  \n",
    "$ \\tau_{\\phi,\\psi,b} $ ：横型ブラインドの背面側からの入射光に対するプロファイル角$\\phi$、スラット角$\\psi$の日射透過率  \n",
    "$ \\rho_{\\phi,\\psi,b} $ ：横型ブラインドの背面側からの入射光に対するプロファイル角$\\phi$、スラット角$\\psi$の日射反射率"
   ]
  },
  {
   "cell_type": "markdown",
   "metadata": {},
   "source": [
    "### 計算方法  \n",
    "\n",
    "#### データ構造と値の範囲  \n",
    "\n",
    "$ W $・$ d $・$ S $・$ \\rho_{upper,S} $・$ \\rho_{upper,D} $・$ \\rho_{lower,S} $・$ \\rho_{lower,D} $・$ \\psi $・$ \\phi $の組み合わせをクラス『hbl＿input』と定義する。  \n",
    "$ \\rho_{upper,S} $・$ \\rho_{upper,D} $・$ \\rho_{lower,S} $・$ \\rho_{lower,D} $の値は0.0以上1.0以下の値をとる。  \n",
    "$ \\psi $・$ \\phi $の値は-90°以上90°以下の値をとる。  "
   ]
  },
  {
   "cell_type": "code",
   "execution_count": 2,
   "metadata": {},
   "outputs": [],
   "source": [
    "class hbl_input():\n",
    "    def __init__( self, W, d, S, REFUS, REFUD, REFLS, REFLD, psi, phi ):\n",
    "        self.W = W\n",
    "        self.d = d\n",
    "        self.S = S\n",
    "        self.REFUS = REFUS\n",
    "        self.REFUD = REFUD\n",
    "        self.REFLS = REFLS\n",
    "        self.REFLD = REFLD\n",
    "        self.psi = psi\n",
    "        self.phi = phi\n",
    "\n",
    "# W：スラット幅 (mm)\n",
    "# d：スラット高さ (mm) \n",
    "# S：スラット間隔 (mm) \n",
    "# REFUS：スラット材上面の日射反射率（鏡面反射成分）\n",
    "# REFUD：スラット材上面の日射反射率（拡散反射成分）\n",
    "# REFLS：スラット材下面の日射反射率（鏡面反射成分）\n",
    "# REFLD：スラット材下面の日射反射率（拡散反射成分）\n",
    "# psi：スラット角 (°) \n",
    "# phi：プロファイル角 (°)"
   ]
  },
  {
   "cell_type": "markdown",
   "metadata": {},
   "source": [
    "### 1. 日射透過率・日射反射率の計算"
   ]
  },
  {
   "cell_type": "markdown",
   "metadata": {},
   "source": [
    "横型ブラインドの日射透過率と日射反射率の計算方法を以下に示す。  \n",
    "\n",
    "（参考：JIS A 2103：2014 附属書C ブラインドの光学特性の計算方法）  \n",
    "\n",
    "正面側からの入射光に対するプロファイル角$\\phi$、スラット角$\\psi$の日射透過率$ \\tau_{\\phi,\\psi,f} $は、"
   ]
  },
  {
   "cell_type": "markdown",
   "metadata": {},
   "source": [
    "$$\n",
    "\\begin{eqnarray}\n",
    " &\\displaystyle \\tau_{\\phi, \\psi, f} = \\tau_{T, \\phi, \\psi, f} + \\tau_{S, \\phi, \\psi, f} + \\tau_{D, \\phi, \\psi, f}& \\qquad\\qquad\\text{(1-1)} \\nonumber\\\\\n",
    "\\end{eqnarray}\n",
    "$$"
   ]
  },
  {
   "cell_type": "markdown",
   "metadata": {},
   "source": [
    "ここで、  \n",
    "\n",
    "$ \\tau_{T, \\phi, \\psi, f} $ ：横型ブラインドの正面側からの入射光に対するプロファイル角$\\phi$、スラット角$\\psi$の直接日射透過率  \n",
    "$ \\tau_{S, \\phi, \\psi, f} $ ：横型ブラインドの正面側からの入射光に対するプロファイル角$\\phi$、スラット角$\\psi$の間接日射透過率（鏡面反射成分）  \n",
    "$ \\tau_{D, \\phi, \\psi, f} $ ：横型ブラインドの正面側からの入射光に対するプロファイル角$\\phi$、スラット角$\\psi$の間接日射透過率（拡散反射成分）\n",
    "\n",
    "である。"
   ]
  },
  {
   "cell_type": "markdown",
   "metadata": {},
   "source": [
    "背面側からの入射光に対するプロファイル角$\\phi$、スラット角$\\psi$の日射透過率$ \\tau_{\\phi,\\psi,b} $は、"
   ]
  },
  {
   "cell_type": "markdown",
   "metadata": {},
   "source": [
    "$$\n",
    "\\begin{eqnarray}\n",
    " &\\displaystyle \\tau_{\\phi, \\psi, b} = \\tau_{\\phi, -\\psi, f}& \\qquad\\qquad\\text{(1-2)} \\nonumber\\\\\n",
    "\\end{eqnarray}\n",
    "$$"
   ]
  },
  {
   "cell_type": "markdown",
   "metadata": {},
   "source": [
    "正面側からの入射光に対するプロファイル角$\\phi$、スラット角$\\psi$の日射反射率$ \\rho_{\\phi,\\psi,f} $は、"
   ]
  },
  {
   "cell_type": "markdown",
   "metadata": {},
   "source": [
    "$$\n",
    "\\begin{eqnarray}\n",
    " &\\displaystyle \\rho_{\\phi, \\psi, f} = \\rho_{S, \\phi, \\psi, f} + \\rho_{D, \\phi, \\psi, f}& \\qquad\\qquad\\text{(1-3)} \\nonumber\\\\\n",
    "\\end{eqnarray}\n",
    "$$"
   ]
  },
  {
   "cell_type": "markdown",
   "metadata": {},
   "source": [
    "ここで、  \n",
    "\n",
    "$ \\rho_{S, \\phi, \\psi, f} $ ：横型ブラインドの正面側からの入射光に対するプロファイル角$\\phi$、スラット角$\\psi$の日射反射率（鏡面反射成分）  \n",
    "$ \\rho_{D, \\phi, \\psi, f} $ ：横型ブラインドの正面側からの入射光に対するプロファイル角$\\phi$、スラット角$\\psi$の日射反射率（拡散反射成分）\n",
    "\n",
    "である。"
   ]
  },
  {
   "cell_type": "markdown",
   "metadata": {},
   "source": [
    "背面側からの入射光に対するプロファイル角$\\phi$、スラット角$\\psi$の日射反射率$ \\rho_{\\phi,\\psi,b} $は、"
   ]
  },
  {
   "cell_type": "markdown",
   "metadata": {},
   "source": [
    "$$\n",
    "\\begin{eqnarray}\n",
    " &\\displaystyle \\rho_{\\phi, \\psi, b} = \\rho_{\\phi, -\\psi, f}& \\qquad\\qquad\\text{(1-4)} \\nonumber\\\\\n",
    "\\end{eqnarray}\n",
    "$$"
   ]
  },
  {
   "cell_type": "code",
   "execution_count": 3,
   "metadata": {},
   "outputs": [],
   "source": [
    "def total_optical_prop(tau_t, tau_s, tau_d, rho_s, rho_d):\n",
    "    \n",
    "    tau_tot = tau_t + tau_s + tau_d #式(1-1)\n",
    "    rho_tot = rho_s + rho_d #式(1-3)\n",
    "    \n",
    "    return tau_tot, rho_tot    "
   ]
  },
  {
   "cell_type": "markdown",
   "metadata": {},
   "source": [
    "### 2. 直接日射透過率"
   ]
  },
  {
   "cell_type": "markdown",
   "metadata": {},
   "source": [
    "直接日射透過率（入射日射のうちスラット材に当たらず直接透過する日射の成分比）の計算方法を以下に示す。  \n",
    "\n",
    "（参考：JIS A 2103：2014 附属書C ブラインドの光学特性の計算方法）  "
   ]
  },
  {
   "cell_type": "markdown",
   "metadata": {},
   "source": [
    "#### 入射日射（$l = 0$）の位置ベクトル、方向ベクトル、入射日射熱量  \n",
    "\n",
    "![image7.png][attached1]\n",
    "[attached1]:img\\image7.png  \n",
    "\n",
    "DA間の分割要素$m$からの入射日射の始点の位置ベクトル$ \\boldsymbol{p}_{m,0} $は、"
   ]
  },
  {
   "cell_type": "markdown",
   "metadata": {},
   "source": [
    "$$ \n",
    "\\displaystyle \\boldsymbol{p}_{m,0} = \n",
    "\\begin{pmatrix} \n",
    "\\displaystyle 0 \\\\\n",
    "\\displaystyle (m + 0.5) \\frac{S}{M} \\\\\n",
    "\\end{pmatrix} \n",
    "\\qquad\\qquad\\text{(2-1)}\n",
    "$$"
   ]
  },
  {
   "cell_type": "markdown",
   "metadata": {},
   "source": [
    "ここで、  \n",
    "\n",
    "$ \\boldsymbol{p}_{m,l} $ ：入射開口DA間の分割要素$m$からの$l$回スラット材に反射した日射の始点の位置ベクトル  \n",
    "$ M $ ：入射開口DA間の分割数  \n",
    "$ l $ ：カウンタ（$0$～$l_{max}-1$）  \n",
    "$ m $ ：カウンタ（$0$～$M-1$）  \n",
    "\n",
    "である。"
   ]
  },
  {
   "cell_type": "markdown",
   "metadata": {},
   "source": [
    "DA間の分割要素$m$からの入射日射の方向ベクトル$ \\boldsymbol{s}_{m,0} $は、"
   ]
  },
  {
   "cell_type": "markdown",
   "metadata": {},
   "source": [
    "$$ \n",
    "\\displaystyle \\boldsymbol{s}_{m,0} = \n",
    "\\begin{pmatrix} \n",
    "\\displaystyle \\cos\\phi \\\\\n",
    "\\displaystyle -\\sin\\phi \\\\\n",
    "\\end{pmatrix} \n",
    "\\qquad\\qquad\\text{(2-2)}\n",
    "$$"
   ]
  },
  {
   "cell_type": "markdown",
   "metadata": {},
   "source": [
    "ここで、  \n",
    "\n",
    "$ \\boldsymbol{s}_{m,l} $ ：入射開口DA間の分割要素$m$からの$l$回スラット材に反射した日射の方向ベクトル  \n",
    "\n",
    "である。"
   ]
  },
  {
   "cell_type": "markdown",
   "metadata": {},
   "source": [
    "DA間の分割要素$m$からの入射日射熱量$ Q_{m,0} $は、"
   ]
  },
  {
   "cell_type": "markdown",
   "metadata": {},
   "source": [
    "$$\n",
    "\\begin{eqnarray}\n",
    " &\\displaystyle Q_{m,0} = I \\cdot \\cos \\phi \\cdot \\Delta L_{m}& \\qquad\\qquad\\text{(2-3)} \\nonumber\\\\\n",
    "\\end{eqnarray}\n",
    "$$"
   ]
  },
  {
   "cell_type": "markdown",
   "metadata": {},
   "source": [
    "ここで、  \n",
    "\n",
    "$ Q_{m,l} $ ：入射開口DA間の分割要素$m$からの$l$回スラット材に反射した日射熱量 (W/m)  \n",
    "$ I $ ：法線面直達日射量（ここでは、光学計算のみであることから簡単のため、$I = 1$として計算する） (W/m)  \n",
    "$ \\Delta L_{m} $ ：入射開口DA間の分割要素$m$の長さ (m)    \n",
    "\n",
    "である。"
   ]
  },
  {
   "cell_type": "markdown",
   "metadata": {},
   "source": [
    "$$\n",
    "\\begin{eqnarray}\n",
    " &\\displaystyle \\Delta L_{m} = \\frac{S}{M}& \\qquad\\qquad\\text{(2-4)} \\nonumber\\\\\n",
    "\\end{eqnarray}\n",
    "$$"
   ]
  },
  {
   "cell_type": "markdown",
   "metadata": {},
   "source": [
    "#### 光線の始点の位置ベクトル（$l > 0$）の計算  \n",
    "\n",
    "光線の始点の位置ベクトル$ \\boldsymbol{p}_{m,l} $の計算式は、  "
   ]
  },
  {
   "cell_type": "markdown",
   "metadata": {},
   "source": [
    "$$\n",
    "\\begin{eqnarray}\n",
    " &\\displaystyle \\boldsymbol{p}_{m,l} = \\boldsymbol{p}_{m,l-1} + a_{i} \\cdot \\boldsymbol{s}_{m,l-1} = \\boldsymbol{q}_{i} + b_{i} \\cdot \\boldsymbol{v}_{i}& \\qquad\\qquad\\text{(2-5)} \\nonumber\\\\\n",
    "\\end{eqnarray}\n",
    "$$"
   ]
  },
  {
   "cell_type": "markdown",
   "metadata": {},
   "source": [
    "ここで、  \n",
    "\n",
    "$ \\boldsymbol{q}_{i} $ ：領域境界の分割要素$i$の始点の位置ベクトル（○章に計算方法を示す）  \n",
    "$ \\boldsymbol{v}_{i} $ ：領域境界の分割要素$i$の方向ベクトル（○章に計算方法を示す）    \n",
    "$ a_{i},b_{i} $ ：分割要素$i$に日射が当たるか否かを判断する係数  \n",
    "$ i $ ：カウンタ（$0$～$K-1$）  \n",
    "\n",
    "である。"
   ]
  },
  {
   "cell_type": "markdown",
   "metadata": {},
   "source": [
    "式(2-5)の関係より、"
   ]
  },
  {
   "cell_type": "markdown",
   "metadata": {},
   "source": [
    "$$ \n",
    "\\begin{pmatrix} \n",
    "\\displaystyle s_{l-1,x}& -v_{i,x} \\\\\n",
    "\\displaystyle s_{l-1,y}& -v_{i,y} \\\\\n",
    "\\end{pmatrix}\n",
    "\\begin{pmatrix} \n",
    "\\displaystyle a_{i} \\\\\n",
    "\\displaystyle b_{i} \\\\\n",
    "\\end{pmatrix}\n",
    "=\n",
    "\\begin{pmatrix} \n",
    "\\displaystyle q_{i,x} - p_{l-1,x} \\\\\n",
    "\\displaystyle q_{i,y} - p_{l-1,y} \\\\\n",
    "\\end{pmatrix}\n",
    "\\qquad\\qquad\\text{(2-6)}\n",
    "$$"
   ]
  },
  {
   "cell_type": "markdown",
   "metadata": {},
   "source": [
    "ただし、$0 < a_{i}$かつ$0 \\leq b_{i} < 1$のとき、$\\min a_{i}$が分割要素$i$に光線が到達する。"
   ]
  },
  {
   "cell_type": "markdown",
   "metadata": {},
   "source": [
    "#### 直接日射透過率  \n",
    "\n",
    "$l=0$の光線$m$が到達した領域境界の位置ベクトルすなわち、$l=1$の光線の始点の位置ベクトル$ \\boldsymbol{p}_{1} $がBC間にあるとき、光線$m$がスラット間を直接透過したと判断する。したがって、プロファイル角$\\phi$、スラット角$\\psi$の直接日射透過率$\\tau_{T, \\phi, \\psi}$は、  "
   ]
  },
  {
   "cell_type": "markdown",
   "metadata": {},
   "source": [
    "$$\n",
    "\\begin{eqnarray}\n",
    " &\\displaystyle \\tau_{T, \\phi, \\psi} = \\frac{\\sum^{M-1}_{m=0}Q_{m,1(B \\leq \\boldsymbol{p}_{1} \\leq C)}}{\\sum^{M-1}_{m=0}Q_{m,0}}& \\qquad\\qquad\\text{(2-9)} \\nonumber\\\\\n",
    "\\end{eqnarray}\n",
    "$$"
   ]
  },
  {
   "cell_type": "markdown",
   "metadata": {},
   "source": [
    "$$\n",
    "\\begin{eqnarray}\n",
    " &Q_{m,1(B \\leq \\boldsymbol{p}_{1} \\leq C)} = G_{\\tau,m}Q_{m,0}& \\qquad\\qquad\\text{(2-10)} \\nonumber\\\\\n",
    "\\end{eqnarray}\n",
    "$$"
   ]
  },
  {
   "cell_type": "markdown",
   "metadata": {},
   "source": [
    "ここで、  \n",
    "\n",
    "$ G_{\\tau,m} $ ：光線$m$が直接透過したか判断する係数\n",
    "\n",
    "であり、"
   ]
  },
  {
   "cell_type": "markdown",
   "metadata": {},
   "source": [
    "$$\n",
    "\\begin{eqnarray}\n",
    " &\\displaystyle G_{\\tau,m} = \\left\\{ \\begin{array}{ll}\n",
    "    1 & (m \\in BC) & \\nonumber\\\\\n",
    "                   & \\qquad\\qquad\\qquad\\text{(2-11)} \\nonumber\\\\\n",
    "    0 & (m \\notin BC) & \\nonumber\\\\\n",
    "  \\end{array}\\right.\n",
    "\\end{eqnarray}\n",
    "$$"
   ]
  },
  {
   "cell_type": "markdown",
   "metadata": {},
   "source": [
    "式(2-9)と式(2-10)より、"
   ]
  },
  {
   "cell_type": "markdown",
   "metadata": {},
   "source": [
    "$$\n",
    "\\begin{eqnarray}\n",
    " &\\displaystyle \\tau_{T, \\phi, \\psi} = \\frac{\\sum^{M-1}_{m=0}G_{\\tau,m}}{M}& \\qquad\\qquad\\text{(2-12)} \\nonumber\\\\\n",
    "\\end{eqnarray}\n",
    "$$"
   ]
  },
  {
   "cell_type": "code",
   "execution_count": 4,
   "metadata": {},
   "outputs": [],
   "source": [
    "def through_transmission(L, M, q, v, u, sK):\n",
    "    \n",
    "    l = 1\n",
    "    p = np.empty((M, 2, 2), dtype=object) #光線の始点の位置ベクトル\n",
    "    s = np.zeros((M, 2, 2))               #光線の方向ベクトル\n",
    "    ri = np.zeros(M)                      #光線の到達した領域境界分割要素\n",
    "    G = np.zeros(M)                       #光線の最終到達面の判断\n",
    "\n",
    "    for m in range(M):\n",
    "        p[m][l-1] = [0., (m + 0.5) * L.S / M]                                        #式(2-1)、光線の始点の位置ベクトル(0回目)\n",
    "        s[m][l-1] = [math.cos(math.radians(L.phi)), - math.sin(math.radians(L.phi))] #式(2-2)、光線の方向ベクトル(0回目)\n",
    "        \n",
    "        ra = 0. #raの初期化\n",
    "        for i in range(sK[len(sK) - 2]): #A～D間で検索\n",
    "            if np.vdot(s[m][l-1], u[i]) < 0.: #光線が表面から入射する\n",
    "                detA = round(np.linalg.det(np.array([s[m][l-1], - v[i]]).T.astype(np.float64)), 10)\n",
    "                if detA != 0.:\n",
    "                    a = round(np.linalg.solve(np.array([s[m][l-1], - v[i]]).T.astype(np.float64), \\\n",
    "                        (q[i] - p[m][l-1]).astype(np.float64))[0], 10)\n",
    "                    b = round(np.linalg.solve(np.array([s[m][l-1], - v[i]]).T.astype(np.float64), \\\n",
    "                        (q[i] - p[m][l-1]).astype(np.float64))[1], 10)\n",
    "                    if 0. < a and 0. <= b and b < 1.:\n",
    "                        if ra == 0. or a < ra: #aが最も小さい場合の領域境界分割要素に光線が到達する\n",
    "                            ra = a    #光線が最初に到達する領域境界分割要素の判断用\n",
    "                            ri[m] = i #光線の到達した領域境界分割要素\n",
    "\n",
    "        if sK[2] <= ri[m] and ri[m] < sK[3]: G[m] = 1    #BC間(透過)\n",
    "        \n",
    "    tau_t = math.fsum(G) / M #式(2-11)\n",
    "\n",
    "    return tau_t"
   ]
  },
  {
   "cell_type": "markdown",
   "metadata": {},
   "source": [
    "### 3. 間接日射透過率・反射率（鏡面反射成分）"
   ]
  },
  {
   "cell_type": "markdown",
   "metadata": {},
   "source": [
    "間接日射透過率・反射率（入射日射のうちスラット材に当たり反射したのち透過または反射する日射の成分比）のうち、鏡面反射成分の計算方法を以下に示す。  \n",
    "\n",
    "（参考：JIS A 2103：2014 附属書C ブラインドの光学特性の計算方法）  \n",
    "\n",
    "![image4.png][attached1]\n",
    "[attached1]:img\\image4.png  "
   ]
  },
  {
   "cell_type": "markdown",
   "metadata": {},
   "source": [
    "入射日射（$l = 0$）の位置ベクトル、方向ベクトル、入射日射熱量及び光線の始点の位置ベクトルの計算は、式(2-1)～式(2-8)による。"
   ]
  },
  {
   "cell_type": "markdown",
   "metadata": {},
   "source": [
    "#### 光線の方向ベクトルの計算  \n",
    "\n",
    "光線の方向ベクトル$ \\boldsymbol{s}_{l} $の計算式は、  "
   ]
  },
  {
   "cell_type": "markdown",
   "metadata": {},
   "source": [
    "$$\n",
    "\\begin{eqnarray}\n",
    " &\\displaystyle \\boldsymbol{s}_{l} = - \\boldsymbol{s}_{l-1} + 2 \\frac{\\boldsymbol{s}_{l-1} \\cdot \\boldsymbol{v}_{i}}{\\bigl|\\boldsymbol{v}_{i}\\bigr|} \\frac{\\boldsymbol{v}_{i}}{\\bigl|\\boldsymbol{v}_{i}\\bigr|}& \\qquad\\qquad\\text{(3-1)} \\nonumber\\\\\n",
    "\\end{eqnarray}\n",
    "$$"
   ]
  },
  {
   "cell_type": "markdown",
   "metadata": {},
   "source": [
    "式(3-1)の補足説明  "
   ]
  },
  {
   "cell_type": "markdown",
   "metadata": {},
   "source": [
    "$$\n",
    "\\begin{eqnarray}\n",
    " &\\displaystyle c = \\bigl|\\boldsymbol{s}_{l-1}\\bigr| \\cos \\xi& \\qquad\\qquad\\text{(3-1-a)} \\nonumber\\\\\n",
    "\\end{eqnarray}\n",
    "$$"
   ]
  },
  {
   "cell_type": "markdown",
   "metadata": {},
   "source": [
    "内積の関係より、"
   ]
  },
  {
   "cell_type": "markdown",
   "metadata": {},
   "source": [
    "$$\n",
    "\\begin{eqnarray}\n",
    " &\\displaystyle \\cos \\xi = \\frac{\\boldsymbol{s}_{l-1}\\cdot \\boldsymbol{v}_{i}}{\\bigl|\\boldsymbol{s}_{l-1}\\bigr|\\bigl|\\boldsymbol{v}_{i}\\bigr|}& \\qquad\\qquad\\text{(3-1-b)} \\nonumber\\\\\n",
    "\\end{eqnarray}\n",
    "$$"
   ]
  },
  {
   "cell_type": "markdown",
   "metadata": {},
   "source": [
    "式(3-1-a)と式(3-1-b)より、"
   ]
  },
  {
   "cell_type": "markdown",
   "metadata": {},
   "source": [
    "$$\n",
    "\\begin{eqnarray}\n",
    " &\\displaystyle c = \\frac{\\boldsymbol{s}_{l-1} \\cdot \\boldsymbol{v}_{i}}{\\bigl|\\boldsymbol{v}_{i}\\bigr|}& \\qquad\\qquad\\text{(3-1-c)} \\nonumber\\\\\n",
    "\\end{eqnarray}\n",
    "$$"
   ]
  },
  {
   "cell_type": "markdown",
   "metadata": {},
   "source": [
    "次に、  "
   ]
  },
  {
   "cell_type": "markdown",
   "metadata": {},
   "source": [
    "$$\n",
    "\\begin{eqnarray}\n",
    " &\\displaystyle \\boldsymbol{s}_{l} = -\\boldsymbol{s}_{l-1} + 2c\\frac{\\boldsymbol{v}_{i}}{\\bigl|\\boldsymbol{v}_{i}\\bigr|}& \\qquad\\qquad\\text{(3-1-d)} \\nonumber\\\\\n",
    "\\end{eqnarray}\n",
    "$$"
   ]
  },
  {
   "cell_type": "markdown",
   "metadata": {},
   "source": [
    "式(3-1-c)と式(3-1-d)より、式(3-1)が得られる。  "
   ]
  },
  {
   "cell_type": "markdown",
   "metadata": {},
   "source": [
    "![image3.png][attached1]\n",
    "[attached1]:img\\image3.png  "
   ]
  },
  {
   "cell_type": "markdown",
   "metadata": {},
   "source": [
    "#### 間接日射透過率・反射率（鏡面反射成分）  \n",
    "\n",
    "鏡面反射に対する日射透過率$\\tau_{S, \\phi, \\psi}$は、  "
   ]
  },
  {
   "cell_type": "markdown",
   "metadata": {},
   "source": [
    "$$\n",
    "\\begin{eqnarray}\n",
    " &\\displaystyle \\tau_{S, \\phi, \\psi} = \\frac{\\sum^{M-1}_{m=0}Q_{m,BC}}{\\sum^{M-1}_{m=0}Q_{m,0}}& \\qquad\\qquad\\text{(3-2)} \\nonumber\\\\\n",
    "\\end{eqnarray}\n",
    "$$"
   ]
  },
  {
   "cell_type": "markdown",
   "metadata": {},
   "source": [
    "光線$m$がスラット上面に$l_{m,upper,S}$回、スラット下面に$l_{m,lower,S}$回反射してBC間に到達した場合、"
   ]
  },
  {
   "cell_type": "markdown",
   "metadata": {},
   "source": [
    "$$\n",
    "\\begin{eqnarray}\n",
    " &Q_{m,BC} = G_{\\tau,m}\\:\\rho_{upper,S}^{l_{m,upper,S}}\\:\\rho_{lower,S}^{l_{m,lower,S}}\\:Q_{m,0}& \\qquad\\qquad\\text{(3-3)} \\nonumber\\\\\n",
    "\\end{eqnarray}\n",
    "$$"
   ]
  },
  {
   "cell_type": "markdown",
   "metadata": {},
   "source": [
    "ここで、  \n",
    "\n",
    "$ G_{\\tau,m} $ ：光線$m$が透過したか判断する係数  \n",
    "\n",
    "である。  \n",
    "\n",
    "光線$m$が直接透過せず1回以上スラット材で鏡面反射したのちBC間に到達した場合は$G_{\\tau,m}=1$、それ以外の場合は$G_{\\tau,m}=0$とする。  \n",
    "\n",
    "式(3-2)と式(3-3)より、"
   ]
  },
  {
   "cell_type": "markdown",
   "metadata": {},
   "source": [
    "$$\n",
    "\\begin{eqnarray}\n",
    " &\\displaystyle \\tau_{S, \\phi, \\psi} = \\frac{\\sum^{M-1}_{m=0}G_{\\tau,m}\\:\\rho_{upper,S}^{l_{m,upper,S}}\\:\\rho_{lower,S}^{l_{m,lower,S}}}{M}& \\qquad\\qquad\\text{(3-4)} \\nonumber\\\\\n",
    "\\end{eqnarray}\n",
    "$$"
   ]
  },
  {
   "cell_type": "markdown",
   "metadata": {},
   "source": [
    "鏡面反射に対する日射反射率$ \\rho_{S, \\phi, \\psi}$は、  "
   ]
  },
  {
   "cell_type": "markdown",
   "metadata": {},
   "source": [
    "$$\n",
    "\\begin{eqnarray}\n",
    " &\\displaystyle \\rho_{S, \\phi, \\psi} = \\frac{\\sum^{M-1}_{m=0}Q_{m,DA}}{\\sum^{M-1}_{m=0}Q_{m,0}}& \\qquad\\qquad\\text{(3-5)} \\nonumber\\\\\n",
    "\\end{eqnarray}\n",
    "$$"
   ]
  },
  {
   "cell_type": "markdown",
   "metadata": {},
   "source": [
    "光線$m$がスラット上面に$l_{m,upper,S}$回、スラット下面に$l_{m,lower,S}$回反射してDA間に到達した場合、"
   ]
  },
  {
   "cell_type": "markdown",
   "metadata": {},
   "source": [
    "$$\n",
    "\\begin{eqnarray}\n",
    " &Q_{m,DA} = G_{\\rho,m}\\:\\rho_{upper,S}^{l_{m,upper,S}}\\:\\rho_{lower,S}^{l_{m,lower,S}}\\:Q_{m,0}& \\qquad\\qquad\\text{(3-6)} \\nonumber\\\\\n",
    "\\end{eqnarray}\n",
    "$$"
   ]
  },
  {
   "cell_type": "markdown",
   "metadata": {},
   "source": [
    "ここで、  \n",
    "\n",
    "$ G_{\\rho,m} $ ：光線$m$が反射したか判断する係数  \n",
    "\n",
    "である。  \n",
    "\n",
    "光線$m$が直接透過せず1回以上スラット材で鏡面反射したのちDA間に到達した場合は$G_{\\rho,m}=1$、それ以外の場合は$G_{\\rho,m}=0$とする。  \n",
    "\n",
    "式(3-5)と式(3-6)より、"
   ]
  },
  {
   "cell_type": "markdown",
   "metadata": {},
   "source": [
    "$$\n",
    "\\begin{eqnarray}\n",
    " &\\displaystyle \\rho_{S, \\phi, \\psi} = \\frac{\\sum^{M-1}_{m=0}G_{\\rho,m}\\:\\rho_{upper,S}^{l_{m,upper,S}}\\:\\rho_{lower,S}^{l_{m,lower,S}}}{M}& \\qquad\\qquad\\text{(3-7)} \\nonumber\\\\\n",
    "\\end{eqnarray}\n",
    "$$"
   ]
  },
  {
   "cell_type": "code",
   "execution_count": 5,
   "metadata": {},
   "outputs": [],
   "source": [
    "def specular_reflection(L, M, q, v, u, lmax, sK):\n",
    "\n",
    "    l = 0                                    #反射回数初期値\n",
    "    p = np.empty((M, lmax, 2), dtype=object) #光線の始点の位置ベクトル\n",
    "    s = np.zeros((M, lmax, 2))               #光線の方向ベクトル\n",
    "    ri = np.empty((M, lmax), dtype=object)   #光線の到達した領域境界分割要素\n",
    "    lupper = np.zeros(M)                     #スラット上面での反射回数\n",
    "    llower = np.zeros(M)                     #スラット下面での反射回数\n",
    "    G = np.zeros((M, 2))                     #光線の最終到達面の判断\n",
    "    for m in range(M):\n",
    "        p[m][0] = [0., (m + 0.5) * L.S / M]                                #式(2-1)、光線の始点の位置ベクトル(0回目) \n",
    "        s[m][0] = [math.cos(math.radians(L.phi)), - math.sin(math.radians(L.phi))] #式(2-2)、光線の方向ベクトル(0回目)\n",
    "                \n",
    "    while l <= lmax - 2 and not (s[:,l] == 0).all(): #全ての光線の方向ベクトルが0であれば計算終了\n",
    "        l += 1 #反射回数の追加\n",
    "        for m in range(M):\n",
    "            ra = 0.\n",
    "            rb = 0.\n",
    "            for i in range(sK[len(sK) - 1] - 1):\n",
    "                if not (l == 1. and sK[len(sK) - 2] <= i and i <= sK[len(sK) - 1] - 2):\n",
    "                    if (s[m][l-1] == 0).all(): #光線の方向ベクトルが0であれば\n",
    "                        ri[m][l] = ri[m][l-1]  #光線の到達した領域境界分割要素は前回と同じ\n",
    "                    else:                      #光線の方向ベクトルが0でなければ\n",
    "                        if i != ri[m][l-1] and np.vdot(s[m][l-1], u[i]) < 0.: #光線が同じ領域境界分割要素に到達したり、表面から入射しない場合スキップ\n",
    "                            detA = round(np.linalg.det(np.array([s[m][l-1], - v[i]]).T.astype(np.float64)), 10)\n",
    "                            if detA != 0.:\n",
    "                                a = round(np.linalg.solve(np.array([s[m][l-1], - v[i]]).T.astype(np.float64), \\\n",
    "                                    (q[i] - p[m][l-1]).astype(np.float64))[0], 10)\n",
    "                                b = round(np.linalg.solve(np.array([s[m][l-1], - v[i]]).T.astype(np.float64), \\\n",
    "                                    (q[i] - p[m][l-1]).astype(np.float64))[1], 10)\n",
    "                                if 0. < a and 0. <= b and b < 1.:\n",
    "                                    if ra == 0 or a < ra: #aが最も小さい場合の領域境界分割要素に光線が到達する\n",
    "                                        ri[m][l] = i      #光線の到達した領域境界分割要素\n",
    "                                        ra = a            #光線が最初に到達する領域境界分割要素の判断用\n",
    "                                        rb = b            #光線の到達した位置ベクトル計算用\n",
    "\n",
    "            if (sK[2] <= ri[m][l] and ri[m][l] < sK[3]) or (sK[6] <= ri[m][l] and ri[m][l] < (sK[7] - 1)):\n",
    "                s[m][l] = 0 #光線がBC間またはDA間に到達した場合、光線の方向ベクトルを0とする処理\n",
    "            else:\n",
    "                s[m][l] = -s[m][l-1] + 2 * np.vdot(s[m][l-1], v[ri[m][l]]) * v[ri[m][l]] / \\\n",
    "                          (v[ri[m][l]][0] ** 2. + v[ri[m][l]][1] ** 2.) #式(3-1)、光線の方向ベクトル(1回目以降)\n",
    "\n",
    "            if (s[m][l-1] == 0).all(): #光線の方向ベクトルが0であれば\n",
    "                p[m][l] = p[m][l-1]    #光線の始点の位置ベクトルは前回と同じ\n",
    "            else:\n",
    "                p[m][l] = q[ri[m][l]] + rb * v[ri[m][l]] #式(2-5)、光線の始点の位置ベクトル(1回目以降)\n",
    "\n",
    "            if ri[m][l] < sK[0]:                                 llower[m] += 1 #AB間の下面A側\n",
    "            elif sK[0] <= ri[m][l] and ri[m][l] < sK[1]:         lupper[m] += 1 #AB間の上面\n",
    "            elif sK[1] <= ri[m][l] and ri[m][l] < sK[2]:         llower[m] += 1 #AB間の下面B側\n",
    "            elif sK[2] <= ri[m][l] and ri[m][l] < sK[3]:\n",
    "                if not (sK[2] <= ri[m][1] and ri[m][1] < sK[3]): G[m][0] = 1    #BC間(鏡面反射後の透過)\n",
    "            elif sK[3] <= ri[m][l] and ri[m][l] < sK[4]:         lupper[m] += 1 #CD間の上面C側\n",
    "            elif sK[4] <= ri[m][l] and ri[m][l] < sK[5]:         llower[m] += 1 #CD間の下面\n",
    "            elif sK[5] <= ri[m][l] and ri[m][l] < sK[6]:         lupper[m] += 1 #CD間の上面D側\n",
    "            elif sK[6] <= ri[m][l] and ri[m][l] < (sK[7] - 1):   G[m][1] = 1    #DA間(鏡面反射後の反射)\n",
    "            #print (m,l,ri[m][l], p[m][l], s[m][l], ra, rb)\n",
    "\n",
    "    attenuation = np.zeros(M)\n",
    "    for m in range(M):\n",
    "        attenuation[m] = L.REFUS ** lupper[m] * L.REFLS ** llower[m] #全入射光線の減衰率\n",
    "        #print(m,lupper[m],llower[m], G[m][0], G[m][1], attenuation[m])\n",
    "\n",
    "    tau_s = 0.\n",
    "    rho_s = 0.\n",
    "    for m in range(M):\n",
    "        tau_s += attenuation[m] * G[m][0] / M #式(3-4)、透過\n",
    "        rho_s += attenuation[m] * G[m][1] / M #式(3-7)、反射\n",
    "\n",
    "    return tau_s, rho_s, p, s, l"
   ]
  },
  {
   "cell_type": "markdown",
   "metadata": {},
   "source": [
    "### 4. 間接日射透過率・反射率（拡散反射成分）"
   ]
  },
  {
   "cell_type": "markdown",
   "metadata": {},
   "source": [
    "間接日射透過率・反射率（入射日射のうちスラット材に当たり反射したのち透過または反射する日射の成分比）のうち、拡散反射成分の計算方法を以下に示す。  \n",
    "\n",
    "（参考：JIS A 2103：2014 附属書C ブラインドの光学特性の計算方法）  \n",
    "\n",
    "![image4.png][attached1]\n",
    "[attached1]:img\\image4.png  "
   ]
  },
  {
   "cell_type": "markdown",
   "metadata": {},
   "source": [
    "入射日射（$l = 0$）の位置ベクトル、方向ベクトル、入射日射熱量及び光線の始点の位置ベクトルの計算は、式(2-1)～式(2-8)による。"
   ]
  },
  {
   "cell_type": "markdown",
   "metadata": {},
   "source": [
    "#### 直接受照日射量の計算\n",
    "\n",
    "直接受照日射量$E_{d,i}$の計算式は、"
   ]
  },
  {
   "cell_type": "markdown",
   "metadata": {},
   "source": [
    "$$\n",
    "\\begin{eqnarray}\n",
    " &\\displaystyle E_{d,i} = \\sum^{M-1}_{m=0} \\frac {Q_{m,0} \\sin \\xi_{i}}{\\Delta L_{i}}& \\qquad\\qquad\\text{(4-1)} \\nonumber\\\\\n",
    "\\end{eqnarray}\n",
    "$$"
   ]
  },
  {
   "cell_type": "markdown",
   "metadata": {},
   "source": [
    "ここで、  \n",
    "\n",
    "$ E_{d,i} $ ：領域境界分割要素$i$の直接受照日射量 (W/m)  \n",
    "$ \\xi_{i} $ ：入射日射（$l=0$）の方向ベクトル$\\boldsymbol{s}_{0}$と領域境界分割要素$i$の方向ベクトル$\\boldsymbol{v}_{i}$が成す角度 (°)  \n",
    "$ \\Delta L_{i} $ ：領域境界分割要素$i$の長さ (m)  \n",
    "\n",
    "である。  "
   ]
  },
  {
   "cell_type": "markdown",
   "metadata": {},
   "source": [
    "$$\n",
    "\\begin{eqnarray}\n",
    " &\\displaystyle \\xi_{i} = \\arccos \\frac{\\boldsymbol{s}_{0}\\cdot \\boldsymbol{v}_{i}}{\\bigl|\\boldsymbol{s}_{0}\\bigr|\\bigl|\\boldsymbol{v}_{i}\\bigr|}& \\qquad\\qquad\\text{(4-2)} \\nonumber\\\\\n",
    "\\end{eqnarray}\n",
    "$$"
   ]
  },
  {
   "cell_type": "markdown",
   "metadata": {},
   "source": [
    "$$\n",
    "\\begin{eqnarray}\n",
    " &\\displaystyle \\Delta L_{i} = \\bigl|\\boldsymbol{q}_{i+1} - \\boldsymbol{q}_{i}\\bigr|& \\qquad\\qquad\\text{(4-3)} \\nonumber\\\\\n",
    "\\end{eqnarray}\n",
    "$$"
   ]
  },
  {
   "cell_type": "markdown",
   "metadata": {},
   "source": [
    "![image3.png][attached1]\n",
    "[attached1]:img\\image3.png  "
   ]
  },
  {
   "cell_type": "markdown",
   "metadata": {},
   "source": [
    "#### 間接受照日射量の計算\n",
    "\n",
    "間接受照日射量$E_{r,i}$の計算式は、"
   ]
  },
  {
   "cell_type": "markdown",
   "metadata": {},
   "source": [
    "$$\n",
    "\\begin{eqnarray}\n",
    " &\\displaystyle E_{r,i} \\Delta L_{i} = \\sum^{K-1}_{j=0} F_{ji}\\rho_{j,D} (E_{r,j} + E_{d,j}) \\Delta L_j& \\qquad\\qquad\\text{(4-4)} \\nonumber\\\\\n",
    "\\end{eqnarray}\n",
    "$$"
   ]
  },
  {
   "cell_type": "markdown",
   "metadata": {},
   "source": [
    "ここで、  \n",
    "\n",
    "$ E_{r,i} $ ：領域境界分割要素$i$の間接受照日射量 (W/m)  \n",
    "$ F_{ji} $ ：領域境界分割要素$j$から$i$をみる形態係数  \n",
    "$ \\rho_{j,D} $ ：領域境界分割要素$j$の日射反射率（拡散反射成分）  \n",
    "$ E_{r,j} $ ：領域境界分割要素$j$の間接受照日射量 (W/m)  \n",
    "$ E_{d,j} $ ：領域境界分割要素$j$の直接受照日射量 (W/m)  \n",
    "$ \\Delta L_{j} $ ：領域境界分割要素$j$の長さ (m)  \n",
    "\n",
    "である。  "
   ]
  },
  {
   "cell_type": "markdown",
   "metadata": {},
   "source": [
    "形態係数の相反則より、"
   ]
  },
  {
   "cell_type": "markdown",
   "metadata": {},
   "source": [
    "$$\n",
    "\\begin{eqnarray}\n",
    " &\\displaystyle \\Delta L_{i} F_{ij} = \\Delta L_{j} F_{ji}& \\qquad\\qquad\\text{(4-5)} \\nonumber\\\\\n",
    "\\end{eqnarray}\n",
    "$$"
   ]
  },
  {
   "cell_type": "markdown",
   "metadata": {},
   "source": [
    "ここで、  \n",
    "\n",
    "$ F_{ij} $ ：領域境界分割要素$i$から$j$をみる形態係数（2次元形態係数を計算するモジュールによる）  \n",
    "\n",
    "である。  "
   ]
  },
  {
   "cell_type": "markdown",
   "metadata": {},
   "source": [
    "式(4-4)と式(4-5)より、"
   ]
  },
  {
   "cell_type": "markdown",
   "metadata": {},
   "source": [
    "$$\n",
    "\\begin{eqnarray}\n",
    " &\\displaystyle E_{r,i} = \\sum^{K-1}_{j=0} F_{ij}\\rho_{j,D} E_{r,j} + \\sum^{K-1}_{j=0} F_{ij}\\rho_{j,D} E_{d,j}& \\qquad\\qquad\\text{(4-6)} \\nonumber\\\\\n",
    "\\end{eqnarray}\n",
    "$$"
   ]
  },
  {
   "cell_type": "markdown",
   "metadata": {},
   "source": [
    "全領域境界について考えると、"
   ]
  },
  {
   "cell_type": "markdown",
   "metadata": {},
   "source": [
    "$$\n",
    "\\begin{eqnarray}\n",
    " &\\displaystyle \\sum^{K-1}_{i=0}E_{r,i} = \\sum^{K-1}_{i=0}\\sum^{K-1}_{j=0} F_{ij}\\rho_{j,D} E_{r,j} + \\sum^{K-1}_{i=0}\\sum^{K-1}_{j=0} F_{ij}\\rho_{j,D} E_{d,j}& \\qquad\\qquad\\text{(4-7)} \\nonumber\\\\\n",
    "\\end{eqnarray}\n",
    "$$"
   ]
  },
  {
   "cell_type": "markdown",
   "metadata": {},
   "source": [
    "式(4-7)を変形すると、"
   ]
  },
  {
   "cell_type": "markdown",
   "metadata": {},
   "source": [
    "$$\n",
    "\\begin{eqnarray}\n",
    " &\\displaystyle \\sum^{K-1}_{i=0}\\sum^{K-1}_{j=0} (\\delta_{i,j} - F_{ij}\\rho_{j,D}) E_{r,j} = \\sum^{K-1}_{i=0}\\sum^{K-1}_{j=0} F_{ij}\\rho_{j,D} E_{d,j}& \\qquad\\qquad\\text{(4-8)} \\nonumber\\\\\n",
    "\\end{eqnarray}\n",
    "$$"
   ]
  },
  {
   "cell_type": "markdown",
   "metadata": {},
   "source": [
    "ここで、  \n",
    "\n",
    "$ \\delta_{i,j} $ ：クロネッカーのデルタ（$i=j$のとき$1$、$i \\neq j$のとき$0$）  \n",
    "\n",
    "である。  "
   ]
  },
  {
   "cell_type": "markdown",
   "metadata": {},
   "source": [
    "式(4-8)を行列表現すると、"
   ]
  },
  {
   "cell_type": "markdown",
   "metadata": {},
   "source": [
    "$$\n",
    "\\begin{eqnarray}\n",
    " &\\displaystyle \\boldsymbol{A} \\boldsymbol{E}_{r} = \\boldsymbol{B} \\boldsymbol{E}_{d}& \\qquad\\qquad\\text{(4-9)} \\nonumber\\\\\n",
    "\\end{eqnarray}\n",
    "$$"
   ]
  },
  {
   "cell_type": "markdown",
   "metadata": {},
   "source": [
    "ここで、  \n",
    "\n",
    "$ A_{i,j} = \\delta_{i,j} - F_{ij}\\rho_{j,D} $  \n",
    "\n",
    "$ B_{i,j} = F_{ij}\\rho_{j,D} $  \n",
    "\n",
    "である。  \n",
    "\n",
    "よって、"
   ]
  },
  {
   "cell_type": "markdown",
   "metadata": {},
   "source": [
    "$$\n",
    "\\begin{eqnarray}\n",
    " &\\displaystyle \\boldsymbol{E}_{r} = \\boldsymbol{A} ^{-1} \\boldsymbol{B} \\boldsymbol{E}_{d}& \\qquad\\qquad\\text{(4-10)} \\nonumber\\\\\n",
    "\\end{eqnarray}\n",
    "$$"
   ]
  },
  {
   "cell_type": "markdown",
   "metadata": {},
   "source": [
    "領域境界分割要素$j$の日射反射率（拡散反射成分）$\\rho_{j,D}$は、"
   ]
  },
  {
   "cell_type": "markdown",
   "metadata": {},
   "source": [
    "$$\n",
    "\\begin{eqnarray}\n",
    " &\\displaystyle \\rho_{j,D} = \\left\\{ \\begin{array}{ll}\n",
    "    \\rho_{upper,D} & (j \\in AB_{upper}, j \\in CD_{upper}) & \\nonumber\\\\\n",
    "    \\rho_{lower,D} & (j \\in AB_{lower}, j \\in CD_{lower}) & \\qquad\\qquad\\text{(4-11)} \\nonumber\\\\\n",
    "    0 & (j \\in BC, j \\in DA) & \\nonumber\\\\\n",
    "  \\end{array}\\right.\n",
    "\\end{eqnarray}\n",
    "$$"
   ]
  },
  {
   "cell_type": "markdown",
   "metadata": {},
   "source": [
    "#### 間接日射透過率・反射率（拡散反射成分）  \n",
    "\n",
    "拡散反射に対する日射透過率$\\tau_{D, \\phi, \\psi}$は、  "
   ]
  },
  {
   "cell_type": "markdown",
   "metadata": {},
   "source": [
    "$$\n",
    "\\begin{eqnarray}\n",
    " &\\displaystyle \\tau_{D, \\phi, \\psi} = \\frac{\\sum_{i \\in BC}E_{r,i}\\Delta L_{i}}{\\sum^{M-1}_{m=0}Q_{m,0}}& \\qquad\\qquad\\text{(4-17)} \\nonumber\\\\\n",
    "\\end{eqnarray}\n",
    "$$"
   ]
  },
  {
   "cell_type": "markdown",
   "metadata": {},
   "source": [
    "拡散反射に対する日射反射率$ \\rho_{D, \\phi, \\psi}$は、  "
   ]
  },
  {
   "cell_type": "markdown",
   "metadata": {},
   "source": [
    "$$\n",
    "\\begin{eqnarray}\n",
    " &\\displaystyle \\rho_{D, \\phi, \\psi} = \\frac{\\sum_{i \\in DA}E_{r,i}\\Delta L_{i}}{\\sum^{M-1}_{m=0}Q_{m,0}}& \\qquad\\qquad\\text{(4-18)} \\nonumber\\\\\n",
    "\\end{eqnarray}\n",
    "$$"
   ]
  },
  {
   "cell_type": "code",
   "execution_count": 6,
   "metadata": {},
   "outputs": [],
   "source": [
    "def distance_calc(A, B):\n",
    "    return ((A[0] - B[0]) ** 2. + (A[1] - B[1]) ** 2.) ** 0.5"
   ]
  },
  {
   "cell_type": "code",
   "execution_count": 7,
   "metadata": {},
   "outputs": [],
   "source": [
    "def diffuse_reflection(L, M, q, v, u, sK):\n",
    "    \n",
    "    Q = np.empty((M, 2), dtype=object)                         #入射開口DA間の分割要素mからの入射日射熱量(W/m)\n",
    "    p = np.empty((M, 2, 2), dtype=object)                      #光線の始点の位置ベクトル\n",
    "    s = np.zeros((M, 2, 2))                                    #光線の方向ベクトル\n",
    "    dLm = np.zeros(M)                                          #光線の分割要素の長さ(m)\n",
    "    ri = np.empty(M, dtype=object)                             #光線の到達した領域境界分割要素\n",
    "    I = 1.                                                     #日射強度(W/m)\n",
    "    xi = np.zeros(sK[len(sK) - 1] - 1)\n",
    "    Ed = np.zeros(sK[len(sK) - 1] - 1)                         #直接受照日射量\n",
    "    Er = np.zeros(sK[len(sK) - 1] - 1)                         #間接受照日射量\n",
    "    rhod = np.zeros(sK[len(sK) - 1] - 1)                       #領域境界分割要素の日射反射率(拡散反射成分)\n",
    "    \n",
    "    tvf_in = TDVF.tvf_input(q)\n",
    "    F = TDVF.two_dimensional_view_factor(tvf_in)\n",
    "    dLi = np.array([distance_calc(q[i+1], q[i]) for i in range(sK[len(sK) - 1] - 1)], dtype=float)\n",
    "                                            \n",
    "    #式(4-11)、領域境界要素毎の日射反射率\n",
    "    for j in range(sK[len(sK) - 1] - 1):\n",
    "        if j < sK[0]:                        rhod[j] = L.REFLD #AB間の下面A側\n",
    "        elif sK[0] <= j and j < sK[1]:       rhod[j] = L.REFUD #AB間の上面\n",
    "        elif sK[1] <= j and j < sK[2]:       rhod[j] = L.REFLD #AB間の下面B側\n",
    "        elif sK[2] <= j and j < sK[3]:       rhod[j] = 0.      #BC間\n",
    "        elif sK[3] <= j and j < sK[4]:       rhod[j] = L.REFUD #CD間の上面C側\n",
    "        elif sK[4] <= j and j < sK[5]:       rhod[j] = L.REFLD #CD間の下面\n",
    "        elif sK[5] <= j and j < sK[6]:       rhod[j] = L.REFUD #CD間の上面D側\n",
    "        elif sK[6] <= j and j < (sK[7] - 1): rhod[j] = 0.      #DA間            \n",
    "                    \n",
    "    sumQ = 0.\n",
    "    for l in range(2):\n",
    "        for m in range(M):\n",
    "            if l == 0:\n",
    "                p[m][l] = [0, (m + 0.5) * L.S / M]                                #式(2-1)、光線の始点の位置ベクトル(0回目) \n",
    "                s[m][l] = [math.cos(math.radians(L.phi)), - math.sin(math.radians(L.phi))] #式(2-2)、光線の方向ベクトル(0回目)\n",
    "                dLm[m] = L.S / M                                                  #式(2-4)、分割要素mの長さ#追加\n",
    "                Q[m][l] = I * math.cos(math.radians(L.phi)) * dLm[m]                  #式(2-3)、光線の入射日射熱量(0回目)#追加\n",
    "                sumQ += Q[m][l]\n",
    "            elif l ==1:\n",
    "                ra = 0\n",
    "                for i in range(sK[len(sK) - 2]): #A～D間で検索\n",
    "                    if np.vdot(s[m][l-1], u[i]) < 0.: #光線が表面から入射しない場合スキップ\n",
    "                        detA = round(np.linalg.det(np.array([s[m][l-1], - v[i]]).T.astype(np.float64)), 10)\n",
    "                        if detA != 0.:\n",
    "                            a = round(np.linalg.solve(np.array([s[m][l-1], - v[i]]).T.astype(np.float64), \\\n",
    "                                (q[i] - p[m][l-1]).astype(np.float64))[0], 10)\n",
    "                            b = round(np.linalg.solve(np.array([s[m][l-1], - v[i]]).T.astype(np.float64), \\\n",
    "                                (q[i] - p[m][l-1]).astype(np.float64))[1], 10)\n",
    "                            if 0 < a and 0 <= b and b < 1:\n",
    "                                if ra == 0 or a < ra: #aが最も小さい場合の領域境界分割要素に光線が到達する\n",
    "                                    ri[m] = i #光線の到達した領域境界分割要素\n",
    "                                    ra = a    #光線が最初に到達する領域境界分割要素の判断用\n",
    "                                \n",
    "                if (sK[2] <= ri[m] and ri[m] < sK[3]) or (sK[6] <= ri[m] and ri[m] < (sK[7] - 1)):\n",
    "                    s[m][l] = 0 #光線がBC間またはDA間に到達した場合、光線の方向ベクトルを0とする処理\n",
    "                else:\n",
    "                    s[m][l] = -s[m][l-1] + 2 * np.vdot(s[m][l-1], v[ri[m]]) * v[ri[m]] / \\\n",
    "                              (v[ri[m]][0] ** 2. + v[ri[m]][1] ** 2.) #式(3-1)、光線の方向ベクトル(1回目以降)\n",
    "                    xi[ri[m]] = math.degrees(np.arccos(np.vdot(s[m][l], v[ri[m]]) / \\\n",
    "                                ((s[m][l][0] ** 2. + s[m][l][1] ** 2.) ** 0.5 * \\\n",
    "                                (v[ri[m]][0] ** 2. + v[ri[m]][1] ** 2.) ** 0.5))) #式(4-2)、#追加\n",
    "                    #Ed[ri[m]] += Q[m][l-1] * math.sin(math.radians(xi[ri[m]])) / dLi[ri[m]] #式(4-1)、#追加\n",
    "                    Ed[ri[m]] += Q[m][l-1] * 1 / dLi[ri[m]] #式(4-1)、#追加\n",
    "            \n",
    "    Kdelta = np.identity(sK[len(sK) - 1] - 1)                  #クロネッカーのデルタ\n",
    "    A = np.array([[Kdelta[i][j] - F[i][j] * rhod[j] \\\n",
    "                   for j in range(sK[len(sK) - 1] - 1)] for i in range(sK[len(sK) - 1] - 1)], dtype=float)\n",
    "    B = np.array([[F[i][j] * rhod[j] \\\n",
    "                   for j in range(sK[len(sK) - 1] - 1)] for i in range(sK[len(sK) - 1] - 1)], dtype=float)\n",
    "            \n",
    "    if np.linalg.det(A) != 0:    \n",
    "        inv_A = np.linalg.inv(A) #Aの逆行列\n",
    "\n",
    "    Er = np.dot(np.dot(inv_A, B), Ed) #式(4-10)\n",
    "\n",
    "    tau_d = 0.\n",
    "    rho_d = 0.    \n",
    "    for i in range(sK[len(sK) - 1] - 1):\n",
    "        if sK[2] <= i and i < sK[3]:\n",
    "            tau_d += Er[i] * dLi[i] / sumQ\n",
    "        elif sK[6] <= i and i < (sK[7] - 1):\n",
    "            rho_d += Er[i] * dLi[i] / sumQ\n",
    "            \n",
    "    return tau_d, rho_d"
   ]
  },
  {
   "cell_type": "markdown",
   "metadata": {},
   "source": [
    "### 3. 領域境界分割要素の位置ベクトルと方向ベクトル"
   ]
  },
  {
   "cell_type": "markdown",
   "metadata": {},
   "source": [
    "#### スラット端点と中央点の位置\n",
    "\n",
    "点A(下スラットの左端点)、点B(下スラットの右端点)、点C(上スラットの右端点)、点D(上スラットの左端点)、点E(下スラットの中央点)、点F(上スラットの中央点)の位置ベクトルは、"
   ]
  },
  {
   "cell_type": "markdown",
   "metadata": {},
   "source": [
    "![image4.png][attached1]\n",
    "[attached1]:img\\image4.png  "
   ]
  },
  {
   "cell_type": "markdown",
   "metadata": {},
   "source": [
    "$$ \n",
    "\\displaystyle \\boldsymbol{A} = \n",
    "\\begin{pmatrix} \n",
    "\\displaystyle 0 \\\\\n",
    "\\displaystyle 0 \\\\\n",
    "\\end{pmatrix} \n",
    "\\qquad\\qquad\\text{(1)}\n",
    "$$"
   ]
  },
  {
   "cell_type": "markdown",
   "metadata": {},
   "source": [
    "$$ \n",
    "\\displaystyle \\boldsymbol{B} = \n",
    "\\begin{pmatrix} \n",
    "\\displaystyle W\\cos\\psi \\\\\n",
    "\\displaystyle W\\sin\\psi \\\\\n",
    "\\end{pmatrix} \n",
    "\\qquad\\qquad\\text{(2)}\n",
    "$$"
   ]
  },
  {
   "cell_type": "markdown",
   "metadata": {},
   "source": [
    "$$ \n",
    "\\displaystyle \\boldsymbol{C} = \n",
    "\\begin{pmatrix} \n",
    "\\displaystyle B_{x} \\\\\n",
    "\\displaystyle B_{y} + S \\\\\n",
    "\\end{pmatrix}\n",
    "\\qquad\\qquad\\text{(3)}\n",
    "$$"
   ]
  },
  {
   "cell_type": "markdown",
   "metadata": {},
   "source": [
    "$$ \n",
    "\\displaystyle \\boldsymbol{D} = \n",
    "\\begin{pmatrix} \n",
    "\\displaystyle A_{x} \\\\\n",
    "\\displaystyle A_{y} + S \\\\\n",
    "\\end{pmatrix}\n",
    "\\qquad\\qquad\\text{(4)}\n",
    "$$"
   ]
  },
  {
   "cell_type": "markdown",
   "metadata": {},
   "source": [
    "平板スラット($d=0$)の場合、"
   ]
  },
  {
   "cell_type": "markdown",
   "metadata": {},
   "source": [
    "$$\n",
    "\\begin{eqnarray}\n",
    " &\\displaystyle \\boldsymbol{E} = \\frac{\\boldsymbol{B} - \\boldsymbol{A}}{2}& \\qquad\\qquad\\text{(5)} \\nonumber\\\\\n",
    "\\end{eqnarray}\n",
    "$$"
   ]
  },
  {
   "cell_type": "markdown",
   "metadata": {},
   "source": [
    "円弧スラット($d \\neq 0$)の場合、"
   ]
  },
  {
   "cell_type": "markdown",
   "metadata": {},
   "source": [
    "$$ \n",
    "\\displaystyle \\boldsymbol{E} = \n",
    "\\begin{pmatrix} \n",
    "\\displaystyle \\sqrt{(0.5W)^2 + d^2} \\cos\\Bigl(\\arctan\\frac{d}{0.5W} + \\psi\\Bigl) \\\\\n",
    "\\displaystyle \\sqrt{(0.5W)^2 + d^2} \\sin\\Bigl(\\arctan\\frac{d}{0.5W} + \\psi\\Bigl) \\\\\n",
    "\\end{pmatrix} \n",
    "\\qquad\\qquad\\text{(6)}\n",
    "$$"
   ]
  },
  {
   "cell_type": "markdown",
   "metadata": {},
   "source": [
    "$$ \n",
    "\\displaystyle \\boldsymbol{F} = \n",
    "\\begin{pmatrix} \n",
    "\\displaystyle E_{x} \\\\\n",
    "\\displaystyle E_{y} + S \\\\\n",
    "\\end{pmatrix}\n",
    "\\qquad\\qquad\\text{(7)}\n",
    "$$"
   ]
  },
  {
   "cell_type": "code",
   "execution_count": 8,
   "metadata": {},
   "outputs": [],
   "source": [
    "def slat_edge_position(L):\n",
    "    \n",
    "    A = np.array([0., 0.]) #式(1)\n",
    "    B = np.array([L.W * math.cos(math.radians(L.psi)), L.W * math.sin(math.radians(L.psi))]) #式(2)\n",
    "    C = np.array([B[0], B[1] + L.S]) #式(3)\n",
    "    D = np.array([A[0], A[1] + L.S]) #式(4)\n",
    "    if L.d ==0:\n",
    "        E = (B - A) / 2. #式(5)\n",
    "    else:\n",
    "        E = np.array([((0.5 * L.W) ** 2. + L.d ** 2.) ** 0.5 * math.cos(np.arctan(L.d / (0.5 * L.W)) + math.radians(L.psi)), \n",
    "                      ((0.5 * L.W) ** 2. + L.d ** 2.) ** 0.5 * math.sin(np.arctan(L.d / (0.5 * L.W)) + math.radians(L.psi))]) #式(6)\n",
    "    \n",
    "    F = np.array([E[0], E[1] + L.S]) #式(7)\n",
    "    \n",
    "    return A, B, C, D, E, F"
   ]
  },
  {
   "cell_type": "markdown",
   "metadata": {},
   "source": [
    "#### 円弧スラットの中心座標、半径、中心角  \n",
    "\n",
    "円弧スラット($d \\neq 0$)の場合、  \n",
    "\n",
    "円の方程式  "
   ]
  },
  {
   "cell_type": "markdown",
   "metadata": {},
   "source": [
    "$$\n",
    "\\begin{eqnarray}\n",
    " &\\displaystyle x^2 + y^2 + l_0x + l_1y + l_2 = 0& \\qquad\\qquad\\text{(1)} \\nonumber\\\\\n",
    "\\end{eqnarray}\n",
    "$$"
   ]
  },
  {
   "cell_type": "markdown",
   "metadata": {},
   "source": [
    "式(1)を変形すると、  "
   ]
  },
  {
   "cell_type": "markdown",
   "metadata": {},
   "source": [
    "$$\n",
    "\\begin{eqnarray}\n",
    " &\\displaystyle l_0x + l_1y + l_2 = -(x^2 + y^2)& \\qquad\\qquad\\text{(2)} \\nonumber\\\\\n",
    "\\end{eqnarray}\n",
    "$$"
   ]
  },
  {
   "cell_type": "markdown",
   "metadata": {},
   "source": [
    "外接円となる点A、点B、点Eの3点の位置ベクトルを式(2)に代入して連立すると、"
   ]
  },
  {
   "cell_type": "markdown",
   "metadata": {},
   "source": [
    "$$\n",
    "\\begin{eqnarray}\n",
    " &\\displaystyle \\boldsymbol{a} \\cdot \\boldsymbol{l} = \\boldsymbol{b}& \\qquad\\qquad\\text{(3)} \\nonumber\\\\\n",
    "\\end{eqnarray}\n",
    "$$"
   ]
  },
  {
   "cell_type": "markdown",
   "metadata": {},
   "source": [
    "ここで、"
   ]
  },
  {
   "cell_type": "markdown",
   "metadata": {},
   "source": [
    "$ \n",
    "\\displaystyle \\boldsymbol{a} = \n",
    "\\begin{pmatrix} \n",
    "\\displaystyle 0&\\displaystyle 0&\\displaystyle 1 \\\\\n",
    "\\displaystyle W\\cos\\psi&\\displaystyle W\\sin\\psi&\\displaystyle 1 \\\\\n",
    "\\displaystyle \\sqrt{(0.5W)^2 + d^2} \\cos\\Bigl(\\arctan\\frac{d}{0.5W} +\\psi\\Bigr)&\\displaystyle \\sqrt{(0.5W)^2 + d^2} \\sin\\Bigl(\\arctan\\frac{d}{0.5W} + \\psi\\Bigr)&\\displaystyle 1 \\\\\n",
    "\\end{pmatrix} \n",
    "$  \n",
    "\n",
    "$\n",
    "\\displaystyle \\boldsymbol{l}\n",
    "=\n",
    "\\begin{pmatrix} \n",
    "\\displaystyle l_0 \\\\\n",
    "\\displaystyle l_1 \\\\\n",
    "\\displaystyle l_2 \\\\\n",
    "\\end{pmatrix}\n",
    "$  \n",
    "\n",
    "$\n",
    "\\displaystyle \\boldsymbol{b}\n",
    "= \n",
    "\\begin{pmatrix} \n",
    "\\displaystyle 0 \\\\\n",
    "\\displaystyle -(W\\cos\\psi^2 + \\sin\\psi^2) \\\\\n",
    "\\displaystyle -\\Biggl(\\biggl(\\sqrt{(0.5W)^2 + d^2}\\cos\\Bigl(\\arctan\\frac{d}{0.5W} + \\psi\\Bigr)\\biggr)^2 + \n",
    "               \\biggl(\\sqrt{(0.5W)^2 + d^2}\\sin\\Bigl(\\arctan\\frac{d}{0.5W} + \\psi\\Bigr)\\biggr)^2\\Biggr) \\\\\n",
    "\\end{pmatrix} \n",
    "$  "
   ]
  },
  {
   "cell_type": "markdown",
   "metadata": {},
   "source": [
    "外接円の中心点Oの位置ベクトルは、"
   ]
  },
  {
   "cell_type": "markdown",
   "metadata": {},
   "source": [
    "$$ \n",
    "\\displaystyle \\boldsymbol{O} = \n",
    "\\begin{pmatrix} \n",
    "\\displaystyle -0.5l_0 \\\\\n",
    "\\displaystyle -0.5l_1 \\\\\n",
    "\\end{pmatrix}\n",
    "\\qquad\\qquad\\text{(4)}\n",
    "$$"
   ]
  },
  {
   "cell_type": "markdown",
   "metadata": {},
   "source": [
    "外接円の半径$r$は、"
   ]
  },
  {
   "cell_type": "markdown",
   "metadata": {},
   "source": [
    "$$\n",
    "\\begin{eqnarray}\n",
    " &\\displaystyle r = \\sqrt{(-0.5l_0) ^ 2 + (-0.5l_1) ^ 2 - l_2}& \\qquad\\qquad\\text{(5)} \\nonumber\\\\\n",
    "\\end{eqnarray}\n",
    "$$"
   ]
  },
  {
   "cell_type": "markdown",
   "metadata": {},
   "source": [
    "点Aと点Bがなす円弧の中心角$\\theta$は、"
   ]
  },
  {
   "cell_type": "markdown",
   "metadata": {},
   "source": [
    "$$\n",
    "\\begin{eqnarray}\n",
    " &\\displaystyle \\theta = 4 \\arctan \\frac{d}{0.5W}& \\qquad\\qquad\\text{(6)} \\nonumber\\\\\n",
    "\\end{eqnarray}\n",
    "$$"
   ]
  },
  {
   "cell_type": "code",
   "execution_count": 9,
   "metadata": {},
   "outputs": [],
   "source": [
    "#3点を通る外接円の点A、点B、点E及び中心点Oの座標、半径r、中心角θ\n",
    "def slat_circle(L, A, B, E):\n",
    "    \n",
    "    if L.d == 0:\n",
    "        O = ''\n",
    "        r = ''\n",
    "        theta = ''\n",
    "    else:\n",
    "        a = (np.array([[A[0], A[1], 1.], [B[0], B[1], 1.], [E[0], E[1], 1.]])).astype(np.float64)\n",
    "        b = (-(a[:, 0] ** 2 + a[:, 1] ** 2.)).astype(np.float64)\n",
    "        l = np.linalg.solve(a, b) #式(3)\n",
    "\n",
    "        O =[- 0.5 * l[0], - 0.5 * l[1]] #円弧の原点の位置ベクトル 式(4)\n",
    "        r = ((- 0.5 * l[0]) ** 2. + (- 0.5 * l[1]) ** 2. - l[2]) ** 0.5 #式(5)\n",
    "        theta = math.degrees(4 * np.arctan(L.d / (0.5 * L.W))) #円弧の中心角 式(6)\n",
    "    \n",
    "    return O, r, theta"
   ]
  },
  {
   "cell_type": "markdown",
   "metadata": {},
   "source": [
    "#### スラットの最端座標  \n",
    "\n",
    "円弧スラット($d \\neq 0$)かつ$ O_{y} > A_{y} $の場合、 "
   ]
  },
  {
   "cell_type": "markdown",
   "metadata": {},
   "source": [
    "$$ \n",
    "\\displaystyle \\boldsymbol{A}' = \n",
    "\\begin{pmatrix} \n",
    "\\displaystyle O_{x} - r \\\\\n",
    "\\displaystyle O_{y} \\\\\n",
    "\\end{pmatrix}\n",
    "\\qquad\\qquad\\text{(1)}\n",
    "$$"
   ]
  },
  {
   "cell_type": "markdown",
   "metadata": {},
   "source": [
    "円弧スラット($d \\neq 0$)かつ$ O_{y} > B_{y} $の場合、 "
   ]
  },
  {
   "cell_type": "markdown",
   "metadata": {},
   "source": [
    "$$ \n",
    "\\displaystyle \\boldsymbol{B}' = \n",
    "\\begin{pmatrix} \n",
    "\\displaystyle O_{x} + r \\\\\n",
    "\\displaystyle O_{y} \\\\\n",
    "\\end{pmatrix}\n",
    "\\qquad\\qquad\\text{(2)}\n",
    "$$"
   ]
  },
  {
   "cell_type": "markdown",
   "metadata": {},
   "source": [
    "その他の場合、"
   ]
  },
  {
   "cell_type": "markdown",
   "metadata": {},
   "source": [
    "$$\n",
    "\\begin{eqnarray}\n",
    " &\\displaystyle \\boldsymbol{A}' = \\boldsymbol{A}& \\qquad\\qquad\\text{(3)} \\nonumber\\\\\n",
    "\\end{eqnarray}\n",
    "$$"
   ]
  },
  {
   "cell_type": "markdown",
   "metadata": {},
   "source": [
    "$$\n",
    "\\begin{eqnarray}\n",
    " &\\displaystyle \\boldsymbol{B}' = \\boldsymbol{B}& \\qquad\\qquad\\text{(4)} \\nonumber\\\\\n",
    "\\end{eqnarray}\n",
    "$$"
   ]
  },
  {
   "cell_type": "markdown",
   "metadata": {},
   "source": [
    "$$ \n",
    "\\displaystyle \\boldsymbol{C}' = \n",
    "\\begin{pmatrix} \n",
    "\\displaystyle B'_{x} \\\\\n",
    "\\displaystyle B'_{y} + S \\\\\n",
    "\\end{pmatrix}\n",
    "\\qquad\\qquad\\text{(5)}\n",
    "$$"
   ]
  },
  {
   "cell_type": "markdown",
   "metadata": {},
   "source": [
    "$$ \n",
    "\\displaystyle \\boldsymbol{D}' = \n",
    "\\begin{pmatrix} \n",
    "\\displaystyle A'_{x} \\\\\n",
    "\\displaystyle A'_{y} + S \\\\\n",
    "\\end{pmatrix}\n",
    "\\qquad\\qquad\\text{(6)}\n",
    "$$"
   ]
  },
  {
   "cell_type": "code",
   "execution_count": 10,
   "metadata": {},
   "outputs": [],
   "source": [
    "def slat_additional_position(L, O, r, A, B):\n",
    "    \n",
    "    if L.d == 0:\n",
    "        Ad = A\n",
    "        Bd = B\n",
    "    else:\n",
    "        if O[1] > A[1]: #円弧が食い込む\n",
    "            Ad = np.array([O[0] - r, O[1]]) #点A'の位置\n",
    "        else:           #円弧が食い込まない\n",
    "            Ad = A                          #点A'の位置\n",
    "\n",
    "        if O[1] > B[1]: #円弧が食い込む\n",
    "            Bd = np.array([O[0] + r, O[1]]) #点B'の位置\n",
    "        else:           #円弧が食い込まない\n",
    "            Bd = B                          #点B'の位置\n",
    "    Cd = np.array([Bd[0], Bd[1] + L.S]) #点C'の位置\n",
    "    Dd = np.array([Ad[0], Ad[1] + L.S]) #点D'の位置\n",
    "    \n",
    "    return Ad, Bd, Cd, Dd"
   ]
  },
  {
   "cell_type": "markdown",
   "metadata": {},
   "source": [
    "#### 平板スラットの領域境界分割要素の始点の位置ベクトル \n",
    "\n",
    "![image8.png][attached1]\n",
    "[attached1]:img\\image8.png  \n",
    "\n",
    "平板スラット($d=0$)の領域境界分割要素の始点の位置ベクトル$\\boldsymbol{q}_i$は、次のように表すことができる。  \n",
    "\n",
    "$0 \\leq i \\leq K_0$の場合、"
   ]
  },
  {
   "cell_type": "markdown",
   "metadata": {},
   "source": [
    "$$ \n",
    "\\displaystyle \\boldsymbol{q}_i = \n",
    "\\begin{pmatrix} \n",
    "\\displaystyle \\frac{i}{K_0} W \\cos \\psi \\\\\n",
    "\\displaystyle \\frac{i}{K_0} W \\sin \\psi \\\\\n",
    "\\end{pmatrix} \n",
    "\\qquad\\qquad\\text{(1)}\n",
    "$$"
   ]
  },
  {
   "cell_type": "markdown",
   "metadata": {},
   "source": [
    "$K_0 < i \\leq (K_0 + K_1)$の場合、  "
   ]
  },
  {
   "cell_type": "markdown",
   "metadata": {},
   "source": [
    "$$ \n",
    "\\displaystyle \\boldsymbol{q}_i = \n",
    "\\begin{pmatrix} \n",
    "\\displaystyle q_{K_0,x} \\\\\n",
    "\\displaystyle q_{K_0,y} + \\frac{i - K_0}{K_1} S \\\\\n",
    "\\end{pmatrix}\n",
    "\\qquad\\qquad\\text{(2)}\n",
    "$$"
   ]
  },
  {
   "cell_type": "markdown",
   "metadata": {},
   "source": [
    "$(K_0 + K_1) < i \\leq (K_0 + K_1 + K_2)$の場合、 "
   ]
  },
  {
   "cell_type": "markdown",
   "metadata": {},
   "source": [
    "$$ \n",
    "\\displaystyle \\boldsymbol{q}_i = \n",
    "\\begin{pmatrix} \n",
    "\\displaystyle q_{(K_0 + K_1),x} - \\frac{i - K_0 - K_1 - K_2}{K_2} W\\cos\\psi \\\\\n",
    "\\displaystyle q_{(K_0 + K_1),y} - \\frac{i - K_0 - K_1 - K_2}{K_2} W\\sin\\psi \\\\\n",
    "\\end{pmatrix} \n",
    "\\qquad\\qquad\\text{(3)}\n",
    "$$"
   ]
  },
  {
   "cell_type": "markdown",
   "metadata": {},
   "source": [
    "$(K_0 + K_1 + K_2) < i \\leq (K_0 + K_1 + K_2 + K_3)$の場合、 "
   ]
  },
  {
   "cell_type": "markdown",
   "metadata": {},
   "source": [
    "$$ \n",
    "\\displaystyle \\boldsymbol{q}_i = \n",
    "\\begin{pmatrix} \n",
    "\\displaystyle q_{(K_0 + K_1 + K_2),x} \\\\\n",
    "\\displaystyle q_{(K_0 + K_1 + K_2),y} - \\frac{i - K_0 - K_1 - K_2}{K_3} S \\\\\n",
    "\\end{pmatrix} \n",
    "\\qquad\\qquad\\text{(4)}\n",
    "$$"
   ]
  },
  {
   "cell_type": "code",
   "execution_count": 11,
   "metadata": {},
   "outputs": [],
   "source": [
    "#平板スラットの領域境界の分割要素の始点の位置ベクトル\n",
    "def position_vector_flat_q(L, K):\n",
    "    \n",
    "    sK = np.array([np.sum(K[:i+1]) for i in range(len(K))], dtype=int)\n",
    "    \n",
    "    q = np.empty((sK[len(K)-1] + 1, 2), dtype=object)\n",
    "    for i in range(sK[len(K)-1] + 1):\n",
    "        if L.d == 0: #平板\n",
    "            if i <= sK[0]:   #A-B間\n",
    "                q[i] = [i / K[0] * L.W * math.cos(math.radians(L.psi)), \n",
    "                        i / K[0] * L.W * math.sin(math.radians(L.psi))]\n",
    "            elif i <= sK[1]: #B-C間\n",
    "                q[i] = [q[sK[0]][0], \n",
    "                        q[sK[0]][1] + (i - sK[0]) / K[1] * L.S]\n",
    "            elif i <= sK[2]: #C-D間\n",
    "                q[i] = [q[sK[1]][0] - (i - sK[1]) / K[2] * L.W * math.cos(math.radians(L.psi)), \n",
    "                        q[sK[1]][1] - (i - sK[1]) / K[2] * L.W * math.sin(math.radians(L.psi))]\n",
    "            elif i <= sK[3]: #D-A間\n",
    "                q[i] = [q[sK[2]][0], \n",
    "                        q[sK[2]][1] - (i - sK[2]) / K[3] * L.S]\n",
    "                \n",
    "    Kn = np.array([0, K[0], 0, K[1], 0, K[2], 0, K[3] + 1])\n",
    "    sKn = np.array([np.sum(Kn[:i+1]) for i in range(len(Kn))], dtype=int)\n",
    "                             \n",
    "    return q, sKn"
   ]
  },
  {
   "cell_type": "markdown",
   "metadata": {},
   "source": [
    "#### 円弧スラットの領域境界分割要素の始点の位置ベクトル \n",
    "\n",
    "円弧スラット($d \\neq 0$)の領域境界分割要素の始点の位置ベクトル$\\boldsymbol{q}_i$は、次のように表すことができる。  \n",
    "\n",
    "$0 \\leq i \\leq K_0$の場合、"
   ]
  },
  {
   "cell_type": "markdown",
   "metadata": {},
   "source": [
    "$$ \n",
    "\\displaystyle \\boldsymbol{q}_i = \n",
    "\\begin{pmatrix} \n",
    "\\displaystyle O_x - r \\cos\\Bigl(\\arctan\\frac{O_y}{O_x} - \\frac{i}{K_0} \\theta \\Bigr) \\\\\n",
    "\\displaystyle O_y - r \\sin\\Bigl(\\arctan\\frac{O_y}{O_x} - \\frac{i}{K_0} \\theta \\Bigr) \\\\\n",
    "\\end{pmatrix} \n",
    "\\qquad\\qquad\\text{(1)}\n",
    "$$"
   ]
  },
  {
   "cell_type": "markdown",
   "metadata": {},
   "source": [
    "$K_0 \\leq i \\leq (K_0 + K_1)$の場合、  "
   ]
  },
  {
   "cell_type": "markdown",
   "metadata": {},
   "source": [
    "$$ \n",
    "\\displaystyle \\boldsymbol{q}_i = \n",
    "\\begin{pmatrix} \n",
    "\\displaystyle q_{K_0,x} \\\\\n",
    "\\displaystyle q_{K_0,y} + \\frac{i - K_0}{K_1} S \\\\\n",
    "\\end{pmatrix}\n",
    "\\qquad\\qquad\\text{(2)}\n",
    "$$"
   ]
  },
  {
   "cell_type": "markdown",
   "metadata": {},
   "source": [
    "$(K_0 + K_1) \\leq i \\leq (K_0 + K_1 + K_2)$の場合、 "
   ]
  },
  {
   "cell_type": "markdown",
   "metadata": {},
   "source": [
    "$$ \n",
    "\\displaystyle \\boldsymbol{q}_i = \n",
    "\\begin{pmatrix} \n",
    "\\displaystyle q_{(K_0 + K_1),x} + O_x - r\\cos\\Bigl(\\arctan\\frac{O_y}{O_x} + \\frac{i - K_0 - K_1 - K_2}{K_2} \\theta \\Bigr) - W\\cos\\psi \\\\\n",
    "\\displaystyle q_{(K_0 + K_1),y} + O_y - r\\sin\\Bigl(\\arctan\\frac{O_y}{O_x} + \\frac{i - K_0 - K_1 - K_2}{K_2} \\theta \\Bigr) - W\\sin\\psi \\\\\n",
    "\\end{pmatrix} \n",
    "\\qquad\\qquad\\text{(3)}\n",
    "$$"
   ]
  },
  {
   "cell_type": "markdown",
   "metadata": {},
   "source": [
    "$(K_0 + K_1 + K_2) \\leq i \\leq (K_0 + K_1 + K_2 + K_3)$の場合、 "
   ]
  },
  {
   "cell_type": "markdown",
   "metadata": {},
   "source": [
    "$$ \n",
    "\\displaystyle \\boldsymbol{q}_i = \n",
    "\\begin{pmatrix} \n",
    "\\displaystyle q_{(K_0 + K_1 + K_2),x} \\\\\n",
    "\\displaystyle q_{(K_0 + K_1 + K_2),y} - \\frac{i - K_0 - K_1 - K_2}{K_3} S \\\\\n",
    "\\end{pmatrix} \n",
    "\\qquad\\qquad\\text{(4)}\n",
    "$$"
   ]
  },
  {
   "cell_type": "code",
   "execution_count": 12,
   "metadata": {},
   "outputs": [],
   "source": [
    "#円弧スラットの領域境界の分割要素の始点の位置ベクトル\n",
    "def position_vector_curve_qd(L, K, O, r, theta, A, B, C, D, Ad, Bd, Cd, Dd):\n",
    "\n",
    "    qd = np.empty((len(K), max(K) + 1, 2), dtype=object)\n",
    "\n",
    "    for k in range(len(K)):\n",
    "        for i in range(K[k] + 1):\n",
    "            if k == 0: #A-B間\n",
    "                if O[0] >= A[0]: pns = - 1.\n",
    "                elif O[0] < A[0]: pns = 1.\n",
    "\n",
    "                qd[k][i] = [O[0] + pns * r * math.cos((np.arctan(O[1] / O[0])) - math.radians(i / K[0] * theta)), \n",
    "                            O[1] + pns * r * math.sin((np.arctan(O[1] / O[0])) - math.radians(i / K[0] * theta))] #式(1)\n",
    "            \n",
    "            elif k == 1: #B-C間\n",
    "                if (B == Bd).all(): sp = qd[0][K[0]]\n",
    "                else: sp = Bd\n",
    "\n",
    "                qd[k][i] = [sp[0], \n",
    "                            sp[1] + i / K[1] * L.S] #式(2)\n",
    "                \n",
    "            elif k == 2: #C-D間\n",
    "                if (C == Cd).all(): sp = qd[1][K[1]]\n",
    "                else: sp = C\n",
    "\n",
    "                if O[0] >= A[0]: pns = - 1.\n",
    "                elif O[0] < A[0]: pns = 1.\n",
    "\n",
    "                qd[k][i] = [sp[0] + O[0] + pns * r * math.cos((np.arctan(O[1] / O[0])) + \\\n",
    "                            math.radians((i - K[2]) / K[2] * theta)) - L.W * math.cos(math.radians(L.psi)), \n",
    "                            sp[1] + O[1] + pns * r * math.sin((np.arctan(O[1] / O[0])) + \\\n",
    "                            math.radians((i - K[2]) / K[2] * theta)) - L.W * math.sin(math.radians(L.psi))] #式(3)\n",
    "                \n",
    "            elif k == 3: #D-A間\n",
    "                if (D == Dd).all(): sp = qd[2][K[2]]\n",
    "                else: sp = Dd\n",
    "\n",
    "                qd[k][i] = [sp[0], \n",
    "                            sp[1] - i / K[3] * L.S] #式(4)\n",
    "\n",
    "    return qd"
   ]
  },
  {
   "cell_type": "code",
   "execution_count": 13,
   "metadata": {},
   "outputs": [],
   "source": [
    "#領域内・外点の判断(回転角で判断すべきか？？)\n",
    "def position_specific_qd(L, K, qd, A, B, C, D, Ad, Bd, Cd, Dd):\n",
    "    \n",
    "    out_pt = np.zeros(len(qd), dtype=int)\n",
    "    in_pt = np.zeros(len(qd), dtype=int) \n",
    "        \n",
    "    for k in range(len(K)):\n",
    "        for i in range(K[k] + 1):\n",
    "            if k == 0: #A-B間\n",
    "                if (A != Ad).all() and qd[k][i][0] < B[0]:\n",
    "                    if L.d > 0 and qd[k][i][1] < Ad[1]:\n",
    "                        out_pt[0] += 1 #点A-A'間の領域外点\n",
    "                    elif L.d < 0 and qd[k][i][1] > Ad[1]:\n",
    "                        in_pt[0] += 1  #点A-A'間の領域内点\n",
    "\n",
    "                if (B != Bd).all() and qd[k][i][0] > A[0]:\n",
    "                    if L.d > 0 and qd[k][i][1] < Bd[1]:\n",
    "                        out_pt[1] += 1 #点B-B'間の領域外点\n",
    "                    elif L.d < 0 and qd[k][i][1] > Bd[1]:\n",
    "                        in_pt[1] += 1  #点B-B'間の領域内点\n",
    "\n",
    "            if k == 2: #C-D間\n",
    "                if (C != Cd).all() and qd[k][i][0] > D[0]:\n",
    "                    if L.d > 0 and qd[k][i][1] < Cd[1]:\n",
    "                        in_pt[2] += 1 #点C-C'間の領域内点\n",
    "                    elif L.d < 0 and qd[k][i][1] > Cd[1]:\n",
    "                        out_pt[2] += 1  #点C-C'間の領域外点 \n",
    "                    \n",
    "                if (D != Dd).all() and qd[k][i][0] < C[0]:\n",
    "                    if L.d > 0 and qd[k][i][1] < Dd[1]:\n",
    "                        in_pt[3] += 1 #点D-D'間の領域内点\n",
    "                    elif L.d < 0 and qd[k][i][1] > Dd[1]:\n",
    "                        out_pt[3] += 1  #点D-D'間の領域外点\n",
    "                    \n",
    "    return out_pt, in_pt"
   ]
  },
  {
   "cell_type": "code",
   "execution_count": 14,
   "metadata": {},
   "outputs": [],
   "source": [
    "#領域外点の削除・追加\n",
    "def position_vector_curve_q(L, K, qd, A, B, C, D, Ad, Bd, Cd, Dd, out_pt, in_pt):\n",
    "    \n",
    "    Kn = np.array([in_pt[0], K[0] - (out_pt[0] + out_pt[1]), in_pt[1], K[1], \n",
    "                   in_pt[2], K[2] - (out_pt[2] + out_pt[3]), in_pt[3], K[3] + 1])\n",
    "\n",
    "    \n",
    "    if out_pt[0] != 0 or out_pt[1] != 0: Kn[1] = K[0] + 1 - (out_pt[0] + out_pt[1])\n",
    "    if out_pt[2] != 0 or out_pt[3] != 0: Kn[6] = K[2] + 1 - (out_pt[2] + out_pt[3])\n",
    "        \n",
    "    sKn =np.zeros(len(Kn), dtype=int)\n",
    "    for i in range(len(Kn)):\n",
    "        sKn[i] = np.sum(Kn[:i+1])\n",
    "\n",
    "    qn = np.empty((sKn[len(Kn)-1], 2), dtype=object) \n",
    "    \n",
    "    for i in range(sKn[len(Kn)-1]):\n",
    "        if i < sKn[0]: #d<0でなければ存在しない\n",
    "            qn[i] = \" \"\n",
    "            \n",
    "        elif i < sKn[1]: #A-B間\n",
    "            if out_pt[0] == 0:\n",
    "                qn[i] = qd[0, i] \n",
    "            else:\n",
    "                if i == 0:\n",
    "                    qn[i] = Ad\n",
    "                else:\n",
    "                    qn[i] = qd[0, i - 1 + out_pt[0]]\n",
    "            \n",
    "        elif i < sKn[2]: #d<0でなければ存在しない\n",
    "            qn[i] = \" \"\n",
    "            \n",
    "        elif i < sKn[3]: #B-C間\n",
    "            qn[i] = qd[1, i - sKn[2]]\n",
    "            \n",
    "        elif i < sKn[4]: #上スラット上面右\n",
    "            if in_pt[2] != 0:\n",
    "                if i - sKn[3] == 0:\n",
    "                    qn[i] = Cd\n",
    "                else:\n",
    "                    qn[i] = qd[2, sKn[4] - i]\n",
    "            \n",
    "        elif i < sKn[5]: #C-D間\n",
    "            qn[i] = qd[2, i - sKn[4]]\n",
    "            \n",
    "        elif i < sKn[6]: #上スラット上面左\n",
    "            if in_pt[3] != 0:               \n",
    "                qn[i] = qd[2, sKn[5] + Kn[5] - i]\n",
    "            \n",
    "        elif i < sKn[7]: #D-A間\n",
    "            qn[i] = qd[3, i - sKn[6]]\n",
    "            \n",
    "    for i in range(sKn[len(Kn)-1]):\n",
    "        qn[i] -= Ad\n",
    "\n",
    "    return qn, sKn"
   ]
  },
  {
   "cell_type": "markdown",
   "metadata": {},
   "source": [
    "#### 境界分割要素の方向ベクトル と法線ベクトル \n",
    "\n",
    "領域境界分割要素の方向ベクトル$\\boldsymbol{v}_i$は、次のように表すことができる。 "
   ]
  },
  {
   "cell_type": "markdown",
   "metadata": {},
   "source": [
    "$$\n",
    "\\begin{eqnarray}\n",
    " &\\displaystyle \\boldsymbol{v}_i = \\boldsymbol{q}_{i+1} - \\boldsymbol{q}_i& \\qquad\\qquad\\text{(1)} \\nonumber\\\\\n",
    "\\end{eqnarray}\n",
    "$$"
   ]
  },
  {
   "cell_type": "markdown",
   "metadata": {},
   "source": [
    "方向ベクトル$\\boldsymbol{v}_i$の法線ベクトル（反時計回りに90°回転した方向ベクトル）$\\boldsymbol{u}_i$は、次のように表すことができる。"
   ]
  },
  {
   "cell_type": "markdown",
   "metadata": {},
   "source": [
    "$$ \n",
    "\\displaystyle \\boldsymbol{u}_i = \n",
    "\\begin{pmatrix} \n",
    "\\displaystyle - v_{i,y} \\\\\n",
    "\\displaystyle v_{i,x} \\\\\n",
    "\\end{pmatrix}\n",
    "\\qquad\\qquad\\text{(2)}\n",
    "$$"
   ]
  },
  {
   "cell_type": "code",
   "execution_count": 15,
   "metadata": {},
   "outputs": [],
   "source": [
    "def direction_vector(q):\n",
    "        \n",
    "    v = np.array([q[i+1] - q[i] for i in range(len(q) - 1)], dtype=float)       #領域境界分割要素の方向ベクトル\n",
    "    u = np.array([[-v[i][1], v[i][0]] for i in range(len(q) - 1)], dtype=float) #vの法線ベクトル\n",
    "        \n",
    "    return v, u"
   ]
  },
  {
   "cell_type": "markdown",
   "metadata": {},
   "source": [
    "#### Example"
   ]
  },
  {
   "cell_type": "code",
   "execution_count": 16,
   "metadata": {
    "scrolled": true
   },
   "outputs": [
    {
     "name": "stdout",
     "output_type": "stream",
     "text": [
      "0.0 75.0 0.0 1.0 0.0 1.0 0.24000000000000007 0.7600000000000005\n"
     ]
    },
    {
     "data": {
      "image/png": "[encoded data removed]",
      "text/plain": [
       "<matplotlib.figure.Figure at 0xa0cd5c0>"
      ]
     },
     "metadata": {},
     "output_type": "display_data"
    }
   ],
   "source": [
    "if __name__ == '__main__':\n",
    "    \n",
    "    psid = np.array([75., 45., 0., -45., -75.])\n",
    "    phid = np.array([89., 75., 60., 45., 30., 15., 0., -15., -30., -45., -60., -75., -89.])\n",
    "    refs = np.array([0., 0.1, 0.2, 0.3, 0.4, 0.5, 0.6, 0.7, 0.8, 0.9, 1.])\n",
    "    refd = np.array([0., 0.1, 0.2, 0.3, 0.4, 0.5, 0.6, 0.7, 0.8, 0.9, 1.])\n",
    "    \n",
    "    #for i1 in range(len(psid)):#スラット角\n",
    "    for i1 in range(2,3):#スラット角\n",
    "        #for i2 in range(len(phid)):#プロファイル角\n",
    "        for i2 in range(1,2):#プロファイル角\n",
    "            #for i3 in range(22):#拡散反射率、正反射率\n",
    "            for i3 in range(21,22):#拡散反射率、正反射率\n",
    "                if 0 <= i3 and i3 <= 10:\n",
    "                    refsd = refs[0]\n",
    "                    refdd = refd[i3]\n",
    "                elif 11 <= i3 and i3 <= 21:\n",
    "                    refsd = refs[i3-11]\n",
    "                    refdd = refd[0]\n",
    "    \n",
    "                #hbl_input( W, d, S, REFUS, REFUD, REFLS, REFLD, psi, phi )\n",
    "                #hbl = hbl_input( 24.6, 2.2, 21.5, 0., 1., 0., 1., 45., 0. )#d<0未考慮, dが大きすぎると下のスラットを貫通する場合がある\n",
    "                hbl = hbl_input( 24.6, 2.2, 21.5, refsd, refdd, refsd, refdd, psid[i1], phid[i2] )\n",
    "\n",
    "                # W：スラット幅 (mm)\n",
    "                # d：スラット高さ (mm) \n",
    "                # S：スラット間隔 (mm) \n",
    "                # REFUS：スラット材上面の日射反射率（鏡面反射成分）\n",
    "                # REFUD：スラット材上面の日射反射率（拡散反射成分）\n",
    "                # REFLS：スラット材下面の日射反射率（鏡面反射成分）\n",
    "                # REFLD：スラット材下面の日射反射率（拡散反射成分）\n",
    "                # psi：スラット角 (°) \n",
    "                # phi：プロファイル角 (°)\n",
    "\n",
    "                #K = np.array([10, 10, 10, 10])       #領域境界の微小線分要素分割数(各境界)\n",
    "                for i4 in range(5,6):\n",
    "                    K = np.array([5*(i4+1), 1, 5*(i4+1), 1])          #領域境界の微小線分要素分割数(各境界)\n",
    "                    M = 100                               #入射開口の微小線分要素分割数\n",
    "                    lmax = 100                            #最大反射回数\n",
    "\n",
    "                    A = slat_edge_position(hbl)[0]\n",
    "                    B = slat_edge_position(hbl)[1]\n",
    "                    C = slat_edge_position(hbl)[2]\n",
    "                    D = slat_edge_position(hbl)[3]\n",
    "                    E = slat_edge_position(hbl)[4]\n",
    "                    F = slat_edge_position(hbl)[5]\n",
    "\n",
    "                    O = slat_circle(hbl, A, B, E)[0]\n",
    "                    r = slat_circle(hbl, A, B, E)[1]\n",
    "                    theta = slat_circle(hbl, A, B, E)[2]\n",
    "\n",
    "                    Ad = slat_additional_position(hbl, O, r, A, B)[0]\n",
    "                    Bd = slat_additional_position(hbl, O, r, A, B)[1]\n",
    "                    Cd = slat_additional_position(hbl, O, r, A, B)[2]\n",
    "                    Dd = slat_additional_position(hbl, O, r, A, B)[3]\n",
    "\n",
    "                    if hbl.d == 0: \n",
    "                        q = position_vector_flat_q(hbl, K)[0]\n",
    "                        sK = position_vector_flat_q(hbl, K)[1]\n",
    "                    elif hbl.d != 0:\n",
    "                        qd = position_vector_curve_qd(hbl, K, O, r, theta, A, B, C, D, Ad, Bd, Cd, Dd)\n",
    "\n",
    "                        out_pt = position_specific_qd(hbl, K, qd, A, B, C, D, Ad, Bd, Cd, Dd)[0]\n",
    "                        in_pt = position_specific_qd(hbl, K, qd, A, B, C, D, Ad, Bd, Cd, Dd)[1]\n",
    "\n",
    "                        q = position_vector_curve_q(hbl, K, qd, A, B, C, D, Ad, Bd, Cd, Dd, out_pt, in_pt)[0]\n",
    "                        sK = position_vector_curve_q(hbl, K, qd, A, B, C, D, Ad, Bd, Cd, Dd, out_pt, in_pt)[1]\n",
    "\n",
    "                    v = direction_vector(q)[0]\n",
    "                    u = direction_vector(q)[1]\n",
    "\n",
    "                    tau_t = through_transmission(hbl, M, q, v, u, sK)\n",
    "                    tau_s = specular_reflection(hbl, M, q, v, u, lmax, sK)[0]\n",
    "                    rho_s = specular_reflection(hbl, M, q, v, u, lmax, sK)[1]\n",
    "                    tau_d = diffuse_reflection(hbl, M, q, v, u, sK)[0]\n",
    "                    rho_d = diffuse_reflection(hbl, M, q, v, u, sK)[1]\n",
    "\n",
    "                    tau_tot = total_optical_prop(tau_t, tau_s, tau_d, rho_s, rho_d)[0]\n",
    "                    rho_tot = total_optical_prop(tau_t, tau_s, tau_d, rho_s, rho_d)[1]\n",
    "\n",
    "                    print(psid[i1], phid[i2], refdd, refsd, refdd, refsd, tau_tot, rho_tot)\n",
    "                    #print(tau_t, tau_s, tau_d, rho_s, rho_d)\n",
    "                    #print(psid[i1], phid[i2], refdd, refsd, refdd, refsd, tau_t) #直接透過のみ\n",
    "\n",
    "                    #for i in range(sK[len(sK) - 1]):\n",
    "                    #    print(q[i])\n",
    "                    #print (sK)\n",
    "                    #print (sK[len(sK) - 2])\n",
    "\n",
    "                    #'''\n",
    "                    p = specular_reflection(hbl, M, q, v, u, lmax, sK)[2]\n",
    "                    s = specular_reflection(hbl, M, q, v, u, lmax, sK)[3]\n",
    "\n",
    "                    l = specular_reflection(hbl, M, q, v, u, lmax, sK)[4]\n",
    "\n",
    "                    #グラフの描画\n",
    "                    gx = np.empty((M, lmax, 2), dtype=object)\n",
    "                    gy = np.empty((M, lmax, 2), dtype=object)\n",
    "                    for ll in range(l):\n",
    "                        for m in range(0, M, 2):\n",
    "                            gx[m][ll] = [p[m][ll][0], p[m][ll + 1][0]]\n",
    "                            gy[m][ll] = [p[m][ll][1], p[m][ll + 1][1]]      \n",
    "\n",
    "\n",
    "                    #l = 2\n",
    "                    ax = np.empty(l, dtype = np.object)\n",
    "                    fig = plt.figure(figsize = (15, 7.5 * ((l + 1) // 2)))\n",
    "                    plt.style.use('ggplot')\n",
    "\n",
    "                    for ll in range(l-1):   \n",
    "                        ax[ll] = fig.add_subplot((l+1) // 2, 2, ll + 1)\n",
    "                        ax[ll].set_title('Ray-' + str(ll))\n",
    "                        ax[ll].plot(q[:, 0], q[:, 1], color='k')\n",
    "                        ax[ll].scatter(q[:, 0], q[:, 1], color='k')\n",
    "\n",
    "                        ax[ll].scatter(A[0]-Ad[0], A[1]-Ad[1], color='b')\n",
    "                        ax[ll].scatter(B[0]-Ad[0], B[1]-Ad[1], color='r')\n",
    "                        ax[ll].scatter(C[0]-Ad[0], C[1]-Ad[1], color='r')\n",
    "                        ax[ll].scatter(D[0]-Ad[0], D[1]-Ad[1], color='b')\n",
    "                        ax[ll].scatter(Ad[0]-Ad[0], Ad[1]-Ad[1], color='b')\n",
    "                        ax[ll].scatter(Bd[0]-Ad[0], Bd[1]-Ad[1], color='r')\n",
    "                        ax[ll].scatter(Cd[0]-Ad[0], Cd[1]-Ad[1], color='r')\n",
    "                        ax[ll].scatter(Dd[0]-Ad[0], Dd[1]-Ad[1], color='b')\n",
    "\n",
    "                        for m in range(M):\n",
    "                            ax[ll].plot(gx[m][ll], gy[m][ll], color='C0', linewidth=0.5)\n",
    "                        #ax.scatter(p[:, 1, 0], p[:, 1, 1], color='C0')\n",
    "                        plt.axis('equal')\n",
    "\n",
    "                    plt.show()\n",
    "                    #'''"
   ]
  },
  {
   "cell_type": "code",
   "execution_count": null,
   "metadata": {},
   "outputs": [],
   "source": []
  }
 ],
 "metadata": {
  "kernelspec": {
   "display_name": "Python 3",
   "language": "python",
   "name": "python3"
  },
  "language_info": {
   "codemirror_mode": {
    "name": "ipython",
    "version": 3
   },
   "file_extension": ".py",
   "mimetype": "text/x-python",
   "name": "python",
   "nbconvert_exporter": "python",
   "pygments_lexer": "ipython3",
   "version": "3.6.4"
  }
 },
 "nbformat": 4,
 "nbformat_minor": 2
}
